{
 "cells": [
  {
   "cell_type": "code",
   "execution_count": 87,
   "id": "13b8acb9-cc45-4042-8f77-ac3a7454c77c",
   "metadata": {},
   "outputs": [],
   "source": [
    "import pandas as pd \n",
    "import numpy as np"
   ]
  },
  {
   "cell_type": "code",
   "execution_count": 88,
   "id": "3baf54b3-4a91-489f-b20c-fbe27de5a08a",
   "metadata": {},
   "outputs": [
    {
     "name": "stderr",
     "output_type": "stream",
     "text": [
      "C:\\Users\\Denise Campos\\AppData\\Local\\Temp\\ipykernel_20688\\997564468.py:1: DtypeWarning: Columns (5,9) have mixed types. Specify dtype option on import or set low_memory=False.\n",
      "  data = pd.read_csv('scrubbed.csv')\n"
     ]
    },
    {
     "data": {
      "text/html": [
       "<div>\n",
       "<style scoped>\n",
       "    .dataframe tbody tr th:only-of-type {\n",
       "        vertical-align: middle;\n",
       "    }\n",
       "\n",
       "    .dataframe tbody tr th {\n",
       "        vertical-align: top;\n",
       "    }\n",
       "\n",
       "    .dataframe thead th {\n",
       "        text-align: right;\n",
       "    }\n",
       "</style>\n",
       "<table border=\"1\" class=\"dataframe\">\n",
       "  <thead>\n",
       "    <tr style=\"text-align: right;\">\n",
       "      <th></th>\n",
       "      <th>datetime</th>\n",
       "      <th>city</th>\n",
       "      <th>state</th>\n",
       "      <th>country</th>\n",
       "      <th>shape</th>\n",
       "      <th>duration (seconds)</th>\n",
       "      <th>duration (hours/min)</th>\n",
       "      <th>comments</th>\n",
       "      <th>date posted</th>\n",
       "      <th>latitude</th>\n",
       "      <th>longitude</th>\n",
       "    </tr>\n",
       "  </thead>\n",
       "  <tbody>\n",
       "    <tr>\n",
       "      <th>0</th>\n",
       "      <td>10/10/1949 20:30</td>\n",
       "      <td>san marcos</td>\n",
       "      <td>tx</td>\n",
       "      <td>us</td>\n",
       "      <td>cylinder</td>\n",
       "      <td>2700</td>\n",
       "      <td>45 minutes</td>\n",
       "      <td>This event took place in early fall around 194...</td>\n",
       "      <td>4/27/2004</td>\n",
       "      <td>29.8830556</td>\n",
       "      <td>-97.941111</td>\n",
       "    </tr>\n",
       "    <tr>\n",
       "      <th>1</th>\n",
       "      <td>10/10/1949 21:00</td>\n",
       "      <td>lackland afb</td>\n",
       "      <td>tx</td>\n",
       "      <td>NaN</td>\n",
       "      <td>light</td>\n",
       "      <td>7200</td>\n",
       "      <td>1-2 hrs</td>\n",
       "      <td>1949 Lackland AFB&amp;#44 TX.  Lights racing acros...</td>\n",
       "      <td>12/16/2005</td>\n",
       "      <td>29.38421</td>\n",
       "      <td>-98.581082</td>\n",
       "    </tr>\n",
       "    <tr>\n",
       "      <th>2</th>\n",
       "      <td>10/10/1955 17:00</td>\n",
       "      <td>chester (uk/england)</td>\n",
       "      <td>NaN</td>\n",
       "      <td>gb</td>\n",
       "      <td>circle</td>\n",
       "      <td>20</td>\n",
       "      <td>20 seconds</td>\n",
       "      <td>Green/Orange circular disc over Chester&amp;#44 En...</td>\n",
       "      <td>1/21/2008</td>\n",
       "      <td>53.2</td>\n",
       "      <td>-2.916667</td>\n",
       "    </tr>\n",
       "    <tr>\n",
       "      <th>3</th>\n",
       "      <td>10/10/1956 21:00</td>\n",
       "      <td>edna</td>\n",
       "      <td>tx</td>\n",
       "      <td>us</td>\n",
       "      <td>circle</td>\n",
       "      <td>20</td>\n",
       "      <td>1/2 hour</td>\n",
       "      <td>My older brother and twin sister were leaving ...</td>\n",
       "      <td>1/17/2004</td>\n",
       "      <td>28.9783333</td>\n",
       "      <td>-96.645833</td>\n",
       "    </tr>\n",
       "    <tr>\n",
       "      <th>4</th>\n",
       "      <td>10/10/1960 20:00</td>\n",
       "      <td>kaneohe</td>\n",
       "      <td>hi</td>\n",
       "      <td>us</td>\n",
       "      <td>light</td>\n",
       "      <td>900</td>\n",
       "      <td>15 minutes</td>\n",
       "      <td>AS a Marine 1st Lt. flying an FJ4B fighter/att...</td>\n",
       "      <td>1/22/2004</td>\n",
       "      <td>21.4180556</td>\n",
       "      <td>-157.803611</td>\n",
       "    </tr>\n",
       "  </tbody>\n",
       "</table>\n",
       "</div>"
      ],
      "text/plain": [
       "           datetime                  city state country     shape  \\\n",
       "0  10/10/1949 20:30            san marcos    tx      us  cylinder   \n",
       "1  10/10/1949 21:00          lackland afb    tx     NaN     light   \n",
       "2  10/10/1955 17:00  chester (uk/england)   NaN      gb    circle   \n",
       "3  10/10/1956 21:00                  edna    tx      us    circle   \n",
       "4  10/10/1960 20:00               kaneohe    hi      us     light   \n",
       "\n",
       "  duration (seconds) duration (hours/min)  \\\n",
       "0               2700           45 minutes   \n",
       "1               7200              1-2 hrs   \n",
       "2                 20           20 seconds   \n",
       "3                 20             1/2 hour   \n",
       "4                900           15 minutes   \n",
       "\n",
       "                                            comments date posted    latitude  \\\n",
       "0  This event took place in early fall around 194...   4/27/2004  29.8830556   \n",
       "1  1949 Lackland AFB&#44 TX.  Lights racing acros...  12/16/2005    29.38421   \n",
       "2  Green/Orange circular disc over Chester&#44 En...   1/21/2008        53.2   \n",
       "3  My older brother and twin sister were leaving ...   1/17/2004  28.9783333   \n",
       "4  AS a Marine 1st Lt. flying an FJ4B fighter/att...   1/22/2004  21.4180556   \n",
       "\n",
       "   longitude   \n",
       "0  -97.941111  \n",
       "1  -98.581082  \n",
       "2   -2.916667  \n",
       "3  -96.645833  \n",
       "4 -157.803611  "
      ]
     },
     "execution_count": 88,
     "metadata": {},
     "output_type": "execute_result"
    }
   ],
   "source": [
    "data = pd.read_csv('scrubbed.csv')\n",
    "data.head()"
   ]
  },
  {
   "cell_type": "code",
   "execution_count": 89,
   "id": "3acb1657-f67e-4300-8fa1-ee7f7c2879ea",
   "metadata": {},
   "outputs": [
    {
     "name": "stdout",
     "output_type": "stream",
     "text": [
      "<class 'pandas.core.frame.DataFrame'>\n",
      "RangeIndex: 80332 entries, 0 to 80331\n",
      "Data columns (total 11 columns):\n",
      " #   Column                Non-Null Count  Dtype  \n",
      "---  ------                --------------  -----  \n",
      " 0   datetime              80332 non-null  object \n",
      " 1   city                  80332 non-null  object \n",
      " 2   state                 74535 non-null  object \n",
      " 3   country               70662 non-null  object \n",
      " 4   shape                 78400 non-null  object \n",
      " 5   duration (seconds)    80332 non-null  object \n",
      " 6   duration (hours/min)  80332 non-null  object \n",
      " 7   comments              80317 non-null  object \n",
      " 8   date posted           80332 non-null  object \n",
      " 9   latitude              80332 non-null  object \n",
      " 10  longitude             80332 non-null  float64\n",
      "dtypes: float64(1), object(10)\n",
      "memory usage: 6.7+ MB\n"
     ]
    }
   ],
   "source": [
    "data.info()"
   ]
  },
  {
   "cell_type": "code",
   "execution_count": 90,
   "id": "9273584e-9d5a-4a09-9c66-bd0448187f9d",
   "metadata": {},
   "outputs": [
    {
     "name": "stdout",
     "output_type": "stream",
     "text": [
      "\n",
      "Column: datetime\n",
      "Number of unique values: 69586\n",
      "Sample unique values: ['10/10/1949 20:30' '10/10/1949 21:00' '10/10/1955 17:00'\n",
      " '10/10/1956 21:00' '10/10/1960 20:00' '10/10/1961 19:00'\n",
      " '10/10/1965 21:00' '10/10/1965 23:45' '10/10/1966 20:00'\n",
      " '10/10/1966 21:00']\n",
      "\n",
      "Column: city\n",
      "Number of unique values: 19900\n",
      "Sample unique values: ['san marcos' 'lackland afb' 'chester (uk/england)' 'edna' 'kaneohe'\n",
      " 'bristol' 'penarth (uk/wales)' 'norwalk' 'pell city' 'live oak']\n",
      "\n",
      "Column: state\n",
      "Number of unique values: 68\n",
      "Sample unique values: ['tx' nan 'hi' 'tn' 'ct' 'al' 'fl' 'ca' 'nc' 'ny']\n",
      "\n",
      "Column: country\n",
      "Number of unique values: 6\n",
      "Sample unique values: ['us' nan 'gb' 'ca' 'au' 'de']\n",
      "\n",
      "Column: shape\n",
      "Number of unique values: 30\n",
      "Sample unique values: ['cylinder' 'light' 'circle' 'sphere' 'disk' 'fireball' 'unknown' 'oval'\n",
      " 'other' 'cigar']\n",
      "\n",
      "Column: duration (seconds)\n",
      "Number of unique values: 706\n",
      "Sample unique values: ['2700' '7200' '20' '900' '300' '180' '1200' '120' '1800' '30']\n",
      "\n",
      "Column: duration (hours/min)\n",
      "Number of unique values: 8349\n",
      "Sample unique values: ['45 minutes' '1-2 hrs' '20 seconds' '1/2 hour' '15 minutes' '5 minutes'\n",
      " 'about 3 mins' '20 minutes' '3  minutes' 'several minutes']\n",
      "\n",
      "Column: comments\n",
      "Number of unique values: 79998\n",
      "Sample unique values: ['This event took place in early fall around 1949-50. It occurred after a Boy Scout meeting in the Baptist Church. The Baptist Church sit'\n",
      " '1949 Lackland AFB&#44 TX.  Lights racing across the sky &amp; making 90 degree turns on a dime.'\n",
      " 'Green/Orange circular disc over Chester&#44 England'\n",
      " 'My older brother and twin sister were leaving the only Edna theater at about 9 PM&#44...we had our bikes and I took a different route home'\n",
      " 'AS a Marine 1st Lt. flying an FJ4B fighter/attack aircraft on a solo night exercise&#44 I was at 50&#44000&#39 in a &quot;clean&quot; aircraft (no ordinan'\n",
      " 'My father is now 89 my brother 52 the girl with us now 51 myself 49 and the other fellow which worked with my father if he&#39s still livi'\n",
      " 'penarth uk  circle  3mins  stayed 30ft above me for 3 mins slowly moved of and then with the blink of the eye the speed was unreal'\n",
      " 'A bright orange color changing to reddish color disk/saucer was observed hovering above power transmission lines.'\n",
      " 'Strobe Lighted disk shape object observed close&#44 at low speeds&#44 and low altitude in Oct 1966 in Pell City Alabama'\n",
      " 'Saucer zaps energy from powerline as my pregnant mother receives mental signals not to pass info']\n",
      "\n",
      "Column: date posted\n",
      "Number of unique values: 317\n",
      "Sample unique values: ['4/27/2004' '12/16/2005' '1/21/2008' '1/17/2004' '1/22/2004' '4/27/2007'\n",
      " '2/14/2006' '10/2/1999' '3/19/2009' '5/11/2005']\n",
      "\n",
      "Column: latitude\n",
      "Number of unique values: 23312\n",
      "Sample unique values: ['29.8830556' '29.38421' '53.2' '28.9783333' '21.4180556' '36.5950000'\n",
      " '51.434722' '41.1175000' '33.5861111' '30.2947222']\n",
      "\n",
      "Column: longitude \n",
      "Number of unique values: 19455\n",
      "Sample unique values: [ -97.9411111  -98.581082    -2.916667   -96.6458333 -157.8036111\n",
      "  -82.1888889   -3.18       -73.4083333  -86.2861111  -82.9841667]\n"
     ]
    }
   ],
   "source": [
    "for i in data.columns:\n",
    "    unique_vals = data[i].unique()\n",
    "    print(f\"\\nColumn: {i}\")\n",
    "    print(f\"Number of unique values: {len(unique_vals)}\")\n",
    "    print(f\"Sample unique values: {unique_vals[:10]}\")"
   ]
  },
  {
   "cell_type": "code",
   "execution_count": 91,
   "id": "a7c8d3f9-2119-4aff-847f-ae2ee92fe595",
   "metadata": {},
   "outputs": [
    {
     "name": "stdout",
     "output_type": "stream",
     "text": [
      "'light' appears 16565 times\n",
      "'triangle' appears 7865 times\n",
      "'circle' appears 7608 times\n",
      "'fireball' appears 6208 times\n",
      "'other' appears 5649 times\n",
      "'unknown' appears 5584 times\n",
      "'sphere' appears 5387 times\n",
      "'disk' appears 5213 times\n",
      "'oval' appears 3733 times\n",
      "'formation' appears 2457 times\n",
      "'cigar' appears 2057 times\n",
      "'changing' appears 1962 times\n",
      "'nan' appears 1932 times\n",
      "'flash' appears 1328 times\n",
      "'rectangle' appears 1297 times\n",
      "'cylinder' appears 1283 times\n",
      "'diamond' appears 1178 times\n",
      "'chevron' appears 952 times\n",
      "'egg' appears 759 times\n",
      "'teardrop' appears 750 times\n",
      "'cone' appears 316 times\n",
      "'cross' appears 233 times\n",
      "'delta' appears 7 times\n",
      "'round' appears 2 times\n",
      "'crescent' appears 2 times\n",
      "'pyramid' appears 1 times\n",
      "'flare' appears 1 times\n",
      "'hexagon' appears 1 times\n",
      "'dome' appears 1 times\n",
      "'changed' appears 1 times\n"
     ]
    }
   ],
   "source": [
    "shape_counts = data['shape'].astype(str).str.lower().value_counts()\n",
    "\n",
    "for value, count in shape_counts.items():\n",
    "    print(f\"'{value}' appears {count} times\")"
   ]
  },
  {
   "cell_type": "code",
   "execution_count": 92,
   "id": "4ad1b3c5-cd57-4169-b382-fc362418a180",
   "metadata": {},
   "outputs": [
    {
     "name": "stdout",
     "output_type": "stream",
     "text": [
      "datetime                   0\n",
      "city                       0\n",
      "state                   5797\n",
      "country                 9670\n",
      "shape                   1932\n",
      "duration (seconds)         0\n",
      "duration (hours/min)       0\n",
      "comments                  15\n",
      "date posted                0\n",
      "latitude                   0\n",
      "longitude                  0\n",
      "dtype: int64\n"
     ]
    }
   ],
   "source": [
    "## find missing valuves empty\n",
    "missingcount = data.isnull().sum()\n",
    "print(missingcount)"
   ]
  },
  {
   "cell_type": "code",
   "execution_count": 93,
   "id": "9585ccaa-057b-42ba-8e26-cb2ba77e27a5",
   "metadata": {},
   "outputs": [
    {
     "name": "stdout",
     "output_type": "stream",
     "text": [
      "                      Suspect Missing Count\n",
      "datetime                                  0\n",
      "city                                     41\n",
      "state                                  5797\n",
      "country                                9670\n",
      "shape                                  7516\n",
      "duration (seconds)                        0\n",
      "duration (hours/min)                      0\n",
      "comments                                 16\n",
      "date posted                               0\n",
      "latitude                                  0\n",
      "longitude                                 0\n"
     ]
    }
   ],
   "source": [
    "### lets see if there are entries lablled nan\n",
    "\n",
    "missing_indicators = ['nan', 'na', 'n/a', 'null', 'none', 'unknown', '?', '']\n",
    "\n",
    "suspect_counts = {}\n",
    "\n",
    "for col in data.columns:\n",
    "    count = data[col].astype(str).str.lower().isin(missing_indicators).sum()\n",
    "    suspect_counts[col] = count\n",
    "\n",
    "missing_summary = pd.DataFrame.from_dict(suspect_counts, orient='index', columns=['Suspect Missing Count'])\n",
    "print(missing_summary)"
   ]
  },
  {
   "cell_type": "code",
   "execution_count": 94,
   "id": "3c09b503-5e5d-4565-ba9c-0ac4a4103361",
   "metadata": {},
   "outputs": [
    {
     "name": "stdout",
     "output_type": "stream",
     "text": [
      "Original rows: 80332\n",
      "Cleaned rows: 61741\n"
     ]
    }
   ],
   "source": [
    "### The unknown entries in comments doswent really matter becaause we wont need the comments colum BUT they matter in shape, state, countrym city\n",
    "\n",
    "missing_indicators = ['nan', 'na', 'n/a', 'null', 'none', 'unknown', '?', '']\n",
    "\n",
    "data_str = data.astype(str).apply(lambda col: col.str.lower())\n",
    "\n",
    "mask = data_str.isin(missing_indicators).any(axis=1)\n",
    "\n",
    "data_cleaned = data[~mask].copy()\n",
    "\n",
    "print(f\"Original rows: {len(data)}\")\n",
    "print(f\"Cleaned rows: {len(data_cleaned)}\")"
   ]
  },
  {
   "cell_type": "code",
   "execution_count": 95,
   "id": "8506ecb1-d3d2-4f8f-a74a-f2e29a1d1373",
   "metadata": {},
   "outputs": [
    {
     "name": "stdout",
     "output_type": "stream",
     "text": [
      "'light' appears 14130 times\n",
      "'triangle' appears 6817 times\n",
      "'circle' appears 6405 times\n",
      "'fireball' appears 5364 times\n",
      "'other' appears 4705 times\n",
      "'sphere' appears 4552 times\n",
      "'disk' appears 4318 times\n",
      "'oval' appears 3160 times\n",
      "'formation' appears 2088 times\n",
      "'cigar' appears 1717 times\n",
      "'changing' appears 1653 times\n",
      "'flash' appears 1124 times\n",
      "'rectangle' appears 1117 times\n",
      "'cylinder' appears 1079 times\n",
      "'diamond' appears 969 times\n",
      "'chevron' appears 852 times\n",
      "'teardrop' appears 614 times\n",
      "'egg' appears 609 times\n",
      "'cone' appears 257 times\n",
      "'cross' appears 197 times\n",
      "'delta' appears 7 times\n",
      "'round' appears 2 times\n",
      "'pyramid' appears 1 times\n",
      "'flare' appears 1 times\n",
      "'hexagon' appears 1 times\n",
      "'crescent' appears 1 times\n",
      "'changed' appears 1 times\n"
     ]
    }
   ],
   "source": [
    "shape_counts = data_cleaned['shape'].astype(str).str.lower().value_counts()\n",
    "\n",
    "for value, count in shape_counts.items():\n",
    "    print(f\"'{value}' appears {count} times\")"
   ]
  },
  {
   "cell_type": "code",
   "execution_count": 96,
   "id": "38670502-e7bc-498b-af2c-56c8964e52ab",
   "metadata": {},
   "outputs": [
    {
     "name": "stdout",
     "output_type": "stream",
     "text": [
      "datetime                 object\n",
      "city                     object\n",
      "state                    object\n",
      "country                  object\n",
      "shape                    object\n",
      "duration (seconds)       object\n",
      "duration (hours/min)     object\n",
      "comments                 object\n",
      "date posted              object\n",
      "latitude                 object\n",
      "longitude               float64\n",
      "dtype: object\n"
     ]
    }
   ],
   "source": [
    "print(data_cleaned.dtypes)"
   ]
  },
  {
   "cell_type": "code",
   "execution_count": 97,
   "id": "ef8f9a51-77ca-4088-a2ce-61c28888ffd2",
   "metadata": {},
   "outputs": [
    {
     "name": "stdout",
     "output_type": "stream",
     "text": [
      "Latitude dtype: object\n",
      "\n",
      "Non-numeric or malformed 'latitude' values:\n"
     ]
    }
   ],
   "source": [
    "### so latititude should be a float so lets change it \n",
    "print(\"Latitude dtype:\", data_cleaned['latitude'].dtype)\n",
    "\n",
    "# Step 2: Try converting to numeric (errors='coerce' turns non-numeric into NaN)\n",
    "lat_numeric = pd.to_numeric(data_cleaned['latitude'], errors='coerce')\n",
    "\n",
    "# Step 3: Find entries that failed the numeric conversion\n",
    "non_numeric_lats = data_cleaned['latitude'][lat_numeric.isna()].unique()\n",
    "\n",
    "# Display suspect values\n",
    "print(\"\\nNon-numeric or malformed 'latitude' values:\")\n",
    "for val in non_numeric_lats:\n",
    "    print(f\"- {val}\")"
   ]
  },
  {
   "cell_type": "code",
   "execution_count": 98,
   "id": "6621eb5e-9ebe-4cd2-8bea-06387d82b39c",
   "metadata": {},
   "outputs": [],
   "source": [
    "data_cleaned['latitude'] = pd.to_numeric(data['latitude'], errors='coerce')"
   ]
  },
  {
   "cell_type": "code",
   "execution_count": 99,
   "id": "0ed2bc7f-5e4a-42d0-add5-1a10c83b9f3c",
   "metadata": {},
   "outputs": [
    {
     "name": "stdout",
     "output_type": "stream",
     "text": [
      "float64\n"
     ]
    }
   ],
   "source": [
    "print(data_cleaned['latitude'].dtypes)"
   ]
  },
  {
   "cell_type": "code",
   "execution_count": 100,
   "id": "757c0fa0-c9d8-4537-9d7b-d15f92c312a6",
   "metadata": {},
   "outputs": [
    {
     "data": {
      "text/html": [
       "<div>\n",
       "<style scoped>\n",
       "    .dataframe tbody tr th:only-of-type {\n",
       "        vertical-align: middle;\n",
       "    }\n",
       "\n",
       "    .dataframe tbody tr th {\n",
       "        vertical-align: top;\n",
       "    }\n",
       "\n",
       "    .dataframe thead th {\n",
       "        text-align: right;\n",
       "    }\n",
       "</style>\n",
       "<table border=\"1\" class=\"dataframe\">\n",
       "  <thead>\n",
       "    <tr style=\"text-align: right;\">\n",
       "      <th></th>\n",
       "      <th>datetime</th>\n",
       "      <th>city</th>\n",
       "      <th>state</th>\n",
       "      <th>country</th>\n",
       "      <th>shape</th>\n",
       "      <th>duration (seconds)</th>\n",
       "      <th>duration (hours/min)</th>\n",
       "      <th>latitude</th>\n",
       "      <th>longitude</th>\n",
       "    </tr>\n",
       "  </thead>\n",
       "  <tbody>\n",
       "    <tr>\n",
       "      <th>0</th>\n",
       "      <td>10/10/1949 20:30</td>\n",
       "      <td>san marcos</td>\n",
       "      <td>tx</td>\n",
       "      <td>us</td>\n",
       "      <td>cylinder</td>\n",
       "      <td>2700</td>\n",
       "      <td>45 minutes</td>\n",
       "      <td>29.883056</td>\n",
       "      <td>-97.941111</td>\n",
       "    </tr>\n",
       "    <tr>\n",
       "      <th>3</th>\n",
       "      <td>10/10/1956 21:00</td>\n",
       "      <td>edna</td>\n",
       "      <td>tx</td>\n",
       "      <td>us</td>\n",
       "      <td>circle</td>\n",
       "      <td>20</td>\n",
       "      <td>1/2 hour</td>\n",
       "      <td>28.978333</td>\n",
       "      <td>-96.645833</td>\n",
       "    </tr>\n",
       "    <tr>\n",
       "      <th>4</th>\n",
       "      <td>10/10/1960 20:00</td>\n",
       "      <td>kaneohe</td>\n",
       "      <td>hi</td>\n",
       "      <td>us</td>\n",
       "      <td>light</td>\n",
       "      <td>900</td>\n",
       "      <td>15 minutes</td>\n",
       "      <td>21.418056</td>\n",
       "      <td>-157.803611</td>\n",
       "    </tr>\n",
       "    <tr>\n",
       "      <th>5</th>\n",
       "      <td>10/10/1961 19:00</td>\n",
       "      <td>bristol</td>\n",
       "      <td>tn</td>\n",
       "      <td>us</td>\n",
       "      <td>sphere</td>\n",
       "      <td>300</td>\n",
       "      <td>5 minutes</td>\n",
       "      <td>36.595000</td>\n",
       "      <td>-82.188889</td>\n",
       "    </tr>\n",
       "    <tr>\n",
       "      <th>7</th>\n",
       "      <td>10/10/1965 23:45</td>\n",
       "      <td>norwalk</td>\n",
       "      <td>ct</td>\n",
       "      <td>us</td>\n",
       "      <td>disk</td>\n",
       "      <td>1200</td>\n",
       "      <td>20 minutes</td>\n",
       "      <td>41.117500</td>\n",
       "      <td>-73.408333</td>\n",
       "    </tr>\n",
       "  </tbody>\n",
       "</table>\n",
       "</div>"
      ],
      "text/plain": [
       "           datetime        city state country     shape duration (seconds)  \\\n",
       "0  10/10/1949 20:30  san marcos    tx      us  cylinder               2700   \n",
       "3  10/10/1956 21:00        edna    tx      us    circle                 20   \n",
       "4  10/10/1960 20:00     kaneohe    hi      us     light                900   \n",
       "5  10/10/1961 19:00     bristol    tn      us    sphere                300   \n",
       "7  10/10/1965 23:45     norwalk    ct      us      disk               1200   \n",
       "\n",
       "  duration (hours/min)   latitude  longitude   \n",
       "0           45 minutes  29.883056  -97.941111  \n",
       "3             1/2 hour  28.978333  -96.645833  \n",
       "4           15 minutes  21.418056 -157.803611  \n",
       "5            5 minutes  36.595000  -82.188889  \n",
       "7           20 minutes  41.117500  -73.408333  "
      ]
     },
     "execution_count": 100,
     "metadata": {},
     "output_type": "execute_result"
    }
   ],
   "source": [
    "data_cleaned = data_cleaned.drop(['comments', 'date posted'], axis=1)\n",
    "data_cleaned.head()"
   ]
  },
  {
   "cell_type": "code",
   "execution_count": 101,
   "id": "4363cef1-c703-4522-9d2d-b4e41e0b445d",
   "metadata": {},
   "outputs": [
    {
     "data": {
      "text/html": [
       "<div>\n",
       "<style scoped>\n",
       "    .dataframe tbody tr th:only-of-type {\n",
       "        vertical-align: middle;\n",
       "    }\n",
       "\n",
       "    .dataframe tbody tr th {\n",
       "        vertical-align: top;\n",
       "    }\n",
       "\n",
       "    .dataframe thead th {\n",
       "        text-align: right;\n",
       "    }\n",
       "</style>\n",
       "<table border=\"1\" class=\"dataframe\">\n",
       "  <thead>\n",
       "    <tr style=\"text-align: right;\">\n",
       "      <th></th>\n",
       "      <th>city</th>\n",
       "      <th>state</th>\n",
       "      <th>country</th>\n",
       "      <th>shape</th>\n",
       "      <th>duration (seconds)</th>\n",
       "      <th>duration (hours/min)</th>\n",
       "      <th>latitude</th>\n",
       "      <th>longitude</th>\n",
       "      <th>date</th>\n",
       "      <th>time</th>\n",
       "    </tr>\n",
       "  </thead>\n",
       "  <tbody>\n",
       "    <tr>\n",
       "      <th>0</th>\n",
       "      <td>san marcos</td>\n",
       "      <td>tx</td>\n",
       "      <td>us</td>\n",
       "      <td>cylinder</td>\n",
       "      <td>2700</td>\n",
       "      <td>45 minutes</td>\n",
       "      <td>29.883056</td>\n",
       "      <td>-97.941111</td>\n",
       "      <td>1949-10-10</td>\n",
       "      <td>20:30:00</td>\n",
       "    </tr>\n",
       "    <tr>\n",
       "      <th>3</th>\n",
       "      <td>edna</td>\n",
       "      <td>tx</td>\n",
       "      <td>us</td>\n",
       "      <td>circle</td>\n",
       "      <td>20</td>\n",
       "      <td>1/2 hour</td>\n",
       "      <td>28.978333</td>\n",
       "      <td>-96.645833</td>\n",
       "      <td>1956-10-10</td>\n",
       "      <td>21:00:00</td>\n",
       "    </tr>\n",
       "    <tr>\n",
       "      <th>4</th>\n",
       "      <td>kaneohe</td>\n",
       "      <td>hi</td>\n",
       "      <td>us</td>\n",
       "      <td>light</td>\n",
       "      <td>900</td>\n",
       "      <td>15 minutes</td>\n",
       "      <td>21.418056</td>\n",
       "      <td>-157.803611</td>\n",
       "      <td>1960-10-10</td>\n",
       "      <td>20:00:00</td>\n",
       "    </tr>\n",
       "    <tr>\n",
       "      <th>5</th>\n",
       "      <td>bristol</td>\n",
       "      <td>tn</td>\n",
       "      <td>us</td>\n",
       "      <td>sphere</td>\n",
       "      <td>300</td>\n",
       "      <td>5 minutes</td>\n",
       "      <td>36.595000</td>\n",
       "      <td>-82.188889</td>\n",
       "      <td>1961-10-10</td>\n",
       "      <td>19:00:00</td>\n",
       "    </tr>\n",
       "    <tr>\n",
       "      <th>7</th>\n",
       "      <td>norwalk</td>\n",
       "      <td>ct</td>\n",
       "      <td>us</td>\n",
       "      <td>disk</td>\n",
       "      <td>1200</td>\n",
       "      <td>20 minutes</td>\n",
       "      <td>41.117500</td>\n",
       "      <td>-73.408333</td>\n",
       "      <td>1965-10-10</td>\n",
       "      <td>23:45:00</td>\n",
       "    </tr>\n",
       "  </tbody>\n",
       "</table>\n",
       "</div>"
      ],
      "text/plain": [
       "         city state country     shape duration (seconds) duration (hours/min)  \\\n",
       "0  san marcos    tx      us  cylinder               2700           45 minutes   \n",
       "3        edna    tx      us    circle                 20             1/2 hour   \n",
       "4     kaneohe    hi      us     light                900           15 minutes   \n",
       "5     bristol    tn      us    sphere                300            5 minutes   \n",
       "7     norwalk    ct      us      disk               1200           20 minutes   \n",
       "\n",
       "    latitude  longitude         date      time  \n",
       "0  29.883056  -97.941111  1949-10-10  20:30:00  \n",
       "3  28.978333  -96.645833  1956-10-10  21:00:00  \n",
       "4  21.418056 -157.803611  1960-10-10  20:00:00  \n",
       "5  36.595000  -82.188889  1961-10-10  19:00:00  \n",
       "7  41.117500  -73.408333  1965-10-10  23:45:00  "
      ]
     },
     "execution_count": 101,
     "metadata": {},
     "output_type": "execute_result"
    }
   ],
   "source": [
    "## splitting my datetime column\n",
    "\n",
    "# Convert 'datetime' column to datetime objects\n",
    "data_cleaned['datetime'] = pd.to_datetime(data_cleaned['datetime'], errors='coerce')\n",
    "\n",
    "# Create new 'date' and 'time' columns\n",
    "data_cleaned['date'] = data_cleaned['datetime'].dt.date\n",
    "data_cleaned['time'] = data_cleaned['datetime'].dt.time\n",
    "\n",
    "data_cleaned.drop('datetime', axis=1, inplace=True)\n",
    "data_cleaned.head()"
   ]
  },
  {
   "cell_type": "code",
   "execution_count": 102,
   "id": "5180cd5b-cb42-47a9-bfc3-677a50a101ef",
   "metadata": {},
   "outputs": [],
   "source": [
    "data_cleaned.to_csv(\"cleaned_ufo_data.csv\", index=False)"
   ]
  },
  {
   "cell_type": "code",
   "execution_count": 103,
   "id": "f890cf9c-5fc2-4c8e-8073-0ed57ba72edd",
   "metadata": {},
   "outputs": [
    {
     "name": "stderr",
     "output_type": "stream",
     "text": [
      "Scraping weather data:   0%|                                                      | 3/58971 [00:05<29:35:20,  1.81s/it]\n"
     ]
    },
    {
     "ename": "KeyboardInterrupt",
     "evalue": "",
     "output_type": "error",
     "traceback": [
      "\u001b[31m---------------------------------------------------------------------------\u001b[39m",
      "\u001b[31mKeyboardInterrupt\u001b[39m                         Traceback (most recent call last)",
      "\u001b[36mCell\u001b[39m\u001b[36m \u001b[39m\u001b[32mIn[103]\u001b[39m\u001b[32m, line 59\u001b[39m\n\u001b[32m     52\u001b[39m url = (\n\u001b[32m     53\u001b[39m     \u001b[33mf\u001b[39m\u001b[33m\"\u001b[39m\u001b[33mhttps://archive-api.open-meteo.com/v1/archive?\u001b[39m\u001b[33m\"\u001b[39m\n\u001b[32m     54\u001b[39m     \u001b[33mf\u001b[39m\u001b[33m\"\u001b[39m\u001b[33mlatitude=\u001b[39m\u001b[38;5;132;01m{\u001b[39;00mlat\u001b[38;5;132;01m}\u001b[39;00m\u001b[33m&longitude=\u001b[39m\u001b[38;5;132;01m{\u001b[39;00mlon\u001b[38;5;132;01m}\u001b[39;00m\u001b[33m&start_date=\u001b[39m\u001b[38;5;132;01m{\u001b[39;00mdate\u001b[38;5;132;01m}\u001b[39;00m\u001b[33m&end_date=\u001b[39m\u001b[38;5;132;01m{\u001b[39;00mdate\u001b[38;5;132;01m}\u001b[39;00m\u001b[33m\"\u001b[39m\n\u001b[32m     55\u001b[39m     \u001b[33mf\u001b[39m\u001b[33m\"\u001b[39m\u001b[33m&hourly=temperature_2m,pressure_msl,visibility,cloudcover\u001b[39m\u001b[33m\"\u001b[39m\n\u001b[32m     56\u001b[39m )\n\u001b[32m     58\u001b[39m \u001b[38;5;28;01mtry\u001b[39;00m:\n\u001b[32m---> \u001b[39m\u001b[32m59\u001b[39m     response = \u001b[43mrequests\u001b[49m\u001b[43m.\u001b[49m\u001b[43mget\u001b[49m\u001b[43m(\u001b[49m\u001b[43murl\u001b[49m\u001b[43m)\u001b[49m\n\u001b[32m     60\u001b[39m     data = response.json()\n\u001b[32m     62\u001b[39m     \u001b[38;5;28;01mif\u001b[39;00m \u001b[33m'\u001b[39m\u001b[33mhourly\u001b[39m\u001b[33m'\u001b[39m \u001b[38;5;129;01min\u001b[39;00m data \u001b[38;5;129;01mand\u001b[39;00m \u001b[33m'\u001b[39m\u001b[33mtemperature_2m\u001b[39m\u001b[33m'\u001b[39m \u001b[38;5;129;01min\u001b[39;00m data[\u001b[33m'\u001b[39m\u001b[33mhourly\u001b[39m\u001b[33m'\u001b[39m]:\n",
      "\u001b[36mFile \u001b[39m\u001b[32m~\\AppData\\Local\\Programs\\Python\\Python313\\Lib\\site-packages\\requests\\api.py:73\u001b[39m, in \u001b[36mget\u001b[39m\u001b[34m(url, params, **kwargs)\u001b[39m\n\u001b[32m     62\u001b[39m \u001b[38;5;28;01mdef\u001b[39;00m\u001b[38;5;250m \u001b[39m\u001b[34mget\u001b[39m(url, params=\u001b[38;5;28;01mNone\u001b[39;00m, **kwargs):\n\u001b[32m     63\u001b[39m \u001b[38;5;250m    \u001b[39m\u001b[33mr\u001b[39m\u001b[33;03m\"\"\"Sends a GET request.\u001b[39;00m\n\u001b[32m     64\u001b[39m \n\u001b[32m     65\u001b[39m \u001b[33;03m    :param url: URL for the new :class:`Request` object.\u001b[39;00m\n\u001b[32m   (...)\u001b[39m\u001b[32m     70\u001b[39m \u001b[33;03m    :rtype: requests.Response\u001b[39;00m\n\u001b[32m     71\u001b[39m \u001b[33;03m    \"\"\"\u001b[39;00m\n\u001b[32m---> \u001b[39m\u001b[32m73\u001b[39m     \u001b[38;5;28;01mreturn\u001b[39;00m \u001b[43mrequest\u001b[49m\u001b[43m(\u001b[49m\u001b[33;43m\"\u001b[39;49m\u001b[33;43mget\u001b[39;49m\u001b[33;43m\"\u001b[39;49m\u001b[43m,\u001b[49m\u001b[43m \u001b[49m\u001b[43murl\u001b[49m\u001b[43m,\u001b[49m\u001b[43m \u001b[49m\u001b[43mparams\u001b[49m\u001b[43m=\u001b[49m\u001b[43mparams\u001b[49m\u001b[43m,\u001b[49m\u001b[43m \u001b[49m\u001b[43m*\u001b[49m\u001b[43m*\u001b[49m\u001b[43mkwargs\u001b[49m\u001b[43m)\u001b[49m\n",
      "\u001b[36mFile \u001b[39m\u001b[32m~\\AppData\\Local\\Programs\\Python\\Python313\\Lib\\site-packages\\requests\\api.py:59\u001b[39m, in \u001b[36mrequest\u001b[39m\u001b[34m(method, url, **kwargs)\u001b[39m\n\u001b[32m     55\u001b[39m \u001b[38;5;66;03m# By using the 'with' statement we are sure the session is closed, thus we\u001b[39;00m\n\u001b[32m     56\u001b[39m \u001b[38;5;66;03m# avoid leaving sockets open which can trigger a ResourceWarning in some\u001b[39;00m\n\u001b[32m     57\u001b[39m \u001b[38;5;66;03m# cases, and look like a memory leak in others.\u001b[39;00m\n\u001b[32m     58\u001b[39m \u001b[38;5;28;01mwith\u001b[39;00m sessions.Session() \u001b[38;5;28;01mas\u001b[39;00m session:\n\u001b[32m---> \u001b[39m\u001b[32m59\u001b[39m     \u001b[38;5;28;01mreturn\u001b[39;00m \u001b[43msession\u001b[49m\u001b[43m.\u001b[49m\u001b[43mrequest\u001b[49m\u001b[43m(\u001b[49m\u001b[43mmethod\u001b[49m\u001b[43m=\u001b[49m\u001b[43mmethod\u001b[49m\u001b[43m,\u001b[49m\u001b[43m \u001b[49m\u001b[43murl\u001b[49m\u001b[43m=\u001b[49m\u001b[43murl\u001b[49m\u001b[43m,\u001b[49m\u001b[43m \u001b[49m\u001b[43m*\u001b[49m\u001b[43m*\u001b[49m\u001b[43mkwargs\u001b[49m\u001b[43m)\u001b[49m\n",
      "\u001b[36mFile \u001b[39m\u001b[32m~\\AppData\\Local\\Programs\\Python\\Python313\\Lib\\site-packages\\requests\\sessions.py:589\u001b[39m, in \u001b[36mSession.request\u001b[39m\u001b[34m(self, method, url, params, data, headers, cookies, files, auth, timeout, allow_redirects, proxies, hooks, stream, verify, cert, json)\u001b[39m\n\u001b[32m    584\u001b[39m send_kwargs = {\n\u001b[32m    585\u001b[39m     \u001b[33m\"\u001b[39m\u001b[33mtimeout\u001b[39m\u001b[33m\"\u001b[39m: timeout,\n\u001b[32m    586\u001b[39m     \u001b[33m\"\u001b[39m\u001b[33mallow_redirects\u001b[39m\u001b[33m\"\u001b[39m: allow_redirects,\n\u001b[32m    587\u001b[39m }\n\u001b[32m    588\u001b[39m send_kwargs.update(settings)\n\u001b[32m--> \u001b[39m\u001b[32m589\u001b[39m resp = \u001b[38;5;28;43mself\u001b[39;49m\u001b[43m.\u001b[49m\u001b[43msend\u001b[49m\u001b[43m(\u001b[49m\u001b[43mprep\u001b[49m\u001b[43m,\u001b[49m\u001b[43m \u001b[49m\u001b[43m*\u001b[49m\u001b[43m*\u001b[49m\u001b[43msend_kwargs\u001b[49m\u001b[43m)\u001b[49m\n\u001b[32m    591\u001b[39m \u001b[38;5;28;01mreturn\u001b[39;00m resp\n",
      "\u001b[36mFile \u001b[39m\u001b[32m~\\AppData\\Local\\Programs\\Python\\Python313\\Lib\\site-packages\\requests\\sessions.py:703\u001b[39m, in \u001b[36mSession.send\u001b[39m\u001b[34m(self, request, **kwargs)\u001b[39m\n\u001b[32m    700\u001b[39m start = preferred_clock()\n\u001b[32m    702\u001b[39m \u001b[38;5;66;03m# Send the request\u001b[39;00m\n\u001b[32m--> \u001b[39m\u001b[32m703\u001b[39m r = \u001b[43madapter\u001b[49m\u001b[43m.\u001b[49m\u001b[43msend\u001b[49m\u001b[43m(\u001b[49m\u001b[43mrequest\u001b[49m\u001b[43m,\u001b[49m\u001b[43m \u001b[49m\u001b[43m*\u001b[49m\u001b[43m*\u001b[49m\u001b[43mkwargs\u001b[49m\u001b[43m)\u001b[49m\n\u001b[32m    705\u001b[39m \u001b[38;5;66;03m# Total elapsed time of the request (approximately)\u001b[39;00m\n\u001b[32m    706\u001b[39m elapsed = preferred_clock() - start\n",
      "\u001b[36mFile \u001b[39m\u001b[32m~\\AppData\\Local\\Programs\\Python\\Python313\\Lib\\site-packages\\requests\\adapters.py:667\u001b[39m, in \u001b[36mHTTPAdapter.send\u001b[39m\u001b[34m(self, request, stream, timeout, verify, cert, proxies)\u001b[39m\n\u001b[32m    664\u001b[39m     timeout = TimeoutSauce(connect=timeout, read=timeout)\n\u001b[32m    666\u001b[39m \u001b[38;5;28;01mtry\u001b[39;00m:\n\u001b[32m--> \u001b[39m\u001b[32m667\u001b[39m     resp = \u001b[43mconn\u001b[49m\u001b[43m.\u001b[49m\u001b[43murlopen\u001b[49m\u001b[43m(\u001b[49m\n\u001b[32m    668\u001b[39m \u001b[43m        \u001b[49m\u001b[43mmethod\u001b[49m\u001b[43m=\u001b[49m\u001b[43mrequest\u001b[49m\u001b[43m.\u001b[49m\u001b[43mmethod\u001b[49m\u001b[43m,\u001b[49m\n\u001b[32m    669\u001b[39m \u001b[43m        \u001b[49m\u001b[43murl\u001b[49m\u001b[43m=\u001b[49m\u001b[43murl\u001b[49m\u001b[43m,\u001b[49m\n\u001b[32m    670\u001b[39m \u001b[43m        \u001b[49m\u001b[43mbody\u001b[49m\u001b[43m=\u001b[49m\u001b[43mrequest\u001b[49m\u001b[43m.\u001b[49m\u001b[43mbody\u001b[49m\u001b[43m,\u001b[49m\n\u001b[32m    671\u001b[39m \u001b[43m        \u001b[49m\u001b[43mheaders\u001b[49m\u001b[43m=\u001b[49m\u001b[43mrequest\u001b[49m\u001b[43m.\u001b[49m\u001b[43mheaders\u001b[49m\u001b[43m,\u001b[49m\n\u001b[32m    672\u001b[39m \u001b[43m        \u001b[49m\u001b[43mredirect\u001b[49m\u001b[43m=\u001b[49m\u001b[38;5;28;43;01mFalse\u001b[39;49;00m\u001b[43m,\u001b[49m\n\u001b[32m    673\u001b[39m \u001b[43m        \u001b[49m\u001b[43massert_same_host\u001b[49m\u001b[43m=\u001b[49m\u001b[38;5;28;43;01mFalse\u001b[39;49;00m\u001b[43m,\u001b[49m\n\u001b[32m    674\u001b[39m \u001b[43m        \u001b[49m\u001b[43mpreload_content\u001b[49m\u001b[43m=\u001b[49m\u001b[38;5;28;43;01mFalse\u001b[39;49;00m\u001b[43m,\u001b[49m\n\u001b[32m    675\u001b[39m \u001b[43m        \u001b[49m\u001b[43mdecode_content\u001b[49m\u001b[43m=\u001b[49m\u001b[38;5;28;43;01mFalse\u001b[39;49;00m\u001b[43m,\u001b[49m\n\u001b[32m    676\u001b[39m \u001b[43m        \u001b[49m\u001b[43mretries\u001b[49m\u001b[43m=\u001b[49m\u001b[38;5;28;43mself\u001b[39;49m\u001b[43m.\u001b[49m\u001b[43mmax_retries\u001b[49m\u001b[43m,\u001b[49m\n\u001b[32m    677\u001b[39m \u001b[43m        \u001b[49m\u001b[43mtimeout\u001b[49m\u001b[43m=\u001b[49m\u001b[43mtimeout\u001b[49m\u001b[43m,\u001b[49m\n\u001b[32m    678\u001b[39m \u001b[43m        \u001b[49m\u001b[43mchunked\u001b[49m\u001b[43m=\u001b[49m\u001b[43mchunked\u001b[49m\u001b[43m,\u001b[49m\n\u001b[32m    679\u001b[39m \u001b[43m    \u001b[49m\u001b[43m)\u001b[49m\n\u001b[32m    681\u001b[39m \u001b[38;5;28;01mexcept\u001b[39;00m (ProtocolError, \u001b[38;5;167;01mOSError\u001b[39;00m) \u001b[38;5;28;01mas\u001b[39;00m err:\n\u001b[32m    682\u001b[39m     \u001b[38;5;28;01mraise\u001b[39;00m \u001b[38;5;167;01mConnectionError\u001b[39;00m(err, request=request)\n",
      "\u001b[36mFile \u001b[39m\u001b[32m~\\AppData\\Local\\Programs\\Python\\Python313\\Lib\\site-packages\\urllib3\\connectionpool.py:787\u001b[39m, in \u001b[36mHTTPConnectionPool.urlopen\u001b[39m\u001b[34m(self, method, url, body, headers, retries, redirect, assert_same_host, timeout, pool_timeout, release_conn, chunked, body_pos, preload_content, decode_content, **response_kw)\u001b[39m\n\u001b[32m    784\u001b[39m response_conn = conn \u001b[38;5;28;01mif\u001b[39;00m \u001b[38;5;129;01mnot\u001b[39;00m release_conn \u001b[38;5;28;01melse\u001b[39;00m \u001b[38;5;28;01mNone\u001b[39;00m\n\u001b[32m    786\u001b[39m \u001b[38;5;66;03m# Make the request on the HTTPConnection object\u001b[39;00m\n\u001b[32m--> \u001b[39m\u001b[32m787\u001b[39m response = \u001b[38;5;28;43mself\u001b[39;49m\u001b[43m.\u001b[49m\u001b[43m_make_request\u001b[49m\u001b[43m(\u001b[49m\n\u001b[32m    788\u001b[39m \u001b[43m    \u001b[49m\u001b[43mconn\u001b[49m\u001b[43m,\u001b[49m\n\u001b[32m    789\u001b[39m \u001b[43m    \u001b[49m\u001b[43mmethod\u001b[49m\u001b[43m,\u001b[49m\n\u001b[32m    790\u001b[39m \u001b[43m    \u001b[49m\u001b[43murl\u001b[49m\u001b[43m,\u001b[49m\n\u001b[32m    791\u001b[39m \u001b[43m    \u001b[49m\u001b[43mtimeout\u001b[49m\u001b[43m=\u001b[49m\u001b[43mtimeout_obj\u001b[49m\u001b[43m,\u001b[49m\n\u001b[32m    792\u001b[39m \u001b[43m    \u001b[49m\u001b[43mbody\u001b[49m\u001b[43m=\u001b[49m\u001b[43mbody\u001b[49m\u001b[43m,\u001b[49m\n\u001b[32m    793\u001b[39m \u001b[43m    \u001b[49m\u001b[43mheaders\u001b[49m\u001b[43m=\u001b[49m\u001b[43mheaders\u001b[49m\u001b[43m,\u001b[49m\n\u001b[32m    794\u001b[39m \u001b[43m    \u001b[49m\u001b[43mchunked\u001b[49m\u001b[43m=\u001b[49m\u001b[43mchunked\u001b[49m\u001b[43m,\u001b[49m\n\u001b[32m    795\u001b[39m \u001b[43m    \u001b[49m\u001b[43mretries\u001b[49m\u001b[43m=\u001b[49m\u001b[43mretries\u001b[49m\u001b[43m,\u001b[49m\n\u001b[32m    796\u001b[39m \u001b[43m    \u001b[49m\u001b[43mresponse_conn\u001b[49m\u001b[43m=\u001b[49m\u001b[43mresponse_conn\u001b[49m\u001b[43m,\u001b[49m\n\u001b[32m    797\u001b[39m \u001b[43m    \u001b[49m\u001b[43mpreload_content\u001b[49m\u001b[43m=\u001b[49m\u001b[43mpreload_content\u001b[49m\u001b[43m,\u001b[49m\n\u001b[32m    798\u001b[39m \u001b[43m    \u001b[49m\u001b[43mdecode_content\u001b[49m\u001b[43m=\u001b[49m\u001b[43mdecode_content\u001b[49m\u001b[43m,\u001b[49m\n\u001b[32m    799\u001b[39m \u001b[43m    \u001b[49m\u001b[43m*\u001b[49m\u001b[43m*\u001b[49m\u001b[43mresponse_kw\u001b[49m\u001b[43m,\u001b[49m\n\u001b[32m    800\u001b[39m \u001b[43m\u001b[49m\u001b[43m)\u001b[49m\n\u001b[32m    802\u001b[39m \u001b[38;5;66;03m# Everything went great!\u001b[39;00m\n\u001b[32m    803\u001b[39m clean_exit = \u001b[38;5;28;01mTrue\u001b[39;00m\n",
      "\u001b[36mFile \u001b[39m\u001b[32m~\\AppData\\Local\\Programs\\Python\\Python313\\Lib\\site-packages\\urllib3\\connectionpool.py:464\u001b[39m, in \u001b[36mHTTPConnectionPool._make_request\u001b[39m\u001b[34m(self, conn, method, url, body, headers, retries, timeout, chunked, response_conn, preload_content, decode_content, enforce_content_length)\u001b[39m\n\u001b[32m    461\u001b[39m \u001b[38;5;28;01mtry\u001b[39;00m:\n\u001b[32m    462\u001b[39m     \u001b[38;5;66;03m# Trigger any extra validation we need to do.\u001b[39;00m\n\u001b[32m    463\u001b[39m     \u001b[38;5;28;01mtry\u001b[39;00m:\n\u001b[32m--> \u001b[39m\u001b[32m464\u001b[39m         \u001b[38;5;28;43mself\u001b[39;49m\u001b[43m.\u001b[49m\u001b[43m_validate_conn\u001b[49m\u001b[43m(\u001b[49m\u001b[43mconn\u001b[49m\u001b[43m)\u001b[49m\n\u001b[32m    465\u001b[39m     \u001b[38;5;28;01mexcept\u001b[39;00m (SocketTimeout, BaseSSLError) \u001b[38;5;28;01mas\u001b[39;00m e:\n\u001b[32m    466\u001b[39m         \u001b[38;5;28mself\u001b[39m._raise_timeout(err=e, url=url, timeout_value=conn.timeout)\n",
      "\u001b[36mFile \u001b[39m\u001b[32m~\\AppData\\Local\\Programs\\Python\\Python313\\Lib\\site-packages\\urllib3\\connectionpool.py:1093\u001b[39m, in \u001b[36mHTTPSConnectionPool._validate_conn\u001b[39m\u001b[34m(self, conn)\u001b[39m\n\u001b[32m   1091\u001b[39m \u001b[38;5;66;03m# Force connect early to allow us to validate the connection.\u001b[39;00m\n\u001b[32m   1092\u001b[39m \u001b[38;5;28;01mif\u001b[39;00m conn.is_closed:\n\u001b[32m-> \u001b[39m\u001b[32m1093\u001b[39m     \u001b[43mconn\u001b[49m\u001b[43m.\u001b[49m\u001b[43mconnect\u001b[49m\u001b[43m(\u001b[49m\u001b[43m)\u001b[49m\n\u001b[32m   1095\u001b[39m \u001b[38;5;66;03m# TODO revise this, see https://github.com/urllib3/urllib3/issues/2791\u001b[39;00m\n\u001b[32m   1096\u001b[39m \u001b[38;5;28;01mif\u001b[39;00m \u001b[38;5;129;01mnot\u001b[39;00m conn.is_verified \u001b[38;5;129;01mand\u001b[39;00m \u001b[38;5;129;01mnot\u001b[39;00m conn.proxy_is_verified:\n",
      "\u001b[36mFile \u001b[39m\u001b[32m~\\AppData\\Local\\Programs\\Python\\Python313\\Lib\\site-packages\\urllib3\\connection.py:741\u001b[39m, in \u001b[36mHTTPSConnection.connect\u001b[39m\u001b[34m(self)\u001b[39m\n\u001b[32m    738\u001b[39m     \u001b[38;5;66;03m# Remove trailing '.' from fqdn hostnames to allow certificate validation\u001b[39;00m\n\u001b[32m    739\u001b[39m     server_hostname_rm_dot = server_hostname.rstrip(\u001b[33m\"\u001b[39m\u001b[33m.\u001b[39m\u001b[33m\"\u001b[39m)\n\u001b[32m--> \u001b[39m\u001b[32m741\u001b[39m     sock_and_verified = \u001b[43m_ssl_wrap_socket_and_match_hostname\u001b[49m\u001b[43m(\u001b[49m\n\u001b[32m    742\u001b[39m \u001b[43m        \u001b[49m\u001b[43msock\u001b[49m\u001b[43m=\u001b[49m\u001b[43msock\u001b[49m\u001b[43m,\u001b[49m\n\u001b[32m    743\u001b[39m \u001b[43m        \u001b[49m\u001b[43mcert_reqs\u001b[49m\u001b[43m=\u001b[49m\u001b[38;5;28;43mself\u001b[39;49m\u001b[43m.\u001b[49m\u001b[43mcert_reqs\u001b[49m\u001b[43m,\u001b[49m\n\u001b[32m    744\u001b[39m \u001b[43m        \u001b[49m\u001b[43mssl_version\u001b[49m\u001b[43m=\u001b[49m\u001b[38;5;28;43mself\u001b[39;49m\u001b[43m.\u001b[49m\u001b[43mssl_version\u001b[49m\u001b[43m,\u001b[49m\n\u001b[32m    745\u001b[39m \u001b[43m        \u001b[49m\u001b[43mssl_minimum_version\u001b[49m\u001b[43m=\u001b[49m\u001b[38;5;28;43mself\u001b[39;49m\u001b[43m.\u001b[49m\u001b[43mssl_minimum_version\u001b[49m\u001b[43m,\u001b[49m\n\u001b[32m    746\u001b[39m \u001b[43m        \u001b[49m\u001b[43mssl_maximum_version\u001b[49m\u001b[43m=\u001b[49m\u001b[38;5;28;43mself\u001b[39;49m\u001b[43m.\u001b[49m\u001b[43mssl_maximum_version\u001b[49m\u001b[43m,\u001b[49m\n\u001b[32m    747\u001b[39m \u001b[43m        \u001b[49m\u001b[43mca_certs\u001b[49m\u001b[43m=\u001b[49m\u001b[38;5;28;43mself\u001b[39;49m\u001b[43m.\u001b[49m\u001b[43mca_certs\u001b[49m\u001b[43m,\u001b[49m\n\u001b[32m    748\u001b[39m \u001b[43m        \u001b[49m\u001b[43mca_cert_dir\u001b[49m\u001b[43m=\u001b[49m\u001b[38;5;28;43mself\u001b[39;49m\u001b[43m.\u001b[49m\u001b[43mca_cert_dir\u001b[49m\u001b[43m,\u001b[49m\n\u001b[32m    749\u001b[39m \u001b[43m        \u001b[49m\u001b[43mca_cert_data\u001b[49m\u001b[43m=\u001b[49m\u001b[38;5;28;43mself\u001b[39;49m\u001b[43m.\u001b[49m\u001b[43mca_cert_data\u001b[49m\u001b[43m,\u001b[49m\n\u001b[32m    750\u001b[39m \u001b[43m        \u001b[49m\u001b[43mcert_file\u001b[49m\u001b[43m=\u001b[49m\u001b[38;5;28;43mself\u001b[39;49m\u001b[43m.\u001b[49m\u001b[43mcert_file\u001b[49m\u001b[43m,\u001b[49m\n\u001b[32m    751\u001b[39m \u001b[43m        \u001b[49m\u001b[43mkey_file\u001b[49m\u001b[43m=\u001b[49m\u001b[38;5;28;43mself\u001b[39;49m\u001b[43m.\u001b[49m\u001b[43mkey_file\u001b[49m\u001b[43m,\u001b[49m\n\u001b[32m    752\u001b[39m \u001b[43m        \u001b[49m\u001b[43mkey_password\u001b[49m\u001b[43m=\u001b[49m\u001b[38;5;28;43mself\u001b[39;49m\u001b[43m.\u001b[49m\u001b[43mkey_password\u001b[49m\u001b[43m,\u001b[49m\n\u001b[32m    753\u001b[39m \u001b[43m        \u001b[49m\u001b[43mserver_hostname\u001b[49m\u001b[43m=\u001b[49m\u001b[43mserver_hostname_rm_dot\u001b[49m\u001b[43m,\u001b[49m\n\u001b[32m    754\u001b[39m \u001b[43m        \u001b[49m\u001b[43mssl_context\u001b[49m\u001b[43m=\u001b[49m\u001b[38;5;28;43mself\u001b[39;49m\u001b[43m.\u001b[49m\u001b[43mssl_context\u001b[49m\u001b[43m,\u001b[49m\n\u001b[32m    755\u001b[39m \u001b[43m        \u001b[49m\u001b[43mtls_in_tls\u001b[49m\u001b[43m=\u001b[49m\u001b[43mtls_in_tls\u001b[49m\u001b[43m,\u001b[49m\n\u001b[32m    756\u001b[39m \u001b[43m        \u001b[49m\u001b[43massert_hostname\u001b[49m\u001b[43m=\u001b[49m\u001b[38;5;28;43mself\u001b[39;49m\u001b[43m.\u001b[49m\u001b[43massert_hostname\u001b[49m\u001b[43m,\u001b[49m\n\u001b[32m    757\u001b[39m \u001b[43m        \u001b[49m\u001b[43massert_fingerprint\u001b[49m\u001b[43m=\u001b[49m\u001b[38;5;28;43mself\u001b[39;49m\u001b[43m.\u001b[49m\u001b[43massert_fingerprint\u001b[49m\u001b[43m,\u001b[49m\n\u001b[32m    758\u001b[39m \u001b[43m    \u001b[49m\u001b[43m)\u001b[49m\n\u001b[32m    759\u001b[39m     \u001b[38;5;28mself\u001b[39m.sock = sock_and_verified.socket\n\u001b[32m    761\u001b[39m \u001b[38;5;66;03m# If an error occurs during connection/handshake we may need to release\u001b[39;00m\n\u001b[32m    762\u001b[39m \u001b[38;5;66;03m# our lock so another connection can probe the origin.\u001b[39;00m\n",
      "\u001b[36mFile \u001b[39m\u001b[32m~\\AppData\\Local\\Programs\\Python\\Python313\\Lib\\site-packages\\urllib3\\connection.py:920\u001b[39m, in \u001b[36m_ssl_wrap_socket_and_match_hostname\u001b[39m\u001b[34m(sock, cert_reqs, ssl_version, ssl_minimum_version, ssl_maximum_version, cert_file, key_file, key_password, ca_certs, ca_cert_dir, ca_cert_data, assert_hostname, assert_fingerprint, server_hostname, ssl_context, tls_in_tls)\u001b[39m\n\u001b[32m    917\u001b[39m     \u001b[38;5;28;01mif\u001b[39;00m is_ipaddress(normalized):\n\u001b[32m    918\u001b[39m         server_hostname = normalized\n\u001b[32m--> \u001b[39m\u001b[32m920\u001b[39m ssl_sock = \u001b[43mssl_wrap_socket\u001b[49m\u001b[43m(\u001b[49m\n\u001b[32m    921\u001b[39m \u001b[43m    \u001b[49m\u001b[43msock\u001b[49m\u001b[43m=\u001b[49m\u001b[43msock\u001b[49m\u001b[43m,\u001b[49m\n\u001b[32m    922\u001b[39m \u001b[43m    \u001b[49m\u001b[43mkeyfile\u001b[49m\u001b[43m=\u001b[49m\u001b[43mkey_file\u001b[49m\u001b[43m,\u001b[49m\n\u001b[32m    923\u001b[39m \u001b[43m    \u001b[49m\u001b[43mcertfile\u001b[49m\u001b[43m=\u001b[49m\u001b[43mcert_file\u001b[49m\u001b[43m,\u001b[49m\n\u001b[32m    924\u001b[39m \u001b[43m    \u001b[49m\u001b[43mkey_password\u001b[49m\u001b[43m=\u001b[49m\u001b[43mkey_password\u001b[49m\u001b[43m,\u001b[49m\n\u001b[32m    925\u001b[39m \u001b[43m    \u001b[49m\u001b[43mca_certs\u001b[49m\u001b[43m=\u001b[49m\u001b[43mca_certs\u001b[49m\u001b[43m,\u001b[49m\n\u001b[32m    926\u001b[39m \u001b[43m    \u001b[49m\u001b[43mca_cert_dir\u001b[49m\u001b[43m=\u001b[49m\u001b[43mca_cert_dir\u001b[49m\u001b[43m,\u001b[49m\n\u001b[32m    927\u001b[39m \u001b[43m    \u001b[49m\u001b[43mca_cert_data\u001b[49m\u001b[43m=\u001b[49m\u001b[43mca_cert_data\u001b[49m\u001b[43m,\u001b[49m\n\u001b[32m    928\u001b[39m \u001b[43m    \u001b[49m\u001b[43mserver_hostname\u001b[49m\u001b[43m=\u001b[49m\u001b[43mserver_hostname\u001b[49m\u001b[43m,\u001b[49m\n\u001b[32m    929\u001b[39m \u001b[43m    \u001b[49m\u001b[43mssl_context\u001b[49m\u001b[43m=\u001b[49m\u001b[43mcontext\u001b[49m\u001b[43m,\u001b[49m\n\u001b[32m    930\u001b[39m \u001b[43m    \u001b[49m\u001b[43mtls_in_tls\u001b[49m\u001b[43m=\u001b[49m\u001b[43mtls_in_tls\u001b[49m\u001b[43m,\u001b[49m\n\u001b[32m    931\u001b[39m \u001b[43m\u001b[49m\u001b[43m)\u001b[49m\n\u001b[32m    933\u001b[39m \u001b[38;5;28;01mtry\u001b[39;00m:\n\u001b[32m    934\u001b[39m     \u001b[38;5;28;01mif\u001b[39;00m assert_fingerprint:\n",
      "\u001b[36mFile \u001b[39m\u001b[32m~\\AppData\\Local\\Programs\\Python\\Python313\\Lib\\site-packages\\urllib3\\util\\ssl_.py:480\u001b[39m, in \u001b[36mssl_wrap_socket\u001b[39m\u001b[34m(sock, keyfile, certfile, cert_reqs, ca_certs, server_hostname, ssl_version, ciphers, ssl_context, ca_cert_dir, key_password, ca_cert_data, tls_in_tls)\u001b[39m\n\u001b[32m    476\u001b[39m         context.load_cert_chain(certfile, keyfile, key_password)\n\u001b[32m    478\u001b[39m context.set_alpn_protocols(ALPN_PROTOCOLS)\n\u001b[32m--> \u001b[39m\u001b[32m480\u001b[39m ssl_sock = \u001b[43m_ssl_wrap_socket_impl\u001b[49m\u001b[43m(\u001b[49m\u001b[43msock\u001b[49m\u001b[43m,\u001b[49m\u001b[43m \u001b[49m\u001b[43mcontext\u001b[49m\u001b[43m,\u001b[49m\u001b[43m \u001b[49m\u001b[43mtls_in_tls\u001b[49m\u001b[43m,\u001b[49m\u001b[43m \u001b[49m\u001b[43mserver_hostname\u001b[49m\u001b[43m)\u001b[49m\n\u001b[32m    481\u001b[39m \u001b[38;5;28;01mreturn\u001b[39;00m ssl_sock\n",
      "\u001b[36mFile \u001b[39m\u001b[32m~\\AppData\\Local\\Programs\\Python\\Python313\\Lib\\site-packages\\urllib3\\util\\ssl_.py:524\u001b[39m, in \u001b[36m_ssl_wrap_socket_impl\u001b[39m\u001b[34m(sock, ssl_context, tls_in_tls, server_hostname)\u001b[39m\n\u001b[32m    521\u001b[39m     SSLTransport._validate_ssl_context_for_tls_in_tls(ssl_context)\n\u001b[32m    522\u001b[39m     \u001b[38;5;28;01mreturn\u001b[39;00m SSLTransport(sock, ssl_context, server_hostname)\n\u001b[32m--> \u001b[39m\u001b[32m524\u001b[39m \u001b[38;5;28;01mreturn\u001b[39;00m \u001b[43mssl_context\u001b[49m\u001b[43m.\u001b[49m\u001b[43mwrap_socket\u001b[49m\u001b[43m(\u001b[49m\u001b[43msock\u001b[49m\u001b[43m,\u001b[49m\u001b[43m \u001b[49m\u001b[43mserver_hostname\u001b[49m\u001b[43m=\u001b[49m\u001b[43mserver_hostname\u001b[49m\u001b[43m)\u001b[49m\n",
      "\u001b[36mFile \u001b[39m\u001b[32m~\\AppData\\Local\\Programs\\Python\\Python313\\Lib\\ssl.py:455\u001b[39m, in \u001b[36mSSLContext.wrap_socket\u001b[39m\u001b[34m(self, sock, server_side, do_handshake_on_connect, suppress_ragged_eofs, server_hostname, session)\u001b[39m\n\u001b[32m    449\u001b[39m \u001b[38;5;28;01mdef\u001b[39;00m\u001b[38;5;250m \u001b[39m\u001b[34mwrap_socket\u001b[39m(\u001b[38;5;28mself\u001b[39m, sock, server_side=\u001b[38;5;28;01mFalse\u001b[39;00m,\n\u001b[32m    450\u001b[39m                 do_handshake_on_connect=\u001b[38;5;28;01mTrue\u001b[39;00m,\n\u001b[32m    451\u001b[39m                 suppress_ragged_eofs=\u001b[38;5;28;01mTrue\u001b[39;00m,\n\u001b[32m    452\u001b[39m                 server_hostname=\u001b[38;5;28;01mNone\u001b[39;00m, session=\u001b[38;5;28;01mNone\u001b[39;00m):\n\u001b[32m    453\u001b[39m     \u001b[38;5;66;03m# SSLSocket class handles server_hostname encoding before it calls\u001b[39;00m\n\u001b[32m    454\u001b[39m     \u001b[38;5;66;03m# ctx._wrap_socket()\u001b[39;00m\n\u001b[32m--> \u001b[39m\u001b[32m455\u001b[39m     \u001b[38;5;28;01mreturn\u001b[39;00m \u001b[38;5;28;43mself\u001b[39;49m\u001b[43m.\u001b[49m\u001b[43msslsocket_class\u001b[49m\u001b[43m.\u001b[49m\u001b[43m_create\u001b[49m\u001b[43m(\u001b[49m\n\u001b[32m    456\u001b[39m \u001b[43m        \u001b[49m\u001b[43msock\u001b[49m\u001b[43m=\u001b[49m\u001b[43msock\u001b[49m\u001b[43m,\u001b[49m\n\u001b[32m    457\u001b[39m \u001b[43m        \u001b[49m\u001b[43mserver_side\u001b[49m\u001b[43m=\u001b[49m\u001b[43mserver_side\u001b[49m\u001b[43m,\u001b[49m\n\u001b[32m    458\u001b[39m \u001b[43m        \u001b[49m\u001b[43mdo_handshake_on_connect\u001b[49m\u001b[43m=\u001b[49m\u001b[43mdo_handshake_on_connect\u001b[49m\u001b[43m,\u001b[49m\n\u001b[32m    459\u001b[39m \u001b[43m        \u001b[49m\u001b[43msuppress_ragged_eofs\u001b[49m\u001b[43m=\u001b[49m\u001b[43msuppress_ragged_eofs\u001b[49m\u001b[43m,\u001b[49m\n\u001b[32m    460\u001b[39m \u001b[43m        \u001b[49m\u001b[43mserver_hostname\u001b[49m\u001b[43m=\u001b[49m\u001b[43mserver_hostname\u001b[49m\u001b[43m,\u001b[49m\n\u001b[32m    461\u001b[39m \u001b[43m        \u001b[49m\u001b[43mcontext\u001b[49m\u001b[43m=\u001b[49m\u001b[38;5;28;43mself\u001b[39;49m\u001b[43m,\u001b[49m\n\u001b[32m    462\u001b[39m \u001b[43m        \u001b[49m\u001b[43msession\u001b[49m\u001b[43m=\u001b[49m\u001b[43msession\u001b[49m\n\u001b[32m    463\u001b[39m \u001b[43m    \u001b[49m\u001b[43m)\u001b[49m\n",
      "\u001b[36mFile \u001b[39m\u001b[32m~\\AppData\\Local\\Programs\\Python\\Python313\\Lib\\ssl.py:1076\u001b[39m, in \u001b[36mSSLSocket._create\u001b[39m\u001b[34m(cls, sock, server_side, do_handshake_on_connect, suppress_ragged_eofs, server_hostname, context, session)\u001b[39m\n\u001b[32m   1073\u001b[39m             \u001b[38;5;28;01mif\u001b[39;00m timeout == \u001b[32m0.0\u001b[39m:\n\u001b[32m   1074\u001b[39m                 \u001b[38;5;66;03m# non-blocking\u001b[39;00m\n\u001b[32m   1075\u001b[39m                 \u001b[38;5;28;01mraise\u001b[39;00m \u001b[38;5;167;01mValueError\u001b[39;00m(\u001b[33m\"\u001b[39m\u001b[33mdo_handshake_on_connect should not be specified for non-blocking sockets\u001b[39m\u001b[33m\"\u001b[39m)\n\u001b[32m-> \u001b[39m\u001b[32m1076\u001b[39m             \u001b[38;5;28;43mself\u001b[39;49m\u001b[43m.\u001b[49m\u001b[43mdo_handshake\u001b[49m\u001b[43m(\u001b[49m\u001b[43m)\u001b[49m\n\u001b[32m   1077\u001b[39m \u001b[38;5;28;01mexcept\u001b[39;00m:\n\u001b[32m   1078\u001b[39m     \u001b[38;5;28;01mtry\u001b[39;00m:\n",
      "\u001b[36mFile \u001b[39m\u001b[32m~\\AppData\\Local\\Programs\\Python\\Python313\\Lib\\ssl.py:1372\u001b[39m, in \u001b[36mSSLSocket.do_handshake\u001b[39m\u001b[34m(self, block)\u001b[39m\n\u001b[32m   1370\u001b[39m     \u001b[38;5;28;01mif\u001b[39;00m timeout == \u001b[32m0.0\u001b[39m \u001b[38;5;129;01mand\u001b[39;00m block:\n\u001b[32m   1371\u001b[39m         \u001b[38;5;28mself\u001b[39m.settimeout(\u001b[38;5;28;01mNone\u001b[39;00m)\n\u001b[32m-> \u001b[39m\u001b[32m1372\u001b[39m     \u001b[38;5;28;43mself\u001b[39;49m\u001b[43m.\u001b[49m\u001b[43m_sslobj\u001b[49m\u001b[43m.\u001b[49m\u001b[43mdo_handshake\u001b[49m\u001b[43m(\u001b[49m\u001b[43m)\u001b[49m\n\u001b[32m   1373\u001b[39m \u001b[38;5;28;01mfinally\u001b[39;00m:\n\u001b[32m   1374\u001b[39m     \u001b[38;5;28mself\u001b[39m.settimeout(timeout)\n",
      "\u001b[31mKeyboardInterrupt\u001b[39m: "
     ]
    }
   ],
   "source": [
    "import pandas as pd\n",
    "import requests\n",
    "from tqdm import tqdm\n",
    "import time\n",
    "import os\n",
    "\n",
    "# === LOAD CLEANED UFO DATA ===\n",
    "df = pd.read_csv(\"cleaned_ufo_data.csv\")\n",
    "\n",
    "# Standardize column names\n",
    "df.columns = df.columns.str.strip()\n",
    "\n",
    "# Convert date and drop missing values\n",
    "df['date'] = pd.to_datetime(df['date'], errors='coerce').dt.date\n",
    "df = df.dropna(subset=['date', 'latitude', 'longitude'])\n",
    "\n",
    "# Round lat/lon to avoid excessive API calls\n",
    "df['latitude'] = df['latitude'].round(2)\n",
    "df['longitude'] = df['longitude'].round(2)\n",
    "\n",
    "# Deduplicate based on (date, lat, lon)\n",
    "keys = df[['date', 'latitude', 'longitude']].drop_duplicates()\n",
    "\n",
    "# Output settings\n",
    "weather_data = []\n",
    "autosave_path = \"weather_autosave.csv\"\n",
    "final_path = \"weather_openmeteo_full.csv\"\n",
    "backup_interval = 1000  # autosave every 1000\n",
    "\n",
    "# Resume support\n",
    "done_keys = set()\n",
    "if os.path.exists(autosave_path):\n",
    "    try:\n",
    "        old = pd.read_csv(autosave_path)\n",
    "        old['date'] = pd.to_datetime(old['date'], errors='coerce').dt.date\n",
    "        done_keys = set(zip(old['date'], old['latitude'].round(2), old['longitude'].round(2)))\n",
    "        weather_data = old.to_dict(orient='records')\n",
    "        print(f\"🔁 Resuming from previous progress ({len(weather_data)} records)...\")\n",
    "    except Exception as e:\n",
    "        print(\"⚠️ Error loading previous progress:\", e)\n",
    "\n",
    "# Start loop with progress bar\n",
    "for i, row in tqdm(keys.iterrows(), total=len(keys), desc=\"Scraping weather data\"):\n",
    "    date = row['date']\n",
    "    lat = row['latitude']\n",
    "    lon = row['longitude']\n",
    "    key = (date, lat, lon)\n",
    "\n",
    "    if key in done_keys:\n",
    "        continue\n",
    "\n",
    "    url = (\n",
    "        f\"https://archive-api.open-meteo.com/v1/archive?\"\n",
    "        f\"latitude={lat}&longitude={lon}&start_date={date}&end_date={date}\"\n",
    "        f\"&hourly=temperature_2m,pressure_msl,visibility,cloudcover\"\n",
    "    )\n",
    "\n",
    "    try:\n",
    "        response = requests.get(url)\n",
    "        data = response.json()\n",
    "\n",
    "        if 'hourly' in data and 'temperature_2m' in data['hourly']:\n",
    "            hourly = pd.DataFrame(data['hourly'])\n",
    "\n",
    "            weather = {\n",
    "                'date': date,\n",
    "                'latitude': lat,\n",
    "                'longitude': lon,\n",
    "                'temperature_2m': pd.Series(hourly['temperature_2m']).mean(),\n",
    "                'pressure_msl': pd.Series(hourly['pressure_msl']).mean(),\n",
    "                'visibility': pd.Series(hourly['visibility']).mean() if 'visibility' in hourly else None,\n",
    "                'cloudcover': pd.Series(hourly['cloudcover']).mean()\n",
    "            }\n",
    "\n",
    "            weather_data.append(weather)\n",
    "            done_keys.add(key)\n",
    "\n",
    "            # Autosave\n",
    "            if len(weather_data) % backup_interval == 0:\n",
    "                pd.DataFrame(weather_data).to_csv(autosave_path, index=False)\n",
    "                print(f\"💾 Autosaved {len(weather_data)} records...\")\n",
    "\n",
    "    except Exception as e:\n",
    "        print(f\"[{i}] Error at {key}: {e}\")\n",
    "\n",
    "    time.sleep(1)  # prevent overloading the API\n",
    "\n",
    "# Final save\n",
    "pd.DataFrame(weather_data).to_csv(final_path, index=False)\n",
    "print(f\"\\n✅ Full weather data saved to {final_path}\")\n"
   ]
  },
  {
   "cell_type": "code",
   "execution_count": 4,
   "id": "e432e648-5ed3-444e-8924-07cdbc7ba4c2",
   "metadata": {},
   "outputs": [
    {
     "name": "stdout",
     "output_type": "stream",
     "text": [
      "📂 Found 9000 previously saved records.\n",
      "🚀 Starting with 49971 new rows to scrape...\n"
     ]
    },
    {
     "name": "stderr",
     "output_type": "stream",
     "text": [
      "Scraping weather data:   0%|                                                    | 100/49971 [02:35<21:32:01,  1.55s/it]"
     ]
    },
    {
     "name": "stdout",
     "output_type": "stream",
     "text": [
      "💾 Autosaved 9100 records...\n"
     ]
    },
    {
     "name": "stderr",
     "output_type": "stream",
     "text": [
      "Scraping weather data:   0%|▏                                                   | 200/49971 [05:11<21:33:55,  1.56s/it]"
     ]
    },
    {
     "name": "stdout",
     "output_type": "stream",
     "text": [
      "💾 Autosaved 9200 records...\n"
     ]
    },
    {
     "name": "stderr",
     "output_type": "stream",
     "text": [
      "Scraping weather data:   1%|▎                                                   | 300/49971 [07:50<21:39:05,  1.57s/it]"
     ]
    },
    {
     "name": "stdout",
     "output_type": "stream",
     "text": [
      "💾 Autosaved 9300 records...\n"
     ]
    },
    {
     "name": "stderr",
     "output_type": "stream",
     "text": [
      "Scraping weather data:   1%|▍                                                   | 400/49971 [10:28<21:44:28,  1.58s/it]"
     ]
    },
    {
     "name": "stdout",
     "output_type": "stream",
     "text": [
      "💾 Autosaved 9400 records...\n"
     ]
    },
    {
     "name": "stderr",
     "output_type": "stream",
     "text": [
      "Scraping weather data:   1%|▌                                                   | 500/49971 [13:06<21:41:44,  1.58s/it]"
     ]
    },
    {
     "name": "stdout",
     "output_type": "stream",
     "text": [
      "💾 Autosaved 9500 records...\n"
     ]
    },
    {
     "name": "stderr",
     "output_type": "stream",
     "text": [
      "Scraping weather data:   1%|▌                                                   | 600/49971 [15:45<21:37:40,  1.58s/it]"
     ]
    },
    {
     "name": "stdout",
     "output_type": "stream",
     "text": [
      "💾 Autosaved 9600 records...\n"
     ]
    },
    {
     "name": "stderr",
     "output_type": "stream",
     "text": [
      "Scraping weather data:   1%|▋                                                   | 700/49971 [18:23<21:37:32,  1.58s/it]"
     ]
    },
    {
     "name": "stdout",
     "output_type": "stream",
     "text": [
      "💾 Autosaved 9700 records...\n"
     ]
    },
    {
     "name": "stderr",
     "output_type": "stream",
     "text": [
      "Scraping weather data:   2%|▊                                                   | 800/49971 [21:02<21:53:30,  1.60s/it]"
     ]
    },
    {
     "name": "stdout",
     "output_type": "stream",
     "text": [
      "💾 Autosaved 9800 records...\n"
     ]
    },
    {
     "name": "stderr",
     "output_type": "stream",
     "text": [
      "Scraping weather data:   2%|▉                                                   | 900/49971 [23:41<21:28:45,  1.58s/it]"
     ]
    },
    {
     "name": "stdout",
     "output_type": "stream",
     "text": [
      "💾 Autosaved 9900 records...\n"
     ]
    },
    {
     "name": "stderr",
     "output_type": "stream",
     "text": [
      "Scraping weather data:   2%|█                                                  | 1000/49971 [26:20<21:29:27,  1.58s/it]"
     ]
    },
    {
     "name": "stdout",
     "output_type": "stream",
     "text": [
      "💾 Autosaved 10000 records...\n"
     ]
    },
    {
     "name": "stderr",
     "output_type": "stream",
     "text": [
      "Scraping weather data:   2%|█                                                  | 1100/49971 [28:59<21:15:48,  1.57s/it]"
     ]
    },
    {
     "name": "stdout",
     "output_type": "stream",
     "text": [
      "💾 Autosaved 10100 records...\n"
     ]
    },
    {
     "name": "stderr",
     "output_type": "stream",
     "text": [
      "Scraping weather data:   2%|█▏                                                 | 1200/49971 [31:37<21:26:13,  1.58s/it]"
     ]
    },
    {
     "name": "stdout",
     "output_type": "stream",
     "text": [
      "💾 Autosaved 10200 records...\n"
     ]
    },
    {
     "name": "stderr",
     "output_type": "stream",
     "text": [
      "Scraping weather data:   3%|█▎                                                 | 1300/49971 [34:16<21:16:14,  1.57s/it]"
     ]
    },
    {
     "name": "stdout",
     "output_type": "stream",
     "text": [
      "💾 Autosaved 10300 records...\n"
     ]
    },
    {
     "name": "stderr",
     "output_type": "stream",
     "text": [
      "Scraping weather data:   3%|█▍                                                 | 1400/49971 [36:55<21:20:52,  1.58s/it]"
     ]
    },
    {
     "name": "stdout",
     "output_type": "stream",
     "text": [
      "💾 Autosaved 10400 records...\n"
     ]
    },
    {
     "name": "stderr",
     "output_type": "stream",
     "text": [
      "Scraping weather data:   3%|█▌                                                 | 1500/49971 [39:33<21:10:23,  1.57s/it]"
     ]
    },
    {
     "name": "stdout",
     "output_type": "stream",
     "text": [
      "💾 Autosaved 10500 records...\n"
     ]
    },
    {
     "name": "stderr",
     "output_type": "stream",
     "text": [
      "Scraping weather data:   3%|█▋                                                 | 1600/49971 [42:11<21:01:33,  1.56s/it]"
     ]
    },
    {
     "name": "stdout",
     "output_type": "stream",
     "text": [
      "💾 Autosaved 10600 records...\n"
     ]
    },
    {
     "name": "stderr",
     "output_type": "stream",
     "text": [
      "Scraping weather data:   3%|█▋                                                 | 1700/49971 [44:49<21:10:29,  1.58s/it]"
     ]
    },
    {
     "name": "stdout",
     "output_type": "stream",
     "text": [
      "💾 Autosaved 10700 records...\n"
     ]
    },
    {
     "name": "stderr",
     "output_type": "stream",
     "text": [
      "Scraping weather data:   4%|█▊                                                 | 1800/49971 [47:28<21:07:53,  1.58s/it]"
     ]
    },
    {
     "name": "stdout",
     "output_type": "stream",
     "text": [
      "💾 Autosaved 10800 records...\n"
     ]
    },
    {
     "name": "stderr",
     "output_type": "stream",
     "text": [
      "Scraping weather data:   4%|█▉                                                 | 1900/49971 [50:07<21:44:46,  1.63s/it]"
     ]
    },
    {
     "name": "stdout",
     "output_type": "stream",
     "text": [
      "💾 Autosaved 10900 records...\n"
     ]
    },
    {
     "name": "stderr",
     "output_type": "stream",
     "text": [
      "Scraping weather data:   4%|██                                                 | 2000/49971 [52:46<21:00:25,  1.58s/it]"
     ]
    },
    {
     "name": "stdout",
     "output_type": "stream",
     "text": [
      "💾 Autosaved 11000 records...\n"
     ]
    },
    {
     "name": "stderr",
     "output_type": "stream",
     "text": [
      "Scraping weather data:   4%|██▏                                                | 2100/49971 [55:25<20:55:21,  1.57s/it]"
     ]
    },
    {
     "name": "stdout",
     "output_type": "stream",
     "text": [
      "💾 Autosaved 11100 records...\n"
     ]
    },
    {
     "name": "stderr",
     "output_type": "stream",
     "text": [
      "Scraping weather data:   4%|██▏                                                | 2200/49971 [58:03<20:45:48,  1.56s/it]"
     ]
    },
    {
     "name": "stdout",
     "output_type": "stream",
     "text": [
      "💾 Autosaved 11200 records...\n"
     ]
    },
    {
     "name": "stderr",
     "output_type": "stream",
     "text": [
      "Scraping weather data:   5%|██▎                                              | 2300/49971 [1:00:41<20:59:20,  1.59s/it]"
     ]
    },
    {
     "name": "stdout",
     "output_type": "stream",
     "text": [
      "💾 Autosaved 11300 records...\n"
     ]
    },
    {
     "name": "stderr",
     "output_type": "stream",
     "text": [
      "Scraping weather data:   5%|██▎                                              | 2400/49971 [1:03:19<20:51:10,  1.58s/it]"
     ]
    },
    {
     "name": "stdout",
     "output_type": "stream",
     "text": [
      "💾 Autosaved 11400 records...\n"
     ]
    },
    {
     "name": "stderr",
     "output_type": "stream",
     "text": [
      "Scraping weather data:   5%|██▍                                              | 2500/49971 [1:05:57<20:54:10,  1.59s/it]"
     ]
    },
    {
     "name": "stdout",
     "output_type": "stream",
     "text": [
      "💾 Autosaved 11500 records...\n"
     ]
    },
    {
     "name": "stderr",
     "output_type": "stream",
     "text": [
      "Scraping weather data:   5%|██▌                                              | 2600/49971 [1:08:36<20:41:17,  1.57s/it]"
     ]
    },
    {
     "name": "stdout",
     "output_type": "stream",
     "text": [
      "💾 Autosaved 11600 records...\n"
     ]
    },
    {
     "name": "stderr",
     "output_type": "stream",
     "text": [
      "Scraping weather data:   5%|██▋                                              | 2700/49971 [1:11:14<20:39:10,  1.57s/it]"
     ]
    },
    {
     "name": "stdout",
     "output_type": "stream",
     "text": [
      "💾 Autosaved 11700 records...\n"
     ]
    },
    {
     "name": "stderr",
     "output_type": "stream",
     "text": [
      "Scraping weather data:   6%|██▋                                              | 2800/49971 [1:13:52<21:13:41,  1.62s/it]"
     ]
    },
    {
     "name": "stdout",
     "output_type": "stream",
     "text": [
      "💾 Autosaved 11800 records...\n"
     ]
    },
    {
     "name": "stderr",
     "output_type": "stream",
     "text": [
      "Scraping weather data:   6%|██▊                                              | 2900/49971 [1:16:31<20:48:16,  1.59s/it]"
     ]
    },
    {
     "name": "stdout",
     "output_type": "stream",
     "text": [
      "💾 Autosaved 11900 records...\n"
     ]
    },
    {
     "name": "stderr",
     "output_type": "stream",
     "text": [
      "Scraping weather data:   6%|██▉                                              | 3000/49971 [1:19:09<20:31:28,  1.57s/it]"
     ]
    },
    {
     "name": "stdout",
     "output_type": "stream",
     "text": [
      "💾 Autosaved 12000 records...\n"
     ]
    },
    {
     "name": "stderr",
     "output_type": "stream",
     "text": [
      "Scraping weather data:   6%|███                                              | 3100/49971 [1:21:48<20:43:51,  1.59s/it]"
     ]
    },
    {
     "name": "stdout",
     "output_type": "stream",
     "text": [
      "💾 Autosaved 12100 records...\n"
     ]
    },
    {
     "name": "stderr",
     "output_type": "stream",
     "text": [
      "Scraping weather data:   6%|███▏                                             | 3200/49971 [1:24:27<20:34:04,  1.58s/it]"
     ]
    },
    {
     "name": "stdout",
     "output_type": "stream",
     "text": [
      "💾 Autosaved 12200 records...\n"
     ]
    },
    {
     "name": "stderr",
     "output_type": "stream",
     "text": [
      "Scraping weather data:   7%|███▏                                             | 3300/49971 [1:27:05<20:23:23,  1.57s/it]"
     ]
    },
    {
     "name": "stdout",
     "output_type": "stream",
     "text": [
      "💾 Autosaved 12300 records...\n"
     ]
    },
    {
     "name": "stderr",
     "output_type": "stream",
     "text": [
      "Scraping weather data:   7%|███▎                                             | 3400/49971 [1:29:44<20:35:05,  1.59s/it]"
     ]
    },
    {
     "name": "stdout",
     "output_type": "stream",
     "text": [
      "💾 Autosaved 12400 records...\n"
     ]
    },
    {
     "name": "stderr",
     "output_type": "stream",
     "text": [
      "Scraping weather data:   7%|███▍                                             | 3500/49971 [1:32:22<20:23:45,  1.58s/it]"
     ]
    },
    {
     "name": "stdout",
     "output_type": "stream",
     "text": [
      "💾 Autosaved 12500 records...\n"
     ]
    },
    {
     "name": "stderr",
     "output_type": "stream",
     "text": [
      "Scraping weather data:   7%|███▌                                             | 3600/49971 [1:35:01<20:22:43,  1.58s/it]"
     ]
    },
    {
     "name": "stdout",
     "output_type": "stream",
     "text": [
      "💾 Autosaved 12600 records...\n"
     ]
    },
    {
     "name": "stderr",
     "output_type": "stream",
     "text": [
      "Scraping weather data:   7%|███▋                                             | 3700/49971 [1:37:39<20:23:22,  1.59s/it]"
     ]
    },
    {
     "name": "stdout",
     "output_type": "stream",
     "text": [
      "💾 Autosaved 12700 records...\n"
     ]
    },
    {
     "name": "stderr",
     "output_type": "stream",
     "text": [
      "Scraping weather data:   8%|███▋                                             | 3800/49971 [1:40:19<21:04:27,  1.64s/it]"
     ]
    },
    {
     "name": "stdout",
     "output_type": "stream",
     "text": [
      "💾 Autosaved 12800 records...\n"
     ]
    },
    {
     "name": "stderr",
     "output_type": "stream",
     "text": [
      "Scraping weather data:   8%|███▊                                             | 3900/49971 [1:43:00<20:41:34,  1.62s/it]"
     ]
    },
    {
     "name": "stdout",
     "output_type": "stream",
     "text": [
      "💾 Autosaved 12900 records...\n"
     ]
    },
    {
     "name": "stderr",
     "output_type": "stream",
     "text": [
      "Scraping weather data:   8%|███▉                                             | 4000/49971 [1:45:39<20:16:59,  1.59s/it]"
     ]
    },
    {
     "name": "stdout",
     "output_type": "stream",
     "text": [
      "💾 Autosaved 13000 records...\n"
     ]
    },
    {
     "name": "stderr",
     "output_type": "stream",
     "text": [
      "Scraping weather data:   8%|████                                             | 4100/49971 [1:48:19<20:22:19,  1.60s/it]"
     ]
    },
    {
     "name": "stdout",
     "output_type": "stream",
     "text": [
      "💾 Autosaved 13100 records...\n"
     ]
    },
    {
     "name": "stderr",
     "output_type": "stream",
     "text": [
      "Scraping weather data:   8%|████                                             | 4200/49971 [1:51:00<20:07:56,  1.58s/it]"
     ]
    },
    {
     "name": "stdout",
     "output_type": "stream",
     "text": [
      "💾 Autosaved 13200 records...\n"
     ]
    },
    {
     "name": "stderr",
     "output_type": "stream",
     "text": [
      "Scraping weather data:   9%|████▏                                            | 4300/49971 [1:53:39<20:04:20,  1.58s/it]"
     ]
    },
    {
     "name": "stdout",
     "output_type": "stream",
     "text": [
      "💾 Autosaved 13300 records...\n"
     ]
    },
    {
     "name": "stderr",
     "output_type": "stream",
     "text": [
      "Scraping weather data:   9%|████▎                                            | 4400/49971 [1:56:18<20:03:31,  1.58s/it]"
     ]
    },
    {
     "name": "stdout",
     "output_type": "stream",
     "text": [
      "💾 Autosaved 13400 records...\n"
     ]
    },
    {
     "name": "stderr",
     "output_type": "stream",
     "text": [
      "Scraping weather data:   9%|████▍                                            | 4500/49971 [1:58:57<19:51:09,  1.57s/it]"
     ]
    },
    {
     "name": "stdout",
     "output_type": "stream",
     "text": [
      "💾 Autosaved 13500 records...\n"
     ]
    },
    {
     "name": "stderr",
     "output_type": "stream",
     "text": [
      "Scraping weather data:   9%|████▌                                            | 4600/49971 [2:01:36<20:03:42,  1.59s/it]"
     ]
    },
    {
     "name": "stdout",
     "output_type": "stream",
     "text": [
      "💾 Autosaved 13600 records...\n"
     ]
    },
    {
     "name": "stderr",
     "output_type": "stream",
     "text": [
      "Scraping weather data:   9%|████▌                                            | 4700/49971 [2:04:14<19:49:28,  1.58s/it]"
     ]
    },
    {
     "name": "stdout",
     "output_type": "stream",
     "text": [
      "💾 Autosaved 13700 records...\n"
     ]
    },
    {
     "name": "stderr",
     "output_type": "stream",
     "text": [
      "Scraping weather data:  10%|████▋                                            | 4800/49971 [2:06:52<19:47:14,  1.58s/it]"
     ]
    },
    {
     "name": "stdout",
     "output_type": "stream",
     "text": [
      "💾 Autosaved 13800 records...\n"
     ]
    },
    {
     "name": "stderr",
     "output_type": "stream",
     "text": [
      "Scraping weather data:  10%|████▊                                            | 4900/49971 [2:09:31<19:43:19,  1.58s/it]"
     ]
    },
    {
     "name": "stdout",
     "output_type": "stream",
     "text": [
      "💾 Autosaved 13900 records...\n"
     ]
    },
    {
     "name": "stderr",
     "output_type": "stream",
     "text": [
      "Scraping weather data:  10%|████▉                                            | 5000/49971 [2:12:10<19:37:19,  1.57s/it]"
     ]
    },
    {
     "name": "stdout",
     "output_type": "stream",
     "text": [
      "💾 Autosaved 14000 records...\n"
     ]
    },
    {
     "name": "stderr",
     "output_type": "stream",
     "text": [
      "Scraping weather data:  10%|█████                                            | 5100/49971 [2:14:48<19:59:57,  1.60s/it]"
     ]
    },
    {
     "name": "stdout",
     "output_type": "stream",
     "text": [
      "💾 Autosaved 14100 records...\n"
     ]
    },
    {
     "name": "stderr",
     "output_type": "stream",
     "text": [
      "Scraping weather data:  10%|█████                                            | 5200/49971 [2:17:27<19:33:37,  1.57s/it]"
     ]
    },
    {
     "name": "stdout",
     "output_type": "stream",
     "text": [
      "💾 Autosaved 14200 records...\n"
     ]
    },
    {
     "name": "stderr",
     "output_type": "stream",
     "text": [
      "Scraping weather data:  11%|█████▏                                           | 5300/49971 [2:20:05<19:46:44,  1.59s/it]"
     ]
    },
    {
     "name": "stdout",
     "output_type": "stream",
     "text": [
      "💾 Autosaved 14300 records...\n"
     ]
    },
    {
     "name": "stderr",
     "output_type": "stream",
     "text": [
      "Scraping weather data:  11%|█████▎                                           | 5400/49971 [2:22:43<19:47:13,  1.60s/it]"
     ]
    },
    {
     "name": "stdout",
     "output_type": "stream",
     "text": [
      "💾 Autosaved 14400 records...\n"
     ]
    },
    {
     "name": "stderr",
     "output_type": "stream",
     "text": [
      "Scraping weather data:  11%|█████▍                                           | 5500/49971 [2:25:22<19:38:48,  1.59s/it]"
     ]
    },
    {
     "name": "stdout",
     "output_type": "stream",
     "text": [
      "💾 Autosaved 14500 records...\n"
     ]
    },
    {
     "name": "stderr",
     "output_type": "stream",
     "text": [
      "Scraping weather data:  11%|█████▍                                           | 5600/49971 [2:28:00<19:26:37,  1.58s/it]"
     ]
    },
    {
     "name": "stdout",
     "output_type": "stream",
     "text": [
      "💾 Autosaved 14600 records...\n"
     ]
    },
    {
     "name": "stderr",
     "output_type": "stream",
     "text": [
      "Scraping weather data:  11%|█████▌                                           | 5700/49971 [2:30:38<19:27:12,  1.58s/it]"
     ]
    },
    {
     "name": "stdout",
     "output_type": "stream",
     "text": [
      "💾 Autosaved 14700 records...\n"
     ]
    },
    {
     "name": "stderr",
     "output_type": "stream",
     "text": [
      "Scraping weather data:  12%|█████▋                                           | 5800/49971 [2:33:17<19:29:13,  1.59s/it]"
     ]
    },
    {
     "name": "stdout",
     "output_type": "stream",
     "text": [
      "💾 Autosaved 14800 records...\n"
     ]
    },
    {
     "name": "stderr",
     "output_type": "stream",
     "text": [
      "Scraping weather data:  12%|█████▊                                           | 5900/49971 [2:35:55<19:10:20,  1.57s/it]"
     ]
    },
    {
     "name": "stdout",
     "output_type": "stream",
     "text": [
      "💾 Autosaved 14900 records...\n"
     ]
    },
    {
     "name": "stderr",
     "output_type": "stream",
     "text": [
      "Scraping weather data:  12%|█████▉                                           | 6000/49971 [2:38:33<19:13:56,  1.57s/it]"
     ]
    },
    {
     "name": "stdout",
     "output_type": "stream",
     "text": [
      "💾 Autosaved 15000 records...\n"
     ]
    },
    {
     "name": "stderr",
     "output_type": "stream",
     "text": [
      "Scraping weather data:  12%|█████▉                                           | 6100/49971 [2:41:11<19:09:51,  1.57s/it]"
     ]
    },
    {
     "name": "stdout",
     "output_type": "stream",
     "text": [
      "💾 Autosaved 15100 records...\n"
     ]
    },
    {
     "name": "stderr",
     "output_type": "stream",
     "text": [
      "Scraping weather data:  12%|██████                                           | 6200/49971 [2:43:48<19:02:06,  1.57s/it]"
     ]
    },
    {
     "name": "stdout",
     "output_type": "stream",
     "text": [
      "💾 Autosaved 15200 records...\n"
     ]
    },
    {
     "name": "stderr",
     "output_type": "stream",
     "text": [
      "Scraping weather data:  13%|██████▏                                          | 6300/49971 [2:46:26<19:11:25,  1.58s/it]"
     ]
    },
    {
     "name": "stdout",
     "output_type": "stream",
     "text": [
      "💾 Autosaved 15300 records...\n"
     ]
    },
    {
     "name": "stderr",
     "output_type": "stream",
     "text": [
      "Scraping weather data:  13%|██████▎                                          | 6400/49971 [2:49:03<19:03:25,  1.57s/it]"
     ]
    },
    {
     "name": "stdout",
     "output_type": "stream",
     "text": [
      "💾 Autosaved 15400 records...\n"
     ]
    },
    {
     "name": "stderr",
     "output_type": "stream",
     "text": [
      "Scraping weather data:  13%|██████▎                                          | 6500/49971 [2:51:41<19:08:24,  1.59s/it]"
     ]
    },
    {
     "name": "stdout",
     "output_type": "stream",
     "text": [
      "💾 Autosaved 15499 records...\n"
     ]
    },
    {
     "name": "stderr",
     "output_type": "stream",
     "text": [
      "Scraping weather data:  13%|██████▍                                          | 6600/49971 [2:54:18<18:48:38,  1.56s/it]"
     ]
    },
    {
     "name": "stdout",
     "output_type": "stream",
     "text": [
      "💾 Autosaved 15599 records...\n"
     ]
    },
    {
     "name": "stderr",
     "output_type": "stream",
     "text": [
      "Scraping weather data:  13%|██████▌                                          | 6700/49971 [2:56:56<18:55:38,  1.57s/it]"
     ]
    },
    {
     "name": "stdout",
     "output_type": "stream",
     "text": [
      "💾 Autosaved 15699 records...\n"
     ]
    },
    {
     "name": "stderr",
     "output_type": "stream",
     "text": [
      "Scraping weather data:  14%|██████▋                                          | 6800/49971 [2:59:33<18:47:33,  1.57s/it]"
     ]
    },
    {
     "name": "stdout",
     "output_type": "stream",
     "text": [
      "💾 Autosaved 15799 records...\n"
     ]
    },
    {
     "name": "stderr",
     "output_type": "stream",
     "text": [
      "Scraping weather data:  14%|██████▊                                          | 6900/49971 [3:02:11<18:49:40,  1.57s/it]"
     ]
    },
    {
     "name": "stdout",
     "output_type": "stream",
     "text": [
      "💾 Autosaved 15899 records...\n"
     ]
    },
    {
     "name": "stderr",
     "output_type": "stream",
     "text": [
      "Scraping weather data:  14%|██████▊                                          | 7000/49971 [3:04:49<18:37:54,  1.56s/it]"
     ]
    },
    {
     "name": "stdout",
     "output_type": "stream",
     "text": [
      "💾 Autosaved 15999 records...\n"
     ]
    },
    {
     "name": "stderr",
     "output_type": "stream",
     "text": [
      "Scraping weather data:  14%|██████▉                                          | 7100/49971 [3:07:26<18:41:16,  1.57s/it]"
     ]
    },
    {
     "name": "stdout",
     "output_type": "stream",
     "text": [
      "💾 Autosaved 16099 records...\n"
     ]
    },
    {
     "name": "stderr",
     "output_type": "stream",
     "text": [
      "Scraping weather data:  14%|███████                                          | 7200/49971 [3:10:04<18:45:49,  1.58s/it]"
     ]
    },
    {
     "name": "stdout",
     "output_type": "stream",
     "text": [
      "💾 Autosaved 16199 records...\n"
     ]
    },
    {
     "name": "stderr",
     "output_type": "stream",
     "text": [
      "Scraping weather data:  15%|███████▏                                         | 7300/49971 [3:12:43<18:37:16,  1.57s/it]"
     ]
    },
    {
     "name": "stdout",
     "output_type": "stream",
     "text": [
      "💾 Autosaved 16299 records...\n"
     ]
    },
    {
     "name": "stderr",
     "output_type": "stream",
     "text": [
      "Scraping weather data:  15%|███████▎                                         | 7400/49971 [3:15:21<18:48:06,  1.59s/it]"
     ]
    },
    {
     "name": "stdout",
     "output_type": "stream",
     "text": [
      "💾 Autosaved 16399 records...\n"
     ]
    },
    {
     "name": "stderr",
     "output_type": "stream",
     "text": [
      "Scraping weather data:  15%|███████▎                                         | 7500/49971 [3:18:00<18:43:58,  1.59s/it]"
     ]
    },
    {
     "name": "stdout",
     "output_type": "stream",
     "text": [
      "💾 Autosaved 16499 records...\n"
     ]
    },
    {
     "name": "stderr",
     "output_type": "stream",
     "text": [
      "Scraping weather data:  15%|███████▍                                         | 7600/49971 [3:20:38<19:01:23,  1.62s/it]"
     ]
    },
    {
     "name": "stdout",
     "output_type": "stream",
     "text": [
      "💾 Autosaved 16599 records...\n"
     ]
    },
    {
     "name": "stderr",
     "output_type": "stream",
     "text": [
      "Scraping weather data:  15%|███████▌                                         | 7700/49971 [3:23:17<18:35:05,  1.58s/it]"
     ]
    },
    {
     "name": "stdout",
     "output_type": "stream",
     "text": [
      "💾 Autosaved 16699 records...\n"
     ]
    },
    {
     "name": "stderr",
     "output_type": "stream",
     "text": [
      "Scraping weather data:  16%|███████▋                                         | 7800/49971 [3:25:55<18:29:50,  1.58s/it]"
     ]
    },
    {
     "name": "stdout",
     "output_type": "stream",
     "text": [
      "💾 Autosaved 16799 records...\n"
     ]
    },
    {
     "name": "stderr",
     "output_type": "stream",
     "text": [
      "Scraping weather data:  16%|███████▋                                         | 7900/49971 [3:28:34<18:23:34,  1.57s/it]"
     ]
    },
    {
     "name": "stdout",
     "output_type": "stream",
     "text": [
      "💾 Autosaved 16899 records...\n"
     ]
    },
    {
     "name": "stderr",
     "output_type": "stream",
     "text": [
      "Scraping weather data:  16%|███████▊                                         | 8000/49971 [3:31:12<18:22:52,  1.58s/it]"
     ]
    },
    {
     "name": "stdout",
     "output_type": "stream",
     "text": [
      "💾 Autosaved 16999 records...\n"
     ]
    },
    {
     "name": "stderr",
     "output_type": "stream",
     "text": [
      "Scraping weather data:  16%|███████▉                                         | 8100/49971 [3:33:51<18:32:07,  1.59s/it]"
     ]
    },
    {
     "name": "stdout",
     "output_type": "stream",
     "text": [
      "💾 Autosaved 17099 records...\n"
     ]
    },
    {
     "name": "stderr",
     "output_type": "stream",
     "text": [
      "Scraping weather data:  16%|████████                                         | 8200/49971 [3:36:30<18:26:54,  1.59s/it]"
     ]
    },
    {
     "name": "stdout",
     "output_type": "stream",
     "text": [
      "💾 Autosaved 17199 records...\n"
     ]
    },
    {
     "name": "stderr",
     "output_type": "stream",
     "text": [
      "Scraping weather data:  17%|████████▏                                        | 8300/49971 [3:39:08<18:18:44,  1.58s/it]"
     ]
    },
    {
     "name": "stdout",
     "output_type": "stream",
     "text": [
      "💾 Autosaved 17299 records...\n"
     ]
    },
    {
     "name": "stderr",
     "output_type": "stream",
     "text": [
      "Scraping weather data:  17%|████████▏                                        | 8400/49971 [3:41:46<18:15:37,  1.58s/it]"
     ]
    },
    {
     "name": "stdout",
     "output_type": "stream",
     "text": [
      "💾 Autosaved 17399 records...\n"
     ]
    },
    {
     "name": "stderr",
     "output_type": "stream",
     "text": [
      "Scraping weather data:  17%|████████▎                                        | 8500/49971 [3:44:26<18:15:38,  1.59s/it]"
     ]
    },
    {
     "name": "stdout",
     "output_type": "stream",
     "text": [
      "💾 Autosaved 17499 records...\n"
     ]
    },
    {
     "name": "stderr",
     "output_type": "stream",
     "text": [
      "Scraping weather data:  17%|████████▍                                        | 8600/49971 [3:47:05<18:08:43,  1.58s/it]"
     ]
    },
    {
     "name": "stdout",
     "output_type": "stream",
     "text": [
      "💾 Autosaved 17599 records...\n"
     ]
    },
    {
     "name": "stderr",
     "output_type": "stream",
     "text": [
      "Scraping weather data:  17%|████████▌                                        | 8700/49971 [3:49:44<18:19:44,  1.60s/it]"
     ]
    },
    {
     "name": "stdout",
     "output_type": "stream",
     "text": [
      "💾 Autosaved 17699 records...\n"
     ]
    },
    {
     "name": "stderr",
     "output_type": "stream",
     "text": [
      "Scraping weather data:  18%|████████▋                                        | 8800/49971 [3:52:22<18:02:22,  1.58s/it]"
     ]
    },
    {
     "name": "stdout",
     "output_type": "stream",
     "text": [
      "💾 Autosaved 17799 records...\n"
     ]
    },
    {
     "name": "stderr",
     "output_type": "stream",
     "text": [
      "Scraping weather data:  18%|████████▋                                        | 8900/49971 [3:55:01<17:58:51,  1.58s/it]"
     ]
    },
    {
     "name": "stdout",
     "output_type": "stream",
     "text": [
      "💾 Autosaved 17899 records...\n"
     ]
    },
    {
     "name": "stderr",
     "output_type": "stream",
     "text": [
      "Scraping weather data:  18%|████████▊                                        | 9000/49971 [3:57:39<17:55:38,  1.58s/it]"
     ]
    },
    {
     "name": "stdout",
     "output_type": "stream",
     "text": [
      "💾 Autosaved 17999 records...\n"
     ]
    },
    {
     "name": "stderr",
     "output_type": "stream",
     "text": [
      "Scraping weather data:  18%|████████▉                                        | 9100/49971 [4:00:18<17:43:19,  1.56s/it]"
     ]
    },
    {
     "name": "stdout",
     "output_type": "stream",
     "text": [
      "💾 Autosaved 18099 records...\n"
     ]
    },
    {
     "name": "stderr",
     "output_type": "stream",
     "text": [
      "Scraping weather data:  18%|█████████                                        | 9200/49971 [4:02:57<17:53:09,  1.58s/it]"
     ]
    },
    {
     "name": "stdout",
     "output_type": "stream",
     "text": [
      "💾 Autosaved 18199 records...\n"
     ]
    },
    {
     "name": "stderr",
     "output_type": "stream",
     "text": [
      "Scraping weather data:  19%|█████████                                        | 9300/49971 [4:05:35<17:40:09,  1.56s/it]"
     ]
    },
    {
     "name": "stdout",
     "output_type": "stream",
     "text": [
      "💾 Autosaved 18299 records...\n"
     ]
    },
    {
     "name": "stderr",
     "output_type": "stream",
     "text": [
      "Scraping weather data:  19%|█████████▏                                       | 9400/49971 [4:08:12<17:45:37,  1.58s/it]"
     ]
    },
    {
     "name": "stdout",
     "output_type": "stream",
     "text": [
      "💾 Autosaved 18399 records...\n"
     ]
    },
    {
     "name": "stderr",
     "output_type": "stream",
     "text": [
      "Scraping weather data:  19%|█████████▎                                       | 9500/49971 [4:10:50<17:43:59,  1.58s/it]"
     ]
    },
    {
     "name": "stdout",
     "output_type": "stream",
     "text": [
      "💾 Autosaved 18499 records...\n"
     ]
    },
    {
     "name": "stderr",
     "output_type": "stream",
     "text": [
      "Scraping weather data:  19%|█████████▍                                       | 9600/49971 [4:13:28<17:35:27,  1.57s/it]"
     ]
    },
    {
     "name": "stdout",
     "output_type": "stream",
     "text": [
      "💾 Autosaved 18599 records...\n"
     ]
    },
    {
     "name": "stderr",
     "output_type": "stream",
     "text": [
      "Scraping weather data:  19%|█████████▌                                       | 9700/49971 [4:16:06<17:38:25,  1.58s/it]"
     ]
    },
    {
     "name": "stdout",
     "output_type": "stream",
     "text": [
      "💾 Autosaved 18699 records...\n"
     ]
    },
    {
     "name": "stderr",
     "output_type": "stream",
     "text": [
      "Scraping weather data:  20%|█████████▌                                       | 9800/49971 [4:18:45<17:51:07,  1.60s/it]"
     ]
    },
    {
     "name": "stdout",
     "output_type": "stream",
     "text": [
      "💾 Autosaved 18799 records...\n"
     ]
    },
    {
     "name": "stderr",
     "output_type": "stream",
     "text": [
      "Scraping weather data:  20%|█████████▋                                       | 9900/49971 [4:21:21<17:20:53,  1.56s/it]"
     ]
    },
    {
     "name": "stdout",
     "output_type": "stream",
     "text": [
      "💾 Autosaved 18802 records...\n"
     ]
    },
    {
     "name": "stderr",
     "output_type": "stream",
     "text": [
      "Scraping weather data:  20%|█████████▌                                      | 10000/49971 [4:23:57<17:20:54,  1.56s/it]"
     ]
    },
    {
     "name": "stdout",
     "output_type": "stream",
     "text": [
      "💾 Autosaved 18802 records...\n"
     ]
    },
    {
     "name": "stderr",
     "output_type": "stream",
     "text": [
      "Scraping weather data:  20%|█████████▋                                      | 10100/49971 [4:26:33<17:13:53,  1.56s/it]"
     ]
    },
    {
     "name": "stdout",
     "output_type": "stream",
     "text": [
      "💾 Autosaved 18802 records...\n"
     ]
    },
    {
     "name": "stderr",
     "output_type": "stream",
     "text": [
      "Scraping weather data:  20%|█████████▊                                      | 10200/49971 [4:29:12<17:35:28,  1.59s/it]"
     ]
    },
    {
     "name": "stdout",
     "output_type": "stream",
     "text": [
      "💾 Autosaved 18882 records...\n"
     ]
    },
    {
     "name": "stderr",
     "output_type": "stream",
     "text": [
      "Scraping weather data:  21%|█████████▉                                      | 10300/49971 [4:31:52<17:41:45,  1.61s/it]"
     ]
    },
    {
     "name": "stdout",
     "output_type": "stream",
     "text": [
      "💾 Autosaved 18982 records...\n"
     ]
    },
    {
     "name": "stderr",
     "output_type": "stream",
     "text": [
      "Scraping weather data:  21%|█████████▉                                      | 10400/49971 [4:34:30<17:42:08,  1.61s/it]"
     ]
    },
    {
     "name": "stdout",
     "output_type": "stream",
     "text": [
      "💾 Autosaved 19082 records...\n"
     ]
    },
    {
     "name": "stderr",
     "output_type": "stream",
     "text": [
      "Scraping weather data:  21%|██████████                                      | 10500/49971 [4:37:09<17:21:19,  1.58s/it]"
     ]
    },
    {
     "name": "stdout",
     "output_type": "stream",
     "text": [
      "💾 Autosaved 19182 records...\n"
     ]
    },
    {
     "name": "stderr",
     "output_type": "stream",
     "text": [
      "Scraping weather data:  21%|██████████▏                                     | 10600/49971 [4:39:50<17:16:27,  1.58s/it]"
     ]
    },
    {
     "name": "stdout",
     "output_type": "stream",
     "text": [
      "💾 Autosaved 19281 records...\n"
     ]
    },
    {
     "name": "stderr",
     "output_type": "stream",
     "text": [
      "Scraping weather data:  21%|██████████▎                                     | 10700/49971 [4:42:29<17:10:18,  1.57s/it]"
     ]
    },
    {
     "name": "stdout",
     "output_type": "stream",
     "text": [
      "💾 Autosaved 19381 records...\n"
     ]
    },
    {
     "name": "stderr",
     "output_type": "stream",
     "text": [
      "Scraping weather data:  22%|██████████▎                                     | 10800/49971 [4:45:09<17:09:57,  1.58s/it]"
     ]
    },
    {
     "name": "stdout",
     "output_type": "stream",
     "text": [
      "💾 Autosaved 19481 records...\n"
     ]
    },
    {
     "name": "stderr",
     "output_type": "stream",
     "text": [
      "Scraping weather data:  22%|██████████▍                                     | 10900/49971 [4:47:49<17:17:48,  1.59s/it]"
     ]
    },
    {
     "name": "stdout",
     "output_type": "stream",
     "text": [
      "💾 Autosaved 19581 records...\n"
     ]
    },
    {
     "name": "stderr",
     "output_type": "stream",
     "text": [
      "Scraping weather data:  22%|██████████▌                                     | 11000/49971 [4:50:33<17:30:58,  1.62s/it]"
     ]
    },
    {
     "name": "stdout",
     "output_type": "stream",
     "text": [
      "💾 Autosaved 19681 records...\n"
     ]
    },
    {
     "name": "stderr",
     "output_type": "stream",
     "text": [
      "Scraping weather data:  22%|██████████▋                                     | 11100/49971 [4:53:15<17:25:31,  1.61s/it]"
     ]
    },
    {
     "name": "stdout",
     "output_type": "stream",
     "text": [
      "💾 Autosaved 19781 records...\n"
     ]
    },
    {
     "name": "stderr",
     "output_type": "stream",
     "text": [
      "Scraping weather data:  22%|██████████▊                                     | 11200/49971 [4:55:55<17:23:09,  1.61s/it]"
     ]
    },
    {
     "name": "stdout",
     "output_type": "stream",
     "text": [
      "💾 Autosaved 19881 records...\n"
     ]
    },
    {
     "name": "stderr",
     "output_type": "stream",
     "text": [
      "Scraping weather data:  23%|██████████▊                                     | 11300/49971 [4:58:35<17:01:21,  1.58s/it]"
     ]
    },
    {
     "name": "stdout",
     "output_type": "stream",
     "text": [
      "💾 Autosaved 19981 records...\n"
     ]
    },
    {
     "name": "stderr",
     "output_type": "stream",
     "text": [
      "Scraping weather data:  23%|██████████▉                                     | 11400/49971 [5:01:17<17:17:28,  1.61s/it]"
     ]
    },
    {
     "name": "stdout",
     "output_type": "stream",
     "text": [
      "💾 Autosaved 20081 records...\n"
     ]
    },
    {
     "name": "stderr",
     "output_type": "stream",
     "text": [
      "Scraping weather data:  23%|███████████                                     | 11500/49971 [5:03:58<16:57:59,  1.59s/it]"
     ]
    },
    {
     "name": "stdout",
     "output_type": "stream",
     "text": [
      "💾 Autosaved 20181 records...\n"
     ]
    },
    {
     "name": "stderr",
     "output_type": "stream",
     "text": [
      "Scraping weather data:  23%|███████████▏                                    | 11600/49971 [5:06:39<16:52:27,  1.58s/it]"
     ]
    },
    {
     "name": "stdout",
     "output_type": "stream",
     "text": [
      "💾 Autosaved 20281 records...\n"
     ]
    },
    {
     "name": "stderr",
     "output_type": "stream",
     "text": [
      "Scraping weather data:  23%|███████████▏                                    | 11700/49971 [5:09:39<17:14:25,  1.62s/it]"
     ]
    },
    {
     "name": "stdout",
     "output_type": "stream",
     "text": [
      "💾 Autosaved 20381 records...\n"
     ]
    },
    {
     "name": "stderr",
     "output_type": "stream",
     "text": [
      "Scraping weather data:  24%|███████████▎                                    | 11800/49971 [5:12:19<16:41:03,  1.57s/it]"
     ]
    },
    {
     "name": "stdout",
     "output_type": "stream",
     "text": [
      "💾 Autosaved 20481 records...\n"
     ]
    },
    {
     "name": "stderr",
     "output_type": "stream",
     "text": [
      "Scraping weather data:  24%|███████████▍                                    | 11900/49971 [5:14:58<17:16:07,  1.63s/it]"
     ]
    },
    {
     "name": "stdout",
     "output_type": "stream",
     "text": [
      "💾 Autosaved 20581 records...\n"
     ]
    },
    {
     "name": "stderr",
     "output_type": "stream",
     "text": [
      "Scraping weather data:  24%|███████████▌                                    | 12000/49971 [5:17:39<16:49:51,  1.60s/it]"
     ]
    },
    {
     "name": "stdout",
     "output_type": "stream",
     "text": [
      "💾 Autosaved 20681 records...\n"
     ]
    },
    {
     "name": "stderr",
     "output_type": "stream",
     "text": [
      "Scraping weather data:  24%|███████████▌                                    | 12100/49971 [5:20:19<16:46:38,  1.59s/it]"
     ]
    },
    {
     "name": "stdout",
     "output_type": "stream",
     "text": [
      "💾 Autosaved 20781 records...\n"
     ]
    },
    {
     "name": "stderr",
     "output_type": "stream",
     "text": [
      "Scraping weather data:  24%|███████████▋                                    | 12200/49971 [5:22:58<16:32:53,  1.58s/it]"
     ]
    },
    {
     "name": "stdout",
     "output_type": "stream",
     "text": [
      "💾 Autosaved 20881 records...\n"
     ]
    },
    {
     "name": "stderr",
     "output_type": "stream",
     "text": [
      "Scraping weather data:  25%|███████████▊                                    | 12300/49971 [5:25:37<16:37:23,  1.59s/it]"
     ]
    },
    {
     "name": "stdout",
     "output_type": "stream",
     "text": [
      "💾 Autosaved 20981 records...\n"
     ]
    },
    {
     "name": "stderr",
     "output_type": "stream",
     "text": [
      "Scraping weather data:  25%|███████████▉                                    | 12400/49971 [5:28:16<17:06:10,  1.64s/it]"
     ]
    },
    {
     "name": "stdout",
     "output_type": "stream",
     "text": [
      "💾 Autosaved 21081 records...\n"
     ]
    },
    {
     "name": "stderr",
     "output_type": "stream",
     "text": [
      "Scraping weather data:  25%|███████████▉                                    | 12425/49971 [5:28:57<18:25:46,  1.77s/it]"
     ]
    },
    {
     "name": "stdout",
     "output_type": "stream",
     "text": [
      "[12425] Error at (2004-02-03, 40.04, -86.13): ('Connection aborted.', ConnectionResetError(10054, 'An existing connection was forcibly closed by the remote host', None, 10054, None))\n"
     ]
    },
    {
     "name": "stderr",
     "output_type": "stream",
     "text": [
      "Scraping weather data:  25%|███████████▋                                   | 12426/49971 [5:29:31<119:46:40, 11.48s/it]"
     ]
    },
    {
     "name": "stdout",
     "output_type": "stream",
     "text": [
      "[12426] Error at (2004-02-03, 36.55, -119.34): ('Connection aborted.', ConnectionResetError(10054, 'An existing connection was forcibly closed by the remote host', None, 10054, None))\n"
     ]
    },
    {
     "name": "stderr",
     "output_type": "stream",
     "text": [
      "Scraping weather data:  25%|███████████▋                                   | 12427/49971 [5:29:45<127:50:19, 12.26s/it]"
     ]
    },
    {
     "name": "stdout",
     "output_type": "stream",
     "text": [
      "[12427] Error at (2004-02-03, 33.51, -111.9): ('Connection aborted.', ConnectionResetError(10054, 'An existing connection was forcibly closed by the remote host', None, 10054, None))\n"
     ]
    },
    {
     "name": "stderr",
     "output_type": "stream",
     "text": [
      "Scraping weather data:  25%|███████████▋                                   | 12428/49971 [5:29:59<133:18:24, 12.78s/it]"
     ]
    },
    {
     "name": "stdout",
     "output_type": "stream",
     "text": [
      "[12428] Error at (2005-02-03, 33.69, -78.89): ('Connection aborted.', ConnectionResetError(10054, 'An existing connection was forcibly closed by the remote host', None, 10054, None))\n"
     ]
    },
    {
     "name": "stderr",
     "output_type": "stream",
     "text": [
      "Scraping weather data:  25%|███████████▋                                   | 12429/49971 [5:30:13<137:16:21, 13.16s/it]"
     ]
    },
    {
     "name": "stdout",
     "output_type": "stream",
     "text": [
      "[12429] Error at (2005-02-03, 32.22, -110.93): ('Connection aborted.', ConnectionResetError(10054, 'An existing connection was forcibly closed by the remote host', None, 10054, None))\n"
     ]
    },
    {
     "name": "stderr",
     "output_type": "stream",
     "text": [
      "Scraping weather data:  25%|████████████                                    | 12500/49971 [5:32:18<16:33:03,  1.59s/it]"
     ]
    },
    {
     "name": "stdout",
     "output_type": "stream",
     "text": [
      "💾 Autosaved 21176 records...\n"
     ]
    },
    {
     "name": "stderr",
     "output_type": "stream",
     "text": [
      "Scraping weather data:  25%|████████████                                    | 12600/49971 [5:34:57<16:19:36,  1.57s/it]"
     ]
    },
    {
     "name": "stdout",
     "output_type": "stream",
     "text": [
      "💾 Autosaved 21276 records...\n"
     ]
    },
    {
     "name": "stderr",
     "output_type": "stream",
     "text": [
      "Scraping weather data:  25%|████████████▏                                   | 12700/49971 [5:37:36<16:12:36,  1.57s/it]"
     ]
    },
    {
     "name": "stdout",
     "output_type": "stream",
     "text": [
      "💾 Autosaved 21376 records...\n"
     ]
    },
    {
     "name": "stderr",
     "output_type": "stream",
     "text": [
      "Scraping weather data:  26%|████████████▎                                   | 12800/49971 [5:40:17<16:30:28,  1.60s/it]"
     ]
    },
    {
     "name": "stdout",
     "output_type": "stream",
     "text": [
      "💾 Autosaved 21476 records...\n"
     ]
    },
    {
     "name": "stderr",
     "output_type": "stream",
     "text": [
      "Scraping weather data:  26%|████████████▍                                   | 12900/49971 [5:42:56<16:22:04,  1.59s/it]"
     ]
    },
    {
     "name": "stdout",
     "output_type": "stream",
     "text": [
      "💾 Autosaved 21576 records...\n"
     ]
    },
    {
     "name": "stderr",
     "output_type": "stream",
     "text": [
      "Scraping weather data:  26%|████████████▍                                   | 13000/49971 [5:45:35<16:15:02,  1.58s/it]"
     ]
    },
    {
     "name": "stdout",
     "output_type": "stream",
     "text": [
      "💾 Autosaved 21676 records...\n"
     ]
    },
    {
     "name": "stderr",
     "output_type": "stream",
     "text": [
      "Scraping weather data:  26%|████████████▌                                   | 13100/49971 [5:48:15<16:23:21,  1.60s/it]"
     ]
    },
    {
     "name": "stdout",
     "output_type": "stream",
     "text": [
      "💾 Autosaved 21776 records...\n"
     ]
    },
    {
     "name": "stderr",
     "output_type": "stream",
     "text": [
      "Scraping weather data:  26%|████████████▋                                   | 13200/49971 [5:50:53<16:15:32,  1.59s/it]"
     ]
    },
    {
     "name": "stdout",
     "output_type": "stream",
     "text": [
      "💾 Autosaved 21876 records...\n"
     ]
    },
    {
     "name": "stderr",
     "output_type": "stream",
     "text": [
      "Scraping weather data:  27%|████████████▊                                   | 13300/49971 [5:53:32<16:04:20,  1.58s/it]"
     ]
    },
    {
     "name": "stdout",
     "output_type": "stream",
     "text": [
      "💾 Autosaved 21976 records...\n"
     ]
    },
    {
     "name": "stderr",
     "output_type": "stream",
     "text": [
      "Scraping weather data:  27%|████████████▊                                   | 13400/49971 [5:56:10<16:05:09,  1.58s/it]"
     ]
    },
    {
     "name": "stdout",
     "output_type": "stream",
     "text": [
      "💾 Autosaved 22076 records...\n"
     ]
    },
    {
     "name": "stderr",
     "output_type": "stream",
     "text": [
      "Scraping weather data:  27%|████████████▉                                   | 13500/49971 [5:58:51<16:06:08,  1.59s/it]"
     ]
    },
    {
     "name": "stdout",
     "output_type": "stream",
     "text": [
      "💾 Autosaved 22176 records...\n"
     ]
    },
    {
     "name": "stderr",
     "output_type": "stream",
     "text": [
      "Scraping weather data:  27%|█████████████                                   | 13600/49971 [6:01:29<16:04:30,  1.59s/it]"
     ]
    },
    {
     "name": "stdout",
     "output_type": "stream",
     "text": [
      "💾 Autosaved 22276 records...\n"
     ]
    },
    {
     "name": "stderr",
     "output_type": "stream",
     "text": [
      "Scraping weather data:  27%|█████████████▏                                  | 13700/49971 [6:04:08<15:57:25,  1.58s/it]"
     ]
    },
    {
     "name": "stdout",
     "output_type": "stream",
     "text": [
      "💾 Autosaved 22376 records...\n"
     ]
    },
    {
     "name": "stderr",
     "output_type": "stream",
     "text": [
      "Scraping weather data:  28%|█████████████▎                                  | 13800/49971 [6:06:47<15:58:18,  1.59s/it]"
     ]
    },
    {
     "name": "stdout",
     "output_type": "stream",
     "text": [
      "💾 Autosaved 22476 records...\n"
     ]
    },
    {
     "name": "stderr",
     "output_type": "stream",
     "text": [
      "Scraping weather data:  28%|█████████████▎                                  | 13900/49971 [6:09:25<15:52:12,  1.58s/it]"
     ]
    },
    {
     "name": "stdout",
     "output_type": "stream",
     "text": [
      "💾 Autosaved 22576 records...\n"
     ]
    },
    {
     "name": "stderr",
     "output_type": "stream",
     "text": [
      "Scraping weather data:  28%|█████████████▍                                  | 14000/49971 [6:12:04<15:41:29,  1.57s/it]"
     ]
    },
    {
     "name": "stdout",
     "output_type": "stream",
     "text": [
      "💾 Autosaved 22676 records...\n"
     ]
    },
    {
     "name": "stderr",
     "output_type": "stream",
     "text": [
      "Scraping weather data:  28%|█████████████▌                                  | 14100/49971 [6:14:43<15:53:09,  1.59s/it]"
     ]
    },
    {
     "name": "stdout",
     "output_type": "stream",
     "text": [
      "💾 Autosaved 22776 records...\n"
     ]
    },
    {
     "name": "stderr",
     "output_type": "stream",
     "text": [
      "Scraping weather data:  28%|█████████████▋                                  | 14200/49971 [6:17:22<15:40:19,  1.58s/it]"
     ]
    },
    {
     "name": "stdout",
     "output_type": "stream",
     "text": [
      "💾 Autosaved 22876 records...\n"
     ]
    },
    {
     "name": "stderr",
     "output_type": "stream",
     "text": [
      "Scraping weather data:  29%|█████████████▋                                  | 14300/49971 [6:20:00<15:34:54,  1.57s/it]"
     ]
    },
    {
     "name": "stdout",
     "output_type": "stream",
     "text": [
      "💾 Autosaved 22976 records...\n"
     ]
    },
    {
     "name": "stderr",
     "output_type": "stream",
     "text": [
      "Scraping weather data:  29%|█████████████▊                                  | 14400/49971 [6:22:39<15:37:56,  1.58s/it]"
     ]
    },
    {
     "name": "stdout",
     "output_type": "stream",
     "text": [
      "💾 Autosaved 23076 records...\n"
     ]
    },
    {
     "name": "stderr",
     "output_type": "stream",
     "text": [
      "Scraping weather data:  29%|█████████████▉                                  | 14500/49971 [6:25:17<15:30:28,  1.57s/it]"
     ]
    },
    {
     "name": "stdout",
     "output_type": "stream",
     "text": [
      "💾 Autosaved 23176 records...\n"
     ]
    },
    {
     "name": "stderr",
     "output_type": "stream",
     "text": [
      "Scraping weather data:  29%|██████████████                                  | 14600/49971 [6:27:57<15:37:18,  1.59s/it]"
     ]
    },
    {
     "name": "stdout",
     "output_type": "stream",
     "text": [
      "💾 Autosaved 23276 records...\n"
     ]
    },
    {
     "name": "stderr",
     "output_type": "stream",
     "text": [
      "Scraping weather data:  29%|██████████████                                  | 14700/49971 [6:30:36<15:31:58,  1.59s/it]"
     ]
    },
    {
     "name": "stdout",
     "output_type": "stream",
     "text": [
      "💾 Autosaved 23376 records...\n"
     ]
    },
    {
     "name": "stderr",
     "output_type": "stream",
     "text": [
      "Scraping weather data:  30%|██████████████▏                                 | 14800/49971 [6:33:14<15:25:48,  1.58s/it]"
     ]
    },
    {
     "name": "stdout",
     "output_type": "stream",
     "text": [
      "💾 Autosaved 23476 records...\n"
     ]
    },
    {
     "name": "stderr",
     "output_type": "stream",
     "text": [
      "Scraping weather data:  30%|██████████████▎                                 | 14900/49971 [6:35:53<15:28:14,  1.59s/it]"
     ]
    },
    {
     "name": "stdout",
     "output_type": "stream",
     "text": [
      "💾 Autosaved 23576 records...\n"
     ]
    },
    {
     "name": "stderr",
     "output_type": "stream",
     "text": [
      "Scraping weather data:  30%|██████████████▍                                 | 15000/49971 [6:38:32<15:22:40,  1.58s/it]"
     ]
    },
    {
     "name": "stdout",
     "output_type": "stream",
     "text": [
      "💾 Autosaved 23676 records...\n"
     ]
    },
    {
     "name": "stderr",
     "output_type": "stream",
     "text": [
      "Scraping weather data:  30%|██████████████▌                                 | 15100/49971 [6:41:10<15:15:40,  1.58s/it]"
     ]
    },
    {
     "name": "stdout",
     "output_type": "stream",
     "text": [
      "💾 Autosaved 23776 records...\n"
     ]
    },
    {
     "name": "stderr",
     "output_type": "stream",
     "text": [
      "Scraping weather data:  30%|██████████████▌                                 | 15200/49971 [6:43:48<15:24:21,  1.60s/it]"
     ]
    },
    {
     "name": "stdout",
     "output_type": "stream",
     "text": [
      "💾 Autosaved 23876 records...\n"
     ]
    },
    {
     "name": "stderr",
     "output_type": "stream",
     "text": [
      "Scraping weather data:  31%|██████████████▋                                 | 15300/49971 [6:46:27<15:26:00,  1.60s/it]"
     ]
    },
    {
     "name": "stdout",
     "output_type": "stream",
     "text": [
      "💾 Autosaved 23976 records...\n"
     ]
    },
    {
     "name": "stderr",
     "output_type": "stream",
     "text": [
      "Scraping weather data:  31%|██████████████▊                                 | 15400/49971 [6:49:05<15:30:17,  1.61s/it]"
     ]
    },
    {
     "name": "stdout",
     "output_type": "stream",
     "text": [
      "💾 Autosaved 24076 records...\n"
     ]
    },
    {
     "name": "stderr",
     "output_type": "stream",
     "text": [
      "Scraping weather data:  31%|██████████████▉                                 | 15500/49971 [6:51:44<15:07:50,  1.58s/it]"
     ]
    },
    {
     "name": "stdout",
     "output_type": "stream",
     "text": [
      "💾 Autosaved 24176 records...\n"
     ]
    },
    {
     "name": "stderr",
     "output_type": "stream",
     "text": [
      "Scraping weather data:  31%|██████████████▉                                 | 15600/49971 [6:54:22<15:02:53,  1.58s/it]"
     ]
    },
    {
     "name": "stdout",
     "output_type": "stream",
     "text": [
      "💾 Autosaved 24276 records...\n"
     ]
    },
    {
     "name": "stderr",
     "output_type": "stream",
     "text": [
      "Scraping weather data:  31%|███████████████                                 | 15700/49971 [6:57:01<15:10:44,  1.59s/it]"
     ]
    },
    {
     "name": "stdout",
     "output_type": "stream",
     "text": [
      "💾 Autosaved 24376 records...\n"
     ]
    },
    {
     "name": "stderr",
     "output_type": "stream",
     "text": [
      "Scraping weather data:  32%|███████████████▏                                | 15800/49971 [6:59:39<14:59:59,  1.58s/it]"
     ]
    },
    {
     "name": "stdout",
     "output_type": "stream",
     "text": [
      "💾 Autosaved 24476 records...\n"
     ]
    },
    {
     "name": "stderr",
     "output_type": "stream",
     "text": [
      "Scraping weather data:  32%|███████████████▎                                | 15900/49971 [7:02:18<14:47:08,  1.56s/it]"
     ]
    },
    {
     "name": "stdout",
     "output_type": "stream",
     "text": [
      "💾 Autosaved 24576 records...\n"
     ]
    },
    {
     "name": "stderr",
     "output_type": "stream",
     "text": [
      "Scraping weather data:  32%|███████████████▎                                | 16000/49971 [7:04:56<14:45:15,  1.56s/it]"
     ]
    },
    {
     "name": "stdout",
     "output_type": "stream",
     "text": [
      "💾 Autosaved 24676 records...\n"
     ]
    },
    {
     "name": "stderr",
     "output_type": "stream",
     "text": [
      "Scraping weather data:  32%|███████████████▍                                | 16100/49971 [7:07:34<14:49:41,  1.58s/it]"
     ]
    },
    {
     "name": "stdout",
     "output_type": "stream",
     "text": [
      "💾 Autosaved 24776 records...\n"
     ]
    },
    {
     "name": "stderr",
     "output_type": "stream",
     "text": [
      "Scraping weather data:  32%|███████████████▌                                | 16200/49971 [7:10:11<14:47:47,  1.58s/it]"
     ]
    },
    {
     "name": "stdout",
     "output_type": "stream",
     "text": [
      "💾 Autosaved 24876 records...\n"
     ]
    },
    {
     "name": "stderr",
     "output_type": "stream",
     "text": [
      "Scraping weather data:  33%|███████████████▋                                | 16300/49971 [7:12:49<14:48:45,  1.58s/it]"
     ]
    },
    {
     "name": "stdout",
     "output_type": "stream",
     "text": [
      "💾 Autosaved 24976 records...\n"
     ]
    },
    {
     "name": "stderr",
     "output_type": "stream",
     "text": [
      "Scraping weather data:  33%|███████████████▊                                | 16400/49971 [7:15:27<14:46:18,  1.58s/it]"
     ]
    },
    {
     "name": "stdout",
     "output_type": "stream",
     "text": [
      "💾 Autosaved 25076 records...\n"
     ]
    },
    {
     "name": "stderr",
     "output_type": "stream",
     "text": [
      "Scraping weather data:  33%|███████████████▊                                | 16500/49971 [7:18:05<14:57:28,  1.61s/it]"
     ]
    },
    {
     "name": "stdout",
     "output_type": "stream",
     "text": [
      "💾 Autosaved 25176 records...\n"
     ]
    },
    {
     "name": "stderr",
     "output_type": "stream",
     "text": [
      "Scraping weather data:  33%|███████████████▉                                | 16600/49971 [7:20:44<14:33:46,  1.57s/it]"
     ]
    },
    {
     "name": "stdout",
     "output_type": "stream",
     "text": [
      "💾 Autosaved 25276 records...\n"
     ]
    },
    {
     "name": "stderr",
     "output_type": "stream",
     "text": [
      "Scraping weather data:  33%|████████████████                                | 16700/49971 [7:23:22<14:36:31,  1.58s/it]"
     ]
    },
    {
     "name": "stdout",
     "output_type": "stream",
     "text": [
      "💾 Autosaved 25376 records...\n"
     ]
    },
    {
     "name": "stderr",
     "output_type": "stream",
     "text": [
      "Scraping weather data:  34%|████████████████▏                               | 16800/49971 [7:26:01<14:30:26,  1.57s/it]"
     ]
    },
    {
     "name": "stdout",
     "output_type": "stream",
     "text": [
      "💾 Autosaved 25476 records...\n"
     ]
    },
    {
     "name": "stderr",
     "output_type": "stream",
     "text": [
      "Scraping weather data:  34%|████████████████▏                               | 16900/49971 [7:28:39<14:29:40,  1.58s/it]"
     ]
    },
    {
     "name": "stdout",
     "output_type": "stream",
     "text": [
      "💾 Autosaved 25576 records...\n"
     ]
    },
    {
     "name": "stderr",
     "output_type": "stream",
     "text": [
      "Scraping weather data:  34%|████████████████▎                               | 17000/49971 [7:31:17<14:29:30,  1.58s/it]"
     ]
    },
    {
     "name": "stdout",
     "output_type": "stream",
     "text": [
      "💾 Autosaved 25676 records...\n"
     ]
    },
    {
     "name": "stderr",
     "output_type": "stream",
     "text": [
      "Scraping weather data:  34%|████████████████▍                               | 17100/49971 [7:33:55<14:17:34,  1.57s/it]"
     ]
    },
    {
     "name": "stdout",
     "output_type": "stream",
     "text": [
      "💾 Autosaved 25776 records...\n"
     ]
    },
    {
     "name": "stderr",
     "output_type": "stream",
     "text": [
      "Scraping weather data:  34%|████████████████▌                               | 17200/49971 [7:36:33<14:16:16,  1.57s/it]"
     ]
    },
    {
     "name": "stdout",
     "output_type": "stream",
     "text": [
      "💾 Autosaved 25876 records...\n"
     ]
    },
    {
     "name": "stderr",
     "output_type": "stream",
     "text": [
      "Scraping weather data:  35%|████████████████▌                               | 17300/49971 [7:39:11<14:17:37,  1.58s/it]"
     ]
    },
    {
     "name": "stdout",
     "output_type": "stream",
     "text": [
      "💾 Autosaved 25976 records...\n"
     ]
    },
    {
     "name": "stderr",
     "output_type": "stream",
     "text": [
      "Scraping weather data:  35%|████████████████▋                               | 17400/49971 [7:41:49<14:21:54,  1.59s/it]"
     ]
    },
    {
     "name": "stdout",
     "output_type": "stream",
     "text": [
      "💾 Autosaved 26076 records...\n"
     ]
    },
    {
     "name": "stderr",
     "output_type": "stream",
     "text": [
      "Scraping weather data:  35%|████████████████▊                               | 17500/49971 [7:44:29<14:19:04,  1.59s/it]"
     ]
    },
    {
     "name": "stdout",
     "output_type": "stream",
     "text": [
      "💾 Autosaved 26176 records...\n"
     ]
    },
    {
     "name": "stderr",
     "output_type": "stream",
     "text": [
      "Scraping weather data:  35%|████████████████▉                               | 17600/49971 [7:47:07<14:19:22,  1.59s/it]"
     ]
    },
    {
     "name": "stdout",
     "output_type": "stream",
     "text": [
      "💾 Autosaved 26276 records...\n"
     ]
    },
    {
     "name": "stderr",
     "output_type": "stream",
     "text": [
      "Scraping weather data:  35%|█████████████████                               | 17700/49971 [7:49:46<14:09:57,  1.58s/it]"
     ]
    },
    {
     "name": "stdout",
     "output_type": "stream",
     "text": [
      "💾 Autosaved 26376 records...\n"
     ]
    },
    {
     "name": "stderr",
     "output_type": "stream",
     "text": [
      "Scraping weather data:  36%|█████████████████                               | 17800/49971 [7:52:24<13:59:01,  1.56s/it]"
     ]
    },
    {
     "name": "stdout",
     "output_type": "stream",
     "text": [
      "💾 Autosaved 26476 records...\n"
     ]
    },
    {
     "name": "stderr",
     "output_type": "stream",
     "text": [
      "Scraping weather data:  36%|█████████████████▏                              | 17900/49971 [7:55:02<14:03:33,  1.58s/it]"
     ]
    },
    {
     "name": "stdout",
     "output_type": "stream",
     "text": [
      "💾 Autosaved 26576 records...\n"
     ]
    },
    {
     "name": "stderr",
     "output_type": "stream",
     "text": [
      "Scraping weather data:  36%|█████████████████▎                              | 18000/49971 [7:57:43<14:51:33,  1.67s/it]"
     ]
    },
    {
     "name": "stdout",
     "output_type": "stream",
     "text": [
      "💾 Autosaved 26676 records...\n"
     ]
    },
    {
     "name": "stderr",
     "output_type": "stream",
     "text": [
      "Scraping weather data:  36%|█████████████████▍                              | 18100/49971 [8:00:24<13:51:49,  1.57s/it]"
     ]
    },
    {
     "name": "stdout",
     "output_type": "stream",
     "text": [
      "💾 Autosaved 26776 records...\n"
     ]
    },
    {
     "name": "stderr",
     "output_type": "stream",
     "text": [
      "Scraping weather data:  36%|█████████████████▍                              | 18200/49971 [8:03:03<13:58:53,  1.58s/it]"
     ]
    },
    {
     "name": "stdout",
     "output_type": "stream",
     "text": [
      "💾 Autosaved 26876 records...\n"
     ]
    },
    {
     "name": "stderr",
     "output_type": "stream",
     "text": [
      "Scraping weather data:  37%|█████████████████▌                              | 18300/49971 [8:05:41<13:53:18,  1.58s/it]"
     ]
    },
    {
     "name": "stdout",
     "output_type": "stream",
     "text": [
      "💾 Autosaved 26976 records...\n"
     ]
    },
    {
     "name": "stderr",
     "output_type": "stream",
     "text": [
      "Scraping weather data:  37%|█████████████████▋                              | 18400/49971 [8:08:19<13:46:41,  1.57s/it]"
     ]
    },
    {
     "name": "stdout",
     "output_type": "stream",
     "text": [
      "💾 Autosaved 27076 records...\n"
     ]
    },
    {
     "name": "stderr",
     "output_type": "stream",
     "text": [
      "Scraping weather data:  37%|█████████████████▊                              | 18500/49971 [8:10:57<13:49:27,  1.58s/it]"
     ]
    },
    {
     "name": "stdout",
     "output_type": "stream",
     "text": [
      "💾 Autosaved 27176 records...\n"
     ]
    },
    {
     "name": "stderr",
     "output_type": "stream",
     "text": [
      "Scraping weather data:  37%|█████████████████▊                              | 18600/49971 [8:13:35<13:44:07,  1.58s/it]"
     ]
    },
    {
     "name": "stdout",
     "output_type": "stream",
     "text": [
      "💾 Autosaved 27276 records...\n"
     ]
    },
    {
     "name": "stderr",
     "output_type": "stream",
     "text": [
      "Scraping weather data:  37%|█████████████████▉                              | 18700/49971 [8:16:14<13:34:05,  1.56s/it]"
     ]
    },
    {
     "name": "stdout",
     "output_type": "stream",
     "text": [
      "💾 Autosaved 27376 records...\n"
     ]
    },
    {
     "name": "stderr",
     "output_type": "stream",
     "text": [
      "Scraping weather data:  38%|██████████████████                              | 18800/49971 [8:18:54<13:36:01,  1.57s/it]"
     ]
    },
    {
     "name": "stdout",
     "output_type": "stream",
     "text": [
      "💾 Autosaved 27476 records...\n"
     ]
    },
    {
     "name": "stderr",
     "output_type": "stream",
     "text": [
      "Scraping weather data:  38%|██████████████████▏                             | 18900/49971 [8:21:32<13:40:44,  1.58s/it]"
     ]
    },
    {
     "name": "stdout",
     "output_type": "stream",
     "text": [
      "💾 Autosaved 27576 records...\n"
     ]
    },
    {
     "name": "stderr",
     "output_type": "stream",
     "text": [
      "Scraping weather data:  38%|██████████████████▎                             | 19000/49971 [8:24:10<13:30:00,  1.57s/it]"
     ]
    },
    {
     "name": "stdout",
     "output_type": "stream",
     "text": [
      "💾 Autosaved 27676 records...\n"
     ]
    },
    {
     "name": "stderr",
     "output_type": "stream",
     "text": [
      "Scraping weather data:  38%|██████████████████▎                             | 19100/49971 [8:26:52<13:28:51,  1.57s/it]"
     ]
    },
    {
     "name": "stdout",
     "output_type": "stream",
     "text": [
      "💾 Autosaved 27776 records...\n"
     ]
    },
    {
     "name": "stderr",
     "output_type": "stream",
     "text": [
      "Scraping weather data:  38%|██████████████████▍                             | 19200/49971 [8:29:31<13:28:39,  1.58s/it]"
     ]
    },
    {
     "name": "stdout",
     "output_type": "stream",
     "text": [
      "💾 Autosaved 27876 records...\n"
     ]
    },
    {
     "name": "stderr",
     "output_type": "stream",
     "text": [
      "Scraping weather data:  39%|██████████████████▌                             | 19300/49971 [8:32:10<13:51:48,  1.63s/it]"
     ]
    },
    {
     "name": "stdout",
     "output_type": "stream",
     "text": [
      "💾 Autosaved 27976 records...\n"
     ]
    },
    {
     "name": "stderr",
     "output_type": "stream",
     "text": [
      "Scraping weather data:  39%|██████████████████▋                             | 19400/49971 [8:34:49<13:29:03,  1.59s/it]"
     ]
    },
    {
     "name": "stdout",
     "output_type": "stream",
     "text": [
      "💾 Autosaved 28076 records...\n"
     ]
    },
    {
     "name": "stderr",
     "output_type": "stream",
     "text": [
      "Scraping weather data:  39%|██████████████████▋                             | 19500/49971 [8:37:27<13:24:22,  1.58s/it]"
     ]
    },
    {
     "name": "stdout",
     "output_type": "stream",
     "text": [
      "💾 Autosaved 28176 records...\n"
     ]
    },
    {
     "name": "stderr",
     "output_type": "stream",
     "text": [
      "Scraping weather data:  39%|██████████████████▊                             | 19600/49971 [8:40:06<13:26:40,  1.59s/it]"
     ]
    },
    {
     "name": "stdout",
     "output_type": "stream",
     "text": [
      "💾 Autosaved 28276 records...\n"
     ]
    },
    {
     "name": "stderr",
     "output_type": "stream",
     "text": [
      "Scraping weather data:  39%|██████████████████▉                             | 19700/49971 [8:42:44<13:21:07,  1.59s/it]"
     ]
    },
    {
     "name": "stdout",
     "output_type": "stream",
     "text": [
      "💾 Autosaved 28376 records...\n"
     ]
    },
    {
     "name": "stderr",
     "output_type": "stream",
     "text": [
      "Scraping weather data:  40%|███████████████████                             | 19800/49971 [8:45:22<13:14:47,  1.58s/it]"
     ]
    },
    {
     "name": "stdout",
     "output_type": "stream",
     "text": [
      "💾 Autosaved 28476 records...\n"
     ]
    },
    {
     "name": "stderr",
     "output_type": "stream",
     "text": [
      "Scraping weather data:  40%|███████████████████                             | 19900/49971 [8:48:00<13:08:02,  1.57s/it]"
     ]
    },
    {
     "name": "stdout",
     "output_type": "stream",
     "text": [
      "💾 Autosaved 28576 records...\n"
     ]
    },
    {
     "name": "stderr",
     "output_type": "stream",
     "text": [
      "Scraping weather data:  40%|███████████████████▏                            | 20000/49971 [8:50:38<13:09:20,  1.58s/it]"
     ]
    },
    {
     "name": "stdout",
     "output_type": "stream",
     "text": [
      "💾 Autosaved 28676 records...\n"
     ]
    },
    {
     "name": "stderr",
     "output_type": "stream",
     "text": [
      "Scraping weather data:  40%|███████████████████▎                            | 20100/49971 [8:53:16<13:01:33,  1.57s/it]"
     ]
    },
    {
     "name": "stdout",
     "output_type": "stream",
     "text": [
      "💾 Autosaved 28776 records...\n"
     ]
    },
    {
     "name": "stderr",
     "output_type": "stream",
     "text": [
      "Scraping weather data:  40%|███████████████████▍                            | 20200/49971 [8:55:53<12:55:47,  1.56s/it]"
     ]
    },
    {
     "name": "stdout",
     "output_type": "stream",
     "text": [
      "💾 Autosaved 28803 records...\n"
     ]
    },
    {
     "name": "stderr",
     "output_type": "stream",
     "text": [
      "Scraping weather data:  41%|███████████████████▍                            | 20300/49971 [8:58:30<12:50:36,  1.56s/it]"
     ]
    },
    {
     "name": "stdout",
     "output_type": "stream",
     "text": [
      "💾 Autosaved 28803 records...\n"
     ]
    },
    {
     "name": "stderr",
     "output_type": "stream",
     "text": [
      "Scraping weather data:  41%|███████████████████▌                            | 20400/49971 [9:01:07<12:49:05,  1.56s/it]"
     ]
    },
    {
     "name": "stdout",
     "output_type": "stream",
     "text": [
      "💾 Autosaved 28803 records...\n"
     ]
    },
    {
     "name": "stderr",
     "output_type": "stream",
     "text": [
      "Scraping weather data:  41%|███████████████████▋                            | 20500/49971 [9:03:43<12:46:29,  1.56s/it]"
     ]
    },
    {
     "name": "stdout",
     "output_type": "stream",
     "text": [
      "💾 Autosaved 28803 records...\n"
     ]
    },
    {
     "name": "stderr",
     "output_type": "stream",
     "text": [
      "Scraping weather data:  41%|███████████████████▊                            | 20600/49971 [9:06:19<12:45:05,  1.56s/it]"
     ]
    },
    {
     "name": "stdout",
     "output_type": "stream",
     "text": [
      "💾 Autosaved 28803 records...\n"
     ]
    },
    {
     "name": "stderr",
     "output_type": "stream",
     "text": [
      "Scraping weather data:  41%|███████████████████▉                            | 20700/49971 [9:08:56<12:41:50,  1.56s/it]"
     ]
    },
    {
     "name": "stdout",
     "output_type": "stream",
     "text": [
      "💾 Autosaved 28803 records...\n"
     ]
    },
    {
     "name": "stderr",
     "output_type": "stream",
     "text": [
      "Scraping weather data:  42%|███████████████████▉                            | 20800/49971 [9:11:32<12:41:45,  1.57s/it]"
     ]
    },
    {
     "name": "stdout",
     "output_type": "stream",
     "text": [
      "💾 Autosaved 28803 records...\n"
     ]
    },
    {
     "name": "stderr",
     "output_type": "stream",
     "text": [
      "Scraping weather data:  42%|████████████████████                            | 20900/49971 [9:14:08<12:35:41,  1.56s/it]"
     ]
    },
    {
     "name": "stdout",
     "output_type": "stream",
     "text": [
      "💾 Autosaved 28803 records...\n"
     ]
    },
    {
     "name": "stderr",
     "output_type": "stream",
     "text": [
      "Scraping weather data:  42%|████████████████████▏                           | 21000/49971 [9:16:45<12:31:40,  1.56s/it]"
     ]
    },
    {
     "name": "stdout",
     "output_type": "stream",
     "text": [
      "💾 Autosaved 28803 records...\n"
     ]
    },
    {
     "name": "stderr",
     "output_type": "stream",
     "text": [
      "Scraping weather data:  42%|████████████████████▎                           | 21100/49971 [9:19:21<12:27:40,  1.55s/it]"
     ]
    },
    {
     "name": "stdout",
     "output_type": "stream",
     "text": [
      "💾 Autosaved 28803 records...\n"
     ]
    },
    {
     "name": "stderr",
     "output_type": "stream",
     "text": [
      "Scraping weather data:  42%|████████████████████▎                           | 21200/49971 [9:21:57<12:27:36,  1.56s/it]"
     ]
    },
    {
     "name": "stdout",
     "output_type": "stream",
     "text": [
      "💾 Autosaved 28803 records...\n"
     ]
    },
    {
     "name": "stderr",
     "output_type": "stream",
     "text": [
      "Scraping weather data:  43%|████████████████████▍                           | 21300/49971 [9:24:33<12:24:02,  1.56s/it]"
     ]
    },
    {
     "name": "stdout",
     "output_type": "stream",
     "text": [
      "💾 Autosaved 28803 records...\n"
     ]
    },
    {
     "name": "stderr",
     "output_type": "stream",
     "text": [
      "Scraping weather data:  43%|████████████████████▌                           | 21400/49971 [9:27:10<12:22:09,  1.56s/it]"
     ]
    },
    {
     "name": "stdout",
     "output_type": "stream",
     "text": [
      "💾 Autosaved 28803 records...\n"
     ]
    },
    {
     "name": "stderr",
     "output_type": "stream",
     "text": [
      "Scraping weather data:  43%|████████████████████▋                           | 21500/49971 [9:29:46<12:18:10,  1.56s/it]"
     ]
    },
    {
     "name": "stdout",
     "output_type": "stream",
     "text": [
      "💾 Autosaved 28803 records...\n"
     ]
    },
    {
     "name": "stderr",
     "output_type": "stream",
     "text": [
      "Scraping weather data:  43%|████████████████████▋                           | 21600/49971 [9:32:22<12:14:14,  1.55s/it]"
     ]
    },
    {
     "name": "stdout",
     "output_type": "stream",
     "text": [
      "💾 Autosaved 28803 records...\n"
     ]
    },
    {
     "name": "stderr",
     "output_type": "stream",
     "text": [
      "Scraping weather data:  43%|████████████████████▊                           | 21700/49971 [9:34:58<12:14:45,  1.56s/it]"
     ]
    },
    {
     "name": "stdout",
     "output_type": "stream",
     "text": [
      "💾 Autosaved 28803 records...\n"
     ]
    },
    {
     "name": "stderr",
     "output_type": "stream",
     "text": [
      "Scraping weather data:  44%|████████████████████▉                           | 21800/49971 [9:37:35<12:12:12,  1.56s/it]"
     ]
    },
    {
     "name": "stdout",
     "output_type": "stream",
     "text": [
      "💾 Autosaved 28803 records...\n"
     ]
    },
    {
     "name": "stderr",
     "output_type": "stream",
     "text": [
      "Scraping weather data:  44%|█████████████████████                           | 21900/49971 [9:40:11<12:08:54,  1.56s/it]"
     ]
    },
    {
     "name": "stdout",
     "output_type": "stream",
     "text": [
      "💾 Autosaved 28803 records...\n"
     ]
    },
    {
     "name": "stderr",
     "output_type": "stream",
     "text": [
      "Scraping weather data:  44%|█████████████████████▏                          | 22000/49971 [9:42:48<12:06:41,  1.56s/it]"
     ]
    },
    {
     "name": "stdout",
     "output_type": "stream",
     "text": [
      "💾 Autosaved 28803 records...\n"
     ]
    },
    {
     "name": "stderr",
     "output_type": "stream",
     "text": [
      "Scraping weather data:  44%|█████████████████████▏                          | 22100/49971 [9:45:24<12:05:40,  1.56s/it]"
     ]
    },
    {
     "name": "stdout",
     "output_type": "stream",
     "text": [
      "💾 Autosaved 28803 records...\n"
     ]
    },
    {
     "name": "stderr",
     "output_type": "stream",
     "text": [
      "Scraping weather data:  44%|█████████████████████▎                          | 22200/49971 [9:48:00<12:03:49,  1.56s/it]"
     ]
    },
    {
     "name": "stdout",
     "output_type": "stream",
     "text": [
      "💾 Autosaved 28803 records...\n"
     ]
    },
    {
     "name": "stderr",
     "output_type": "stream",
     "text": [
      "Scraping weather data:  45%|█████████████████████▍                          | 22300/49971 [9:50:37<12:05:50,  1.57s/it]"
     ]
    },
    {
     "name": "stdout",
     "output_type": "stream",
     "text": [
      "💾 Autosaved 28803 records...\n"
     ]
    },
    {
     "name": "stderr",
     "output_type": "stream",
     "text": [
      "Scraping weather data:  45%|█████████████████████▌                          | 22400/49971 [9:53:13<11:55:21,  1.56s/it]"
     ]
    },
    {
     "name": "stdout",
     "output_type": "stream",
     "text": [
      "💾 Autosaved 28803 records...\n"
     ]
    },
    {
     "name": "stderr",
     "output_type": "stream",
     "text": [
      "Scraping weather data:  45%|█████████████████████▌                          | 22500/49971 [9:55:50<11:57:55,  1.57s/it]"
     ]
    },
    {
     "name": "stdout",
     "output_type": "stream",
     "text": [
      "💾 Autosaved 28803 records...\n"
     ]
    },
    {
     "name": "stderr",
     "output_type": "stream",
     "text": [
      "Scraping weather data:  45%|█████████████████████▋                          | 22600/49971 [9:58:26<11:49:28,  1.56s/it]"
     ]
    },
    {
     "name": "stdout",
     "output_type": "stream",
     "text": [
      "💾 Autosaved 28803 records...\n"
     ]
    },
    {
     "name": "stderr",
     "output_type": "stream",
     "text": [
      "Scraping weather data:  45%|█████████████████████▎                         | 22700/49971 [10:01:02<11:48:21,  1.56s/it]"
     ]
    },
    {
     "name": "stdout",
     "output_type": "stream",
     "text": [
      "💾 Autosaved 28803 records...\n"
     ]
    },
    {
     "name": "stderr",
     "output_type": "stream",
     "text": [
      "Scraping weather data:  46%|█████████████████████▍                         | 22800/49971 [10:03:38<11:43:54,  1.55s/it]"
     ]
    },
    {
     "name": "stdout",
     "output_type": "stream",
     "text": [
      "💾 Autosaved 28803 records...\n"
     ]
    },
    {
     "name": "stderr",
     "output_type": "stream",
     "text": [
      "Scraping weather data:  46%|█████████████████████▌                         | 22900/49971 [10:06:15<11:46:19,  1.57s/it]"
     ]
    },
    {
     "name": "stdout",
     "output_type": "stream",
     "text": [
      "💾 Autosaved 28803 records...\n"
     ]
    },
    {
     "name": "stderr",
     "output_type": "stream",
     "text": [
      "Scraping weather data:  46%|█████████████████████▋                         | 23000/49971 [10:08:51<11:41:55,  1.56s/it]"
     ]
    },
    {
     "name": "stdout",
     "output_type": "stream",
     "text": [
      "💾 Autosaved 28803 records...\n"
     ]
    },
    {
     "name": "stderr",
     "output_type": "stream",
     "text": [
      "Scraping weather data:  46%|█████████████████████▋                         | 23100/49971 [10:11:27<11:36:16,  1.55s/it]"
     ]
    },
    {
     "name": "stdout",
     "output_type": "stream",
     "text": [
      "💾 Autosaved 28803 records...\n"
     ]
    },
    {
     "name": "stderr",
     "output_type": "stream",
     "text": [
      "Scraping weather data:  46%|█████████████████████▊                         | 23200/49971 [10:14:04<11:41:57,  1.57s/it]"
     ]
    },
    {
     "name": "stdout",
     "output_type": "stream",
     "text": [
      "💾 Autosaved 28803 records...\n"
     ]
    },
    {
     "name": "stderr",
     "output_type": "stream",
     "text": [
      "Scraping weather data:  47%|█████████████████████▉                         | 23300/49971 [10:16:40<11:32:40,  1.56s/it]"
     ]
    },
    {
     "name": "stdout",
     "output_type": "stream",
     "text": [
      "💾 Autosaved 28803 records...\n"
     ]
    },
    {
     "name": "stderr",
     "output_type": "stream",
     "text": [
      "Scraping weather data:  47%|██████████████████████                         | 23400/49971 [10:19:16<11:31:32,  1.56s/it]"
     ]
    },
    {
     "name": "stdout",
     "output_type": "stream",
     "text": [
      "💾 Autosaved 28803 records...\n"
     ]
    },
    {
     "name": "stderr",
     "output_type": "stream",
     "text": [
      "Scraping weather data:  47%|██████████████████████                         | 23500/49971 [10:21:53<11:26:47,  1.56s/it]"
     ]
    },
    {
     "name": "stdout",
     "output_type": "stream",
     "text": [
      "💾 Autosaved 28803 records...\n"
     ]
    },
    {
     "name": "stderr",
     "output_type": "stream",
     "text": [
      "Scraping weather data:  47%|██████████████████████▏                        | 23600/49971 [10:24:29<11:23:29,  1.56s/it]"
     ]
    },
    {
     "name": "stdout",
     "output_type": "stream",
     "text": [
      "💾 Autosaved 28803 records...\n"
     ]
    },
    {
     "name": "stderr",
     "output_type": "stream",
     "text": [
      "Scraping weather data:  47%|██████████████████████▎                        | 23700/49971 [10:27:05<11:25:04,  1.56s/it]"
     ]
    },
    {
     "name": "stdout",
     "output_type": "stream",
     "text": [
      "💾 Autosaved 28803 records...\n"
     ]
    },
    {
     "name": "stderr",
     "output_type": "stream",
     "text": [
      "Scraping weather data:  48%|██████████████████████▍                        | 23800/49971 [10:29:41<11:19:44,  1.56s/it]"
     ]
    },
    {
     "name": "stdout",
     "output_type": "stream",
     "text": [
      "💾 Autosaved 28803 records...\n"
     ]
    },
    {
     "name": "stderr",
     "output_type": "stream",
     "text": [
      "Scraping weather data:  48%|██████████████████████▍                        | 23900/49971 [10:32:17<11:17:48,  1.56s/it]"
     ]
    },
    {
     "name": "stdout",
     "output_type": "stream",
     "text": [
      "💾 Autosaved 28803 records...\n"
     ]
    },
    {
     "name": "stderr",
     "output_type": "stream",
     "text": [
      "Scraping weather data:  48%|██████████████████████▌                        | 24000/49971 [10:34:53<11:11:28,  1.55s/it]"
     ]
    },
    {
     "name": "stdout",
     "output_type": "stream",
     "text": [
      "💾 Autosaved 28803 records...\n"
     ]
    },
    {
     "name": "stderr",
     "output_type": "stream",
     "text": [
      "Scraping weather data:  48%|██████████████████████▋                        | 24100/49971 [10:37:29<11:10:32,  1.56s/it]"
     ]
    },
    {
     "name": "stdout",
     "output_type": "stream",
     "text": [
      "💾 Autosaved 28803 records...\n"
     ]
    },
    {
     "name": "stderr",
     "output_type": "stream",
     "text": [
      "Scraping weather data:  48%|██████████████████████▊                        | 24200/49971 [10:40:05<11:08:34,  1.56s/it]"
     ]
    },
    {
     "name": "stdout",
     "output_type": "stream",
     "text": [
      "💾 Autosaved 28803 records...\n"
     ]
    },
    {
     "name": "stderr",
     "output_type": "stream",
     "text": [
      "Scraping weather data:  49%|██████████████████████▊                        | 24300/49971 [10:42:41<11:07:55,  1.56s/it]"
     ]
    },
    {
     "name": "stdout",
     "output_type": "stream",
     "text": [
      "💾 Autosaved 28803 records...\n"
     ]
    },
    {
     "name": "stderr",
     "output_type": "stream",
     "text": [
      "Scraping weather data:  49%|██████████████████████▉                        | 24400/49971 [10:45:17<11:02:59,  1.56s/it]"
     ]
    },
    {
     "name": "stdout",
     "output_type": "stream",
     "text": [
      "💾 Autosaved 28803 records...\n"
     ]
    },
    {
     "name": "stderr",
     "output_type": "stream",
     "text": [
      "Scraping weather data:  49%|███████████████████████                        | 24500/49971 [10:47:53<11:02:41,  1.56s/it]"
     ]
    },
    {
     "name": "stdout",
     "output_type": "stream",
     "text": [
      "💾 Autosaved 28803 records...\n"
     ]
    },
    {
     "name": "stderr",
     "output_type": "stream",
     "text": [
      "Scraping weather data:  49%|███████████████████████▏                       | 24600/49971 [10:50:29<10:59:02,  1.56s/it]"
     ]
    },
    {
     "name": "stdout",
     "output_type": "stream",
     "text": [
      "💾 Autosaved 28803 records...\n"
     ]
    },
    {
     "name": "stderr",
     "output_type": "stream",
     "text": [
      "Scraping weather data:  49%|███████████████████████▏                       | 24700/49971 [10:53:06<10:59:07,  1.56s/it]"
     ]
    },
    {
     "name": "stdout",
     "output_type": "stream",
     "text": [
      "💾 Autosaved 28803 records...\n"
     ]
    },
    {
     "name": "stderr",
     "output_type": "stream",
     "text": [
      "Scraping weather data:  50%|███████████████████████▎                       | 24800/49971 [10:55:42<10:56:59,  1.57s/it]"
     ]
    },
    {
     "name": "stdout",
     "output_type": "stream",
     "text": [
      "💾 Autosaved 28803 records...\n"
     ]
    },
    {
     "name": "stderr",
     "output_type": "stream",
     "text": [
      "Scraping weather data:  50%|███████████████████████▍                       | 24900/49971 [10:58:38<10:51:30,  1.56s/it]"
     ]
    },
    {
     "name": "stdout",
     "output_type": "stream",
     "text": [
      "💾 Autosaved 28804 records...\n"
     ]
    },
    {
     "name": "stderr",
     "output_type": "stream",
     "text": [
      "Scraping weather data:  50%|███████████████████████▌                       | 25000/49971 [11:01:14<10:51:17,  1.56s/it]"
     ]
    },
    {
     "name": "stdout",
     "output_type": "stream",
     "text": [
      "💾 Autosaved 28804 records...\n"
     ]
    },
    {
     "name": "stderr",
     "output_type": "stream",
     "text": [
      "Scraping weather data:  50%|███████████████████████▌                       | 25100/49971 [11:03:51<10:45:46,  1.56s/it]"
     ]
    },
    {
     "name": "stdout",
     "output_type": "stream",
     "text": [
      "💾 Autosaved 28804 records...\n"
     ]
    },
    {
     "name": "stderr",
     "output_type": "stream",
     "text": [
      "Scraping weather data:  50%|███████████████████████▋                       | 25200/49971 [11:06:27<10:44:10,  1.56s/it]"
     ]
    },
    {
     "name": "stdout",
     "output_type": "stream",
     "text": [
      "💾 Autosaved 28804 records...\n"
     ]
    },
    {
     "name": "stderr",
     "output_type": "stream",
     "text": [
      "Scraping weather data:  51%|███████████████████████▊                       | 25300/49971 [11:09:03<10:42:07,  1.56s/it]"
     ]
    },
    {
     "name": "stdout",
     "output_type": "stream",
     "text": [
      "💾 Autosaved 28804 records...\n"
     ]
    },
    {
     "name": "stderr",
     "output_type": "stream",
     "text": [
      "Scraping weather data:  51%|███████████████████████▉                       | 25400/49971 [11:11:39<10:39:16,  1.56s/it]"
     ]
    },
    {
     "name": "stdout",
     "output_type": "stream",
     "text": [
      "💾 Autosaved 28804 records...\n"
     ]
    },
    {
     "name": "stderr",
     "output_type": "stream",
     "text": [
      "Scraping weather data:  51%|███████████████████████▉                       | 25500/49971 [11:14:16<10:37:09,  1.56s/it]"
     ]
    },
    {
     "name": "stdout",
     "output_type": "stream",
     "text": [
      "💾 Autosaved 28804 records...\n"
     ]
    },
    {
     "name": "stderr",
     "output_type": "stream",
     "text": [
      "Scraping weather data:  51%|████████████████████████                       | 25600/49971 [11:16:52<10:31:53,  1.56s/it]"
     ]
    },
    {
     "name": "stdout",
     "output_type": "stream",
     "text": [
      "💾 Autosaved 28804 records...\n"
     ]
    },
    {
     "name": "stderr",
     "output_type": "stream",
     "text": [
      "Scraping weather data:  51%|████████████████████████▏                      | 25700/49971 [11:19:28<10:32:50,  1.56s/it]"
     ]
    },
    {
     "name": "stdout",
     "output_type": "stream",
     "text": [
      "💾 Autosaved 28804 records...\n"
     ]
    },
    {
     "name": "stderr",
     "output_type": "stream",
     "text": [
      "Scraping weather data:  52%|████████████████████████▎                      | 25800/49971 [11:22:04<10:28:15,  1.56s/it]"
     ]
    },
    {
     "name": "stdout",
     "output_type": "stream",
     "text": [
      "💾 Autosaved 28804 records...\n"
     ]
    },
    {
     "name": "stderr",
     "output_type": "stream",
     "text": [
      "Scraping weather data:  52%|████████████████████████▎                      | 25900/49971 [11:24:40<10:25:12,  1.56s/it]"
     ]
    },
    {
     "name": "stdout",
     "output_type": "stream",
     "text": [
      "💾 Autosaved 28804 records...\n"
     ]
    },
    {
     "name": "stderr",
     "output_type": "stream",
     "text": [
      "Scraping weather data:  52%|████████████████████████▍                      | 26000/49971 [11:27:16<10:25:03,  1.56s/it]"
     ]
    },
    {
     "name": "stdout",
     "output_type": "stream",
     "text": [
      "💾 Autosaved 28804 records...\n"
     ]
    },
    {
     "name": "stderr",
     "output_type": "stream",
     "text": [
      "Scraping weather data:  52%|████████████████████████▌                      | 26100/49971 [11:29:53<10:19:47,  1.56s/it]"
     ]
    },
    {
     "name": "stdout",
     "output_type": "stream",
     "text": [
      "💾 Autosaved 28804 records...\n"
     ]
    },
    {
     "name": "stderr",
     "output_type": "stream",
     "text": [
      "Scraping weather data:  52%|████████████████████████▋                      | 26200/49971 [11:32:29<10:21:02,  1.57s/it]"
     ]
    },
    {
     "name": "stdout",
     "output_type": "stream",
     "text": [
      "💾 Autosaved 28804 records...\n"
     ]
    },
    {
     "name": "stderr",
     "output_type": "stream",
     "text": [
      "Scraping weather data:  53%|████████████████████████▋                      | 26300/49971 [11:35:06<10:16:52,  1.56s/it]"
     ]
    },
    {
     "name": "stdout",
     "output_type": "stream",
     "text": [
      "💾 Autosaved 28804 records...\n"
     ]
    },
    {
     "name": "stderr",
     "output_type": "stream",
     "text": [
      "Scraping weather data:  53%|████████████████████████▊                      | 26369/49971 [11:36:54<10:11:39,  1.55s/it]"
     ]
    },
    {
     "name": "stdout",
     "output_type": "stream",
     "text": [
      "[26369] Error at (2000-06-14, 38.62, -93.41): ('Connection aborted.', ConnectionResetError(10054, 'An existing connection was forcibly closed by the remote host', None, 10054, None))\n"
     ]
    },
    {
     "name": "stderr",
     "output_type": "stream",
     "text": [
      "Scraping weather data:  53%|████████████████████████▊                      | 26400/49971 [11:38:15<10:10:20,  1.55s/it]"
     ]
    },
    {
     "name": "stdout",
     "output_type": "stream",
     "text": [
      "💾 Autosaved 28804 records...\n"
     ]
    },
    {
     "name": "stderr",
     "output_type": "stream",
     "text": [
      "Scraping weather data:  53%|████████████████████████▉                      | 26500/49971 [11:40:51<10:08:24,  1.56s/it]"
     ]
    },
    {
     "name": "stdout",
     "output_type": "stream",
     "text": [
      "💾 Autosaved 28804 records...\n"
     ]
    },
    {
     "name": "stderr",
     "output_type": "stream",
     "text": [
      "Scraping weather data:  53%|█████████████████████████                      | 26600/49971 [11:43:27<10:07:49,  1.56s/it]"
     ]
    },
    {
     "name": "stdout",
     "output_type": "stream",
     "text": [
      "💾 Autosaved 28804 records...\n"
     ]
    },
    {
     "name": "stderr",
     "output_type": "stream",
     "text": [
      "Scraping weather data:  53%|█████████████████████████                      | 26700/49971 [11:46:03<10:06:16,  1.56s/it]"
     ]
    },
    {
     "name": "stdout",
     "output_type": "stream",
     "text": [
      "💾 Autosaved 28804 records...\n"
     ]
    },
    {
     "name": "stderr",
     "output_type": "stream",
     "text": [
      "Scraping weather data:  54%|█████████████████████████▏                     | 26800/49971 [11:48:39<10:00:07,  1.55s/it]"
     ]
    },
    {
     "name": "stdout",
     "output_type": "stream",
     "text": [
      "💾 Autosaved 28804 records...\n"
     ]
    },
    {
     "name": "stderr",
     "output_type": "stream",
     "text": [
      "Scraping weather data:  54%|█████████████████████████▊                      | 26900/49971 [11:51:15<9:57:57,  1.56s/it]"
     ]
    },
    {
     "name": "stdout",
     "output_type": "stream",
     "text": [
      "💾 Autosaved 28804 records...\n"
     ]
    },
    {
     "name": "stderr",
     "output_type": "stream",
     "text": [
      "Scraping weather data:  54%|█████████████████████████▉                      | 27000/49971 [11:53:51<9:55:03,  1.55s/it]"
     ]
    },
    {
     "name": "stdout",
     "output_type": "stream",
     "text": [
      "💾 Autosaved 28804 records...\n"
     ]
    },
    {
     "name": "stderr",
     "output_type": "stream",
     "text": [
      "Scraping weather data:  54%|██████████████████████████                      | 27100/49971 [11:56:27<9:53:41,  1.56s/it]"
     ]
    },
    {
     "name": "stdout",
     "output_type": "stream",
     "text": [
      "💾 Autosaved 28804 records...\n"
     ]
    },
    {
     "name": "stderr",
     "output_type": "stream",
     "text": [
      "Scraping weather data:  54%|██████████████████████████▏                     | 27200/49971 [11:59:04<9:51:01,  1.56s/it]"
     ]
    },
    {
     "name": "stdout",
     "output_type": "stream",
     "text": [
      "💾 Autosaved 28804 records...\n"
     ]
    },
    {
     "name": "stderr",
     "output_type": "stream",
     "text": [
      "Scraping weather data:  55%|██████████████████████████▏                     | 27300/49971 [12:01:40<9:47:40,  1.56s/it]"
     ]
    },
    {
     "name": "stdout",
     "output_type": "stream",
     "text": [
      "💾 Autosaved 28804 records...\n"
     ]
    },
    {
     "name": "stderr",
     "output_type": "stream",
     "text": [
      "Scraping weather data:  55%|██████████████████████████▎                     | 27400/49971 [12:04:16<9:45:31,  1.56s/it]"
     ]
    },
    {
     "name": "stdout",
     "output_type": "stream",
     "text": [
      "💾 Autosaved 28804 records...\n"
     ]
    },
    {
     "name": "stderr",
     "output_type": "stream",
     "text": [
      "Scraping weather data:  55%|██████████████████████████▍                     | 27500/49971 [12:06:52<9:44:57,  1.56s/it]"
     ]
    },
    {
     "name": "stdout",
     "output_type": "stream",
     "text": [
      "💾 Autosaved 28804 records...\n"
     ]
    },
    {
     "name": "stderr",
     "output_type": "stream",
     "text": [
      "Scraping weather data:  55%|██████████████████████████▌                     | 27600/49971 [12:09:28<9:40:21,  1.56s/it]"
     ]
    },
    {
     "name": "stdout",
     "output_type": "stream",
     "text": [
      "💾 Autosaved 28804 records...\n"
     ]
    },
    {
     "name": "stderr",
     "output_type": "stream",
     "text": [
      "Scraping weather data:  55%|██████████████████████████▌                     | 27700/49971 [12:12:05<9:40:10,  1.56s/it]"
     ]
    },
    {
     "name": "stdout",
     "output_type": "stream",
     "text": [
      "💾 Autosaved 28804 records...\n"
     ]
    },
    {
     "name": "stderr",
     "output_type": "stream",
     "text": [
      "Scraping weather data:  56%|██████████████████████████▋                     | 27800/49971 [12:14:41<9:35:55,  1.56s/it]"
     ]
    },
    {
     "name": "stdout",
     "output_type": "stream",
     "text": [
      "💾 Autosaved 28804 records...\n"
     ]
    },
    {
     "name": "stderr",
     "output_type": "stream",
     "text": [
      "Scraping weather data:  56%|██████████████████████████▊                     | 27900/49971 [12:17:17<9:35:04,  1.56s/it]"
     ]
    },
    {
     "name": "stdout",
     "output_type": "stream",
     "text": [
      "💾 Autosaved 28804 records...\n"
     ]
    },
    {
     "name": "stderr",
     "output_type": "stream",
     "text": [
      "Scraping weather data:  56%|██████████████████████████▉                     | 28000/49971 [12:19:54<9:30:21,  1.56s/it]"
     ]
    },
    {
     "name": "stdout",
     "output_type": "stream",
     "text": [
      "💾 Autosaved 28804 records...\n"
     ]
    },
    {
     "name": "stderr",
     "output_type": "stream",
     "text": [
      "Scraping weather data:  56%|██████████████████████████▉                     | 28100/49971 [12:22:30<9:27:16,  1.56s/it]"
     ]
    },
    {
     "name": "stdout",
     "output_type": "stream",
     "text": [
      "💾 Autosaved 28804 records...\n"
     ]
    },
    {
     "name": "stderr",
     "output_type": "stream",
     "text": [
      "Scraping weather data:  56%|███████████████████████████                     | 28200/49971 [12:25:06<9:26:52,  1.56s/it]"
     ]
    },
    {
     "name": "stdout",
     "output_type": "stream",
     "text": [
      "💾 Autosaved 28804 records...\n"
     ]
    },
    {
     "name": "stderr",
     "output_type": "stream",
     "text": [
      "Scraping weather data:  57%|███████████████████████████▏                    | 28300/49971 [12:27:42<9:22:18,  1.56s/it]"
     ]
    },
    {
     "name": "stdout",
     "output_type": "stream",
     "text": [
      "💾 Autosaved 28804 records...\n"
     ]
    },
    {
     "name": "stderr",
     "output_type": "stream",
     "text": [
      "Scraping weather data:  57%|███████████████████████████▎                    | 28400/49971 [12:30:18<9:20:30,  1.56s/it]"
     ]
    },
    {
     "name": "stdout",
     "output_type": "stream",
     "text": [
      "💾 Autosaved 28804 records...\n"
     ]
    },
    {
     "name": "stderr",
     "output_type": "stream",
     "text": [
      "Scraping weather data:  57%|███████████████████████████▍                    | 28500/49971 [12:32:54<9:19:41,  1.56s/it]"
     ]
    },
    {
     "name": "stdout",
     "output_type": "stream",
     "text": [
      "💾 Autosaved 28804 records...\n"
     ]
    },
    {
     "name": "stderr",
     "output_type": "stream",
     "text": [
      "Scraping weather data:  57%|███████████████████████████▍                    | 28600/49971 [12:35:30<9:14:32,  1.56s/it]"
     ]
    },
    {
     "name": "stdout",
     "output_type": "stream",
     "text": [
      "💾 Autosaved 28804 records...\n"
     ]
    },
    {
     "name": "stderr",
     "output_type": "stream",
     "text": [
      "Scraping weather data:  57%|███████████████████████████▌                    | 28700/49971 [12:38:06<9:13:43,  1.56s/it]"
     ]
    },
    {
     "name": "stdout",
     "output_type": "stream",
     "text": [
      "💾 Autosaved 28804 records...\n"
     ]
    },
    {
     "name": "stderr",
     "output_type": "stream",
     "text": [
      "Scraping weather data:  58%|███████████████████████████▋                    | 28800/49971 [12:40:42<9:10:10,  1.56s/it]"
     ]
    },
    {
     "name": "stdout",
     "output_type": "stream",
     "text": [
      "💾 Autosaved 28804 records...\n"
     ]
    },
    {
     "name": "stderr",
     "output_type": "stream",
     "text": [
      "Scraping weather data:  58%|███████████████████████████▊                    | 28900/49971 [12:43:19<9:07:15,  1.56s/it]"
     ]
    },
    {
     "name": "stdout",
     "output_type": "stream",
     "text": [
      "💾 Autosaved 28804 records...\n"
     ]
    },
    {
     "name": "stderr",
     "output_type": "stream",
     "text": [
      "Scraping weather data:  58%|███████████████████████████▊                    | 29000/49971 [12:45:55<9:06:51,  1.56s/it]"
     ]
    },
    {
     "name": "stdout",
     "output_type": "stream",
     "text": [
      "💾 Autosaved 28804 records...\n"
     ]
    },
    {
     "name": "stderr",
     "output_type": "stream",
     "text": [
      "Scraping weather data:  58%|███████████████████████████▉                    | 29100/49971 [12:48:31<9:02:15,  1.56s/it]"
     ]
    },
    {
     "name": "stdout",
     "output_type": "stream",
     "text": [
      "💾 Autosaved 28804 records...\n"
     ]
    },
    {
     "name": "stderr",
     "output_type": "stream",
     "text": [
      "Scraping weather data:  58%|████████████████████████████                    | 29200/49971 [12:51:08<9:02:14,  1.57s/it]"
     ]
    },
    {
     "name": "stdout",
     "output_type": "stream",
     "text": [
      "💾 Autosaved 28804 records...\n"
     ]
    },
    {
     "name": "stderr",
     "output_type": "stream",
     "text": [
      "Scraping weather data:  59%|████████████████████████████▏                   | 29300/49971 [12:53:44<8:55:09,  1.55s/it]"
     ]
    },
    {
     "name": "stdout",
     "output_type": "stream",
     "text": [
      "💾 Autosaved 28804 records...\n"
     ]
    },
    {
     "name": "stderr",
     "output_type": "stream",
     "text": [
      "Scraping weather data:  59%|████████████████████████████▏                   | 29400/49971 [12:56:20<8:53:17,  1.56s/it]"
     ]
    },
    {
     "name": "stdout",
     "output_type": "stream",
     "text": [
      "💾 Autosaved 28804 records...\n"
     ]
    },
    {
     "name": "stderr",
     "output_type": "stream",
     "text": [
      "Scraping weather data:  59%|████████████████████████████▎                   | 29500/49971 [12:58:56<8:50:19,  1.55s/it]"
     ]
    },
    {
     "name": "stdout",
     "output_type": "stream",
     "text": [
      "💾 Autosaved 28804 records...\n"
     ]
    },
    {
     "name": "stderr",
     "output_type": "stream",
     "text": [
      "Scraping weather data:  59%|████████████████████████████▍                   | 29600/49971 [13:01:32<8:49:09,  1.56s/it]"
     ]
    },
    {
     "name": "stdout",
     "output_type": "stream",
     "text": [
      "💾 Autosaved 28804 records...\n"
     ]
    },
    {
     "name": "stderr",
     "output_type": "stream",
     "text": [
      "Scraping weather data:  59%|████████████████████████████▌                   | 29700/49971 [13:04:08<8:46:11,  1.56s/it]"
     ]
    },
    {
     "name": "stdout",
     "output_type": "stream",
     "text": [
      "💾 Autosaved 28804 records...\n"
     ]
    },
    {
     "name": "stderr",
     "output_type": "stream",
     "text": [
      "Scraping weather data:  60%|████████████████████████████▌                   | 29800/49971 [13:06:44<8:44:40,  1.56s/it]"
     ]
    },
    {
     "name": "stdout",
     "output_type": "stream",
     "text": [
      "💾 Autosaved 28804 records...\n"
     ]
    },
    {
     "name": "stderr",
     "output_type": "stream",
     "text": [
      "Scraping weather data:  60%|████████████████████████████▋                   | 29900/49971 [13:09:20<8:41:27,  1.56s/it]"
     ]
    },
    {
     "name": "stdout",
     "output_type": "stream",
     "text": [
      "💾 Autosaved 28804 records...\n"
     ]
    },
    {
     "name": "stderr",
     "output_type": "stream",
     "text": [
      "Scraping weather data:  60%|████████████████████████████▊                   | 30000/49971 [13:11:56<8:35:53,  1.55s/it]"
     ]
    },
    {
     "name": "stdout",
     "output_type": "stream",
     "text": [
      "💾 Autosaved 28804 records...\n"
     ]
    },
    {
     "name": "stderr",
     "output_type": "stream",
     "text": [
      "Scraping weather data:  60%|████████████████████████████▉                   | 30100/49971 [13:14:32<8:35:53,  1.56s/it]"
     ]
    },
    {
     "name": "stdout",
     "output_type": "stream",
     "text": [
      "💾 Autosaved 28804 records...\n"
     ]
    },
    {
     "name": "stderr",
     "output_type": "stream",
     "text": [
      "Scraping weather data:  60%|█████████████████████████████                   | 30200/49971 [13:17:08<8:30:55,  1.55s/it]"
     ]
    },
    {
     "name": "stdout",
     "output_type": "stream",
     "text": [
      "💾 Autosaved 28804 records...\n"
     ]
    },
    {
     "name": "stderr",
     "output_type": "stream",
     "text": [
      "Scraping weather data:  61%|█████████████████████████████                   | 30300/49971 [13:19:43<8:29:13,  1.55s/it]"
     ]
    },
    {
     "name": "stdout",
     "output_type": "stream",
     "text": [
      "💾 Autosaved 28804 records...\n"
     ]
    },
    {
     "name": "stderr",
     "output_type": "stream",
     "text": [
      "Scraping weather data:  61%|█████████████████████████████▏                  | 30400/49971 [13:22:19<8:28:45,  1.56s/it]"
     ]
    },
    {
     "name": "stdout",
     "output_type": "stream",
     "text": [
      "💾 Autosaved 28804 records...\n"
     ]
    },
    {
     "name": "stderr",
     "output_type": "stream",
     "text": [
      "Scraping weather data:  61%|█████████████████████████████▎                  | 30500/49971 [13:24:55<8:25:09,  1.56s/it]"
     ]
    },
    {
     "name": "stdout",
     "output_type": "stream",
     "text": [
      "💾 Autosaved 28804 records...\n"
     ]
    },
    {
     "name": "stderr",
     "output_type": "stream",
     "text": [
      "Scraping weather data:  61%|█████████████████████████████▍                  | 30600/49971 [13:27:31<8:23:51,  1.56s/it]"
     ]
    },
    {
     "name": "stdout",
     "output_type": "stream",
     "text": [
      "💾 Autosaved 28804 records...\n"
     ]
    },
    {
     "name": "stderr",
     "output_type": "stream",
     "text": [
      "Scraping weather data:  61%|█████████████████████████████▍                  | 30700/49971 [13:30:07<8:19:31,  1.56s/it]"
     ]
    },
    {
     "name": "stdout",
     "output_type": "stream",
     "text": [
      "💾 Autosaved 28804 records...\n"
     ]
    },
    {
     "name": "stderr",
     "output_type": "stream",
     "text": [
      "Scraping weather data:  62%|█████████████████████████████▌                  | 30800/49971 [13:32:43<8:15:53,  1.55s/it]"
     ]
    },
    {
     "name": "stdout",
     "output_type": "stream",
     "text": [
      "💾 Autosaved 28804 records...\n"
     ]
    },
    {
     "name": "stderr",
     "output_type": "stream",
     "text": [
      "Scraping weather data:  62%|█████████████████████████████▋                  | 30900/49971 [13:35:18<8:14:51,  1.56s/it]"
     ]
    },
    {
     "name": "stdout",
     "output_type": "stream",
     "text": [
      "💾 Autosaved 28804 records...\n"
     ]
    },
    {
     "name": "stderr",
     "output_type": "stream",
     "text": [
      "Scraping weather data:  62%|█████████████████████████████▊                  | 31000/49971 [13:37:54<8:11:43,  1.56s/it]"
     ]
    },
    {
     "name": "stdout",
     "output_type": "stream",
     "text": [
      "💾 Autosaved 28804 records...\n"
     ]
    },
    {
     "name": "stderr",
     "output_type": "stream",
     "text": [
      "Scraping weather data:  62%|█████████████████████████████▊                  | 31100/49971 [13:40:30<8:10:09,  1.56s/it]"
     ]
    },
    {
     "name": "stdout",
     "output_type": "stream",
     "text": [
      "💾 Autosaved 28804 records...\n"
     ]
    },
    {
     "name": "stderr",
     "output_type": "stream",
     "text": [
      "Scraping weather data:  62%|█████████████████████████████▉                  | 31200/49971 [13:43:06<8:07:14,  1.56s/it]"
     ]
    },
    {
     "name": "stdout",
     "output_type": "stream",
     "text": [
      "💾 Autosaved 28804 records...\n"
     ]
    },
    {
     "name": "stderr",
     "output_type": "stream",
     "text": [
      "Scraping weather data:  63%|██████████████████████████████                  | 31300/49971 [13:45:42<8:04:20,  1.56s/it]"
     ]
    },
    {
     "name": "stdout",
     "output_type": "stream",
     "text": [
      "💾 Autosaved 28804 records...\n"
     ]
    },
    {
     "name": "stderr",
     "output_type": "stream",
     "text": [
      "Scraping weather data:  63%|██████████████████████████████▏                 | 31400/49971 [13:48:18<8:01:52,  1.56s/it]"
     ]
    },
    {
     "name": "stdout",
     "output_type": "stream",
     "text": [
      "💾 Autosaved 28804 records...\n"
     ]
    },
    {
     "name": "stderr",
     "output_type": "stream",
     "text": [
      "Scraping weather data:  63%|██████████████████████████████▎                 | 31500/49971 [13:50:53<7:57:45,  1.55s/it]"
     ]
    },
    {
     "name": "stdout",
     "output_type": "stream",
     "text": [
      "💾 Autosaved 28804 records...\n"
     ]
    },
    {
     "name": "stderr",
     "output_type": "stream",
     "text": [
      "Scraping weather data:  63%|██████████████████████████████▎                 | 31600/49971 [13:53:29<7:55:52,  1.55s/it]"
     ]
    },
    {
     "name": "stdout",
     "output_type": "stream",
     "text": [
      "💾 Autosaved 28804 records...\n"
     ]
    },
    {
     "name": "stderr",
     "output_type": "stream",
     "text": [
      "Scraping weather data:  63%|██████████████████████████████▍                 | 31700/49971 [13:56:05<7:55:05,  1.56s/it]"
     ]
    },
    {
     "name": "stdout",
     "output_type": "stream",
     "text": [
      "💾 Autosaved 28804 records...\n"
     ]
    },
    {
     "name": "stderr",
     "output_type": "stream",
     "text": [
      "Scraping weather data:  64%|██████████████████████████████▌                 | 31800/49971 [13:58:41<7:49:12,  1.55s/it]"
     ]
    },
    {
     "name": "stdout",
     "output_type": "stream",
     "text": [
      "💾 Autosaved 28804 records...\n"
     ]
    },
    {
     "name": "stderr",
     "output_type": "stream",
     "text": [
      "Scraping weather data:  64%|██████████████████████████████▋                 | 31900/49971 [14:01:17<7:52:29,  1.57s/it]"
     ]
    },
    {
     "name": "stdout",
     "output_type": "stream",
     "text": [
      "💾 Autosaved 28804 records...\n"
     ]
    },
    {
     "name": "stderr",
     "output_type": "stream",
     "text": [
      "Scraping weather data:  64%|██████████████████████████████▋                 | 32000/49971 [14:03:53<7:45:25,  1.55s/it]"
     ]
    },
    {
     "name": "stdout",
     "output_type": "stream",
     "text": [
      "💾 Autosaved 28804 records...\n"
     ]
    },
    {
     "name": "stderr",
     "output_type": "stream",
     "text": [
      "Scraping weather data:  64%|██████████████████████████████▊                 | 32100/49971 [14:06:28<7:43:09,  1.55s/it]"
     ]
    },
    {
     "name": "stdout",
     "output_type": "stream",
     "text": [
      "💾 Autosaved 28804 records...\n"
     ]
    },
    {
     "name": "stderr",
     "output_type": "stream",
     "text": [
      "Scraping weather data:  64%|██████████████████████████████▉                 | 32200/49971 [14:09:04<7:41:48,  1.56s/it]"
     ]
    },
    {
     "name": "stdout",
     "output_type": "stream",
     "text": [
      "💾 Autosaved 28804 records...\n"
     ]
    },
    {
     "name": "stderr",
     "output_type": "stream",
     "text": [
      "Scraping weather data:  65%|███████████████████████████████                 | 32300/49971 [14:11:41<7:38:33,  1.56s/it]"
     ]
    },
    {
     "name": "stdout",
     "output_type": "stream",
     "text": [
      "💾 Autosaved 28804 records...\n"
     ]
    },
    {
     "name": "stderr",
     "output_type": "stream",
     "text": [
      "Scraping weather data:  65%|███████████████████████████████                 | 32400/49971 [14:14:17<7:37:33,  1.56s/it]"
     ]
    },
    {
     "name": "stdout",
     "output_type": "stream",
     "text": [
      "💾 Autosaved 28804 records...\n"
     ]
    },
    {
     "name": "stderr",
     "output_type": "stream",
     "text": [
      "Scraping weather data:  65%|███████████████████████████████▏                | 32500/49971 [14:16:53<7:33:11,  1.56s/it]"
     ]
    },
    {
     "name": "stdout",
     "output_type": "stream",
     "text": [
      "💾 Autosaved 28804 records...\n"
     ]
    },
    {
     "name": "stderr",
     "output_type": "stream",
     "text": [
      "Scraping weather data:  65%|███████████████████████████████▎                | 32600/49971 [14:19:28<7:29:57,  1.55s/it]"
     ]
    },
    {
     "name": "stdout",
     "output_type": "stream",
     "text": [
      "💾 Autosaved 28804 records...\n"
     ]
    },
    {
     "name": "stderr",
     "output_type": "stream",
     "text": [
      "Scraping weather data:  65%|███████████████████████████████▍                | 32700/49971 [14:22:04<7:29:18,  1.56s/it]"
     ]
    },
    {
     "name": "stdout",
     "output_type": "stream",
     "text": [
      "💾 Autosaved 28804 records...\n"
     ]
    },
    {
     "name": "stderr",
     "output_type": "stream",
     "text": [
      "Scraping weather data:  66%|███████████████████████████████▌                | 32800/49971 [14:24:40<7:24:16,  1.55s/it]"
     ]
    },
    {
     "name": "stdout",
     "output_type": "stream",
     "text": [
      "💾 Autosaved 28804 records...\n"
     ]
    },
    {
     "name": "stderr",
     "output_type": "stream",
     "text": [
      "Scraping weather data:  66%|███████████████████████████████▌                | 32900/49971 [14:27:16<7:23:46,  1.56s/it]"
     ]
    },
    {
     "name": "stdout",
     "output_type": "stream",
     "text": [
      "💾 Autosaved 28804 records...\n"
     ]
    },
    {
     "name": "stderr",
     "output_type": "stream",
     "text": [
      "Scraping weather data:  66%|███████████████████████████████▋                | 33000/49971 [14:29:52<7:18:34,  1.55s/it]"
     ]
    },
    {
     "name": "stdout",
     "output_type": "stream",
     "text": [
      "💾 Autosaved 28804 records...\n"
     ]
    },
    {
     "name": "stderr",
     "output_type": "stream",
     "text": [
      "Scraping weather data:  66%|███████████████████████████████▊                | 33100/49971 [14:32:27<7:16:21,  1.55s/it]"
     ]
    },
    {
     "name": "stdout",
     "output_type": "stream",
     "text": [
      "💾 Autosaved 28804 records...\n"
     ]
    },
    {
     "name": "stderr",
     "output_type": "stream",
     "text": [
      "Scraping weather data:  66%|███████████████████████████████▉                | 33200/49971 [14:35:03<7:14:10,  1.55s/it]"
     ]
    },
    {
     "name": "stdout",
     "output_type": "stream",
     "text": [
      "💾 Autosaved 28804 records...\n"
     ]
    },
    {
     "name": "stderr",
     "output_type": "stream",
     "text": [
      "Scraping weather data:  67%|███████████████████████████████▉                | 33300/49971 [14:37:39<7:10:27,  1.55s/it]"
     ]
    },
    {
     "name": "stdout",
     "output_type": "stream",
     "text": [
      "💾 Autosaved 28804 records...\n"
     ]
    },
    {
     "name": "stderr",
     "output_type": "stream",
     "text": [
      "Scraping weather data:  67%|████████████████████████████████                | 33400/49971 [14:40:14<7:09:42,  1.56s/it]"
     ]
    },
    {
     "name": "stdout",
     "output_type": "stream",
     "text": [
      "💾 Autosaved 28804 records...\n"
     ]
    },
    {
     "name": "stderr",
     "output_type": "stream",
     "text": [
      "Scraping weather data:  67%|████████████████████████████████▏               | 33500/49971 [14:42:50<7:08:42,  1.56s/it]"
     ]
    },
    {
     "name": "stdout",
     "output_type": "stream",
     "text": [
      "💾 Autosaved 28804 records...\n"
     ]
    },
    {
     "name": "stderr",
     "output_type": "stream",
     "text": [
      "Scraping weather data:  67%|████████████████████████████████▎               | 33600/49971 [14:45:26<7:04:25,  1.56s/it]"
     ]
    },
    {
     "name": "stdout",
     "output_type": "stream",
     "text": [
      "💾 Autosaved 28804 records...\n"
     ]
    },
    {
     "name": "stderr",
     "output_type": "stream",
     "text": [
      "Scraping weather data:  67%|████████████████████████████████▎               | 33700/49971 [14:48:02<7:03:41,  1.56s/it]"
     ]
    },
    {
     "name": "stdout",
     "output_type": "stream",
     "text": [
      "💾 Autosaved 28804 records...\n"
     ]
    },
    {
     "name": "stderr",
     "output_type": "stream",
     "text": [
      "Scraping weather data:  68%|████████████████████████████████▍               | 33800/49971 [14:50:38<6:59:12,  1.56s/it]"
     ]
    },
    {
     "name": "stdout",
     "output_type": "stream",
     "text": [
      "💾 Autosaved 28804 records...\n"
     ]
    },
    {
     "name": "stderr",
     "output_type": "stream",
     "text": [
      "Scraping weather data:  68%|████████████████████████████████▌               | 33900/49971 [14:53:14<6:57:00,  1.56s/it]"
     ]
    },
    {
     "name": "stdout",
     "output_type": "stream",
     "text": [
      "💾 Autosaved 28804 records...\n"
     ]
    },
    {
     "name": "stderr",
     "output_type": "stream",
     "text": [
      "Scraping weather data:  68%|████████████████████████████████▋               | 34000/49971 [14:55:50<6:53:21,  1.55s/it]"
     ]
    },
    {
     "name": "stdout",
     "output_type": "stream",
     "text": [
      "💾 Autosaved 28804 records...\n"
     ]
    },
    {
     "name": "stderr",
     "output_type": "stream",
     "text": [
      "Scraping weather data:  68%|████████████████████████████████▊               | 34100/49971 [14:58:26<6:50:28,  1.55s/it]"
     ]
    },
    {
     "name": "stdout",
     "output_type": "stream",
     "text": [
      "💾 Autosaved 28804 records...\n"
     ]
    },
    {
     "name": "stderr",
     "output_type": "stream",
     "text": [
      "Scraping weather data:  68%|████████████████████████████████▊               | 34200/49971 [15:01:02<6:50:16,  1.56s/it]"
     ]
    },
    {
     "name": "stdout",
     "output_type": "stream",
     "text": [
      "💾 Autosaved 28804 records...\n"
     ]
    },
    {
     "name": "stderr",
     "output_type": "stream",
     "text": [
      "Scraping weather data:  69%|████████████████████████████████▉               | 34300/49971 [15:03:38<6:48:13,  1.56s/it]"
     ]
    },
    {
     "name": "stdout",
     "output_type": "stream",
     "text": [
      "💾 Autosaved 28804 records...\n"
     ]
    },
    {
     "name": "stderr",
     "output_type": "stream",
     "text": [
      "Scraping weather data:  69%|█████████████████████████████████               | 34400/49971 [15:06:13<6:44:03,  1.56s/it]"
     ]
    },
    {
     "name": "stdout",
     "output_type": "stream",
     "text": [
      "💾 Autosaved 28804 records...\n"
     ]
    },
    {
     "name": "stderr",
     "output_type": "stream",
     "text": [
      "Scraping weather data:  69%|█████████████████████████████████▏              | 34500/49971 [15:08:49<6:41:58,  1.56s/it]"
     ]
    },
    {
     "name": "stdout",
     "output_type": "stream",
     "text": [
      "💾 Autosaved 28804 records...\n"
     ]
    },
    {
     "name": "stderr",
     "output_type": "stream",
     "text": [
      "Scraping weather data:  69%|█████████████████████████████████▏              | 34600/49971 [15:11:25<6:38:23,  1.56s/it]"
     ]
    },
    {
     "name": "stdout",
     "output_type": "stream",
     "text": [
      "💾 Autosaved 28804 records...\n"
     ]
    },
    {
     "name": "stderr",
     "output_type": "stream",
     "text": [
      "Scraping weather data:  69%|█████████████████████████████████▎              | 34700/49971 [15:14:01<6:36:00,  1.56s/it]"
     ]
    },
    {
     "name": "stdout",
     "output_type": "stream",
     "text": [
      "💾 Autosaved 28804 records...\n"
     ]
    },
    {
     "name": "stderr",
     "output_type": "stream",
     "text": [
      "Scraping weather data:  70%|█████████████████████████████████▍              | 34800/49971 [15:16:36<6:32:50,  1.55s/it]"
     ]
    },
    {
     "name": "stdout",
     "output_type": "stream",
     "text": [
      "💾 Autosaved 28804 records...\n"
     ]
    },
    {
     "name": "stderr",
     "output_type": "stream",
     "text": [
      "Scraping weather data:  70%|█████████████████████████████████▌              | 34900/49971 [15:19:12<6:29:31,  1.55s/it]"
     ]
    },
    {
     "name": "stdout",
     "output_type": "stream",
     "text": [
      "💾 Autosaved 28804 records...\n"
     ]
    },
    {
     "name": "stderr",
     "output_type": "stream",
     "text": [
      "Scraping weather data:  70%|█████████████████████████████████▌              | 35000/49971 [15:21:47<6:27:18,  1.55s/it]"
     ]
    },
    {
     "name": "stdout",
     "output_type": "stream",
     "text": [
      "💾 Autosaved 28804 records...\n"
     ]
    },
    {
     "name": "stderr",
     "output_type": "stream",
     "text": [
      "Scraping weather data:  70%|█████████████████████████████████▋              | 35100/49971 [15:24:23<6:26:29,  1.56s/it]"
     ]
    },
    {
     "name": "stdout",
     "output_type": "stream",
     "text": [
      "💾 Autosaved 28804 records...\n"
     ]
    },
    {
     "name": "stderr",
     "output_type": "stream",
     "text": [
      "Scraping weather data:  70%|█████████████████████████████████▊              | 35200/49971 [15:26:59<6:21:38,  1.55s/it]"
     ]
    },
    {
     "name": "stdout",
     "output_type": "stream",
     "text": [
      "💾 Autosaved 28804 records...\n"
     ]
    },
    {
     "name": "stderr",
     "output_type": "stream",
     "text": [
      "Scraping weather data:  71%|█████████████████████████████████▉              | 35300/49971 [15:29:34<6:19:12,  1.55s/it]"
     ]
    },
    {
     "name": "stdout",
     "output_type": "stream",
     "text": [
      "💾 Autosaved 28804 records...\n"
     ]
    },
    {
     "name": "stderr",
     "output_type": "stream",
     "text": [
      "Scraping weather data:  71%|██████████████████████████████████              | 35400/49971 [15:32:10<6:17:35,  1.55s/it]"
     ]
    },
    {
     "name": "stdout",
     "output_type": "stream",
     "text": [
      "💾 Autosaved 28804 records...\n"
     ]
    },
    {
     "name": "stderr",
     "output_type": "stream",
     "text": [
      "Scraping weather data:  71%|██████████████████████████████████              | 35500/49971 [15:34:45<6:14:29,  1.55s/it]"
     ]
    },
    {
     "name": "stdout",
     "output_type": "stream",
     "text": [
      "💾 Autosaved 28804 records...\n"
     ]
    },
    {
     "name": "stderr",
     "output_type": "stream",
     "text": [
      "Scraping weather data:  71%|██████████████████████████████████▏             | 35600/49971 [15:37:21<6:12:33,  1.56s/it]"
     ]
    },
    {
     "name": "stdout",
     "output_type": "stream",
     "text": [
      "💾 Autosaved 28804 records...\n"
     ]
    },
    {
     "name": "stderr",
     "output_type": "stream",
     "text": [
      "Scraping weather data:  71%|██████████████████████████████████▎             | 35700/49971 [15:39:57<6:09:01,  1.55s/it]"
     ]
    },
    {
     "name": "stdout",
     "output_type": "stream",
     "text": [
      "💾 Autosaved 28804 records...\n"
     ]
    },
    {
     "name": "stderr",
     "output_type": "stream",
     "text": [
      "Scraping weather data:  72%|██████████████████████████████████▍             | 35800/49971 [15:42:32<6:06:48,  1.55s/it]"
     ]
    },
    {
     "name": "stdout",
     "output_type": "stream",
     "text": [
      "💾 Autosaved 28804 records...\n"
     ]
    },
    {
     "name": "stderr",
     "output_type": "stream",
     "text": [
      "Scraping weather data:  72%|██████████████████████████████████▍             | 35900/49971 [15:45:08<6:04:57,  1.56s/it]"
     ]
    },
    {
     "name": "stdout",
     "output_type": "stream",
     "text": [
      "💾 Autosaved 28804 records...\n"
     ]
    },
    {
     "name": "stderr",
     "output_type": "stream",
     "text": [
      "Scraping weather data:  72%|██████████████████████████████████▌             | 36000/49971 [15:47:44<6:01:40,  1.55s/it]"
     ]
    },
    {
     "name": "stdout",
     "output_type": "stream",
     "text": [
      "💾 Autosaved 28804 records...\n"
     ]
    },
    {
     "name": "stderr",
     "output_type": "stream",
     "text": [
      "Scraping weather data:  72%|██████████████████████████████████▋             | 36100/49971 [15:50:20<6:01:20,  1.56s/it]"
     ]
    },
    {
     "name": "stdout",
     "output_type": "stream",
     "text": [
      "💾 Autosaved 28804 records...\n"
     ]
    },
    {
     "name": "stderr",
     "output_type": "stream",
     "text": [
      "Scraping weather data:  72%|██████████████████████████████████▊             | 36200/49971 [15:52:55<5:56:47,  1.55s/it]"
     ]
    },
    {
     "name": "stdout",
     "output_type": "stream",
     "text": [
      "💾 Autosaved 28804 records...\n"
     ]
    },
    {
     "name": "stderr",
     "output_type": "stream",
     "text": [
      "Scraping weather data:  73%|██████████████████████████████████▊             | 36300/49971 [15:55:31<5:54:55,  1.56s/it]"
     ]
    },
    {
     "name": "stdout",
     "output_type": "stream",
     "text": [
      "💾 Autosaved 28804 records...\n"
     ]
    },
    {
     "name": "stderr",
     "output_type": "stream",
     "text": [
      "Scraping weather data:  73%|██████████████████████████████████▉             | 36400/49971 [15:58:07<5:51:54,  1.56s/it]"
     ]
    },
    {
     "name": "stdout",
     "output_type": "stream",
     "text": [
      "💾 Autosaved 28804 records...\n"
     ]
    },
    {
     "name": "stderr",
     "output_type": "stream",
     "text": [
      "Scraping weather data:  73%|███████████████████████████████████             | 36500/49971 [16:00:43<5:49:27,  1.56s/it]"
     ]
    },
    {
     "name": "stdout",
     "output_type": "stream",
     "text": [
      "💾 Autosaved 28804 records...\n"
     ]
    },
    {
     "name": "stderr",
     "output_type": "stream",
     "text": [
      "Scraping weather data:  73%|███████████████████████████████████▏            | 36600/49971 [16:03:19<5:45:44,  1.55s/it]"
     ]
    },
    {
     "name": "stdout",
     "output_type": "stream",
     "text": [
      "💾 Autosaved 28804 records...\n"
     ]
    },
    {
     "name": "stderr",
     "output_type": "stream",
     "text": [
      "Scraping weather data:  73%|███████████████████████████████████▎            | 36700/49971 [16:05:55<5:42:40,  1.55s/it]"
     ]
    },
    {
     "name": "stdout",
     "output_type": "stream",
     "text": [
      "💾 Autosaved 28804 records...\n"
     ]
    },
    {
     "name": "stderr",
     "output_type": "stream",
     "text": [
      "Scraping weather data:  74%|███████████████████████████████████▎            | 36800/49971 [16:08:31<5:42:33,  1.56s/it]"
     ]
    },
    {
     "name": "stdout",
     "output_type": "stream",
     "text": [
      "💾 Autosaved 28804 records...\n"
     ]
    },
    {
     "name": "stderr",
     "output_type": "stream",
     "text": [
      "Scraping weather data:  74%|███████████████████████████████████▍            | 36900/49971 [16:11:06<5:39:37,  1.56s/it]"
     ]
    },
    {
     "name": "stdout",
     "output_type": "stream",
     "text": [
      "💾 Autosaved 28804 records...\n"
     ]
    },
    {
     "name": "stderr",
     "output_type": "stream",
     "text": [
      "Scraping weather data:  74%|███████████████████████████████████▌            | 37000/49971 [16:13:42<5:36:12,  1.56s/it]"
     ]
    },
    {
     "name": "stdout",
     "output_type": "stream",
     "text": [
      "💾 Autosaved 28804 records...\n"
     ]
    },
    {
     "name": "stderr",
     "output_type": "stream",
     "text": [
      "Scraping weather data:  74%|███████████████████████████████████▋            | 37100/49971 [16:16:18<5:33:05,  1.55s/it]"
     ]
    },
    {
     "name": "stdout",
     "output_type": "stream",
     "text": [
      "💾 Autosaved 28804 records...\n"
     ]
    },
    {
     "name": "stderr",
     "output_type": "stream",
     "text": [
      "Scraping weather data:  74%|███████████████████████████████████▋            | 37200/49971 [16:18:54<5:30:23,  1.55s/it]"
     ]
    },
    {
     "name": "stdout",
     "output_type": "stream",
     "text": [
      "💾 Autosaved 28804 records...\n"
     ]
    },
    {
     "name": "stderr",
     "output_type": "stream",
     "text": [
      "Scraping weather data:  75%|███████████████████████████████████▊            | 37300/49971 [16:21:30<5:29:55,  1.56s/it]"
     ]
    },
    {
     "name": "stdout",
     "output_type": "stream",
     "text": [
      "💾 Autosaved 28804 records...\n"
     ]
    },
    {
     "name": "stderr",
     "output_type": "stream",
     "text": [
      "Scraping weather data:  75%|███████████████████████████████████▉            | 37400/49971 [16:24:06<5:27:04,  1.56s/it]"
     ]
    },
    {
     "name": "stdout",
     "output_type": "stream",
     "text": [
      "💾 Autosaved 28804 records...\n"
     ]
    },
    {
     "name": "stderr",
     "output_type": "stream",
     "text": [
      "Scraping weather data:  75%|████████████████████████████████████            | 37500/49971 [16:26:42<5:25:09,  1.56s/it]"
     ]
    },
    {
     "name": "stdout",
     "output_type": "stream",
     "text": [
      "💾 Autosaved 28804 records...\n"
     ]
    },
    {
     "name": "stderr",
     "output_type": "stream",
     "text": [
      "Scraping weather data:  75%|████████████████████████████████████            | 37600/49971 [16:29:18<5:22:36,  1.56s/it]"
     ]
    },
    {
     "name": "stdout",
     "output_type": "stream",
     "text": [
      "💾 Autosaved 28804 records...\n"
     ]
    },
    {
     "name": "stderr",
     "output_type": "stream",
     "text": [
      "Scraping weather data:  75%|████████████████████████████████████▏           | 37700/49971 [16:31:54<5:18:16,  1.56s/it]"
     ]
    },
    {
     "name": "stdout",
     "output_type": "stream",
     "text": [
      "💾 Autosaved 28804 records...\n"
     ]
    },
    {
     "name": "stderr",
     "output_type": "stream",
     "text": [
      "Scraping weather data:  76%|████████████████████████████████████▎           | 37800/49971 [16:34:29<5:16:34,  1.56s/it]"
     ]
    },
    {
     "name": "stdout",
     "output_type": "stream",
     "text": [
      "💾 Autosaved 28804 records...\n"
     ]
    },
    {
     "name": "stderr",
     "output_type": "stream",
     "text": [
      "Scraping weather data:  76%|████████████████████████████████████▍           | 37900/49971 [16:37:05<5:13:29,  1.56s/it]"
     ]
    },
    {
     "name": "stdout",
     "output_type": "stream",
     "text": [
      "💾 Autosaved 28804 records...\n"
     ]
    },
    {
     "name": "stderr",
     "output_type": "stream",
     "text": [
      "Scraping weather data:  76%|████████████████████████████████████▌           | 38000/49971 [16:39:41<5:09:37,  1.55s/it]"
     ]
    },
    {
     "name": "stdout",
     "output_type": "stream",
     "text": [
      "💾 Autosaved 28804 records...\n"
     ]
    },
    {
     "name": "stderr",
     "output_type": "stream",
     "text": [
      "Scraping weather data:  76%|████████████████████████████████████▌           | 38100/49971 [16:42:17<5:10:16,  1.57s/it]"
     ]
    },
    {
     "name": "stdout",
     "output_type": "stream",
     "text": [
      "💾 Autosaved 28804 records...\n"
     ]
    },
    {
     "name": "stderr",
     "output_type": "stream",
     "text": [
      "Scraping weather data:  76%|████████████████████████████████████▋           | 38200/49971 [16:44:53<5:06:21,  1.56s/it]"
     ]
    },
    {
     "name": "stdout",
     "output_type": "stream",
     "text": [
      "💾 Autosaved 28804 records...\n"
     ]
    },
    {
     "name": "stderr",
     "output_type": "stream",
     "text": [
      "Scraping weather data:  77%|████████████████████████████████████▊           | 38300/49971 [16:47:29<5:02:44,  1.56s/it]"
     ]
    },
    {
     "name": "stdout",
     "output_type": "stream",
     "text": [
      "💾 Autosaved 28804 records...\n"
     ]
    },
    {
     "name": "stderr",
     "output_type": "stream",
     "text": [
      "Scraping weather data:  77%|████████████████████████████████████▉           | 38400/49971 [16:50:05<5:00:20,  1.56s/it]"
     ]
    },
    {
     "name": "stdout",
     "output_type": "stream",
     "text": [
      "💾 Autosaved 28804 records...\n"
     ]
    },
    {
     "name": "stderr",
     "output_type": "stream",
     "text": [
      "Scraping weather data:  77%|████████████████████████████████████▉           | 38500/49971 [16:52:41<4:58:41,  1.56s/it]"
     ]
    },
    {
     "name": "stdout",
     "output_type": "stream",
     "text": [
      "💾 Autosaved 28804 records...\n"
     ]
    },
    {
     "name": "stderr",
     "output_type": "stream",
     "text": [
      "Scraping weather data:  77%|█████████████████████████████████████           | 38600/49971 [16:55:17<4:55:23,  1.56s/it]"
     ]
    },
    {
     "name": "stdout",
     "output_type": "stream",
     "text": [
      "💾 Autosaved 28804 records...\n"
     ]
    },
    {
     "name": "stderr",
     "output_type": "stream",
     "text": [
      "Scraping weather data:  77%|█████████████████████████████████████▏          | 38700/49971 [16:57:53<4:53:41,  1.56s/it]"
     ]
    },
    {
     "name": "stdout",
     "output_type": "stream",
     "text": [
      "💾 Autosaved 28804 records...\n"
     ]
    },
    {
     "name": "stderr",
     "output_type": "stream",
     "text": [
      "Scraping weather data:  78%|█████████████████████████████████████▎          | 38800/49971 [17:00:30<4:50:03,  1.56s/it]"
     ]
    },
    {
     "name": "stdout",
     "output_type": "stream",
     "text": [
      "💾 Autosaved 28804 records...\n"
     ]
    },
    {
     "name": "stderr",
     "output_type": "stream",
     "text": [
      "Scraping weather data:  78%|█████████████████████████████████████▎          | 38900/49971 [17:03:29<4:55:03,  1.60s/it]"
     ]
    },
    {
     "name": "stdout",
     "output_type": "stream",
     "text": [
      "💾 Autosaved 28805 records...\n"
     ]
    },
    {
     "name": "stderr",
     "output_type": "stream",
     "text": [
      "Scraping weather data:  78%|█████████████████████████████████████▍          | 39000/49971 [17:06:04<4:43:24,  1.55s/it]"
     ]
    },
    {
     "name": "stdout",
     "output_type": "stream",
     "text": [
      "💾 Autosaved 28805 records...\n"
     ]
    },
    {
     "name": "stderr",
     "output_type": "stream",
     "text": [
      "Scraping weather data:  78%|█████████████████████████████████████▌          | 39100/49971 [17:08:40<4:42:03,  1.56s/it]"
     ]
    },
    {
     "name": "stdout",
     "output_type": "stream",
     "text": [
      "💾 Autosaved 28805 records...\n"
     ]
    },
    {
     "name": "stderr",
     "output_type": "stream",
     "text": [
      "Scraping weather data:  78%|█████████████████████████████████████▋          | 39200/49971 [17:11:16<4:39:45,  1.56s/it]"
     ]
    },
    {
     "name": "stdout",
     "output_type": "stream",
     "text": [
      "💾 Autosaved 28805 records...\n"
     ]
    },
    {
     "name": "stderr",
     "output_type": "stream",
     "text": [
      "Scraping weather data:  79%|█████████████████████████████████████▋          | 39300/49971 [17:13:52<4:37:55,  1.56s/it]"
     ]
    },
    {
     "name": "stdout",
     "output_type": "stream",
     "text": [
      "💾 Autosaved 28805 records...\n"
     ]
    },
    {
     "name": "stderr",
     "output_type": "stream",
     "text": [
      "Scraping weather data:  79%|█████████████████████████████████████▊          | 39400/49971 [17:16:28<4:34:33,  1.56s/it]"
     ]
    },
    {
     "name": "stdout",
     "output_type": "stream",
     "text": [
      "💾 Autosaved 28805 records...\n"
     ]
    },
    {
     "name": "stderr",
     "output_type": "stream",
     "text": [
      "Scraping weather data:  79%|█████████████████████████████████████▉          | 39500/49971 [17:19:04<4:31:04,  1.55s/it]"
     ]
    },
    {
     "name": "stdout",
     "output_type": "stream",
     "text": [
      "💾 Autosaved 28805 records...\n"
     ]
    },
    {
     "name": "stderr",
     "output_type": "stream",
     "text": [
      "Scraping weather data:  79%|██████████████████████████████████████          | 39600/49971 [17:22:00<4:28:48,  1.56s/it]"
     ]
    },
    {
     "name": "stdout",
     "output_type": "stream",
     "text": [
      "💾 Autosaved 28806 records...\n"
     ]
    },
    {
     "name": "stderr",
     "output_type": "stream",
     "text": [
      "Scraping weather data:  79%|██████████████████████████████████████▏         | 39700/49971 [17:24:36<4:32:13,  1.59s/it]"
     ]
    },
    {
     "name": "stdout",
     "output_type": "stream",
     "text": [
      "💾 Autosaved 28806 records...\n"
     ]
    },
    {
     "name": "stderr",
     "output_type": "stream",
     "text": [
      "Scraping weather data:  80%|██████████████████████████████████████▏         | 39800/49971 [17:27:12<4:24:37,  1.56s/it]"
     ]
    },
    {
     "name": "stdout",
     "output_type": "stream",
     "text": [
      "💾 Autosaved 28806 records...\n"
     ]
    },
    {
     "name": "stderr",
     "output_type": "stream",
     "text": [
      "Scraping weather data:  80%|██████████████████████████████████████▎         | 39900/49971 [17:29:48<4:21:38,  1.56s/it]"
     ]
    },
    {
     "name": "stdout",
     "output_type": "stream",
     "text": [
      "💾 Autosaved 28806 records...\n"
     ]
    },
    {
     "name": "stderr",
     "output_type": "stream",
     "text": [
      "Scraping weather data:  80%|██████████████████████████████████████▍         | 40000/49971 [17:32:24<4:18:23,  1.55s/it]"
     ]
    },
    {
     "name": "stdout",
     "output_type": "stream",
     "text": [
      "💾 Autosaved 28806 records...\n"
     ]
    },
    {
     "name": "stderr",
     "output_type": "stream",
     "text": [
      "Scraping weather data:  80%|██████████████████████████████████████▌         | 40100/49971 [17:34:59<4:16:45,  1.56s/it]"
     ]
    },
    {
     "name": "stdout",
     "output_type": "stream",
     "text": [
      "💾 Autosaved 28806 records...\n"
     ]
    },
    {
     "name": "stderr",
     "output_type": "stream",
     "text": [
      "Scraping weather data:  80%|██████████████████████████████████████▌         | 40200/49971 [17:37:35<4:12:52,  1.55s/it]"
     ]
    },
    {
     "name": "stdout",
     "output_type": "stream",
     "text": [
      "💾 Autosaved 28806 records...\n"
     ]
    },
    {
     "name": "stderr",
     "output_type": "stream",
     "text": [
      "Scraping weather data:  81%|██████████████████████████████████████▋         | 40300/49971 [17:40:11<4:11:50,  1.56s/it]"
     ]
    },
    {
     "name": "stdout",
     "output_type": "stream",
     "text": [
      "💾 Autosaved 28806 records...\n"
     ]
    },
    {
     "name": "stderr",
     "output_type": "stream",
     "text": [
      "Scraping weather data:  81%|██████████████████████████████████████▊         | 40400/49971 [17:42:48<4:07:28,  1.55s/it]"
     ]
    },
    {
     "name": "stdout",
     "output_type": "stream",
     "text": [
      "💾 Autosaved 28806 records...\n"
     ]
    },
    {
     "name": "stderr",
     "output_type": "stream",
     "text": [
      "Scraping weather data:  81%|██████████████████████████████████████▊         | 40403/49971 [17:42:53<4:11:57,  1.58s/it]"
     ]
    },
    {
     "name": "stdout",
     "output_type": "stream",
     "text": [
      "[40403] Error at (2003-08-18, 43.96, -103.36): ('Connection aborted.', ConnectionResetError(10054, 'An existing connection was forcibly closed by the remote host', None, 10054, None))\n"
     ]
    },
    {
     "name": "stderr",
     "output_type": "stream",
     "text": [
      "Scraping weather data:  81%|██████████████████████████████████████         | 40404/49971 [17:43:27<29:59:04, 11.28s/it]"
     ]
    },
    {
     "name": "stdout",
     "output_type": "stream",
     "text": [
      "[40404] Error at (2004-08-18, 41.42, -122.38): ('Connection aborted.', ConnectionResetError(10054, 'An existing connection was forcibly closed by the remote host', None, 10054, None))\n"
     ]
    },
    {
     "name": "stderr",
     "output_type": "stream",
     "text": [
      "Scraping weather data:  81%|██████████████████████████████████████         | 40405/49971 [17:43:41<32:18:24, 12.16s/it]"
     ]
    },
    {
     "name": "stdout",
     "output_type": "stream",
     "text": [
      "[40405] Error at (2004-08-18, 49.9, -119.48): ('Connection aborted.', ConnectionResetError(10054, 'An existing connection was forcibly closed by the remote host', None, 10054, None))\n"
     ]
    },
    {
     "name": "stderr",
     "output_type": "stream",
     "text": [
      "Scraping weather data:  81%|██████████████████████████████████████         | 40406/49971 [17:43:55<33:52:49, 12.75s/it]"
     ]
    },
    {
     "name": "stdout",
     "output_type": "stream",
     "text": [
      "[40406] Error at (2004-08-18, 32.64, -117.08): ('Connection aborted.', ConnectionResetError(10054, 'An existing connection was forcibly closed by the remote host', None, 10054, None))\n"
     ]
    },
    {
     "name": "stderr",
     "output_type": "stream",
     "text": [
      "Scraping weather data:  81%|██████████████████████████████████████         | 40407/49971 [17:44:09<34:59:04, 13.17s/it]"
     ]
    },
    {
     "name": "stdout",
     "output_type": "stream",
     "text": [
      "[40407] Error at (2004-08-18, 43.12, -75.29): ('Connection aborted.', ConnectionResetError(10054, 'An existing connection was forcibly closed by the remote host', None, 10054, None))\n"
     ]
    },
    {
     "name": "stderr",
     "output_type": "stream",
     "text": [
      "Scraping weather data:  81%|██████████████████████████████████████         | 40408/49971 [17:44:23<35:29:21, 13.36s/it]"
     ]
    },
    {
     "name": "stdout",
     "output_type": "stream",
     "text": [
      "[40408] Error at (2004-08-18, 49.15, -123.92): ('Connection aborted.', ConnectionResetError(10054, 'An existing connection was forcibly closed by the remote host', None, 10054, None))\n"
     ]
    },
    {
     "name": "stderr",
     "output_type": "stream",
     "text": [
      "Scraping weather data:  81%|██████████████████████████████████████▉         | 40500/49971 [17:46:59<4:06:01,  1.56s/it]"
     ]
    },
    {
     "name": "stdout",
     "output_type": "stream",
     "text": [
      "💾 Autosaved 28806 records...\n"
     ]
    },
    {
     "name": "stderr",
     "output_type": "stream",
     "text": [
      "Scraping weather data:  81%|██████████████████████████████████████▉         | 40600/49971 [17:49:35<4:04:15,  1.56s/it]"
     ]
    },
    {
     "name": "stdout",
     "output_type": "stream",
     "text": [
      "💾 Autosaved 28806 records...\n"
     ]
    },
    {
     "name": "stderr",
     "output_type": "stream",
     "text": [
      "Scraping weather data:  81%|███████████████████████████████████████         | 40700/49971 [17:52:11<4:00:20,  1.56s/it]"
     ]
    },
    {
     "name": "stdout",
     "output_type": "stream",
     "text": [
      "💾 Autosaved 28806 records...\n"
     ]
    },
    {
     "name": "stderr",
     "output_type": "stream",
     "text": [
      "Scraping weather data:  82%|███████████████████████████████████████▏        | 40800/49971 [17:54:47<3:59:06,  1.56s/it]"
     ]
    },
    {
     "name": "stdout",
     "output_type": "stream",
     "text": [
      "💾 Autosaved 28806 records...\n"
     ]
    },
    {
     "name": "stderr",
     "output_type": "stream",
     "text": [
      "Scraping weather data:  82%|███████████████████████████████████████▎        | 40900/49971 [17:57:22<3:56:09,  1.56s/it]"
     ]
    },
    {
     "name": "stdout",
     "output_type": "stream",
     "text": [
      "💾 Autosaved 28806 records...\n"
     ]
    },
    {
     "name": "stderr",
     "output_type": "stream",
     "text": [
      "Scraping weather data:  82%|███████████████████████████████████████▍        | 41000/49971 [17:59:58<3:53:01,  1.56s/it]"
     ]
    },
    {
     "name": "stdout",
     "output_type": "stream",
     "text": [
      "💾 Autosaved 28806 records...\n"
     ]
    },
    {
     "name": "stderr",
     "output_type": "stream",
     "text": [
      "Scraping weather data:  82%|███████████████████████████████████████▍        | 41100/49971 [18:02:34<3:49:19,  1.55s/it]"
     ]
    },
    {
     "name": "stdout",
     "output_type": "stream",
     "text": [
      "💾 Autosaved 28806 records...\n"
     ]
    },
    {
     "name": "stderr",
     "output_type": "stream",
     "text": [
      "Scraping weather data:  82%|███████████████████████████████████████▌        | 41200/49971 [18:05:09<3:47:08,  1.55s/it]"
     ]
    },
    {
     "name": "stdout",
     "output_type": "stream",
     "text": [
      "💾 Autosaved 28806 records...\n"
     ]
    },
    {
     "name": "stderr",
     "output_type": "stream",
     "text": [
      "Scraping weather data:  83%|███████████████████████████████████████▋        | 41300/49971 [18:07:45<3:45:27,  1.56s/it]"
     ]
    },
    {
     "name": "stdout",
     "output_type": "stream",
     "text": [
      "💾 Autosaved 28806 records...\n"
     ]
    },
    {
     "name": "stderr",
     "output_type": "stream",
     "text": [
      "Scraping weather data:  83%|███████████████████████████████████████▊        | 41400/49971 [18:10:20<3:41:13,  1.55s/it]"
     ]
    },
    {
     "name": "stdout",
     "output_type": "stream",
     "text": [
      "💾 Autosaved 28806 records...\n"
     ]
    },
    {
     "name": "stderr",
     "output_type": "stream",
     "text": [
      "Scraping weather data:  83%|███████████████████████████████████████▊        | 41500/49971 [18:12:56<3:39:16,  1.55s/it]"
     ]
    },
    {
     "name": "stdout",
     "output_type": "stream",
     "text": [
      "💾 Autosaved 28806 records...\n"
     ]
    },
    {
     "name": "stderr",
     "output_type": "stream",
     "text": [
      "Scraping weather data:  83%|███████████████████████████████████████▉        | 41600/49971 [18:15:32<3:37:37,  1.56s/it]"
     ]
    },
    {
     "name": "stdout",
     "output_type": "stream",
     "text": [
      "💾 Autosaved 28806 records...\n"
     ]
    },
    {
     "name": "stderr",
     "output_type": "stream",
     "text": [
      "Scraping weather data:  83%|████████████████████████████████████████        | 41700/49971 [18:18:07<3:33:25,  1.55s/it]"
     ]
    },
    {
     "name": "stdout",
     "output_type": "stream",
     "text": [
      "💾 Autosaved 28806 records...\n"
     ]
    },
    {
     "name": "stderr",
     "output_type": "stream",
     "text": [
      "Scraping weather data:  84%|████████████████████████████████████████▏       | 41800/49971 [18:20:43<3:31:13,  1.55s/it]"
     ]
    },
    {
     "name": "stdout",
     "output_type": "stream",
     "text": [
      "💾 Autosaved 28806 records...\n"
     ]
    },
    {
     "name": "stderr",
     "output_type": "stream",
     "text": [
      "Scraping weather data:  84%|████████████████████████████████████████▏       | 41900/49971 [18:23:19<3:28:38,  1.55s/it]"
     ]
    },
    {
     "name": "stdout",
     "output_type": "stream",
     "text": [
      "💾 Autosaved 28806 records...\n"
     ]
    },
    {
     "name": "stderr",
     "output_type": "stream",
     "text": [
      "Scraping weather data:  84%|████████████████████████████████████████▎       | 42000/49971 [18:25:54<3:26:42,  1.56s/it]"
     ]
    },
    {
     "name": "stdout",
     "output_type": "stream",
     "text": [
      "💾 Autosaved 28806 records...\n"
     ]
    },
    {
     "name": "stderr",
     "output_type": "stream",
     "text": [
      "Scraping weather data:  84%|████████████████████████████████████████▍       | 42100/49971 [18:28:30<3:23:10,  1.55s/it]"
     ]
    },
    {
     "name": "stdout",
     "output_type": "stream",
     "text": [
      "💾 Autosaved 28806 records...\n"
     ]
    },
    {
     "name": "stderr",
     "output_type": "stream",
     "text": [
      "Scraping weather data:  84%|████████████████████████████████████████▌       | 42200/49971 [18:31:05<3:21:32,  1.56s/it]"
     ]
    },
    {
     "name": "stdout",
     "output_type": "stream",
     "text": [
      "💾 Autosaved 28806 records...\n"
     ]
    },
    {
     "name": "stderr",
     "output_type": "stream",
     "text": [
      "Scraping weather data:  85%|████████████████████████████████████████▋       | 42300/49971 [18:33:41<3:19:03,  1.56s/it]"
     ]
    },
    {
     "name": "stdout",
     "output_type": "stream",
     "text": [
      "💾 Autosaved 28806 records...\n"
     ]
    },
    {
     "name": "stderr",
     "output_type": "stream",
     "text": [
      "Scraping weather data:  85%|████████████████████████████████████████▋       | 42400/49971 [18:36:17<3:16:26,  1.56s/it]"
     ]
    },
    {
     "name": "stdout",
     "output_type": "stream",
     "text": [
      "💾 Autosaved 28806 records...\n"
     ]
    },
    {
     "name": "stderr",
     "output_type": "stream",
     "text": [
      "Scraping weather data:  85%|████████████████████████████████████████▊       | 42500/49971 [18:38:53<3:13:30,  1.55s/it]"
     ]
    },
    {
     "name": "stdout",
     "output_type": "stream",
     "text": [
      "💾 Autosaved 28806 records...\n"
     ]
    },
    {
     "name": "stderr",
     "output_type": "stream",
     "text": [
      "Scraping weather data:  85%|████████████████████████████████████████▉       | 42600/49971 [18:41:29<3:11:16,  1.56s/it]"
     ]
    },
    {
     "name": "stdout",
     "output_type": "stream",
     "text": [
      "💾 Autosaved 28806 records...\n"
     ]
    },
    {
     "name": "stderr",
     "output_type": "stream",
     "text": [
      "Scraping weather data:  85%|█████████████████████████████████████████       | 42700/49971 [18:44:05<3:08:43,  1.56s/it]"
     ]
    },
    {
     "name": "stdout",
     "output_type": "stream",
     "text": [
      "💾 Autosaved 28806 records...\n"
     ]
    },
    {
     "name": "stderr",
     "output_type": "stream",
     "text": [
      "Scraping weather data:  86%|█████████████████████████████████████████       | 42800/49971 [18:46:41<3:06:18,  1.56s/it]"
     ]
    },
    {
     "name": "stdout",
     "output_type": "stream",
     "text": [
      "💾 Autosaved 28806 records...\n"
     ]
    },
    {
     "name": "stderr",
     "output_type": "stream",
     "text": [
      "Scraping weather data:  86%|█████████████████████████████████████████▏      | 42900/49971 [18:49:16<3:02:49,  1.55s/it]"
     ]
    },
    {
     "name": "stdout",
     "output_type": "stream",
     "text": [
      "💾 Autosaved 28806 records...\n"
     ]
    },
    {
     "name": "stderr",
     "output_type": "stream",
     "text": [
      "Scraping weather data:  86%|█████████████████████████████████████████▎      | 43000/49971 [18:51:52<3:01:05,  1.56s/it]"
     ]
    },
    {
     "name": "stdout",
     "output_type": "stream",
     "text": [
      "💾 Autosaved 28806 records...\n"
     ]
    },
    {
     "name": "stderr",
     "output_type": "stream",
     "text": [
      "Scraping weather data:  86%|█████████████████████████████████████████▍      | 43100/49971 [18:54:28<2:57:57,  1.55s/it]"
     ]
    },
    {
     "name": "stdout",
     "output_type": "stream",
     "text": [
      "💾 Autosaved 28806 records...\n"
     ]
    },
    {
     "name": "stderr",
     "output_type": "stream",
     "text": [
      "Scraping weather data:  86%|█████████████████████████████████████████▍      | 43200/49971 [18:57:04<2:55:20,  1.55s/it]"
     ]
    },
    {
     "name": "stdout",
     "output_type": "stream",
     "text": [
      "💾 Autosaved 28806 records...\n"
     ]
    },
    {
     "name": "stderr",
     "output_type": "stream",
     "text": [
      "Scraping weather data:  87%|█████████████████████████████████████████▌      | 43300/49971 [18:59:39<2:52:25,  1.55s/it]"
     ]
    },
    {
     "name": "stdout",
     "output_type": "stream",
     "text": [
      "💾 Autosaved 28806 records...\n"
     ]
    },
    {
     "name": "stderr",
     "output_type": "stream",
     "text": [
      "Scraping weather data:  87%|█████████████████████████████████████████▋      | 43400/49971 [19:02:15<2:50:03,  1.55s/it]"
     ]
    },
    {
     "name": "stdout",
     "output_type": "stream",
     "text": [
      "💾 Autosaved 28806 records...\n"
     ]
    },
    {
     "name": "stderr",
     "output_type": "stream",
     "text": [
      "Scraping weather data:  87%|█████████████████████████████████████████▊      | 43500/49971 [19:04:51<2:47:41,  1.55s/it]"
     ]
    },
    {
     "name": "stdout",
     "output_type": "stream",
     "text": [
      "💾 Autosaved 28806 records...\n"
     ]
    },
    {
     "name": "stderr",
     "output_type": "stream",
     "text": [
      "Scraping weather data:  87%|█████████████████████████████████████████▉      | 43600/49971 [19:07:26<2:45:50,  1.56s/it]"
     ]
    },
    {
     "name": "stdout",
     "output_type": "stream",
     "text": [
      "💾 Autosaved 28806 records...\n"
     ]
    },
    {
     "name": "stderr",
     "output_type": "stream",
     "text": [
      "Scraping weather data:  87%|█████████████████████████████████████████▉      | 43700/49971 [19:10:02<2:43:16,  1.56s/it]"
     ]
    },
    {
     "name": "stdout",
     "output_type": "stream",
     "text": [
      "💾 Autosaved 28806 records...\n"
     ]
    },
    {
     "name": "stderr",
     "output_type": "stream",
     "text": [
      "Scraping weather data:  88%|██████████████████████████████████████████      | 43800/49971 [19:12:38<2:39:28,  1.55s/it]"
     ]
    },
    {
     "name": "stdout",
     "output_type": "stream",
     "text": [
      "💾 Autosaved 28806 records...\n"
     ]
    },
    {
     "name": "stderr",
     "output_type": "stream",
     "text": [
      "Scraping weather data:  88%|██████████████████████████████████████████▏     | 43900/49971 [19:15:13<2:37:02,  1.55s/it]"
     ]
    },
    {
     "name": "stdout",
     "output_type": "stream",
     "text": [
      "💾 Autosaved 28806 records...\n"
     ]
    },
    {
     "name": "stderr",
     "output_type": "stream",
     "text": [
      "Scraping weather data:  88%|██████████████████████████████████████████▎     | 44000/49971 [19:17:49<2:34:51,  1.56s/it]"
     ]
    },
    {
     "name": "stdout",
     "output_type": "stream",
     "text": [
      "💾 Autosaved 28806 records...\n"
     ]
    },
    {
     "name": "stderr",
     "output_type": "stream",
     "text": [
      "Scraping weather data:  88%|██████████████████████████████████████████▎     | 44100/49971 [19:20:25<2:31:35,  1.55s/it]"
     ]
    },
    {
     "name": "stdout",
     "output_type": "stream",
     "text": [
      "💾 Autosaved 28806 records...\n"
     ]
    },
    {
     "name": "stderr",
     "output_type": "stream",
     "text": [
      "Scraping weather data:  88%|██████████████████████████████████████████▍     | 44200/49971 [19:23:01<2:29:54,  1.56s/it]"
     ]
    },
    {
     "name": "stdout",
     "output_type": "stream",
     "text": [
      "💾 Autosaved 28806 records...\n"
     ]
    },
    {
     "name": "stderr",
     "output_type": "stream",
     "text": [
      "Scraping weather data:  89%|██████████████████████████████████████████▌     | 44300/49971 [19:25:36<2:27:01,  1.56s/it]"
     ]
    },
    {
     "name": "stdout",
     "output_type": "stream",
     "text": [
      "💾 Autosaved 28806 records...\n"
     ]
    },
    {
     "name": "stderr",
     "output_type": "stream",
     "text": [
      "Scraping weather data:  89%|██████████████████████████████████████████▋     | 44400/49971 [19:28:12<2:24:23,  1.56s/it]"
     ]
    },
    {
     "name": "stdout",
     "output_type": "stream",
     "text": [
      "💾 Autosaved 28806 records...\n"
     ]
    },
    {
     "name": "stderr",
     "output_type": "stream",
     "text": [
      "Scraping weather data:  89%|██████████████████████████████████████████▋     | 44500/49971 [19:30:48<2:22:26,  1.56s/it]"
     ]
    },
    {
     "name": "stdout",
     "output_type": "stream",
     "text": [
      "💾 Autosaved 28806 records...\n"
     ]
    },
    {
     "name": "stderr",
     "output_type": "stream",
     "text": [
      "Scraping weather data:  89%|██████████████████████████████████████████▊     | 44600/49971 [19:33:23<2:19:44,  1.56s/it]"
     ]
    },
    {
     "name": "stdout",
     "output_type": "stream",
     "text": [
      "💾 Autosaved 28806 records...\n"
     ]
    },
    {
     "name": "stderr",
     "output_type": "stream",
     "text": [
      "Scraping weather data:  89%|██████████████████████████████████████████▉     | 44700/49971 [19:35:59<2:16:22,  1.55s/it]"
     ]
    },
    {
     "name": "stdout",
     "output_type": "stream",
     "text": [
      "💾 Autosaved 28806 records...\n"
     ]
    },
    {
     "name": "stderr",
     "output_type": "stream",
     "text": [
      "Scraping weather data:  90%|███████████████████████████████████████████     | 44800/49971 [19:38:35<2:14:57,  1.57s/it]"
     ]
    },
    {
     "name": "stdout",
     "output_type": "stream",
     "text": [
      "💾 Autosaved 28806 records...\n"
     ]
    },
    {
     "name": "stderr",
     "output_type": "stream",
     "text": [
      "Scraping weather data:  90%|███████████████████████████████████████████▏    | 44900/49971 [19:41:11<2:11:47,  1.56s/it]"
     ]
    },
    {
     "name": "stdout",
     "output_type": "stream",
     "text": [
      "💾 Autosaved 28806 records...\n"
     ]
    },
    {
     "name": "stderr",
     "output_type": "stream",
     "text": [
      "Scraping weather data:  90%|███████████████████████████████████████████▏    | 45000/49971 [19:43:46<2:08:33,  1.55s/it]"
     ]
    },
    {
     "name": "stdout",
     "output_type": "stream",
     "text": [
      "💾 Autosaved 28806 records...\n"
     ]
    },
    {
     "name": "stderr",
     "output_type": "stream",
     "text": [
      "Scraping weather data:  90%|███████████████████████████████████████████▎    | 45100/49971 [19:46:22<2:06:22,  1.56s/it]"
     ]
    },
    {
     "name": "stdout",
     "output_type": "stream",
     "text": [
      "💾 Autosaved 28806 records...\n"
     ]
    },
    {
     "name": "stderr",
     "output_type": "stream",
     "text": [
      "Scraping weather data:  90%|███████████████████████████████████████████▍    | 45200/49971 [19:48:59<2:03:42,  1.56s/it]"
     ]
    },
    {
     "name": "stdout",
     "output_type": "stream",
     "text": [
      "💾 Autosaved 28806 records...\n"
     ]
    },
    {
     "name": "stderr",
     "output_type": "stream",
     "text": [
      "Scraping weather data:  91%|███████████████████████████████████████████▌    | 45300/49971 [19:51:34<2:01:47,  1.56s/it]"
     ]
    },
    {
     "name": "stdout",
     "output_type": "stream",
     "text": [
      "💾 Autosaved 28806 records...\n"
     ]
    },
    {
     "name": "stderr",
     "output_type": "stream",
     "text": [
      "Scraping weather data:  91%|███████████████████████████████████████████▌    | 45400/49971 [19:54:10<1:58:35,  1.56s/it]"
     ]
    },
    {
     "name": "stdout",
     "output_type": "stream",
     "text": [
      "💾 Autosaved 28806 records...\n"
     ]
    },
    {
     "name": "stderr",
     "output_type": "stream",
     "text": [
      "Scraping weather data:  91%|███████████████████████████████████████████▋    | 45500/49971 [19:56:46<1:55:50,  1.55s/it]"
     ]
    },
    {
     "name": "stdout",
     "output_type": "stream",
     "text": [
      "💾 Autosaved 28806 records...\n"
     ]
    },
    {
     "name": "stderr",
     "output_type": "stream",
     "text": [
      "Scraping weather data:  91%|███████████████████████████████████████████▊    | 45600/49971 [19:59:22<1:53:03,  1.55s/it]"
     ]
    },
    {
     "name": "stdout",
     "output_type": "stream",
     "text": [
      "💾 Autosaved 28806 records...\n"
     ]
    },
    {
     "name": "stderr",
     "output_type": "stream",
     "text": [
      "Scraping weather data:  91%|███████████████████████████████████████████▉    | 45700/49971 [20:01:58<1:50:30,  1.55s/it]"
     ]
    },
    {
     "name": "stdout",
     "output_type": "stream",
     "text": [
      "💾 Autosaved 28806 records...\n"
     ]
    },
    {
     "name": "stderr",
     "output_type": "stream",
     "text": [
      "Scraping weather data:  92%|███████████████████████████████████████████▉    | 45800/49971 [20:04:33<1:48:11,  1.56s/it]"
     ]
    },
    {
     "name": "stdout",
     "output_type": "stream",
     "text": [
      "💾 Autosaved 28806 records...\n"
     ]
    },
    {
     "name": "stderr",
     "output_type": "stream",
     "text": [
      "Scraping weather data:  92%|████████████████████████████████████████████    | 45900/49971 [20:07:09<1:45:23,  1.55s/it]"
     ]
    },
    {
     "name": "stdout",
     "output_type": "stream",
     "text": [
      "💾 Autosaved 28806 records...\n"
     ]
    },
    {
     "name": "stderr",
     "output_type": "stream",
     "text": [
      "Scraping weather data:  92%|████████████████████████████████████████████▏   | 46000/49971 [20:09:45<1:42:40,  1.55s/it]"
     ]
    },
    {
     "name": "stdout",
     "output_type": "stream",
     "text": [
      "💾 Autosaved 28806 records...\n"
     ]
    },
    {
     "name": "stderr",
     "output_type": "stream",
     "text": [
      "Scraping weather data:  92%|████████████████████████████████████████████▎   | 46100/49971 [20:12:21<1:40:15,  1.55s/it]"
     ]
    },
    {
     "name": "stdout",
     "output_type": "stream",
     "text": [
      "💾 Autosaved 28806 records...\n"
     ]
    },
    {
     "name": "stderr",
     "output_type": "stream",
     "text": [
      "Scraping weather data:  92%|████████████████████████████████████████████▍   | 46200/49971 [20:14:56<1:37:40,  1.55s/it]"
     ]
    },
    {
     "name": "stdout",
     "output_type": "stream",
     "text": [
      "💾 Autosaved 28806 records...\n"
     ]
    },
    {
     "name": "stderr",
     "output_type": "stream",
     "text": [
      "Scraping weather data:  93%|████████████████████████████████████████████▍   | 46300/49971 [20:17:32<1:35:26,  1.56s/it]"
     ]
    },
    {
     "name": "stdout",
     "output_type": "stream",
     "text": [
      "💾 Autosaved 28806 records...\n"
     ]
    },
    {
     "name": "stderr",
     "output_type": "stream",
     "text": [
      "Scraping weather data:  93%|████████████████████████████████████████████▌   | 46400/49971 [20:20:08<1:32:29,  1.55s/it]"
     ]
    },
    {
     "name": "stdout",
     "output_type": "stream",
     "text": [
      "💾 Autosaved 28806 records...\n"
     ]
    },
    {
     "name": "stderr",
     "output_type": "stream",
     "text": [
      "Scraping weather data:  93%|████████████████████████████████████████████▋   | 46500/49971 [20:22:44<1:30:22,  1.56s/it]"
     ]
    },
    {
     "name": "stdout",
     "output_type": "stream",
     "text": [
      "💾 Autosaved 28806 records...\n"
     ]
    },
    {
     "name": "stderr",
     "output_type": "stream",
     "text": [
      "Scraping weather data:  93%|████████████████████████████████████████████▊   | 46600/49971 [20:25:20<1:27:54,  1.56s/it]"
     ]
    },
    {
     "name": "stdout",
     "output_type": "stream",
     "text": [
      "💾 Autosaved 28806 records...\n"
     ]
    },
    {
     "name": "stderr",
     "output_type": "stream",
     "text": [
      "Scraping weather data:  93%|████████████████████████████████████████████▊   | 46700/49971 [20:27:56<1:25:18,  1.56s/it]"
     ]
    },
    {
     "name": "stdout",
     "output_type": "stream",
     "text": [
      "💾 Autosaved 28806 records...\n"
     ]
    },
    {
     "name": "stderr",
     "output_type": "stream",
     "text": [
      "Scraping weather data:  94%|████████████████████████████████████████████▉   | 46800/49971 [20:30:32<1:22:13,  1.56s/it]"
     ]
    },
    {
     "name": "stdout",
     "output_type": "stream",
     "text": [
      "💾 Autosaved 28806 records...\n"
     ]
    },
    {
     "name": "stderr",
     "output_type": "stream",
     "text": [
      "Scraping weather data:  94%|█████████████████████████████████████████████   | 46900/49971 [20:33:08<1:19:30,  1.55s/it]"
     ]
    },
    {
     "name": "stdout",
     "output_type": "stream",
     "text": [
      "💾 Autosaved 28806 records...\n"
     ]
    },
    {
     "name": "stderr",
     "output_type": "stream",
     "text": [
      "Scraping weather data:  94%|█████████████████████████████████████████████▏  | 47000/49971 [20:35:43<1:17:05,  1.56s/it]"
     ]
    },
    {
     "name": "stdout",
     "output_type": "stream",
     "text": [
      "💾 Autosaved 28806 records...\n"
     ]
    },
    {
     "name": "stderr",
     "output_type": "stream",
     "text": [
      "Scraping weather data:  94%|█████████████████████████████████████████████▏  | 47100/49971 [20:38:19<1:14:30,  1.56s/it]"
     ]
    },
    {
     "name": "stdout",
     "output_type": "stream",
     "text": [
      "💾 Autosaved 28806 records...\n"
     ]
    },
    {
     "name": "stderr",
     "output_type": "stream",
     "text": [
      "Scraping weather data:  94%|█████████████████████████████████████████████▎  | 47200/49971 [20:40:55<1:11:46,  1.55s/it]"
     ]
    },
    {
     "name": "stdout",
     "output_type": "stream",
     "text": [
      "💾 Autosaved 28806 records...\n"
     ]
    },
    {
     "name": "stderr",
     "output_type": "stream",
     "text": [
      "Scraping weather data:  95%|█████████████████████████████████████████████▍  | 47300/49971 [20:43:31<1:09:12,  1.55s/it]"
     ]
    },
    {
     "name": "stdout",
     "output_type": "stream",
     "text": [
      "💾 Autosaved 28806 records...\n"
     ]
    },
    {
     "name": "stderr",
     "output_type": "stream",
     "text": [
      "Scraping weather data:  95%|█████████████████████████████████████████████▌  | 47400/49971 [20:46:07<1:07:07,  1.57s/it]"
     ]
    },
    {
     "name": "stdout",
     "output_type": "stream",
     "text": [
      "💾 Autosaved 28806 records...\n"
     ]
    },
    {
     "name": "stderr",
     "output_type": "stream",
     "text": [
      "Scraping weather data:  95%|█████████████████████████████████████████████▋  | 47500/49971 [20:48:43<1:04:05,  1.56s/it]"
     ]
    },
    {
     "name": "stdout",
     "output_type": "stream",
     "text": [
      "💾 Autosaved 28806 records...\n"
     ]
    },
    {
     "name": "stderr",
     "output_type": "stream",
     "text": [
      "Scraping weather data:  95%|█████████████████████████████████████████████▋  | 47600/49971 [20:51:19<1:01:34,  1.56s/it]"
     ]
    },
    {
     "name": "stdout",
     "output_type": "stream",
     "text": [
      "💾 Autosaved 28806 records...\n"
     ]
    },
    {
     "name": "stderr",
     "output_type": "stream",
     "text": [
      "Scraping weather data:  95%|███████████████████████████████████████████████▋  | 47700/49971 [20:53:54<58:54,  1.56s/it]"
     ]
    },
    {
     "name": "stdout",
     "output_type": "stream",
     "text": [
      "💾 Autosaved 28806 records...\n"
     ]
    },
    {
     "name": "stderr",
     "output_type": "stream",
     "text": [
      "Scraping weather data:  96%|███████████████████████████████████████████████▊  | 47800/49971 [20:56:30<56:07,  1.55s/it]"
     ]
    },
    {
     "name": "stdout",
     "output_type": "stream",
     "text": [
      "💾 Autosaved 28806 records...\n"
     ]
    },
    {
     "name": "stderr",
     "output_type": "stream",
     "text": [
      "Scraping weather data:  96%|███████████████████████████████████████████████▉  | 47900/49971 [20:59:06<53:50,  1.56s/it]"
     ]
    },
    {
     "name": "stdout",
     "output_type": "stream",
     "text": [
      "💾 Autosaved 28806 records...\n"
     ]
    },
    {
     "name": "stderr",
     "output_type": "stream",
     "text": [
      "Scraping weather data:  96%|████████████████████████████████████████████████  | 48000/49971 [21:01:42<51:04,  1.55s/it]"
     ]
    },
    {
     "name": "stdout",
     "output_type": "stream",
     "text": [
      "💾 Autosaved 28806 records...\n"
     ]
    },
    {
     "name": "stderr",
     "output_type": "stream",
     "text": [
      "Scraping weather data:  96%|████████████████████████████████████████████████▏ | 48100/49971 [21:04:18<48:32,  1.56s/it]"
     ]
    },
    {
     "name": "stdout",
     "output_type": "stream",
     "text": [
      "💾 Autosaved 28806 records...\n"
     ]
    },
    {
     "name": "stderr",
     "output_type": "stream",
     "text": [
      "Scraping weather data:  96%|████████████████████████████████████████████████▏ | 48200/49971 [21:06:53<45:51,  1.55s/it]"
     ]
    },
    {
     "name": "stdout",
     "output_type": "stream",
     "text": [
      "💾 Autosaved 28806 records...\n"
     ]
    },
    {
     "name": "stderr",
     "output_type": "stream",
     "text": [
      "Scraping weather data:  97%|████████████████████████████████████████████████▎ | 48300/49971 [21:09:29<43:12,  1.55s/it]"
     ]
    },
    {
     "name": "stdout",
     "output_type": "stream",
     "text": [
      "💾 Autosaved 28806 records...\n"
     ]
    },
    {
     "name": "stderr",
     "output_type": "stream",
     "text": [
      "Scraping weather data:  97%|████████████████████████████████████████████████▍ | 48400/49971 [21:12:04<40:42,  1.55s/it]"
     ]
    },
    {
     "name": "stdout",
     "output_type": "stream",
     "text": [
      "💾 Autosaved 28806 records...\n"
     ]
    },
    {
     "name": "stderr",
     "output_type": "stream",
     "text": [
      "Scraping weather data:  97%|████████████████████████████████████████████████▌ | 48500/49971 [21:14:40<37:59,  1.55s/it]"
     ]
    },
    {
     "name": "stdout",
     "output_type": "stream",
     "text": [
      "💾 Autosaved 28806 records...\n"
     ]
    },
    {
     "name": "stderr",
     "output_type": "stream",
     "text": [
      "Scraping weather data:  97%|████████████████████████████████████████████████▋ | 48600/49971 [21:17:16<35:34,  1.56s/it]"
     ]
    },
    {
     "name": "stdout",
     "output_type": "stream",
     "text": [
      "💾 Autosaved 28806 records...\n"
     ]
    },
    {
     "name": "stderr",
     "output_type": "stream",
     "text": [
      "Scraping weather data:  97%|████████████████████████████████████████████████▋ | 48700/49971 [21:19:52<32:58,  1.56s/it]"
     ]
    },
    {
     "name": "stdout",
     "output_type": "stream",
     "text": [
      "💾 Autosaved 28806 records...\n"
     ]
    },
    {
     "name": "stderr",
     "output_type": "stream",
     "text": [
      "Scraping weather data:  98%|████████████████████████████████████████████████▊ | 48800/49971 [21:22:27<30:21,  1.56s/it]"
     ]
    },
    {
     "name": "stdout",
     "output_type": "stream",
     "text": [
      "💾 Autosaved 28806 records...\n"
     ]
    },
    {
     "name": "stderr",
     "output_type": "stream",
     "text": [
      "Scraping weather data:  98%|████████████████████████████████████████████████▉ | 48900/49971 [21:25:03<27:47,  1.56s/it]"
     ]
    },
    {
     "name": "stdout",
     "output_type": "stream",
     "text": [
      "💾 Autosaved 28806 records...\n"
     ]
    },
    {
     "name": "stderr",
     "output_type": "stream",
     "text": [
      "Scraping weather data:  98%|█████████████████████████████████████████████████ | 49000/49971 [21:27:39<25:05,  1.55s/it]"
     ]
    },
    {
     "name": "stdout",
     "output_type": "stream",
     "text": [
      "💾 Autosaved 28806 records...\n"
     ]
    },
    {
     "name": "stderr",
     "output_type": "stream",
     "text": [
      "Scraping weather data:  98%|█████████████████████████████████████████████████▏| 49100/49971 [21:30:15<22:31,  1.55s/it]"
     ]
    },
    {
     "name": "stdout",
     "output_type": "stream",
     "text": [
      "💾 Autosaved 28806 records...\n"
     ]
    },
    {
     "name": "stderr",
     "output_type": "stream",
     "text": [
      "Scraping weather data:  98%|█████████████████████████████████████████████████▏| 49200/49971 [21:32:50<20:00,  1.56s/it]"
     ]
    },
    {
     "name": "stdout",
     "output_type": "stream",
     "text": [
      "💾 Autosaved 28806 records...\n"
     ]
    },
    {
     "name": "stderr",
     "output_type": "stream",
     "text": [
      "Scraping weather data:  99%|█████████████████████████████████████████████████▎| 49300/49971 [21:35:26<17:25,  1.56s/it]"
     ]
    },
    {
     "name": "stdout",
     "output_type": "stream",
     "text": [
      "💾 Autosaved 28806 records...\n"
     ]
    },
    {
     "name": "stderr",
     "output_type": "stream",
     "text": [
      "Scraping weather data:  99%|█████████████████████████████████████████████████▍| 49400/49971 [21:38:02<14:49,  1.56s/it]"
     ]
    },
    {
     "name": "stdout",
     "output_type": "stream",
     "text": [
      "💾 Autosaved 28806 records...\n"
     ]
    },
    {
     "name": "stderr",
     "output_type": "stream",
     "text": [
      "Scraping weather data:  99%|█████████████████████████████████████████████████▌| 49500/49971 [21:40:38<12:16,  1.56s/it]"
     ]
    },
    {
     "name": "stdout",
     "output_type": "stream",
     "text": [
      "💾 Autosaved 28806 records...\n"
     ]
    },
    {
     "name": "stderr",
     "output_type": "stream",
     "text": [
      "Scraping weather data:  99%|█████████████████████████████████████████████████▋| 49600/49971 [21:43:13<09:35,  1.55s/it]"
     ]
    },
    {
     "name": "stdout",
     "output_type": "stream",
     "text": [
      "💾 Autosaved 28806 records...\n"
     ]
    },
    {
     "name": "stderr",
     "output_type": "stream",
     "text": [
      "Scraping weather data:  99%|█████████████████████████████████████████████████▋| 49700/49971 [21:45:49<07:01,  1.56s/it]"
     ]
    },
    {
     "name": "stdout",
     "output_type": "stream",
     "text": [
      "💾 Autosaved 28806 records...\n"
     ]
    },
    {
     "name": "stderr",
     "output_type": "stream",
     "text": [
      "Scraping weather data: 100%|█████████████████████████████████████████████████▊| 49800/49971 [21:48:25<04:25,  1.55s/it]"
     ]
    },
    {
     "name": "stdout",
     "output_type": "stream",
     "text": [
      "💾 Autosaved 28806 records...\n"
     ]
    },
    {
     "name": "stderr",
     "output_type": "stream",
     "text": [
      "Scraping weather data: 100%|█████████████████████████████████████████████████▉| 49900/49971 [21:51:00<01:50,  1.56s/it]"
     ]
    },
    {
     "name": "stdout",
     "output_type": "stream",
     "text": [
      "💾 Autosaved 28806 records...\n"
     ]
    },
    {
     "name": "stderr",
     "output_type": "stream",
     "text": [
      "Scraping weather data: 100%|██████████████████████████████████████████████████| 49971/49971 [21:52:51<00:00,  1.58s/it]"
     ]
    },
    {
     "name": "stdout",
     "output_type": "stream",
     "text": [
      "✅ No new records to save.\n"
     ]
    },
    {
     "name": "stderr",
     "output_type": "stream",
     "text": [
      "\n"
     ]
    }
   ],
   "source": [
    "import pandas as pd\n",
    "import requests\n",
    "from tqdm import tqdm\n",
    "import time\n",
    "import os\n",
    "\n",
    "# === LOAD DATA ===\n",
    "df = pd.read_csv(\"cleaned_ufo_data.csv\")\n",
    "df.columns = df.columns.str.strip()\n",
    "\n",
    "# Clean and parse date\n",
    "# Rename fixed column names just in case\n",
    "df = df.rename(columns={'longitude ': 'longitude'})\n",
    "\n",
    "# Parse and clean date\n",
    "df['date'] = pd.to_datetime(df['date'], errors='coerce').dt.date\n",
    "\n",
    "# Drop rows with missing values in required columns\n",
    "df = df.dropna(subset=['date', 'latitude', 'longitude'])\n",
    "\n",
    "# Round coordinates\n",
    "df['latitude'] = df['latitude'].round(2)\n",
    "df['longitude'] = df['longitude'].round(2)\n",
    "\n",
    "# Deduplicated (date, lat, lon)\n",
    "keys = df[['date', 'latitude', 'longitude']].drop_duplicates().reset_index(drop=True)\n",
    "\n",
    "# === Resume support ===\n",
    "existing = pd.DataFrame()\n",
    "final_path = \"weather_final_full.csv\"\n",
    "\n",
    "if os.path.exists(final_path):\n",
    "    existing = pd.read_csv(final_path)\n",
    "    existing['date'] = pd.to_datetime(existing['date']).dt.date\n",
    "    existing['latitude'] = existing['latitude'].round(2)\n",
    "    existing['longitude'] = existing['longitude'].round(2)\n",
    "    print(f\"📂 Found {len(existing)} previously saved records.\")\n",
    "else:\n",
    "    print(\"📂 No previously saved data found.\")\n",
    "\n",
    "# Filter out already scraped records\n",
    "keys['key'] = keys.apply(lambda row: (row['date'], row['latitude'], row['longitude']), axis=1)\n",
    "if not existing.empty:\n",
    "    existing['key'] = existing.apply(lambda row: (row['date'], row['latitude'], row['longitude']), axis=1)\n",
    "    keys = keys[~keys['key'].isin(existing['key'])].drop(columns='key').reset_index(drop=True)\n",
    "else:\n",
    "    keys = keys.drop(columns='key')\n",
    "\n",
    "print(f\"🚀 Starting with {len(keys)} new rows to scrape...\")\n",
    "\n",
    "# === Scraping ===\n",
    "weather_data = []\n",
    "autosave_path = \"weather_autosave.csv\"\n",
    "\n",
    "for i, row in tqdm(keys.iterrows(), total=len(keys), desc=\"Scraping weather data\"):\n",
    "    date = row['date']\n",
    "    lat = row['latitude']\n",
    "    lon = row['longitude']\n",
    "    \n",
    "    url = (\n",
    "        f\"https://archive-api.open-meteo.com/v1/archive?\"\n",
    "        f\"latitude={lat}&longitude={lon}&start_date={date}&end_date={date}\"\n",
    "        f\"&hourly=temperature_2m,pressure_msl,visibility,cloudcover\"\n",
    "    )\n",
    "\n",
    "    try:\n",
    "        response = requests.get(url, timeout=20)\n",
    "        data = response.json()\n",
    "\n",
    "        if 'hourly' in data and 'temperature_2m' in data['hourly']:\n",
    "            hourly = pd.DataFrame(data['hourly'])\n",
    "            daily_avg = {\n",
    "                'date': date,\n",
    "                'latitude': lat,\n",
    "                'longitude': lon,\n",
    "                'temperature_2m': pd.Series(hourly['temperature_2m']).mean(),\n",
    "                'pressure_msl': pd.Series(hourly['pressure_msl']).mean(),\n",
    "                'visibility': pd.Series(hourly['visibility']).mean() if 'visibility' in hourly else None,\n",
    "                'cloudcover': pd.Series(hourly['cloudcover']).mean(),\n",
    "            }\n",
    "            weather_data.append(daily_avg)\n",
    "\n",
    "        # Autosave every 1000\n",
    "        if i > 0 and i % 100 == 0:\n",
    "            df_existing = pd.read_csv(final_path) if os.path.exists(final_path) else pd.DataFrame()\n",
    "            new_df = pd.DataFrame(weather_data)\n",
    "            all_df = pd.concat([df_existing, new_df], ignore_index=True)\n",
    "            all_df.to_csv(final_path, index=False)\n",
    "            weather_data = []\n",
    "            print(f\"💾 Autosaved {len(all_df)} records...\")\n",
    "\n",
    "    except Exception as e:\n",
    "        print(f\"[{i}] Error at ({date}, {lat}, {lon}):\", e)\n",
    "\n",
    "    time.sleep(1)\n",
    "\n",
    "# Final save\n",
    "if weather_data:\n",
    "    df_existing = pd.read_csv(final_path) if os.path.exists(final_path) else pd.DataFrame()\n",
    "    new_df = pd.DataFrame(weather_data)\n",
    "    all_df = pd.concat([df_existing, new_df], ignore_index=True)\n",
    "    all_df.to_csv(final_path, index=False)\n",
    "    print(f\"✅ Final save completed. Total records: {len(all_df)}\")\n",
    "else:\n",
    "    print(\"✅ No new records to save.\")\n"
   ]
  },
  {
   "cell_type": "code",
   "execution_count": 41,
   "id": "ed8292fb-b514-4dcf-8a15-6bde33654259",
   "metadata": {},
   "outputs": [
    {
     "ename": "NameError",
     "evalue": "name 'df' is not defined",
     "output_type": "error",
     "traceback": [
      "\u001b[31m---------------------------------------------------------------------------\u001b[39m",
      "\u001b[31mNameError\u001b[39m                                 Traceback (most recent call last)",
      "\u001b[36mCell\u001b[39m\u001b[36m \u001b[39m\u001b[32mIn[41]\u001b[39m\u001b[32m, line 8\u001b[39m\n\u001b[32m      5\u001b[39m weather_df[\u001b[33m'\u001b[39m\u001b[33mlongitude\u001b[39m\u001b[33m'\u001b[39m] = weather_df[\u001b[33m'\u001b[39m\u001b[33mlongitude\u001b[39m\u001b[33m'\u001b[39m].round(\u001b[32m2\u001b[39m)\n\u001b[32m      7\u001b[39m \u001b[38;5;66;03m# Merge to find missing records\u001b[39;00m\n\u001b[32m----> \u001b[39m\u001b[32m8\u001b[39m merged = pd.merge(\u001b[43mdf\u001b[49m, weather_df[[\u001b[33m'\u001b[39m\u001b[33mdate\u001b[39m\u001b[33m'\u001b[39m, \u001b[33m'\u001b[39m\u001b[33mlatitude\u001b[39m\u001b[33m'\u001b[39m, \u001b[33m'\u001b[39m\u001b[33mlongitude\u001b[39m\u001b[33m'\u001b[39m]], \n\u001b[32m      9\u001b[39m                   how=\u001b[33m'\u001b[39m\u001b[33mleft\u001b[39m\u001b[33m'\u001b[39m, on=[\u001b[33m'\u001b[39m\u001b[33mdate\u001b[39m\u001b[33m'\u001b[39m, \u001b[33m'\u001b[39m\u001b[33mlatitude\u001b[39m\u001b[33m'\u001b[39m, \u001b[33m'\u001b[39m\u001b[33mlongitude\u001b[39m\u001b[33m'\u001b[39m], indicator=\u001b[38;5;28;01mTrue\u001b[39;00m)\n\u001b[32m     11\u001b[39m missing_weather = merged[merged[\u001b[33m'\u001b[39m\u001b[33m_merge\u001b[39m\u001b[33m'\u001b[39m] == \u001b[33m'\u001b[39m\u001b[33mleft_only\u001b[39m\u001b[33m'\u001b[39m].drop(columns=[\u001b[33m'\u001b[39m\u001b[33m_merge\u001b[39m\u001b[33m'\u001b[39m])\n\u001b[32m     13\u001b[39m \u001b[38;5;66;03m# Save to new file\u001b[39;00m\n",
      "\u001b[31mNameError\u001b[39m: name 'df' is not defined"
     ]
    }
   ],
   "source": [
    "# Load scraped weather data\n",
    "weather_df = pd.read_csv(\"weather_final_full.csv\")\n",
    "weather_df['date'] = pd.to_datetime(weather_df['date'], errors='coerce').dt.date\n",
    "weather_df['latitude'] = weather_df['latitude'].round(2)\n",
    "weather_df['longitude'] = weather_df['longitude'].round(2)\n",
    "\n",
    "# Merge to find missing records\n",
    "merged = pd.merge(df, weather_df[['date', 'latitude', 'longitude']], \n",
    "                  how='left', on=['date', 'latitude', 'longitude'], indicator=True)\n",
    "\n",
    "missing_weather = merged[merged['_merge'] == 'left_only'].drop(columns=['_merge'])\n",
    "\n",
    "# Save to new file\n",
    "missing_weather.to_csv(\"weather_retry.csv\", index=False)\n"
   ]
  },
  {
   "cell_type": "code",
   "execution_count": 7,
   "id": "974bec6b-d919-4589-8de4-99a6d82d2ad3",
   "metadata": {},
   "outputs": [
    {
     "name": "stderr",
     "output_type": "stream",
     "text": [
      "Retry Scraping:   0%|▏                                                          | 100/30165 [02:40<13:25:42,  1.61s/it]"
     ]
    },
    {
     "name": "stdout",
     "output_type": "stream",
     "text": [
      "💾 Autosaved 99 records...\n"
     ]
    },
    {
     "name": "stderr",
     "output_type": "stream",
     "text": [
      "Retry Scraping:   1%|▍                                                          | 200/30165 [05:19<13:15:07,  1.59s/it]"
     ]
    },
    {
     "name": "stdout",
     "output_type": "stream",
     "text": [
      "💾 Autosaved 199 records...\n"
     ]
    },
    {
     "name": "stderr",
     "output_type": "stream",
     "text": [
      "Retry Scraping:   1%|▌                                                          | 300/30165 [07:59<13:18:40,  1.60s/it]"
     ]
    },
    {
     "name": "stdout",
     "output_type": "stream",
     "text": [
      "💾 Autosaved 299 records...\n"
     ]
    },
    {
     "name": "stderr",
     "output_type": "stream",
     "text": [
      "Retry Scraping:   1%|▊                                                          | 400/30165 [10:38<13:09:48,  1.59s/it]"
     ]
    },
    {
     "name": "stdout",
     "output_type": "stream",
     "text": [
      "💾 Autosaved 398 records...\n"
     ]
    },
    {
     "name": "stderr",
     "output_type": "stream",
     "text": [
      "Retry Scraping:   2%|▉                                                          | 500/30165 [13:18<13:06:56,  1.59s/it]"
     ]
    },
    {
     "name": "stdout",
     "output_type": "stream",
     "text": [
      "💾 Autosaved 498 records...\n"
     ]
    },
    {
     "name": "stderr",
     "output_type": "stream",
     "text": [
      "Retry Scraping:   2%|█▏                                                         | 600/30165 [15:58<13:05:01,  1.59s/it]"
     ]
    },
    {
     "name": "stdout",
     "output_type": "stream",
     "text": [
      "💾 Autosaved 598 records...\n"
     ]
    },
    {
     "name": "stderr",
     "output_type": "stream",
     "text": [
      "Retry Scraping:   2%|█▎                                                         | 700/30165 [18:48<13:02:24,  1.59s/it]"
     ]
    },
    {
     "name": "stdout",
     "output_type": "stream",
     "text": [
      "💾 Autosaved 698 records...\n"
     ]
    },
    {
     "name": "stderr",
     "output_type": "stream",
     "text": [
      "Retry Scraping:   3%|█▌                                                         | 800/30165 [21:29<13:08:19,  1.61s/it]"
     ]
    },
    {
     "name": "stdout",
     "output_type": "stream",
     "text": [
      "💾 Autosaved 798 records...\n"
     ]
    },
    {
     "name": "stderr",
     "output_type": "stream",
     "text": [
      "Retry Scraping:   3%|█▊                                                         | 900/30165 [24:09<13:00:09,  1.60s/it]"
     ]
    },
    {
     "name": "stdout",
     "output_type": "stream",
     "text": [
      "💾 Autosaved 898 records...\n"
     ]
    },
    {
     "name": "stderr",
     "output_type": "stream",
     "text": [
      "Retry Scraping:   3%|█▉                                                        | 1000/30165 [26:49<13:02:32,  1.61s/it]"
     ]
    },
    {
     "name": "stdout",
     "output_type": "stream",
     "text": [
      "💾 Autosaved 998 records...\n"
     ]
    },
    {
     "name": "stderr",
     "output_type": "stream",
     "text": [
      "Retry Scraping:   4%|██                                                        | 1100/30165 [29:29<12:53:03,  1.60s/it]"
     ]
    },
    {
     "name": "stdout",
     "output_type": "stream",
     "text": [
      "💾 Autosaved 1098 records...\n"
     ]
    },
    {
     "name": "stderr",
     "output_type": "stream",
     "text": [
      "Retry Scraping:   4%|██▎                                                       | 1200/30165 [32:09<12:47:29,  1.59s/it]"
     ]
    },
    {
     "name": "stdout",
     "output_type": "stream",
     "text": [
      "💾 Autosaved 1198 records...\n"
     ]
    },
    {
     "name": "stderr",
     "output_type": "stream",
     "text": [
      "Retry Scraping:   4%|██▍                                                       | 1300/30165 [34:48<12:39:16,  1.58s/it]"
     ]
    },
    {
     "name": "stdout",
     "output_type": "stream",
     "text": [
      "💾 Autosaved 1298 records...\n"
     ]
    },
    {
     "name": "stderr",
     "output_type": "stream",
     "text": [
      "Retry Scraping:   5%|██▋                                                       | 1400/30165 [37:28<12:46:47,  1.60s/it]"
     ]
    },
    {
     "name": "stdout",
     "output_type": "stream",
     "text": [
      "💾 Autosaved 1398 records...\n"
     ]
    },
    {
     "name": "stderr",
     "output_type": "stream",
     "text": [
      "Retry Scraping:   5%|██▉                                                       | 1500/30165 [40:08<12:55:03,  1.62s/it]"
     ]
    },
    {
     "name": "stdout",
     "output_type": "stream",
     "text": [
      "💾 Autosaved 1498 records...\n"
     ]
    },
    {
     "name": "stderr",
     "output_type": "stream",
     "text": [
      "Retry Scraping:   5%|███                                                       | 1600/30165 [42:51<13:09:17,  1.66s/it]"
     ]
    },
    {
     "name": "stdout",
     "output_type": "stream",
     "text": [
      "💾 Autosaved 1598 records...\n"
     ]
    },
    {
     "name": "stderr",
     "output_type": "stream",
     "text": [
      "Retry Scraping:   6%|███▎                                                      | 1700/30165 [45:33<12:36:54,  1.60s/it]"
     ]
    },
    {
     "name": "stdout",
     "output_type": "stream",
     "text": [
      "💾 Autosaved 1698 records...\n"
     ]
    },
    {
     "name": "stderr",
     "output_type": "stream",
     "text": [
      "Retry Scraping:   6%|███▍                                                      | 1800/30165 [48:12<12:25:49,  1.58s/it]"
     ]
    },
    {
     "name": "stdout",
     "output_type": "stream",
     "text": [
      "💾 Autosaved 1798 records...\n"
     ]
    },
    {
     "name": "stderr",
     "output_type": "stream",
     "text": [
      "Retry Scraping:   6%|███▋                                                      | 1900/30165 [50:49<12:15:09,  1.56s/it]"
     ]
    },
    {
     "name": "stdout",
     "output_type": "stream",
     "text": [
      "💾 Autosaved 1898 records...\n"
     ]
    },
    {
     "name": "stderr",
     "output_type": "stream",
     "text": [
      "Retry Scraping:   7%|███▊                                                      | 2000/30165 [53:27<12:13:56,  1.56s/it]"
     ]
    },
    {
     "name": "stdout",
     "output_type": "stream",
     "text": [
      "💾 Autosaved 1998 records...\n"
     ]
    },
    {
     "name": "stderr",
     "output_type": "stream",
     "text": [
      "Retry Scraping:   7%|███▊                                                      | 2010/30165 [53:42<12:22:46,  1.58s/it]"
     ]
    },
    {
     "name": "stdout",
     "output_type": "stream",
     "text": [
      "[2010] Error at (2005-05-13, 32.87, -95.77): HTTPSConnectionPool(host='archive-api.open-meteo.com', port=443): Read timed out. (read timeout=10)\n"
     ]
    },
    {
     "name": "stderr",
     "output_type": "stream",
     "text": [
      "Retry Scraping:   7%|███▊                                                      | 2011/30165 [54:04<58:20:57,  7.46s/it]"
     ]
    },
    {
     "name": "stdout",
     "output_type": "stream",
     "text": [
      "[2011] Error at (2005-05-13, 33.65, -117.69): HTTPSConnectionPool(host='archive-api.open-meteo.com', port=443): Read timed out. (read timeout=10)\n"
     ]
    },
    {
     "name": "stderr",
     "output_type": "stream",
     "text": [
      "Retry Scraping:   7%|███▊                                                      | 2012/30165 [54:15<67:02:57,  8.57s/it]"
     ]
    },
    {
     "name": "stdout",
     "output_type": "stream",
     "text": [
      "[2012] Error at (2005-05-13, 38.4, -122.82): HTTPSConnectionPool(host='archive-api.open-meteo.com', port=443): Read timed out. (read timeout=10)\n"
     ]
    },
    {
     "name": "stderr",
     "output_type": "stream",
     "text": [
      "Retry Scraping:   7%|████                                                      | 2100/30165 [56:44<12:18:28,  1.58s/it]"
     ]
    },
    {
     "name": "stdout",
     "output_type": "stream",
     "text": [
      "💾 Autosaved 2095 records...\n"
     ]
    },
    {
     "name": "stderr",
     "output_type": "stream",
     "text": [
      "Retry Scraping:   7%|████▏                                                     | 2200/30165 [59:22<12:26:27,  1.60s/it]"
     ]
    },
    {
     "name": "stdout",
     "output_type": "stream",
     "text": [
      "💾 Autosaved 2195 records...\n"
     ]
    },
    {
     "name": "stderr",
     "output_type": "stream",
     "text": [
      "Retry Scraping:   8%|████▎                                                   | 2300/30165 [1:02:01<12:06:12,  1.56s/it]"
     ]
    },
    {
     "name": "stdout",
     "output_type": "stream",
     "text": [
      "💾 Autosaved 2295 records...\n"
     ]
    },
    {
     "name": "stderr",
     "output_type": "stream",
     "text": [
      "Retry Scraping:   8%|████▍                                                   | 2400/30165 [1:04:39<12:10:50,  1.58s/it]"
     ]
    },
    {
     "name": "stdout",
     "output_type": "stream",
     "text": [
      "💾 Autosaved 2395 records...\n"
     ]
    },
    {
     "name": "stderr",
     "output_type": "stream",
     "text": [
      "Retry Scraping:   8%|████▋                                                   | 2500/30165 [1:07:17<12:07:06,  1.58s/it]"
     ]
    },
    {
     "name": "stdout",
     "output_type": "stream",
     "text": [
      "💾 Autosaved 2495 records...\n"
     ]
    },
    {
     "name": "stderr",
     "output_type": "stream",
     "text": [
      "Retry Scraping:   9%|████▊                                                   | 2600/30165 [1:09:54<11:57:57,  1.56s/it]"
     ]
    },
    {
     "name": "stdout",
     "output_type": "stream",
     "text": [
      "💾 Autosaved 2595 records...\n"
     ]
    },
    {
     "name": "stderr",
     "output_type": "stream",
     "text": [
      "Retry Scraping:   9%|█████                                                   | 2700/30165 [1:12:31<11:58:36,  1.57s/it]"
     ]
    },
    {
     "name": "stdout",
     "output_type": "stream",
     "text": [
      "💾 Autosaved 2695 records...\n"
     ]
    },
    {
     "name": "stderr",
     "output_type": "stream",
     "text": [
      "Retry Scraping:   9%|█████▏                                                  | 2800/30165 [1:15:09<11:53:39,  1.56s/it]"
     ]
    },
    {
     "name": "stdout",
     "output_type": "stream",
     "text": [
      "💾 Autosaved 2795 records...\n"
     ]
    },
    {
     "name": "stderr",
     "output_type": "stream",
     "text": [
      "Retry Scraping:  10%|█████▍                                                  | 2900/30165 [1:17:46<12:19:00,  1.63s/it]"
     ]
    },
    {
     "name": "stdout",
     "output_type": "stream",
     "text": [
      "💾 Autosaved 2895 records...\n"
     ]
    },
    {
     "name": "stderr",
     "output_type": "stream",
     "text": [
      "Retry Scraping:  10%|█████▌                                                  | 3000/30165 [1:20:25<11:49:49,  1.57s/it]"
     ]
    },
    {
     "name": "stdout",
     "output_type": "stream",
     "text": [
      "💾 Autosaved 2995 records...\n"
     ]
    },
    {
     "name": "stderr",
     "output_type": "stream",
     "text": [
      "Retry Scraping:  10%|█████▊                                                  | 3100/30165 [1:23:03<11:54:53,  1.58s/it]"
     ]
    },
    {
     "name": "stdout",
     "output_type": "stream",
     "text": [
      "💾 Autosaved 3095 records...\n"
     ]
    },
    {
     "name": "stderr",
     "output_type": "stream",
     "text": [
      "Retry Scraping:  11%|█████▉                                                  | 3200/30165 [1:25:40<11:50:24,  1.58s/it]"
     ]
    },
    {
     "name": "stdout",
     "output_type": "stream",
     "text": [
      "💾 Autosaved 3195 records...\n"
     ]
    },
    {
     "name": "stderr",
     "output_type": "stream",
     "text": [
      "Retry Scraping:  11%|██████▏                                                 | 3300/30165 [1:28:17<11:46:59,  1.58s/it]"
     ]
    },
    {
     "name": "stdout",
     "output_type": "stream",
     "text": [
      "💾 Autosaved 3295 records...\n"
     ]
    },
    {
     "name": "stderr",
     "output_type": "stream",
     "text": [
      "Retry Scraping:  11%|██████▎                                                 | 3400/30165 [1:30:55<11:42:07,  1.57s/it]"
     ]
    },
    {
     "name": "stdout",
     "output_type": "stream",
     "text": [
      "💾 Autosaved 3395 records...\n"
     ]
    },
    {
     "name": "stderr",
     "output_type": "stream",
     "text": [
      "Retry Scraping:  12%|██████▍                                                 | 3500/30165 [1:33:32<11:39:13,  1.57s/it]"
     ]
    },
    {
     "name": "stdout",
     "output_type": "stream",
     "text": [
      "💾 Autosaved 3495 records...\n"
     ]
    },
    {
     "name": "stderr",
     "output_type": "stream",
     "text": [
      "Retry Scraping:  12%|██████▋                                                 | 3600/30165 [1:36:10<11:38:25,  1.58s/it]"
     ]
    },
    {
     "name": "stdout",
     "output_type": "stream",
     "text": [
      "💾 Autosaved 3595 records...\n"
     ]
    },
    {
     "name": "stderr",
     "output_type": "stream",
     "text": [
      "Retry Scraping:  12%|██████▊                                                 | 3700/30165 [1:38:48<11:40:28,  1.59s/it]"
     ]
    },
    {
     "name": "stdout",
     "output_type": "stream",
     "text": [
      "💾 Autosaved 3695 records...\n"
     ]
    },
    {
     "name": "stderr",
     "output_type": "stream",
     "text": [
      "Retry Scraping:  13%|███████                                                 | 3800/30165 [1:41:25<11:29:29,  1.57s/it]"
     ]
    },
    {
     "name": "stdout",
     "output_type": "stream",
     "text": [
      "💾 Autosaved 3795 records...\n"
     ]
    },
    {
     "name": "stderr",
     "output_type": "stream",
     "text": [
      "Retry Scraping:  13%|███████▏                                                | 3900/30165 [1:44:02<11:28:38,  1.57s/it]"
     ]
    },
    {
     "name": "stdout",
     "output_type": "stream",
     "text": [
      "💾 Autosaved 3895 records...\n"
     ]
    },
    {
     "name": "stderr",
     "output_type": "stream",
     "text": [
      "Retry Scraping:  13%|███████▍                                                | 4000/30165 [1:46:40<11:20:43,  1.56s/it]"
     ]
    },
    {
     "name": "stdout",
     "output_type": "stream",
     "text": [
      "💾 Autosaved 3995 records...\n"
     ]
    },
    {
     "name": "stderr",
     "output_type": "stream",
     "text": [
      "Retry Scraping:  14%|███████▌                                                | 4100/30165 [1:49:17<11:22:00,  1.57s/it]"
     ]
    },
    {
     "name": "stdout",
     "output_type": "stream",
     "text": [
      "💾 Autosaved 4095 records...\n"
     ]
    },
    {
     "name": "stderr",
     "output_type": "stream",
     "text": [
      "Retry Scraping:  14%|███████▊                                                | 4200/30165 [1:51:55<11:19:04,  1.57s/it]"
     ]
    },
    {
     "name": "stdout",
     "output_type": "stream",
     "text": [
      "💾 Autosaved 4195 records...\n"
     ]
    },
    {
     "name": "stderr",
     "output_type": "stream",
     "text": [
      "Retry Scraping:  14%|███████▉                                                | 4300/30165 [1:54:34<11:18:05,  1.57s/it]"
     ]
    },
    {
     "name": "stdout",
     "output_type": "stream",
     "text": [
      "💾 Autosaved 4295 records...\n"
     ]
    },
    {
     "name": "stderr",
     "output_type": "stream",
     "text": [
      "Retry Scraping:  15%|████████▏                                               | 4400/30165 [1:57:12<11:20:03,  1.58s/it]"
     ]
    },
    {
     "name": "stdout",
     "output_type": "stream",
     "text": [
      "💾 Autosaved 4395 records...\n"
     ]
    },
    {
     "name": "stderr",
     "output_type": "stream",
     "text": [
      "Retry Scraping:  15%|████████▎                                               | 4500/30165 [1:59:49<11:18:19,  1.59s/it]"
     ]
    },
    {
     "name": "stdout",
     "output_type": "stream",
     "text": [
      "💾 Autosaved 4495 records...\n"
     ]
    },
    {
     "name": "stderr",
     "output_type": "stream",
     "text": [
      "Retry Scraping:  15%|████████▌                                               | 4600/30165 [2:02:26<11:03:39,  1.56s/it]"
     ]
    },
    {
     "name": "stdout",
     "output_type": "stream",
     "text": [
      "💾 Autosaved 4595 records...\n"
     ]
    },
    {
     "name": "stderr",
     "output_type": "stream",
     "text": [
      "Retry Scraping:  16%|████████▋                                               | 4700/30165 [2:05:05<11:03:48,  1.56s/it]"
     ]
    },
    {
     "name": "stdout",
     "output_type": "stream",
     "text": [
      "💾 Autosaved 4695 records...\n"
     ]
    },
    {
     "name": "stderr",
     "output_type": "stream",
     "text": [
      "Retry Scraping:  16%|████████▉                                               | 4800/30165 [2:07:43<11:07:51,  1.58s/it]"
     ]
    },
    {
     "name": "stdout",
     "output_type": "stream",
     "text": [
      "💾 Autosaved 4795 records...\n"
     ]
    },
    {
     "name": "stderr",
     "output_type": "stream",
     "text": [
      "Retry Scraping:  16%|█████████                                               | 4900/30165 [2:10:20<11:04:20,  1.58s/it]"
     ]
    },
    {
     "name": "stdout",
     "output_type": "stream",
     "text": [
      "💾 Autosaved 4895 records...\n"
     ]
    },
    {
     "name": "stderr",
     "output_type": "stream",
     "text": [
      "Retry Scraping:  17%|█████████▎                                              | 5000/30165 [2:12:58<10:57:07,  1.57s/it]"
     ]
    },
    {
     "name": "stdout",
     "output_type": "stream",
     "text": [
      "💾 Autosaved 4995 records...\n"
     ]
    },
    {
     "name": "stderr",
     "output_type": "stream",
     "text": [
      "Retry Scraping:  17%|█████████▍                                              | 5100/30165 [2:15:36<10:58:20,  1.58s/it]"
     ]
    },
    {
     "name": "stdout",
     "output_type": "stream",
     "text": [
      "💾 Autosaved 5095 records...\n"
     ]
    },
    {
     "name": "stderr",
     "output_type": "stream",
     "text": [
      "Retry Scraping:  17%|█████████▋                                              | 5200/30165 [2:18:13<10:53:16,  1.57s/it]"
     ]
    },
    {
     "name": "stdout",
     "output_type": "stream",
     "text": [
      "💾 Autosaved 5195 records...\n"
     ]
    },
    {
     "name": "stderr",
     "output_type": "stream",
     "text": [
      "Retry Scraping:  18%|█████████▊                                              | 5300/30165 [2:20:53<10:55:47,  1.58s/it]"
     ]
    },
    {
     "name": "stdout",
     "output_type": "stream",
     "text": [
      "💾 Autosaved 5295 records...\n"
     ]
    },
    {
     "name": "stderr",
     "output_type": "stream",
     "text": [
      "Retry Scraping:  18%|██████████                                              | 5400/30165 [2:23:31<10:47:10,  1.57s/it]"
     ]
    },
    {
     "name": "stdout",
     "output_type": "stream",
     "text": [
      "💾 Autosaved 5395 records...\n"
     ]
    },
    {
     "name": "stderr",
     "output_type": "stream",
     "text": [
      "Retry Scraping:  18%|██████████▏                                             | 5500/30165 [2:26:09<10:47:00,  1.57s/it]"
     ]
    },
    {
     "name": "stdout",
     "output_type": "stream",
     "text": [
      "💾 Autosaved 5495 records...\n"
     ]
    },
    {
     "name": "stderr",
     "output_type": "stream",
     "text": [
      "Retry Scraping:  19%|██████████▍                                             | 5600/30165 [2:28:49<10:52:37,  1.59s/it]"
     ]
    },
    {
     "name": "stdout",
     "output_type": "stream",
     "text": [
      "💾 Autosaved 5592 records...\n"
     ]
    },
    {
     "name": "stderr",
     "output_type": "stream",
     "text": [
      "Retry Scraping:  19%|██████████▌                                             | 5700/30165 [2:31:29<10:53:04,  1.60s/it]"
     ]
    },
    {
     "name": "stdout",
     "output_type": "stream",
     "text": [
      "💾 Autosaved 5692 records...\n"
     ]
    },
    {
     "name": "stderr",
     "output_type": "stream",
     "text": [
      "Retry Scraping:  19%|██████████▊                                             | 5800/30165 [2:34:10<10:46:32,  1.59s/it]"
     ]
    },
    {
     "name": "stdout",
     "output_type": "stream",
     "text": [
      "💾 Autosaved 5792 records...\n"
     ]
    },
    {
     "name": "stderr",
     "output_type": "stream",
     "text": [
      "Retry Scraping:  20%|██████████▉                                             | 5900/30165 [2:36:51<10:48:08,  1.60s/it]"
     ]
    },
    {
     "name": "stdout",
     "output_type": "stream",
     "text": [
      "💾 Autosaved 5892 records...\n"
     ]
    },
    {
     "name": "stderr",
     "output_type": "stream",
     "text": [
      "Retry Scraping:  20%|███████████▏                                            | 6000/30165 [2:39:32<10:47:52,  1.61s/it]"
     ]
    },
    {
     "name": "stdout",
     "output_type": "stream",
     "text": [
      "💾 Autosaved 5992 records...\n"
     ]
    },
    {
     "name": "stderr",
     "output_type": "stream",
     "text": [
      "Retry Scraping:  20%|███████████▎                                            | 6100/30165 [2:42:12<10:34:42,  1.58s/it]"
     ]
    },
    {
     "name": "stdout",
     "output_type": "stream",
     "text": [
      "💾 Autosaved 6092 records...\n"
     ]
    },
    {
     "name": "stderr",
     "output_type": "stream",
     "text": [
      "Retry Scraping:  21%|███████████▌                                            | 6200/30165 [2:44:50<10:29:31,  1.58s/it]"
     ]
    },
    {
     "name": "stdout",
     "output_type": "stream",
     "text": [
      "💾 Autosaved 6192 records...\n"
     ]
    },
    {
     "name": "stderr",
     "output_type": "stream",
     "text": [
      "Retry Scraping:  21%|███████████▋                                            | 6300/30165 [2:47:29<10:25:20,  1.57s/it]"
     ]
    },
    {
     "name": "stdout",
     "output_type": "stream",
     "text": [
      "💾 Autosaved 6292 records...\n"
     ]
    },
    {
     "name": "stderr",
     "output_type": "stream",
     "text": [
      "Retry Scraping:  21%|███████████▉                                            | 6400/30165 [2:50:06<10:20:55,  1.57s/it]"
     ]
    },
    {
     "name": "stdout",
     "output_type": "stream",
     "text": [
      "💾 Autosaved 6392 records...\n"
     ]
    },
    {
     "name": "stderr",
     "output_type": "stream",
     "text": [
      "Retry Scraping:  22%|████████████                                            | 6500/30165 [2:52:44<10:21:10,  1.57s/it]"
     ]
    },
    {
     "name": "stdout",
     "output_type": "stream",
     "text": [
      "💾 Autosaved 6492 records...\n"
     ]
    },
    {
     "name": "stderr",
     "output_type": "stream",
     "text": [
      "Retry Scraping:  22%|████████████▎                                           | 6600/30165 [2:55:23<10:24:44,  1.59s/it]"
     ]
    },
    {
     "name": "stdout",
     "output_type": "stream",
     "text": [
      "💾 Autosaved 6592 records...\n"
     ]
    },
    {
     "name": "stderr",
     "output_type": "stream",
     "text": [
      "Retry Scraping:  22%|████████████▍                                           | 6700/30165 [2:58:01<10:38:45,  1.63s/it]"
     ]
    },
    {
     "name": "stdout",
     "output_type": "stream",
     "text": [
      "💾 Autosaved 6692 records...\n"
     ]
    },
    {
     "name": "stderr",
     "output_type": "stream",
     "text": [
      "Retry Scraping:  23%|████████████▌                                           | 6800/30165 [3:00:44<10:21:32,  1.60s/it]"
     ]
    },
    {
     "name": "stdout",
     "output_type": "stream",
     "text": [
      "💾 Autosaved 6792 records...\n"
     ]
    },
    {
     "name": "stderr",
     "output_type": "stream",
     "text": [
      "Retry Scraping:  23%|████████████▊                                           | 6900/30165 [3:03:25<10:27:03,  1.62s/it]"
     ]
    },
    {
     "name": "stdout",
     "output_type": "stream",
     "text": [
      "💾 Autosaved 6892 records...\n"
     ]
    },
    {
     "name": "stderr",
     "output_type": "stream",
     "text": [
      "Retry Scraping:  23%|████████████▉                                           | 7000/30165 [3:06:06<10:15:42,  1.59s/it]"
     ]
    },
    {
     "name": "stdout",
     "output_type": "stream",
     "text": [
      "💾 Autosaved 6992 records...\n"
     ]
    },
    {
     "name": "stderr",
     "output_type": "stream",
     "text": [
      "Retry Scraping:  24%|█████████████▏                                          | 7100/30165 [3:08:46<10:11:13,  1.59s/it]"
     ]
    },
    {
     "name": "stdout",
     "output_type": "stream",
     "text": [
      "💾 Autosaved 7092 records...\n"
     ]
    },
    {
     "name": "stderr",
     "output_type": "stream",
     "text": [
      "Retry Scraping:  24%|█████████████▎                                          | 7200/30165 [3:11:25<10:03:05,  1.58s/it]"
     ]
    },
    {
     "name": "stdout",
     "output_type": "stream",
     "text": [
      "💾 Autosaved 7192 records...\n"
     ]
    },
    {
     "name": "stderr",
     "output_type": "stream",
     "text": [
      "Retry Scraping:  24%|█████████████▊                                           | 7300/30165 [3:14:03<9:57:50,  1.57s/it]"
     ]
    },
    {
     "name": "stdout",
     "output_type": "stream",
     "text": [
      "💾 Autosaved 7292 records...\n"
     ]
    },
    {
     "name": "stderr",
     "output_type": "stream",
     "text": [
      "Retry Scraping:  25%|█████████████▉                                           | 7400/30165 [3:16:41<9:52:50,  1.56s/it]"
     ]
    },
    {
     "name": "stdout",
     "output_type": "stream",
     "text": [
      "💾 Autosaved 7392 records...\n"
     ]
    },
    {
     "name": "stderr",
     "output_type": "stream",
     "text": [
      "Retry Scraping:  25%|██████████████▏                                          | 7500/30165 [3:19:19<9:51:20,  1.57s/it]"
     ]
    },
    {
     "name": "stdout",
     "output_type": "stream",
     "text": [
      "💾 Autosaved 7492 records...\n"
     ]
    },
    {
     "name": "stderr",
     "output_type": "stream",
     "text": [
      "Retry Scraping:  25%|██████████████▎                                          | 7600/30165 [3:21:57<9:54:22,  1.58s/it]"
     ]
    },
    {
     "name": "stdout",
     "output_type": "stream",
     "text": [
      "💾 Autosaved 7592 records...\n"
     ]
    },
    {
     "name": "stderr",
     "output_type": "stream",
     "text": [
      "Retry Scraping:  26%|██████████████▌                                          | 7700/30165 [3:24:34<9:50:22,  1.58s/it]"
     ]
    },
    {
     "name": "stdout",
     "output_type": "stream",
     "text": [
      "💾 Autosaved 7692 records...\n"
     ]
    },
    {
     "name": "stderr",
     "output_type": "stream",
     "text": [
      "Retry Scraping:  26%|██████████████▋                                          | 7800/30165 [3:27:12<9:45:26,  1.57s/it]"
     ]
    },
    {
     "name": "stdout",
     "output_type": "stream",
     "text": [
      "💾 Autosaved 7792 records...\n"
     ]
    },
    {
     "name": "stderr",
     "output_type": "stream",
     "text": [
      "Retry Scraping:  26%|██████████████▉                                          | 7900/30165 [3:29:50<9:44:41,  1.58s/it]"
     ]
    },
    {
     "name": "stdout",
     "output_type": "stream",
     "text": [
      "💾 Autosaved 7892 records...\n"
     ]
    },
    {
     "name": "stderr",
     "output_type": "stream",
     "text": [
      "Retry Scraping:  27%|███████████████                                          | 8000/30165 [3:32:29<9:44:30,  1.58s/it]"
     ]
    },
    {
     "name": "stdout",
     "output_type": "stream",
     "text": [
      "💾 Autosaved 7992 records...\n"
     ]
    },
    {
     "name": "stderr",
     "output_type": "stream",
     "text": [
      "Retry Scraping:  27%|███████████████▎                                         | 8100/30165 [3:35:08<9:38:05,  1.57s/it]"
     ]
    },
    {
     "name": "stdout",
     "output_type": "stream",
     "text": [
      "💾 Autosaved 8092 records...\n"
     ]
    },
    {
     "name": "stderr",
     "output_type": "stream",
     "text": [
      "Retry Scraping:  27%|███████████████▍                                         | 8200/30165 [3:37:46<9:57:31,  1.63s/it]"
     ]
    },
    {
     "name": "stdout",
     "output_type": "stream",
     "text": [
      "💾 Autosaved 8192 records...\n"
     ]
    },
    {
     "name": "stderr",
     "output_type": "stream",
     "text": [
      "Retry Scraping:  28%|███████████████▋                                         | 8300/30165 [3:40:25<9:39:09,  1.59s/it]"
     ]
    },
    {
     "name": "stdout",
     "output_type": "stream",
     "text": [
      "💾 Autosaved 8292 records...\n"
     ]
    },
    {
     "name": "stderr",
     "output_type": "stream",
     "text": [
      "Retry Scraping:  28%|███████████████▊                                         | 8400/30165 [3:43:03<9:32:39,  1.58s/it]"
     ]
    },
    {
     "name": "stdout",
     "output_type": "stream",
     "text": [
      "💾 Autosaved 8392 records...\n"
     ]
    },
    {
     "name": "stderr",
     "output_type": "stream",
     "text": [
      "Retry Scraping:  28%|████████████████                                         | 8500/30165 [3:45:41<9:25:49,  1.57s/it]"
     ]
    },
    {
     "name": "stdout",
     "output_type": "stream",
     "text": [
      "💾 Autosaved 8492 records...\n"
     ]
    },
    {
     "name": "stderr",
     "output_type": "stream",
     "text": [
      "Retry Scraping:  29%|████████████████▎                                        | 8600/30165 [3:48:18<9:23:53,  1.57s/it]"
     ]
    },
    {
     "name": "stdout",
     "output_type": "stream",
     "text": [
      "💾 Autosaved 8592 records...\n"
     ]
    },
    {
     "name": "stderr",
     "output_type": "stream",
     "text": [
      "Retry Scraping:  29%|████████████████▍                                        | 8700/30165 [3:50:57<9:24:08,  1.58s/it]"
     ]
    },
    {
     "name": "stdout",
     "output_type": "stream",
     "text": [
      "💾 Autosaved 8692 records...\n"
     ]
    },
    {
     "name": "stderr",
     "output_type": "stream",
     "text": [
      "Retry Scraping:  29%|████████████████▋                                        | 8800/30165 [3:53:34<9:20:48,  1.57s/it]"
     ]
    },
    {
     "name": "stdout",
     "output_type": "stream",
     "text": [
      "💾 Autosaved 8792 records...\n"
     ]
    },
    {
     "name": "stderr",
     "output_type": "stream",
     "text": [
      "Retry Scraping:  30%|████████████████▊                                        | 8900/30165 [3:56:13<9:23:30,  1.59s/it]"
     ]
    },
    {
     "name": "stdout",
     "output_type": "stream",
     "text": [
      "💾 Autosaved 8892 records...\n"
     ]
    },
    {
     "name": "stderr",
     "output_type": "stream",
     "text": [
      "Retry Scraping:  30%|█████████████████                                        | 9000/30165 [3:58:52<9:25:06,  1.60s/it]"
     ]
    },
    {
     "name": "stdout",
     "output_type": "stream",
     "text": [
      "💾 Autosaved 8992 records...\n"
     ]
    },
    {
     "name": "stderr",
     "output_type": "stream",
     "text": [
      "Retry Scraping:  30%|█████████████████▏                                       | 9100/30165 [4:01:30<9:18:05,  1.59s/it]"
     ]
    },
    {
     "name": "stdout",
     "output_type": "stream",
     "text": [
      "💾 Autosaved 9092 records...\n"
     ]
    },
    {
     "name": "stderr",
     "output_type": "stream",
     "text": [
      "Retry Scraping:  30%|█████████████████▍                                       | 9200/30165 [4:04:08<9:09:24,  1.57s/it]"
     ]
    },
    {
     "name": "stdout",
     "output_type": "stream",
     "text": [
      "💾 Autosaved 9192 records...\n"
     ]
    },
    {
     "name": "stderr",
     "output_type": "stream",
     "text": [
      "Retry Scraping:  31%|█████████████████▌                                       | 9300/30165 [4:06:46<9:10:44,  1.58s/it]"
     ]
    },
    {
     "name": "stdout",
     "output_type": "stream",
     "text": [
      "💾 Autosaved 9292 records...\n"
     ]
    },
    {
     "name": "stderr",
     "output_type": "stream",
     "text": [
      "Retry Scraping:  31%|█████████████████▊                                       | 9400/30165 [4:09:23<9:04:44,  1.57s/it]"
     ]
    },
    {
     "name": "stdout",
     "output_type": "stream",
     "text": [
      "💾 Autosaved 9392 records...\n"
     ]
    },
    {
     "name": "stderr",
     "output_type": "stream",
     "text": [
      "Retry Scraping:  31%|█████████████████▉                                       | 9500/30165 [4:12:01<9:01:24,  1.57s/it]"
     ]
    },
    {
     "name": "stdout",
     "output_type": "stream",
     "text": [
      "💾 Autosaved 9492 records...\n"
     ]
    },
    {
     "name": "stderr",
     "output_type": "stream",
     "text": [
      "Retry Scraping:  32%|██████████████████▏                                      | 9600/30165 [4:14:39<9:09:45,  1.60s/it]"
     ]
    },
    {
     "name": "stdout",
     "output_type": "stream",
     "text": [
      "💾 Autosaved 9592 records...\n"
     ]
    },
    {
     "name": "stderr",
     "output_type": "stream",
     "text": [
      "Retry Scraping:  32%|██████████████████▎                                      | 9700/30165 [4:17:17<9:12:38,  1.62s/it]"
     ]
    },
    {
     "name": "stdout",
     "output_type": "stream",
     "text": [
      "💾 Autosaved 9691 records...\n"
     ]
    },
    {
     "name": "stderr",
     "output_type": "stream",
     "text": [
      "Retry Scraping:  32%|██████████████████▌                                      | 9800/30165 [4:19:58<9:06:33,  1.61s/it]"
     ]
    },
    {
     "name": "stdout",
     "output_type": "stream",
     "text": [
      "💾 Autosaved 9791 records...\n"
     ]
    },
    {
     "name": "stderr",
     "output_type": "stream",
     "text": [
      "Retry Scraping:  33%|██████████████████▋                                      | 9900/30165 [4:22:39<9:02:40,  1.61s/it]"
     ]
    },
    {
     "name": "stdout",
     "output_type": "stream",
     "text": [
      "💾 Autosaved 9891 records...\n"
     ]
    },
    {
     "name": "stderr",
     "output_type": "stream",
     "text": [
      "Retry Scraping:  33%|██████████████████▌                                     | 10000/30165 [4:25:17<8:51:08,  1.58s/it]"
     ]
    },
    {
     "name": "stdout",
     "output_type": "stream",
     "text": [
      "💾 Autosaved 9991 records...\n"
     ]
    },
    {
     "name": "stderr",
     "output_type": "stream",
     "text": [
      "Retry Scraping:  33%|██████████████████▊                                     | 10100/30165 [4:27:54<8:40:59,  1.56s/it]"
     ]
    },
    {
     "name": "stdout",
     "output_type": "stream",
     "text": [
      "💾 Autosaved 10001 records...\n"
     ]
    },
    {
     "name": "stderr",
     "output_type": "stream",
     "text": [
      "Retry Scraping:  34%|██████████████████▉                                     | 10200/30165 [4:30:30<8:44:20,  1.58s/it]"
     ]
    },
    {
     "name": "stdout",
     "output_type": "stream",
     "text": [
      "💾 Autosaved 10001 records...\n"
     ]
    },
    {
     "name": "stderr",
     "output_type": "stream",
     "text": [
      "Retry Scraping:  34%|███████████████████                                     | 10300/30165 [4:33:07<8:36:28,  1.56s/it]"
     ]
    },
    {
     "name": "stdout",
     "output_type": "stream",
     "text": [
      "💾 Autosaved 10001 records...\n"
     ]
    },
    {
     "name": "stderr",
     "output_type": "stream",
     "text": [
      "Retry Scraping:  34%|███████████████████▎                                    | 10400/30165 [4:35:43<8:34:48,  1.56s/it]"
     ]
    },
    {
     "name": "stdout",
     "output_type": "stream",
     "text": [
      "💾 Autosaved 10001 records...\n"
     ]
    },
    {
     "name": "stderr",
     "output_type": "stream",
     "text": [
      "Retry Scraping:  35%|███████████████████▍                                    | 10500/30165 [4:38:19<8:32:22,  1.56s/it]"
     ]
    },
    {
     "name": "stdout",
     "output_type": "stream",
     "text": [
      "💾 Autosaved 10001 records...\n"
     ]
    },
    {
     "name": "stderr",
     "output_type": "stream",
     "text": [
      "Retry Scraping:  35%|███████████████████▋                                    | 10600/30165 [4:40:56<8:37:11,  1.59s/it]"
     ]
    },
    {
     "name": "stdout",
     "output_type": "stream",
     "text": [
      "💾 Autosaved 10018 records...\n"
     ]
    },
    {
     "name": "stderr",
     "output_type": "stream",
     "text": [
      "Retry Scraping:  35%|███████████████████▊                                    | 10700/30165 [4:43:33<8:32:29,  1.58s/it]"
     ]
    },
    {
     "name": "stdout",
     "output_type": "stream",
     "text": [
      "💾 Autosaved 10118 records...\n"
     ]
    },
    {
     "name": "stderr",
     "output_type": "stream",
     "text": [
      "Retry Scraping:  36%|████████████████████                                    | 10800/30165 [4:46:12<8:29:29,  1.58s/it]"
     ]
    },
    {
     "name": "stdout",
     "output_type": "stream",
     "text": [
      "💾 Autosaved 10218 records...\n"
     ]
    },
    {
     "name": "stderr",
     "output_type": "stream",
     "text": [
      "Retry Scraping:  36%|████████████████████▏                                   | 10900/30165 [4:48:49<8:31:43,  1.59s/it]"
     ]
    },
    {
     "name": "stdout",
     "output_type": "stream",
     "text": [
      "💾 Autosaved 10318 records...\n"
     ]
    },
    {
     "name": "stderr",
     "output_type": "stream",
     "text": [
      "Retry Scraping:  36%|████████████████████▍                                   | 11000/30165 [4:51:27<8:30:45,  1.60s/it]"
     ]
    },
    {
     "name": "stdout",
     "output_type": "stream",
     "text": [
      "💾 Autosaved 10418 records...\n"
     ]
    },
    {
     "name": "stderr",
     "output_type": "stream",
     "text": [
      "Retry Scraping:  37%|████████████████████▌                                   | 11100/30165 [4:54:05<8:19:23,  1.57s/it]"
     ]
    },
    {
     "name": "stdout",
     "output_type": "stream",
     "text": [
      "💾 Autosaved 10518 records...\n"
     ]
    },
    {
     "name": "stderr",
     "output_type": "stream",
     "text": [
      "Retry Scraping:  37%|████████████████████▊                                   | 11200/30165 [4:56:44<8:17:36,  1.57s/it]"
     ]
    },
    {
     "name": "stdout",
     "output_type": "stream",
     "text": [
      "💾 Autosaved 10618 records...\n"
     ]
    },
    {
     "name": "stderr",
     "output_type": "stream",
     "text": [
      "Retry Scraping:  37%|████████████████████▉                                   | 11300/30165 [4:59:22<8:13:47,  1.57s/it]"
     ]
    },
    {
     "name": "stdout",
     "output_type": "stream",
     "text": [
      "💾 Autosaved 10718 records...\n"
     ]
    },
    {
     "name": "stderr",
     "output_type": "stream",
     "text": [
      "Retry Scraping:  38%|█████████████████████▏                                  | 11400/30165 [5:02:00<8:10:36,  1.57s/it]"
     ]
    },
    {
     "name": "stdout",
     "output_type": "stream",
     "text": [
      "💾 Autosaved 10818 records...\n"
     ]
    },
    {
     "name": "stderr",
     "output_type": "stream",
     "text": [
      "Retry Scraping:  38%|█████████████████████▎                                  | 11500/30165 [5:04:38<8:14:04,  1.59s/it]"
     ]
    },
    {
     "name": "stdout",
     "output_type": "stream",
     "text": [
      "💾 Autosaved 10918 records...\n"
     ]
    },
    {
     "name": "stderr",
     "output_type": "stream",
     "text": [
      "Retry Scraping:  38%|█████████████████████▌                                  | 11600/30165 [5:07:21<8:36:51,  1.67s/it]"
     ]
    },
    {
     "name": "stdout",
     "output_type": "stream",
     "text": [
      "💾 Autosaved 11018 records...\n"
     ]
    },
    {
     "name": "stderr",
     "output_type": "stream",
     "text": [
      "Retry Scraping:  39%|█████████████████████▋                                  | 11700/30165 [5:10:03<8:15:08,  1.61s/it]"
     ]
    },
    {
     "name": "stdout",
     "output_type": "stream",
     "text": [
      "💾 Autosaved 11118 records...\n"
     ]
    },
    {
     "name": "stderr",
     "output_type": "stream",
     "text": [
      "Retry Scraping:  39%|█████████████████████▉                                  | 11800/30165 [5:12:42<8:00:16,  1.57s/it]"
     ]
    },
    {
     "name": "stdout",
     "output_type": "stream",
     "text": [
      "💾 Autosaved 11218 records...\n"
     ]
    },
    {
     "name": "stderr",
     "output_type": "stream",
     "text": [
      "Retry Scraping:  39%|██████████████████████                                  | 11900/30165 [5:15:20<8:00:27,  1.58s/it]"
     ]
    },
    {
     "name": "stdout",
     "output_type": "stream",
     "text": [
      "💾 Autosaved 11318 records...\n"
     ]
    },
    {
     "name": "stderr",
     "output_type": "stream",
     "text": [
      "Retry Scraping:  40%|██████████████████████▎                                 | 12000/30165 [5:17:59<7:56:55,  1.58s/it]"
     ]
    },
    {
     "name": "stdout",
     "output_type": "stream",
     "text": [
      "💾 Autosaved 11418 records...\n"
     ]
    },
    {
     "name": "stderr",
     "output_type": "stream",
     "text": [
      "Retry Scraping:  40%|██████████████████████▍                                 | 12100/30165 [5:20:36<7:57:47,  1.59s/it]"
     ]
    },
    {
     "name": "stdout",
     "output_type": "stream",
     "text": [
      "💾 Autosaved 11518 records...\n"
     ]
    },
    {
     "name": "stderr",
     "output_type": "stream",
     "text": [
      "Retry Scraping:  40%|██████████████████████▋                                 | 12200/30165 [5:23:14<7:53:19,  1.58s/it]"
     ]
    },
    {
     "name": "stdout",
     "output_type": "stream",
     "text": [
      "💾 Autosaved 11618 records...\n"
     ]
    },
    {
     "name": "stderr",
     "output_type": "stream",
     "text": [
      "Retry Scraping:  41%|██████████████████████▊                                 | 12300/30165 [5:25:52<7:47:46,  1.57s/it]"
     ]
    },
    {
     "name": "stdout",
     "output_type": "stream",
     "text": [
      "💾 Autosaved 11718 records...\n"
     ]
    },
    {
     "name": "stderr",
     "output_type": "stream",
     "text": [
      "Retry Scraping:  41%|███████████████████████                                 | 12400/30165 [5:28:30<7:48:56,  1.58s/it]"
     ]
    },
    {
     "name": "stdout",
     "output_type": "stream",
     "text": [
      "💾 Autosaved 11818 records...\n"
     ]
    },
    {
     "name": "stderr",
     "output_type": "stream",
     "text": [
      "Retry Scraping:  41%|███████████████████████▏                                | 12500/30165 [5:31:08<7:42:50,  1.57s/it]"
     ]
    },
    {
     "name": "stdout",
     "output_type": "stream",
     "text": [
      "💾 Autosaved 11918 records...\n"
     ]
    },
    {
     "name": "stderr",
     "output_type": "stream",
     "text": [
      "Retry Scraping:  42%|███████████████████████▍                                | 12600/30165 [5:33:48<7:49:10,  1.60s/it]"
     ]
    },
    {
     "name": "stdout",
     "output_type": "stream",
     "text": [
      "💾 Autosaved 12018 records...\n"
     ]
    },
    {
     "name": "stderr",
     "output_type": "stream",
     "text": [
      "Retry Scraping:  42%|███████████████████████▌                                | 12700/30165 [5:36:40<7:52:00,  1.62s/it]"
     ]
    },
    {
     "name": "stdout",
     "output_type": "stream",
     "text": [
      "💾 Autosaved 12118 records...\n"
     ]
    },
    {
     "name": "stderr",
     "output_type": "stream",
     "text": [
      "Retry Scraping:  42%|███████████████████████▊                                | 12800/30165 [5:39:21<7:48:11,  1.62s/it]"
     ]
    },
    {
     "name": "stdout",
     "output_type": "stream",
     "text": [
      "💾 Autosaved 12218 records...\n"
     ]
    },
    {
     "name": "stderr",
     "output_type": "stream",
     "text": [
      "Retry Scraping:  43%|███████████████████████▉                                | 12900/30165 [5:42:00<7:30:28,  1.57s/it]"
     ]
    },
    {
     "name": "stdout",
     "output_type": "stream",
     "text": [
      "💾 Autosaved 12318 records...\n"
     ]
    },
    {
     "name": "stderr",
     "output_type": "stream",
     "text": [
      "Retry Scraping:  43%|████████████████████████▏                               | 13000/30165 [5:44:38<7:29:41,  1.57s/it]"
     ]
    },
    {
     "name": "stdout",
     "output_type": "stream",
     "text": [
      "💾 Autosaved 12418 records...\n"
     ]
    },
    {
     "name": "stderr",
     "output_type": "stream",
     "text": [
      "Retry Scraping:  43%|████████████████████████▎                               | 13100/30165 [5:47:16<7:26:30,  1.57s/it]"
     ]
    },
    {
     "name": "stdout",
     "output_type": "stream",
     "text": [
      "💾 Autosaved 12518 records...\n"
     ]
    },
    {
     "name": "stderr",
     "output_type": "stream",
     "text": [
      "Retry Scraping:  44%|████████████████████████▌                               | 13200/30165 [5:49:55<7:31:49,  1.60s/it]"
     ]
    },
    {
     "name": "stdout",
     "output_type": "stream",
     "text": [
      "💾 Autosaved 12618 records...\n"
     ]
    },
    {
     "name": "stderr",
     "output_type": "stream",
     "text": [
      "Retry Scraping:  44%|████████████████████████▋                               | 13300/30165 [5:52:33<7:29:48,  1.60s/it]"
     ]
    },
    {
     "name": "stdout",
     "output_type": "stream",
     "text": [
      "💾 Autosaved 12718 records...\n"
     ]
    },
    {
     "name": "stderr",
     "output_type": "stream",
     "text": [
      "Retry Scraping:  44%|████████████████████████▉                               | 13400/30165 [5:55:11<7:23:20,  1.59s/it]"
     ]
    },
    {
     "name": "stdout",
     "output_type": "stream",
     "text": [
      "💾 Autosaved 12818 records...\n"
     ]
    },
    {
     "name": "stderr",
     "output_type": "stream",
     "text": [
      "Retry Scraping:  45%|█████████████████████████                               | 13500/30165 [5:57:50<7:19:14,  1.58s/it]"
     ]
    },
    {
     "name": "stdout",
     "output_type": "stream",
     "text": [
      "💾 Autosaved 12918 records...\n"
     ]
    },
    {
     "name": "stderr",
     "output_type": "stream",
     "text": [
      "Retry Scraping:  45%|█████████████████████████▏                              | 13600/30165 [6:00:29<7:13:24,  1.57s/it]"
     ]
    },
    {
     "name": "stdout",
     "output_type": "stream",
     "text": [
      "💾 Autosaved 13018 records...\n"
     ]
    },
    {
     "name": "stderr",
     "output_type": "stream",
     "text": [
      "Retry Scraping:  45%|█████████████████████████▍                              | 13700/30165 [6:03:07<7:10:44,  1.57s/it]"
     ]
    },
    {
     "name": "stdout",
     "output_type": "stream",
     "text": [
      "💾 Autosaved 13118 records...\n"
     ]
    },
    {
     "name": "stderr",
     "output_type": "stream",
     "text": [
      "Retry Scraping:  46%|█████████████████████████▌                              | 13800/30165 [6:05:45<7:28:50,  1.65s/it]"
     ]
    },
    {
     "name": "stdout",
     "output_type": "stream",
     "text": [
      "💾 Autosaved 13218 records...\n"
     ]
    },
    {
     "name": "stderr",
     "output_type": "stream",
     "text": [
      "Retry Scraping:  46%|█████████████████████████▋                              | 13813/30165 [6:06:06<7:13:40,  1.59s/it]"
     ]
    },
    {
     "name": "stdout",
     "output_type": "stream",
     "text": [
      "[13813] Error at (1975-07-20, 34.26, -88.7): HTTPSConnectionPool(host='archive-api.open-meteo.com', port=443): Read timed out. (read timeout=10)\n"
     ]
    },
    {
     "name": "stderr",
     "output_type": "stream",
     "text": [
      "Retry Scraping:  46%|█████████████████████████▏                             | 13814/30165 [6:06:27<33:53:58,  7.46s/it]"
     ]
    },
    {
     "name": "stdout",
     "output_type": "stream",
     "text": [
      "[13814] Error at (1976-07-20, 45.01, -93.16): HTTPSConnectionPool(host='archive-api.open-meteo.com', port=443): Read timed out. (read timeout=10)\n"
     ]
    },
    {
     "name": "stderr",
     "output_type": "stream",
     "text": [
      "Retry Scraping:  46%|█████████████████████████▏                             | 13815/30165 [6:06:39<38:57:35,  8.58s/it]"
     ]
    },
    {
     "name": "stdout",
     "output_type": "stream",
     "text": [
      "[13815] Error at (1977-07-20, 37.27, -76.71): HTTPSConnectionPool(host='archive-api.open-meteo.com', port=443): Read timed out. (read timeout=10)\n"
     ]
    },
    {
     "name": "stderr",
     "output_type": "stream",
     "text": [
      "Retry Scraping:  46%|█████████████████████████▏                             | 13816/30165 [6:06:50<42:28:35,  9.35s/it]"
     ]
    },
    {
     "name": "stdout",
     "output_type": "stream",
     "text": [
      "[13816] Error at (1977-07-20, 43.04, -87.91): HTTPSConnectionPool(host='archive-api.open-meteo.com', port=443): Read timed out. (read timeout=10)\n"
     ]
    },
    {
     "name": "stderr",
     "output_type": "stream",
     "text": [
      "Retry Scraping:  46%|█████████████████████████▏                             | 13817/30165 [6:07:01<44:54:48,  9.89s/it]"
     ]
    },
    {
     "name": "stdout",
     "output_type": "stream",
     "text": [
      "[13817] Error at (1977-07-20, 43.25, -79.83): HTTPSConnectionPool(host='archive-api.open-meteo.com', port=443): Read timed out. (read timeout=10)\n"
     ]
    },
    {
     "name": "stderr",
     "output_type": "stream",
     "text": [
      "Retry Scraping:  46%|█████████████████████████▏                             | 13818/30165 [6:07:12<46:38:39, 10.27s/it]"
     ]
    },
    {
     "name": "stdout",
     "output_type": "stream",
     "text": [
      "[13818] Error at (1978-07-20, 40.71, -74.01): HTTPSConnectionPool(host='archive-api.open-meteo.com', port=443): Read timed out. (read timeout=10)\n"
     ]
    },
    {
     "name": "stderr",
     "output_type": "stream",
     "text": [
      "Retry Scraping:  46%|█████████████████████████▏                             | 13819/30165 [6:07:23<47:52:44, 10.54s/it]"
     ]
    },
    {
     "name": "stdout",
     "output_type": "stream",
     "text": [
      "[13819] Error at (1978-07-20, 42.37, -83.35): HTTPSConnectionPool(host='archive-api.open-meteo.com', port=443): Read timed out. (read timeout=10)\n"
     ]
    },
    {
     "name": "stderr",
     "output_type": "stream",
     "text": [
      "Retry Scraping:  46%|█████████████████████████▏                             | 13820/30165 [6:07:34<48:43:43, 10.73s/it]"
     ]
    },
    {
     "name": "stdout",
     "output_type": "stream",
     "text": [
      "[13820] Error at (1978-07-20, 38.41, -120.66): HTTPSConnectionPool(host='archive-api.open-meteo.com', port=443): Read timed out. (read timeout=10)\n"
     ]
    },
    {
     "name": "stderr",
     "output_type": "stream",
     "text": [
      "Retry Scraping:  46%|█████████████████████████▊                              | 13900/30165 [6:09:51<7:10:08,  1.59s/it]"
     ]
    },
    {
     "name": "stdout",
     "output_type": "stream",
     "text": [
      "💾 Autosaved 13310 records...\n"
     ]
    },
    {
     "name": "stderr",
     "output_type": "stream",
     "text": [
      "Retry Scraping:  46%|█████████████████████████▉                              | 14000/30165 [6:12:29<7:00:29,  1.56s/it]"
     ]
    },
    {
     "name": "stdout",
     "output_type": "stream",
     "text": [
      "💾 Autosaved 13410 records...\n"
     ]
    },
    {
     "name": "stderr",
     "output_type": "stream",
     "text": [
      "Retry Scraping:  47%|██████████████████████████▏                             | 14100/30165 [6:15:07<7:02:17,  1.58s/it]"
     ]
    },
    {
     "name": "stdout",
     "output_type": "stream",
     "text": [
      "💾 Autosaved 13510 records...\n"
     ]
    },
    {
     "name": "stderr",
     "output_type": "stream",
     "text": [
      "Retry Scraping:  47%|██████████████████████████▎                             | 14200/30165 [6:17:45<7:06:16,  1.60s/it]"
     ]
    },
    {
     "name": "stdout",
     "output_type": "stream",
     "text": [
      "💾 Autosaved 13610 records...\n"
     ]
    },
    {
     "name": "stderr",
     "output_type": "stream",
     "text": [
      "Retry Scraping:  47%|██████████████████████████▌                             | 14300/30165 [6:20:23<6:53:23,  1.56s/it]"
     ]
    },
    {
     "name": "stdout",
     "output_type": "stream",
     "text": [
      "💾 Autosaved 13710 records...\n"
     ]
    },
    {
     "name": "stderr",
     "output_type": "stream",
     "text": [
      "Retry Scraping:  48%|██████████████████████████▋                             | 14400/30165 [6:23:01<6:53:51,  1.58s/it]"
     ]
    },
    {
     "name": "stdout",
     "output_type": "stream",
     "text": [
      "💾 Autosaved 13810 records...\n"
     ]
    },
    {
     "name": "stderr",
     "output_type": "stream",
     "text": [
      "Retry Scraping:  48%|██████████████████████████▉                             | 14500/30165 [6:25:39<6:49:34,  1.57s/it]"
     ]
    },
    {
     "name": "stdout",
     "output_type": "stream",
     "text": [
      "💾 Autosaved 13910 records...\n"
     ]
    },
    {
     "name": "stderr",
     "output_type": "stream",
     "text": [
      "Retry Scraping:  48%|███████████████████████████                             | 14600/30165 [6:28:17<6:45:53,  1.56s/it]"
     ]
    },
    {
     "name": "stdout",
     "output_type": "stream",
     "text": [
      "💾 Autosaved 14010 records...\n"
     ]
    },
    {
     "name": "stderr",
     "output_type": "stream",
     "text": [
      "Retry Scraping:  49%|███████████████████████████▎                            | 14700/30165 [6:30:55<6:46:13,  1.58s/it]"
     ]
    },
    {
     "name": "stdout",
     "output_type": "stream",
     "text": [
      "💾 Autosaved 14110 records...\n"
     ]
    },
    {
     "name": "stderr",
     "output_type": "stream",
     "text": [
      "Retry Scraping:  49%|███████████████████████████▍                            | 14800/30165 [6:33:32<6:41:56,  1.57s/it]"
     ]
    },
    {
     "name": "stdout",
     "output_type": "stream",
     "text": [
      "💾 Autosaved 14210 records...\n"
     ]
    },
    {
     "name": "stderr",
     "output_type": "stream",
     "text": [
      "Retry Scraping:  49%|███████████████████████████▋                            | 14900/30165 [6:36:11<6:44:52,  1.59s/it]"
     ]
    },
    {
     "name": "stdout",
     "output_type": "stream",
     "text": [
      "💾 Autosaved 14310 records...\n"
     ]
    },
    {
     "name": "stderr",
     "output_type": "stream",
     "text": [
      "Retry Scraping:  50%|███████████████████████████▊                            | 15000/30165 [6:38:48<6:37:15,  1.57s/it]"
     ]
    },
    {
     "name": "stdout",
     "output_type": "stream",
     "text": [
      "💾 Autosaved 14410 records...\n"
     ]
    },
    {
     "name": "stderr",
     "output_type": "stream",
     "text": [
      "Retry Scraping:  50%|████████████████████████████                            | 15100/30165 [6:41:26<6:42:22,  1.60s/it]"
     ]
    },
    {
     "name": "stdout",
     "output_type": "stream",
     "text": [
      "💾 Autosaved 14510 records...\n"
     ]
    },
    {
     "name": "stderr",
     "output_type": "stream",
     "text": [
      "Retry Scraping:  50%|████████████████████████████▏                           | 15200/30165 [6:44:04<6:31:41,  1.57s/it]"
     ]
    },
    {
     "name": "stdout",
     "output_type": "stream",
     "text": [
      "💾 Autosaved 14610 records...\n"
     ]
    },
    {
     "name": "stderr",
     "output_type": "stream",
     "text": [
      "Retry Scraping:  51%|████████████████████████████▍                           | 15300/30165 [6:46:42<6:29:10,  1.57s/it]"
     ]
    },
    {
     "name": "stdout",
     "output_type": "stream",
     "text": [
      "💾 Autosaved 14710 records...\n"
     ]
    },
    {
     "name": "stderr",
     "output_type": "stream",
     "text": [
      "Retry Scraping:  51%|████████████████████████████▌                           | 15400/30165 [6:49:20<6:31:25,  1.59s/it]"
     ]
    },
    {
     "name": "stdout",
     "output_type": "stream",
     "text": [
      "💾 Autosaved 14810 records...\n"
     ]
    },
    {
     "name": "stderr",
     "output_type": "stream",
     "text": [
      "Retry Scraping:  51%|████████████████████████████▊                           | 15500/30165 [6:51:58<6:30:58,  1.60s/it]"
     ]
    },
    {
     "name": "stdout",
     "output_type": "stream",
     "text": [
      "💾 Autosaved 14910 records...\n"
     ]
    },
    {
     "name": "stderr",
     "output_type": "stream",
     "text": [
      "Retry Scraping:  52%|████████████████████████████▉                           | 15600/30165 [6:54:36<6:23:15,  1.58s/it]"
     ]
    },
    {
     "name": "stdout",
     "output_type": "stream",
     "text": [
      "💾 Autosaved 15010 records...\n"
     ]
    },
    {
     "name": "stderr",
     "output_type": "stream",
     "text": [
      "Retry Scraping:  52%|█████████████████████████████▏                          | 15700/30165 [6:57:15<6:22:26,  1.59s/it]"
     ]
    },
    {
     "name": "stdout",
     "output_type": "stream",
     "text": [
      "💾 Autosaved 15110 records...\n"
     ]
    },
    {
     "name": "stderr",
     "output_type": "stream",
     "text": [
      "Retry Scraping:  52%|█████████████████████████████▎                          | 15800/30165 [6:59:52<6:16:19,  1.57s/it]"
     ]
    },
    {
     "name": "stdout",
     "output_type": "stream",
     "text": [
      "💾 Autosaved 15210 records...\n"
     ]
    },
    {
     "name": "stderr",
     "output_type": "stream",
     "text": [
      "Retry Scraping:  53%|█████████████████████████████▌                          | 15900/30165 [7:02:31<6:20:46,  1.60s/it]"
     ]
    },
    {
     "name": "stdout",
     "output_type": "stream",
     "text": [
      "💾 Autosaved 15310 records...\n"
     ]
    },
    {
     "name": "stderr",
     "output_type": "stream",
     "text": [
      "Retry Scraping:  53%|█████████████████████████████▋                          | 16000/30165 [7:05:11<6:19:12,  1.61s/it]"
     ]
    },
    {
     "name": "stdout",
     "output_type": "stream",
     "text": [
      "💾 Autosaved 15410 records...\n"
     ]
    },
    {
     "name": "stderr",
     "output_type": "stream",
     "text": [
      "Retry Scraping:  53%|█████████████████████████████▉                          | 16100/30165 [7:07:49<6:08:47,  1.57s/it]"
     ]
    },
    {
     "name": "stdout",
     "output_type": "stream",
     "text": [
      "💾 Autosaved 15510 records...\n"
     ]
    },
    {
     "name": "stderr",
     "output_type": "stream",
     "text": [
      "Retry Scraping:  54%|██████████████████████████████                          | 16200/30165 [7:10:26<6:04:40,  1.57s/it]"
     ]
    },
    {
     "name": "stdout",
     "output_type": "stream",
     "text": [
      "💾 Autosaved 15610 records...\n"
     ]
    },
    {
     "name": "stderr",
     "output_type": "stream",
     "text": [
      "Retry Scraping:  54%|██████████████████████████████▎                         | 16300/30165 [7:13:06<6:12:28,  1.61s/it]"
     ]
    },
    {
     "name": "stdout",
     "output_type": "stream",
     "text": [
      "💾 Autosaved 15710 records...\n"
     ]
    },
    {
     "name": "stderr",
     "output_type": "stream",
     "text": [
      "Retry Scraping:  54%|██████████████████████████████▍                         | 16400/30165 [7:15:43<6:00:07,  1.57s/it]"
     ]
    },
    {
     "name": "stdout",
     "output_type": "stream",
     "text": [
      "💾 Autosaved 15810 records...\n"
     ]
    },
    {
     "name": "stderr",
     "output_type": "stream",
     "text": [
      "Retry Scraping:  55%|██████████████████████████████▋                         | 16500/30165 [7:18:21<5:56:55,  1.57s/it]"
     ]
    },
    {
     "name": "stdout",
     "output_type": "stream",
     "text": [
      "💾 Autosaved 15910 records...\n"
     ]
    },
    {
     "name": "stderr",
     "output_type": "stream",
     "text": [
      "Retry Scraping:  55%|██████████████████████████████▊                         | 16600/30165 [7:20:58<5:54:17,  1.57s/it]"
     ]
    },
    {
     "name": "stdout",
     "output_type": "stream",
     "text": [
      "💾 Autosaved 16010 records...\n"
     ]
    },
    {
     "name": "stderr",
     "output_type": "stream",
     "text": [
      "Retry Scraping:  55%|███████████████████████████████                         | 16700/30165 [7:23:36<5:50:32,  1.56s/it]"
     ]
    },
    {
     "name": "stdout",
     "output_type": "stream",
     "text": [
      "💾 Autosaved 16110 records...\n"
     ]
    },
    {
     "name": "stderr",
     "output_type": "stream",
     "text": [
      "Retry Scraping:  56%|███████████████████████████████▏                        | 16800/30165 [7:26:13<5:51:49,  1.58s/it]"
     ]
    },
    {
     "name": "stdout",
     "output_type": "stream",
     "text": [
      "💾 Autosaved 16210 records...\n"
     ]
    },
    {
     "name": "stderr",
     "output_type": "stream",
     "text": [
      "Retry Scraping:  56%|███████████████████████████████▎                        | 16900/30165 [7:28:50<5:47:23,  1.57s/it]"
     ]
    },
    {
     "name": "stdout",
     "output_type": "stream",
     "text": [
      "💾 Autosaved 16310 records...\n"
     ]
    },
    {
     "name": "stderr",
     "output_type": "stream",
     "text": [
      "Retry Scraping:  56%|███████████████████████████████▌                        | 17000/30165 [7:31:27<5:44:08,  1.57s/it]"
     ]
    },
    {
     "name": "stdout",
     "output_type": "stream",
     "text": [
      "💾 Autosaved 16410 records...\n"
     ]
    },
    {
     "name": "stderr",
     "output_type": "stream",
     "text": [
      "Retry Scraping:  57%|███████████████████████████████▋                        | 17100/30165 [7:34:05<5:43:09,  1.58s/it]"
     ]
    },
    {
     "name": "stdout",
     "output_type": "stream",
     "text": [
      "💾 Autosaved 16510 records...\n"
     ]
    },
    {
     "name": "stderr",
     "output_type": "stream",
     "text": [
      "Retry Scraping:  57%|███████████████████████████████▉                        | 17200/30165 [7:36:44<5:41:35,  1.58s/it]"
     ]
    },
    {
     "name": "stdout",
     "output_type": "stream",
     "text": [
      "💾 Autosaved 16609 records...\n"
     ]
    },
    {
     "name": "stderr",
     "output_type": "stream",
     "text": [
      "Retry Scraping:  57%|████████████████████████████████                        | 17300/30165 [7:39:22<5:39:21,  1.58s/it]"
     ]
    },
    {
     "name": "stdout",
     "output_type": "stream",
     "text": [
      "💾 Autosaved 16709 records...\n"
     ]
    },
    {
     "name": "stderr",
     "output_type": "stream",
     "text": [
      "Retry Scraping:  58%|████████████████████████████████▎                       | 17400/30165 [7:42:00<5:40:13,  1.60s/it]"
     ]
    },
    {
     "name": "stdout",
     "output_type": "stream",
     "text": [
      "💾 Autosaved 16809 records...\n"
     ]
    },
    {
     "name": "stderr",
     "output_type": "stream",
     "text": [
      "Retry Scraping:  58%|████████████████████████████████▍                       | 17500/30165 [7:44:38<5:32:22,  1.57s/it]"
     ]
    },
    {
     "name": "stdout",
     "output_type": "stream",
     "text": [
      "💾 Autosaved 16909 records...\n"
     ]
    },
    {
     "name": "stderr",
     "output_type": "stream",
     "text": [
      "Retry Scraping:  58%|████████████████████████████████▋                       | 17600/30165 [7:47:15<5:34:59,  1.60s/it]"
     ]
    },
    {
     "name": "stdout",
     "output_type": "stream",
     "text": [
      "💾 Autosaved 17008 records...\n"
     ]
    },
    {
     "name": "stderr",
     "output_type": "stream",
     "text": [
      "Retry Scraping:  59%|████████████████████████████████▊                       | 17700/30165 [7:49:54<5:25:36,  1.57s/it]"
     ]
    },
    {
     "name": "stdout",
     "output_type": "stream",
     "text": [
      "💾 Autosaved 17108 records...\n"
     ]
    },
    {
     "name": "stderr",
     "output_type": "stream",
     "text": [
      "Retry Scraping:  59%|█████████████████████████████████                       | 17800/30165 [7:52:31<5:24:38,  1.58s/it]"
     ]
    },
    {
     "name": "stdout",
     "output_type": "stream",
     "text": [
      "💾 Autosaved 17208 records...\n"
     ]
    },
    {
     "name": "stderr",
     "output_type": "stream",
     "text": [
      "Retry Scraping:  59%|█████████████████████████████████▏                      | 17900/30165 [7:55:09<5:24:39,  1.59s/it]"
     ]
    },
    {
     "name": "stdout",
     "output_type": "stream",
     "text": [
      "💾 Autosaved 17308 records...\n"
     ]
    },
    {
     "name": "stderr",
     "output_type": "stream",
     "text": [
      "Retry Scraping:  60%|█████████████████████████████████▍                      | 18000/30165 [7:57:50<5:23:15,  1.59s/it]"
     ]
    },
    {
     "name": "stdout",
     "output_type": "stream",
     "text": [
      "💾 Autosaved 17408 records...\n"
     ]
    },
    {
     "name": "stderr",
     "output_type": "stream",
     "text": [
      "Retry Scraping:  60%|█████████████████████████████████▌                      | 18100/30165 [8:00:27<5:16:19,  1.57s/it]"
     ]
    },
    {
     "name": "stdout",
     "output_type": "stream",
     "text": [
      "💾 Autosaved 17508 records...\n"
     ]
    },
    {
     "name": "stderr",
     "output_type": "stream",
     "text": [
      "Retry Scraping:  60%|█████████████████████████████████▊                      | 18200/30165 [8:03:07<5:19:47,  1.60s/it]"
     ]
    },
    {
     "name": "stdout",
     "output_type": "stream",
     "text": [
      "💾 Autosaved 17608 records...\n"
     ]
    },
    {
     "name": "stderr",
     "output_type": "stream",
     "text": [
      "Retry Scraping:  61%|█████████████████████████████████▉                      | 18300/30165 [8:05:45<5:11:29,  1.58s/it]"
     ]
    },
    {
     "name": "stdout",
     "output_type": "stream",
     "text": [
      "💾 Autosaved 17708 records...\n"
     ]
    },
    {
     "name": "stderr",
     "output_type": "stream",
     "text": [
      "Retry Scraping:  61%|██████████████████████████████████▏                     | 18400/30165 [8:08:23<5:07:31,  1.57s/it]"
     ]
    },
    {
     "name": "stdout",
     "output_type": "stream",
     "text": [
      "💾 Autosaved 17808 records...\n"
     ]
    },
    {
     "name": "stderr",
     "output_type": "stream",
     "text": [
      "Retry Scraping:  61%|██████████████████████████████████▎                     | 18500/30165 [8:11:01<5:07:30,  1.58s/it]"
     ]
    },
    {
     "name": "stdout",
     "output_type": "stream",
     "text": [
      "💾 Autosaved 17908 records...\n"
     ]
    },
    {
     "name": "stderr",
     "output_type": "stream",
     "text": [
      "Retry Scraping:  62%|██████████████████████████████████▌                     | 18600/30165 [8:13:39<5:02:19,  1.57s/it]"
     ]
    },
    {
     "name": "stdout",
     "output_type": "stream",
     "text": [
      "💾 Autosaved 18008 records...\n"
     ]
    },
    {
     "name": "stderr",
     "output_type": "stream",
     "text": [
      "Retry Scraping:  62%|██████████████████████████████████▋                     | 18700/30165 [8:16:21<5:09:34,  1.62s/it]"
     ]
    },
    {
     "name": "stdout",
     "output_type": "stream",
     "text": [
      "💾 Autosaved 18108 records...\n"
     ]
    },
    {
     "name": "stderr",
     "output_type": "stream",
     "text": [
      "Retry Scraping:  62%|██████████████████████████████████▉                     | 18800/30165 [8:19:03<4:59:29,  1.58s/it]"
     ]
    },
    {
     "name": "stdout",
     "output_type": "stream",
     "text": [
      "💾 Autosaved 18208 records...\n"
     ]
    },
    {
     "name": "stderr",
     "output_type": "stream",
     "text": [
      "Retry Scraping:  63%|███████████████████████████████████                     | 18900/30165 [8:21:40<4:54:06,  1.57s/it]"
     ]
    },
    {
     "name": "stdout",
     "output_type": "stream",
     "text": [
      "💾 Autosaved 18308 records...\n"
     ]
    },
    {
     "name": "stderr",
     "output_type": "stream",
     "text": [
      "Retry Scraping:  63%|███████████████████████████████████▎                    | 19000/30165 [8:24:19<4:55:06,  1.59s/it]"
     ]
    },
    {
     "name": "stdout",
     "output_type": "stream",
     "text": [
      "💾 Autosaved 18408 records...\n"
     ]
    },
    {
     "name": "stderr",
     "output_type": "stream",
     "text": [
      "Retry Scraping:  63%|███████████████████████████████████▍                    | 19100/30165 [8:26:57<4:49:28,  1.57s/it]"
     ]
    },
    {
     "name": "stdout",
     "output_type": "stream",
     "text": [
      "💾 Autosaved 18508 records...\n"
     ]
    },
    {
     "name": "stderr",
     "output_type": "stream",
     "text": [
      "Retry Scraping:  64%|███████████████████████████████████▋                    | 19200/30165 [8:29:34<4:50:28,  1.59s/it]"
     ]
    },
    {
     "name": "stdout",
     "output_type": "stream",
     "text": [
      "💾 Autosaved 18608 records...\n"
     ]
    },
    {
     "name": "stderr",
     "output_type": "stream",
     "text": [
      "Retry Scraping:  64%|███████████████████████████████████▊                    | 19300/30165 [8:32:12<4:45:57,  1.58s/it]"
     ]
    },
    {
     "name": "stdout",
     "output_type": "stream",
     "text": [
      "💾 Autosaved 18708 records...\n"
     ]
    },
    {
     "name": "stderr",
     "output_type": "stream",
     "text": [
      "Retry Scraping:  64%|████████████████████████████████████                    | 19400/30165 [8:34:49<4:42:38,  1.58s/it]"
     ]
    },
    {
     "name": "stdout",
     "output_type": "stream",
     "text": [
      "💾 Autosaved 18808 records...\n"
     ]
    },
    {
     "name": "stderr",
     "output_type": "stream",
     "text": [
      "Retry Scraping:  65%|████████████████████████████████████▏                   | 19500/30165 [8:37:28<4:38:44,  1.57s/it]"
     ]
    },
    {
     "name": "stdout",
     "output_type": "stream",
     "text": [
      "💾 Autosaved 18908 records...\n"
     ]
    },
    {
     "name": "stderr",
     "output_type": "stream",
     "text": [
      "Retry Scraping:  65%|████████████████████████████████████▍                   | 19600/30165 [8:40:05<4:35:31,  1.56s/it]"
     ]
    },
    {
     "name": "stdout",
     "output_type": "stream",
     "text": [
      "💾 Autosaved 19008 records...\n"
     ]
    },
    {
     "name": "stderr",
     "output_type": "stream",
     "text": [
      "Retry Scraping:  65%|████████████████████████████████████▌                   | 19700/30165 [8:42:46<4:41:52,  1.62s/it]"
     ]
    },
    {
     "name": "stdout",
     "output_type": "stream",
     "text": [
      "💾 Autosaved 19107 records...\n"
     ]
    },
    {
     "name": "stderr",
     "output_type": "stream",
     "text": [
      "Retry Scraping:  66%|████████████████████████████████████▊                   | 19800/30165 [8:45:27<4:39:39,  1.62s/it]"
     ]
    },
    {
     "name": "stdout",
     "output_type": "stream",
     "text": [
      "💾 Autosaved 19207 records...\n"
     ]
    },
    {
     "name": "stderr",
     "output_type": "stream",
     "text": [
      "Retry Scraping:  66%|████████████████████████████████████▉                   | 19900/30165 [8:48:07<4:28:41,  1.57s/it]"
     ]
    },
    {
     "name": "stdout",
     "output_type": "stream",
     "text": [
      "💾 Autosaved 19307 records...\n"
     ]
    },
    {
     "name": "stderr",
     "output_type": "stream",
     "text": [
      "Retry Scraping:  66%|█████████████████████████████████████▏                  | 20000/30165 [8:50:45<4:27:42,  1.58s/it]"
     ]
    },
    {
     "name": "stdout",
     "output_type": "stream",
     "text": [
      "💾 Autosaved 19407 records...\n"
     ]
    },
    {
     "name": "stderr",
     "output_type": "stream",
     "text": [
      "Retry Scraping:  67%|█████████████████████████████████████▎                  | 20100/30165 [8:53:22<4:25:08,  1.58s/it]"
     ]
    },
    {
     "name": "stdout",
     "output_type": "stream",
     "text": [
      "💾 Autosaved 19507 records...\n"
     ]
    },
    {
     "name": "stderr",
     "output_type": "stream",
     "text": [
      "Retry Scraping:  67%|█████████████████████████████████████▌                  | 20200/30165 [8:56:01<4:20:56,  1.57s/it]"
     ]
    },
    {
     "name": "stdout",
     "output_type": "stream",
     "text": [
      "💾 Autosaved 19607 records...\n"
     ]
    },
    {
     "name": "stderr",
     "output_type": "stream",
     "text": [
      "Retry Scraping:  67%|█████████████████████████████████████▋                  | 20300/30165 [8:58:39<4:17:22,  1.57s/it]"
     ]
    },
    {
     "name": "stdout",
     "output_type": "stream",
     "text": [
      "💾 Autosaved 19707 records...\n"
     ]
    },
    {
     "name": "stderr",
     "output_type": "stream",
     "text": [
      "Retry Scraping:  68%|█████████████████████████████████████▊                  | 20400/30165 [9:01:17<4:16:01,  1.57s/it]"
     ]
    },
    {
     "name": "stdout",
     "output_type": "stream",
     "text": [
      "💾 Autosaved 19807 records...\n"
     ]
    },
    {
     "name": "stderr",
     "output_type": "stream",
     "text": [
      "Retry Scraping:  68%|██████████████████████████████████████                  | 20500/30165 [9:03:54<4:16:48,  1.59s/it]"
     ]
    },
    {
     "name": "stdout",
     "output_type": "stream",
     "text": [
      "💾 Autosaved 19907 records...\n"
     ]
    },
    {
     "name": "stderr",
     "output_type": "stream",
     "text": [
      "Retry Scraping:  68%|██████████████████████████████████████▏                 | 20600/30165 [9:06:33<4:08:10,  1.56s/it]"
     ]
    },
    {
     "name": "stdout",
     "output_type": "stream",
     "text": [
      "💾 Autosaved 20002 records...\n"
     ]
    },
    {
     "name": "stderr",
     "output_type": "stream",
     "text": [
      "Retry Scraping:  69%|██████████████████████████████████████▍                 | 20700/30165 [9:09:09<4:05:36,  1.56s/it]"
     ]
    },
    {
     "name": "stdout",
     "output_type": "stream",
     "text": [
      "💾 Autosaved 20002 records...\n"
     ]
    },
    {
     "name": "stderr",
     "output_type": "stream",
     "text": [
      "Retry Scraping:  69%|██████████████████████████████████████▌                 | 20800/30165 [9:11:45<4:02:44,  1.56s/it]"
     ]
    },
    {
     "name": "stdout",
     "output_type": "stream",
     "text": [
      "💾 Autosaved 20002 records...\n"
     ]
    },
    {
     "name": "stderr",
     "output_type": "stream",
     "text": [
      "Retry Scraping:  69%|██████████████████████████████████████▊                 | 20900/30165 [9:14:21<4:02:39,  1.57s/it]"
     ]
    },
    {
     "name": "stdout",
     "output_type": "stream",
     "text": [
      "💾 Autosaved 20002 records...\n"
     ]
    },
    {
     "name": "stderr",
     "output_type": "stream",
     "text": [
      "Retry Scraping:  70%|██████████████████████████████████████▉                 | 21000/30165 [9:16:57<3:57:41,  1.56s/it]"
     ]
    },
    {
     "name": "stdout",
     "output_type": "stream",
     "text": [
      "💾 Autosaved 20002 records...\n"
     ]
    },
    {
     "name": "stderr",
     "output_type": "stream",
     "text": [
      "Retry Scraping:  70%|███████████████████████████████████████▏                | 21100/30165 [9:19:33<3:55:18,  1.56s/it]"
     ]
    },
    {
     "name": "stdout",
     "output_type": "stream",
     "text": [
      "💾 Autosaved 20002 records...\n"
     ]
    },
    {
     "name": "stderr",
     "output_type": "stream",
     "text": [
      "Retry Scraping:  70%|███████████████████████████████████████▎                | 21200/30165 [9:22:09<3:52:50,  1.56s/it]"
     ]
    },
    {
     "name": "stdout",
     "output_type": "stream",
     "text": [
      "💾 Autosaved 20002 records...\n"
     ]
    },
    {
     "name": "stderr",
     "output_type": "stream",
     "text": [
      "Retry Scraping:  71%|███████████████████████████████████████▌                | 21300/30165 [9:24:45<3:49:41,  1.55s/it]"
     ]
    },
    {
     "name": "stdout",
     "output_type": "stream",
     "text": [
      "💾 Autosaved 20002 records...\n"
     ]
    },
    {
     "name": "stderr",
     "output_type": "stream",
     "text": [
      "Retry Scraping:  71%|███████████████████████████████████████▋                | 21400/30165 [9:27:21<3:48:06,  1.56s/it]"
     ]
    },
    {
     "name": "stdout",
     "output_type": "stream",
     "text": [
      "💾 Autosaved 20002 records...\n"
     ]
    },
    {
     "name": "stderr",
     "output_type": "stream",
     "text": [
      "Retry Scraping:  71%|███████████████████████████████████████▉                | 21500/30165 [9:29:57<3:44:40,  1.56s/it]"
     ]
    },
    {
     "name": "stdout",
     "output_type": "stream",
     "text": [
      "💾 Autosaved 20002 records...\n"
     ]
    },
    {
     "name": "stderr",
     "output_type": "stream",
     "text": [
      "Retry Scraping:  72%|████████████████████████████████████████                | 21600/30165 [9:32:33<3:41:57,  1.55s/it]"
     ]
    },
    {
     "name": "stdout",
     "output_type": "stream",
     "text": [
      "💾 Autosaved 20002 records...\n"
     ]
    },
    {
     "name": "stderr",
     "output_type": "stream",
     "text": [
      "Retry Scraping:  72%|████████████████████████████████████████▎               | 21700/30165 [9:35:09<3:40:18,  1.56s/it]"
     ]
    },
    {
     "name": "stdout",
     "output_type": "stream",
     "text": [
      "💾 Autosaved 20002 records...\n"
     ]
    },
    {
     "name": "stderr",
     "output_type": "stream",
     "text": [
      "Retry Scraping:  72%|████████████████████████████████████████▍               | 21800/30165 [9:37:45<3:36:46,  1.55s/it]"
     ]
    },
    {
     "name": "stdout",
     "output_type": "stream",
     "text": [
      "💾 Autosaved 20002 records...\n"
     ]
    },
    {
     "name": "stderr",
     "output_type": "stream",
     "text": [
      "Retry Scraping:  73%|████████████████████████████████████████▋               | 21900/30165 [9:40:21<3:35:22,  1.56s/it]"
     ]
    },
    {
     "name": "stdout",
     "output_type": "stream",
     "text": [
      "💾 Autosaved 20002 records...\n"
     ]
    },
    {
     "name": "stderr",
     "output_type": "stream",
     "text": [
      "Retry Scraping:  73%|████████████████████████████████████████▊               | 22000/30165 [9:42:57<3:32:03,  1.56s/it]"
     ]
    },
    {
     "name": "stdout",
     "output_type": "stream",
     "text": [
      "💾 Autosaved 20002 records...\n"
     ]
    },
    {
     "name": "stderr",
     "output_type": "stream",
     "text": [
      "Retry Scraping:  73%|█████████████████████████████████████████               | 22100/30165 [9:45:34<3:29:11,  1.56s/it]"
     ]
    },
    {
     "name": "stdout",
     "output_type": "stream",
     "text": [
      "💾 Autosaved 20002 records...\n"
     ]
    },
    {
     "name": "stderr",
     "output_type": "stream",
     "text": [
      "Retry Scraping:  74%|█████████████████████████████████████████▏              | 22200/30165 [9:48:10<3:27:20,  1.56s/it]"
     ]
    },
    {
     "name": "stdout",
     "output_type": "stream",
     "text": [
      "💾 Autosaved 20002 records...\n"
     ]
    },
    {
     "name": "stderr",
     "output_type": "stream",
     "text": [
      "Retry Scraping:  74%|█████████████████████████████████████████▍              | 22300/30165 [9:50:46<3:23:59,  1.56s/it]"
     ]
    },
    {
     "name": "stdout",
     "output_type": "stream",
     "text": [
      "💾 Autosaved 20002 records...\n"
     ]
    },
    {
     "name": "stderr",
     "output_type": "stream",
     "text": [
      "Retry Scraping:  74%|█████████████████████████████████████████▌              | 22400/30165 [9:53:22<3:22:42,  1.57s/it]"
     ]
    },
    {
     "name": "stdout",
     "output_type": "stream",
     "text": [
      "💾 Autosaved 20002 records...\n"
     ]
    },
    {
     "name": "stderr",
     "output_type": "stream",
     "text": [
      "Retry Scraping:  75%|█████████████████████████████████████████▊              | 22500/30165 [9:55:58<3:19:40,  1.56s/it]"
     ]
    },
    {
     "name": "stdout",
     "output_type": "stream",
     "text": [
      "💾 Autosaved 20002 records...\n"
     ]
    },
    {
     "name": "stderr",
     "output_type": "stream",
     "text": [
      "Retry Scraping:  75%|█████████████████████████████████████████▉              | 22600/30165 [9:58:34<3:16:39,  1.56s/it]"
     ]
    },
    {
     "name": "stdout",
     "output_type": "stream",
     "text": [
      "💾 Autosaved 20002 records...\n"
     ]
    },
    {
     "name": "stderr",
     "output_type": "stream",
     "text": [
      "Retry Scraping:  75%|█████████████████████████████████████████▍             | 22700/30165 [10:01:10<3:15:17,  1.57s/it]"
     ]
    },
    {
     "name": "stdout",
     "output_type": "stream",
     "text": [
      "💾 Autosaved 20002 records...\n"
     ]
    },
    {
     "name": "stderr",
     "output_type": "stream",
     "text": [
      "Retry Scraping:  76%|█████████████████████████████████████████▌             | 22800/30165 [10:03:47<3:11:02,  1.56s/it]"
     ]
    },
    {
     "name": "stdout",
     "output_type": "stream",
     "text": [
      "💾 Autosaved 20002 records...\n"
     ]
    },
    {
     "name": "stderr",
     "output_type": "stream",
     "text": [
      "Retry Scraping:  76%|█████████████████████████████████████████▊             | 22900/30165 [10:06:23<3:08:54,  1.56s/it]"
     ]
    },
    {
     "name": "stdout",
     "output_type": "stream",
     "text": [
      "💾 Autosaved 20002 records...\n"
     ]
    },
    {
     "name": "stderr",
     "output_type": "stream",
     "text": [
      "Retry Scraping:  76%|█████████████████████████████████████████▉             | 23000/30165 [10:09:00<3:06:00,  1.56s/it]"
     ]
    },
    {
     "name": "stdout",
     "output_type": "stream",
     "text": [
      "💾 Autosaved 20002 records...\n"
     ]
    },
    {
     "name": "stderr",
     "output_type": "stream",
     "text": [
      "Retry Scraping:  77%|██████████████████████████████████████████             | 23100/30165 [10:11:36<3:03:15,  1.56s/it]"
     ]
    },
    {
     "name": "stdout",
     "output_type": "stream",
     "text": [
      "💾 Autosaved 20002 records...\n"
     ]
    },
    {
     "name": "stderr",
     "output_type": "stream",
     "text": [
      "Retry Scraping:  77%|██████████████████████████████████████████▎            | 23200/30165 [10:14:12<3:00:06,  1.55s/it]"
     ]
    },
    {
     "name": "stdout",
     "output_type": "stream",
     "text": [
      "💾 Autosaved 20002 records...\n"
     ]
    },
    {
     "name": "stderr",
     "output_type": "stream",
     "text": [
      "Retry Scraping:  77%|██████████████████████████████████████████▍            | 23300/30165 [10:16:48<2:58:34,  1.56s/it]"
     ]
    },
    {
     "name": "stdout",
     "output_type": "stream",
     "text": [
      "💾 Autosaved 20002 records...\n"
     ]
    },
    {
     "name": "stderr",
     "output_type": "stream",
     "text": [
      "Retry Scraping:  78%|██████████████████████████████████████████▋            | 23400/30165 [10:19:24<2:57:17,  1.57s/it]"
     ]
    },
    {
     "name": "stdout",
     "output_type": "stream",
     "text": [
      "💾 Autosaved 20002 records...\n"
     ]
    },
    {
     "name": "stderr",
     "output_type": "stream",
     "text": [
      "Retry Scraping:  78%|██████████████████████████████████████████▊            | 23500/30165 [10:22:01<2:53:03,  1.56s/it]"
     ]
    },
    {
     "name": "stdout",
     "output_type": "stream",
     "text": [
      "💾 Autosaved 20002 records...\n"
     ]
    },
    {
     "name": "stderr",
     "output_type": "stream",
     "text": [
      "Retry Scraping:  78%|███████████████████████████████████████████            | 23600/30165 [10:24:37<2:50:12,  1.56s/it]"
     ]
    },
    {
     "name": "stdout",
     "output_type": "stream",
     "text": [
      "💾 Autosaved 20002 records...\n"
     ]
    },
    {
     "name": "stderr",
     "output_type": "stream",
     "text": [
      "Retry Scraping:  79%|███████████████████████████████████████████▏           | 23700/30165 [10:27:13<2:48:10,  1.56s/it]"
     ]
    },
    {
     "name": "stdout",
     "output_type": "stream",
     "text": [
      "💾 Autosaved 20002 records...\n"
     ]
    },
    {
     "name": "stderr",
     "output_type": "stream",
     "text": [
      "Retry Scraping:  79%|███████████████████████████████████████████▍           | 23800/30165 [10:29:49<2:45:56,  1.56s/it]"
     ]
    },
    {
     "name": "stdout",
     "output_type": "stream",
     "text": [
      "💾 Autosaved 20002 records...\n"
     ]
    },
    {
     "name": "stderr",
     "output_type": "stream",
     "text": [
      "Retry Scraping:  79%|███████████████████████████████████████████▌           | 23900/30165 [10:32:26<2:42:09,  1.55s/it]"
     ]
    },
    {
     "name": "stdout",
     "output_type": "stream",
     "text": [
      "💾 Autosaved 20002 records...\n"
     ]
    },
    {
     "name": "stderr",
     "output_type": "stream",
     "text": [
      "Retry Scraping:  80%|███████████████████████████████████████████▊           | 24000/30165 [10:35:02<2:39:33,  1.55s/it]"
     ]
    },
    {
     "name": "stdout",
     "output_type": "stream",
     "text": [
      "💾 Autosaved 20002 records...\n"
     ]
    },
    {
     "name": "stderr",
     "output_type": "stream",
     "text": [
      "Retry Scraping:  80%|███████████████████████████████████████████▉           | 24100/30165 [10:37:38<2:37:48,  1.56s/it]"
     ]
    },
    {
     "name": "stdout",
     "output_type": "stream",
     "text": [
      "💾 Autosaved 20002 records...\n"
     ]
    },
    {
     "name": "stderr",
     "output_type": "stream",
     "text": [
      "Retry Scraping:  80%|████████████████████████████████████████████           | 24200/30165 [10:40:14<2:35:34,  1.56s/it]"
     ]
    },
    {
     "name": "stdout",
     "output_type": "stream",
     "text": [
      "💾 Autosaved 20002 records...\n"
     ]
    },
    {
     "name": "stderr",
     "output_type": "stream",
     "text": [
      "Retry Scraping:  81%|████████████████████████████████████████████▎          | 24300/30165 [10:43:00<2:37:47,  1.61s/it]"
     ]
    },
    {
     "name": "stdout",
     "output_type": "stream",
     "text": [
      "💾 Autosaved 20003 records...\n"
     ]
    },
    {
     "name": "stderr",
     "output_type": "stream",
     "text": [
      "Retry Scraping:  81%|████████████████████████████████████████████▍          | 24400/30165 [10:45:37<2:29:46,  1.56s/it]"
     ]
    },
    {
     "name": "stdout",
     "output_type": "stream",
     "text": [
      "💾 Autosaved 20003 records...\n"
     ]
    },
    {
     "name": "stderr",
     "output_type": "stream",
     "text": [
      "Retry Scraping:  81%|████████████████████████████████████████████▋          | 24500/30165 [10:48:13<2:26:46,  1.55s/it]"
     ]
    },
    {
     "name": "stdout",
     "output_type": "stream",
     "text": [
      "💾 Autosaved 20003 records...\n"
     ]
    },
    {
     "name": "stderr",
     "output_type": "stream",
     "text": [
      "Retry Scraping:  82%|████████████████████████████████████████████▊          | 24600/30165 [10:50:49<2:24:36,  1.56s/it]"
     ]
    },
    {
     "name": "stdout",
     "output_type": "stream",
     "text": [
      "💾 Autosaved 20003 records...\n"
     ]
    },
    {
     "name": "stderr",
     "output_type": "stream",
     "text": [
      "Retry Scraping:  82%|█████████████████████████████████████████████          | 24700/30165 [10:53:25<2:21:45,  1.56s/it]"
     ]
    },
    {
     "name": "stdout",
     "output_type": "stream",
     "text": [
      "💾 Autosaved 20003 records...\n"
     ]
    },
    {
     "name": "stderr",
     "output_type": "stream",
     "text": [
      "Retry Scraping:  82%|█████████████████████████████████████████████▏         | 24800/30165 [10:56:01<2:19:07,  1.56s/it]"
     ]
    },
    {
     "name": "stdout",
     "output_type": "stream",
     "text": [
      "💾 Autosaved 20003 records...\n"
     ]
    },
    {
     "name": "stderr",
     "output_type": "stream",
     "text": [
      "Retry Scraping:  83%|█████████████████████████████████████████████▍         | 24900/30165 [10:58:47<2:16:46,  1.56s/it]"
     ]
    },
    {
     "name": "stdout",
     "output_type": "stream",
     "text": [
      "💾 Autosaved 20004 records...\n"
     ]
    },
    {
     "name": "stderr",
     "output_type": "stream",
     "text": [
      "Retry Scraping:  83%|█████████████████████████████████████████████▌         | 25000/30165 [11:01:23<2:14:10,  1.56s/it]"
     ]
    },
    {
     "name": "stdout",
     "output_type": "stream",
     "text": [
      "💾 Autosaved 20004 records...\n"
     ]
    },
    {
     "name": "stderr",
     "output_type": "stream",
     "text": [
      "Retry Scraping:  83%|█████████████████████████████████████████████▊         | 25100/30165 [11:03:59<2:10:55,  1.55s/it]"
     ]
    },
    {
     "name": "stdout",
     "output_type": "stream",
     "text": [
      "💾 Autosaved 20004 records...\n"
     ]
    },
    {
     "name": "stderr",
     "output_type": "stream",
     "text": [
      "Retry Scraping:  84%|█████████████████████████████████████████████▉         | 25200/30165 [11:06:35<2:08:44,  1.56s/it]"
     ]
    },
    {
     "name": "stdout",
     "output_type": "stream",
     "text": [
      "💾 Autosaved 20004 records...\n"
     ]
    },
    {
     "name": "stderr",
     "output_type": "stream",
     "text": [
      "Retry Scraping:  84%|██████████████████████████████████████████████▏        | 25300/30165 [11:09:11<2:06:32,  1.56s/it]"
     ]
    },
    {
     "name": "stdout",
     "output_type": "stream",
     "text": [
      "💾 Autosaved 20004 records...\n"
     ]
    },
    {
     "name": "stderr",
     "output_type": "stream",
     "text": [
      "Retry Scraping:  84%|██████████████████████████████████████████████▎        | 25400/30165 [11:11:47<2:04:13,  1.56s/it]"
     ]
    },
    {
     "name": "stdout",
     "output_type": "stream",
     "text": [
      "💾 Autosaved 20004 records...\n"
     ]
    },
    {
     "name": "stderr",
     "output_type": "stream",
     "text": [
      "Retry Scraping:  85%|██████████████████████████████████████████████▍        | 25500/30165 [11:14:23<2:01:21,  1.56s/it]"
     ]
    },
    {
     "name": "stdout",
     "output_type": "stream",
     "text": [
      "💾 Autosaved 20004 records...\n"
     ]
    },
    {
     "name": "stderr",
     "output_type": "stream",
     "text": [
      "Retry Scraping:  85%|██████████████████████████████████████████████▌        | 25557/30165 [11:15:52<1:59:09,  1.55s/it]"
     ]
    },
    {
     "name": "stdout",
     "output_type": "stream",
     "text": [
      "[25557] Error at (2005-09-13, 36.44, -105.54): HTTPSConnectionPool(host='archive-api.open-meteo.com', port=443): Read timed out. (read timeout=10)\n"
     ]
    },
    {
     "name": "stderr",
     "output_type": "stream",
     "text": [
      "Retry Scraping:  85%|██████████████████████████████████████████████▌        | 25558/30165 [11:16:04<5:40:06,  4.43s/it]"
     ]
    },
    {
     "name": "stdout",
     "output_type": "stream",
     "text": [
      "[25558] Error at (2005-09-13, 34.58, -80.9): HTTPSConnectionPool(host='archive-api.open-meteo.com', port=443): Read timed out. (read timeout=10)\n"
     ]
    },
    {
     "name": "stderr",
     "output_type": "stream",
     "text": [
      "Retry Scraping:  85%|██████████████████████████████████████████████▌        | 25559/30165 [11:16:15<8:15:49,  6.46s/it]"
     ]
    },
    {
     "name": "stdout",
     "output_type": "stream",
     "text": [
      "[25559] Error at (2006-09-13, 33.12, -117.09): HTTPSConnectionPool(host='archive-api.open-meteo.com', port=443): Read timed out. (read timeout=10)\n"
     ]
    },
    {
     "name": "stderr",
     "output_type": "stream",
     "text": [
      "Retry Scraping:  85%|██████████████████████████████████████████████▋        | 25600/30165 [11:17:28<1:59:20,  1.57s/it]"
     ]
    },
    {
     "name": "stdout",
     "output_type": "stream",
     "text": [
      "💾 Autosaved 20004 records...\n"
     ]
    },
    {
     "name": "stderr",
     "output_type": "stream",
     "text": [
      "Retry Scraping:  85%|██████████████████████████████████████████████▊        | 25700/30165 [11:20:05<1:55:37,  1.55s/it]"
     ]
    },
    {
     "name": "stdout",
     "output_type": "stream",
     "text": [
      "💾 Autosaved 20004 records...\n"
     ]
    },
    {
     "name": "stderr",
     "output_type": "stream",
     "text": [
      "Retry Scraping:  86%|███████████████████████████████████████████████        | 25800/30165 [11:22:41<1:53:48,  1.56s/it]"
     ]
    },
    {
     "name": "stdout",
     "output_type": "stream",
     "text": [
      "💾 Autosaved 20004 records...\n"
     ]
    },
    {
     "name": "stderr",
     "output_type": "stream",
     "text": [
      "Retry Scraping:  86%|███████████████████████████████████████████████▏       | 25900/30165 [11:25:17<1:51:11,  1.56s/it]"
     ]
    },
    {
     "name": "stdout",
     "output_type": "stream",
     "text": [
      "💾 Autosaved 20004 records...\n"
     ]
    },
    {
     "name": "stderr",
     "output_type": "stream",
     "text": [
      "Retry Scraping:  86%|███████████████████████████████████████████████▍       | 26000/30165 [11:27:54<1:48:12,  1.56s/it]"
     ]
    },
    {
     "name": "stdout",
     "output_type": "stream",
     "text": [
      "💾 Autosaved 20004 records...\n"
     ]
    },
    {
     "name": "stderr",
     "output_type": "stream",
     "text": [
      "Retry Scraping:  87%|███████████████████████████████████████████████▌       | 26100/30165 [11:30:30<1:46:03,  1.57s/it]"
     ]
    },
    {
     "name": "stdout",
     "output_type": "stream",
     "text": [
      "💾 Autosaved 20004 records...\n"
     ]
    },
    {
     "name": "stderr",
     "output_type": "stream",
     "text": [
      "Retry Scraping:  87%|███████████████████████████████████████████████▊       | 26200/30165 [11:33:06<1:42:40,  1.55s/it]"
     ]
    },
    {
     "name": "stdout",
     "output_type": "stream",
     "text": [
      "💾 Autosaved 20004 records...\n"
     ]
    },
    {
     "name": "stderr",
     "output_type": "stream",
     "text": [
      "Retry Scraping:  87%|███████████████████████████████████████████████▉       | 26300/30165 [11:35:43<1:40:10,  1.56s/it]"
     ]
    },
    {
     "name": "stdout",
     "output_type": "stream",
     "text": [
      "💾 Autosaved 20004 records...\n"
     ]
    },
    {
     "name": "stderr",
     "output_type": "stream",
     "text": [
      "Retry Scraping:  88%|████████████████████████████████████████████████▏      | 26400/30165 [11:38:19<1:38:03,  1.56s/it]"
     ]
    },
    {
     "name": "stdout",
     "output_type": "stream",
     "text": [
      "💾 Autosaved 20004 records...\n"
     ]
    },
    {
     "name": "stderr",
     "output_type": "stream",
     "text": [
      "Retry Scraping:  88%|████████████████████████████████████████████████▎      | 26500/30165 [11:40:56<1:35:17,  1.56s/it]"
     ]
    },
    {
     "name": "stdout",
     "output_type": "stream",
     "text": [
      "💾 Autosaved 20004 records...\n"
     ]
    },
    {
     "name": "stderr",
     "output_type": "stream",
     "text": [
      "Retry Scraping:  88%|████████████████████████████████████████████████▍      | 26600/30165 [11:43:32<1:32:39,  1.56s/it]"
     ]
    },
    {
     "name": "stdout",
     "output_type": "stream",
     "text": [
      "💾 Autosaved 20004 records...\n"
     ]
    },
    {
     "name": "stderr",
     "output_type": "stream",
     "text": [
      "Retry Scraping:  89%|████████████████████████████████████████████████▋      | 26700/30165 [11:46:08<1:30:25,  1.57s/it]"
     ]
    },
    {
     "name": "stdout",
     "output_type": "stream",
     "text": [
      "💾 Autosaved 20004 records...\n"
     ]
    },
    {
     "name": "stderr",
     "output_type": "stream",
     "text": [
      "Retry Scraping:  89%|████████████████████████████████████████████████▊      | 26800/30165 [11:48:45<1:27:27,  1.56s/it]"
     ]
    },
    {
     "name": "stdout",
     "output_type": "stream",
     "text": [
      "💾 Autosaved 20004 records...\n"
     ]
    },
    {
     "name": "stderr",
     "output_type": "stream",
     "text": [
      "Retry Scraping:  89%|█████████████████████████████████████████████████      | 26900/30165 [11:51:21<1:25:08,  1.56s/it]"
     ]
    },
    {
     "name": "stdout",
     "output_type": "stream",
     "text": [
      "💾 Autosaved 20004 records...\n"
     ]
    },
    {
     "name": "stderr",
     "output_type": "stream",
     "text": [
      "Retry Scraping:  90%|█████████████████████████████████████████████████▏     | 27000/30165 [11:53:58<1:22:09,  1.56s/it]"
     ]
    },
    {
     "name": "stdout",
     "output_type": "stream",
     "text": [
      "💾 Autosaved 20004 records...\n"
     ]
    },
    {
     "name": "stderr",
     "output_type": "stream",
     "text": [
      "Retry Scraping:  90%|█████████████████████████████████████████████████▍     | 27100/30165 [11:56:34<1:19:41,  1.56s/it]"
     ]
    },
    {
     "name": "stdout",
     "output_type": "stream",
     "text": [
      "💾 Autosaved 20004 records...\n"
     ]
    },
    {
     "name": "stderr",
     "output_type": "stream",
     "text": [
      "Retry Scraping:  90%|█████████████████████████████████████████████████▌     | 27200/30165 [11:59:10<1:17:11,  1.56s/it]"
     ]
    },
    {
     "name": "stdout",
     "output_type": "stream",
     "text": [
      "💾 Autosaved 20004 records...\n"
     ]
    },
    {
     "name": "stderr",
     "output_type": "stream",
     "text": [
      "Retry Scraping:  91%|█████████████████████████████████████████████████▊     | 27300/30165 [12:01:46<1:14:23,  1.56s/it]"
     ]
    },
    {
     "name": "stdout",
     "output_type": "stream",
     "text": [
      "💾 Autosaved 20004 records...\n"
     ]
    },
    {
     "name": "stderr",
     "output_type": "stream",
     "text": [
      "Retry Scraping:  91%|█████████████████████████████████████████████████▉     | 27400/30165 [12:04:22<1:11:41,  1.56s/it]"
     ]
    },
    {
     "name": "stdout",
     "output_type": "stream",
     "text": [
      "💾 Autosaved 20004 records...\n"
     ]
    },
    {
     "name": "stderr",
     "output_type": "stream",
     "text": [
      "Retry Scraping:  91%|██████████████████████████████████████████████████▏    | 27500/30165 [12:06:58<1:09:23,  1.56s/it]"
     ]
    },
    {
     "name": "stdout",
     "output_type": "stream",
     "text": [
      "💾 Autosaved 20004 records...\n"
     ]
    },
    {
     "name": "stderr",
     "output_type": "stream",
     "text": [
      "Retry Scraping:  91%|██████████████████████████████████████████████████▎    | 27600/30165 [12:09:35<1:06:50,  1.56s/it]"
     ]
    },
    {
     "name": "stdout",
     "output_type": "stream",
     "text": [
      "💾 Autosaved 20004 records...\n"
     ]
    },
    {
     "name": "stderr",
     "output_type": "stream",
     "text": [
      "Retry Scraping:  92%|██████████████████████████████████████████████████▌    | 27700/30165 [12:12:11<1:04:06,  1.56s/it]"
     ]
    },
    {
     "name": "stdout",
     "output_type": "stream",
     "text": [
      "💾 Autosaved 20004 records...\n"
     ]
    },
    {
     "name": "stderr",
     "output_type": "stream",
     "text": [
      "Retry Scraping:  92%|██████████████████████████████████████████████████▋    | 27800/30165 [12:14:47<1:01:29,  1.56s/it]"
     ]
    },
    {
     "name": "stdout",
     "output_type": "stream",
     "text": [
      "💾 Autosaved 20004 records...\n"
     ]
    },
    {
     "name": "stderr",
     "output_type": "stream",
     "text": [
      "Retry Scraping:  92%|████████████████████████████████████████████████████▋    | 27900/30165 [12:17:23<59:08,  1.57s/it]"
     ]
    },
    {
     "name": "stdout",
     "output_type": "stream",
     "text": [
      "💾 Autosaved 20004 records...\n"
     ]
    },
    {
     "name": "stderr",
     "output_type": "stream",
     "text": [
      "Retry Scraping:  93%|████████████████████████████████████████████████████▉    | 28000/30165 [12:20:00<56:12,  1.56s/it]"
     ]
    },
    {
     "name": "stdout",
     "output_type": "stream",
     "text": [
      "💾 Autosaved 20004 records...\n"
     ]
    },
    {
     "name": "stderr",
     "output_type": "stream",
     "text": [
      "Retry Scraping:  93%|█████████████████████████████████████████████████████    | 28100/30165 [12:22:37<53:44,  1.56s/it]"
     ]
    },
    {
     "name": "stdout",
     "output_type": "stream",
     "text": [
      "💾 Autosaved 20004 records...\n"
     ]
    },
    {
     "name": "stderr",
     "output_type": "stream",
     "text": [
      "Retry Scraping:  93%|█████████████████████████████████████████████████████▎   | 28200/30165 [12:25:13<51:07,  1.56s/it]"
     ]
    },
    {
     "name": "stdout",
     "output_type": "stream",
     "text": [
      "💾 Autosaved 20004 records...\n"
     ]
    },
    {
     "name": "stderr",
     "output_type": "stream",
     "text": [
      "Retry Scraping:  94%|█████████████████████████████████████████████████████▍   | 28300/30165 [12:27:49<48:32,  1.56s/it]"
     ]
    },
    {
     "name": "stdout",
     "output_type": "stream",
     "text": [
      "💾 Autosaved 20004 records...\n"
     ]
    },
    {
     "name": "stderr",
     "output_type": "stream",
     "text": [
      "Retry Scraping:  94%|█████████████████████████████████████████████████████▋   | 28400/30165 [12:30:26<46:07,  1.57s/it]"
     ]
    },
    {
     "name": "stdout",
     "output_type": "stream",
     "text": [
      "💾 Autosaved 20004 records...\n"
     ]
    },
    {
     "name": "stderr",
     "output_type": "stream",
     "text": [
      "Retry Scraping:  94%|█████████████████████████████████████████████████████▊   | 28500/30165 [12:33:02<43:21,  1.56s/it]"
     ]
    },
    {
     "name": "stdout",
     "output_type": "stream",
     "text": [
      "💾 Autosaved 20004 records...\n"
     ]
    },
    {
     "name": "stderr",
     "output_type": "stream",
     "text": [
      "Retry Scraping:  95%|██████████████████████████████████████████████████████   | 28600/30165 [12:35:38<40:34,  1.56s/it]"
     ]
    },
    {
     "name": "stdout",
     "output_type": "stream",
     "text": [
      "💾 Autosaved 20004 records...\n"
     ]
    },
    {
     "name": "stderr",
     "output_type": "stream",
     "text": [
      "Retry Scraping:  95%|██████████████████████████████████████████████████████▏  | 28700/30165 [12:38:15<38:02,  1.56s/it]"
     ]
    },
    {
     "name": "stdout",
     "output_type": "stream",
     "text": [
      "💾 Autosaved 20004 records...\n"
     ]
    },
    {
     "name": "stderr",
     "output_type": "stream",
     "text": [
      "Retry Scraping:  95%|██████████████████████████████████████████████████████▍  | 28800/30165 [12:40:51<35:32,  1.56s/it]"
     ]
    },
    {
     "name": "stdout",
     "output_type": "stream",
     "text": [
      "💾 Autosaved 20004 records...\n"
     ]
    },
    {
     "name": "stderr",
     "output_type": "stream",
     "text": [
      "Retry Scraping:  96%|██████████████████████████████████████████████████████▌  | 28900/30165 [12:43:27<32:52,  1.56s/it]"
     ]
    },
    {
     "name": "stdout",
     "output_type": "stream",
     "text": [
      "💾 Autosaved 20004 records...\n"
     ]
    },
    {
     "name": "stderr",
     "output_type": "stream",
     "text": [
      "Retry Scraping:  96%|██████████████████████████████████████████████████████▊  | 29000/30165 [12:46:03<30:25,  1.57s/it]"
     ]
    },
    {
     "name": "stdout",
     "output_type": "stream",
     "text": [
      "💾 Autosaved 20004 records...\n"
     ]
    },
    {
     "name": "stderr",
     "output_type": "stream",
     "text": [
      "Retry Scraping:  96%|██████████████████████████████████████████████████████▉  | 29100/30165 [12:48:40<27:56,  1.57s/it]"
     ]
    },
    {
     "name": "stdout",
     "output_type": "stream",
     "text": [
      "💾 Autosaved 20004 records...\n"
     ]
    },
    {
     "name": "stderr",
     "output_type": "stream",
     "text": [
      "Retry Scraping:  97%|███████████████████████████████████████████████████████▏ | 29200/30165 [12:51:16<25:04,  1.56s/it]"
     ]
    },
    {
     "name": "stdout",
     "output_type": "stream",
     "text": [
      "💾 Autosaved 20004 records...\n"
     ]
    },
    {
     "name": "stderr",
     "output_type": "stream",
     "text": [
      "Retry Scraping:  97%|███████████████████████████████████████████████████████▎ | 29300/30165 [12:53:52<22:27,  1.56s/it]"
     ]
    },
    {
     "name": "stdout",
     "output_type": "stream",
     "text": [
      "💾 Autosaved 20004 records...\n"
     ]
    },
    {
     "name": "stderr",
     "output_type": "stream",
     "text": [
      "Retry Scraping:  97%|███████████████████████████████████████████████████████▌ | 29400/30165 [12:56:29<19:57,  1.57s/it]"
     ]
    },
    {
     "name": "stdout",
     "output_type": "stream",
     "text": [
      "💾 Autosaved 20004 records...\n"
     ]
    },
    {
     "name": "stderr",
     "output_type": "stream",
     "text": [
      "Retry Scraping:  98%|███████████████████████████████████████████████████████▋ | 29500/30165 [12:59:05<17:17,  1.56s/it]"
     ]
    },
    {
     "name": "stdout",
     "output_type": "stream",
     "text": [
      "💾 Autosaved 20004 records...\n"
     ]
    },
    {
     "name": "stderr",
     "output_type": "stream",
     "text": [
      "Retry Scraping:  98%|███████████████████████████████████████████████████████▉ | 29600/30165 [13:01:41<14:40,  1.56s/it]"
     ]
    },
    {
     "name": "stdout",
     "output_type": "stream",
     "text": [
      "💾 Autosaved 20004 records...\n"
     ]
    },
    {
     "name": "stderr",
     "output_type": "stream",
     "text": [
      "Retry Scraping:  98%|████████████████████████████████████████████████████████ | 29700/30165 [13:04:17<12:03,  1.56s/it]"
     ]
    },
    {
     "name": "stdout",
     "output_type": "stream",
     "text": [
      "💾 Autosaved 20004 records...\n"
     ]
    },
    {
     "name": "stderr",
     "output_type": "stream",
     "text": [
      "Retry Scraping:  99%|████████████████████████████████████████████████████████▎| 29800/30165 [13:06:53<09:30,  1.56s/it]"
     ]
    },
    {
     "name": "stdout",
     "output_type": "stream",
     "text": [
      "💾 Autosaved 20004 records...\n"
     ]
    },
    {
     "name": "stderr",
     "output_type": "stream",
     "text": [
      "Retry Scraping:  99%|████████████████████████████████████████████████████████▍| 29900/30165 [13:09:30<06:55,  1.57s/it]"
     ]
    },
    {
     "name": "stdout",
     "output_type": "stream",
     "text": [
      "💾 Autosaved 20004 records...\n"
     ]
    },
    {
     "name": "stderr",
     "output_type": "stream",
     "text": [
      "Retry Scraping:  99%|████████████████████████████████████████████████████████▋| 30000/30165 [13:12:06<04:17,  1.56s/it]"
     ]
    },
    {
     "name": "stdout",
     "output_type": "stream",
     "text": [
      "💾 Autosaved 20004 records...\n"
     ]
    },
    {
     "name": "stderr",
     "output_type": "stream",
     "text": [
      "Retry Scraping: 100%|████████████████████████████████████████████████████████▉| 30100/30165 [13:14:42<01:41,  1.56s/it]"
     ]
    },
    {
     "name": "stdout",
     "output_type": "stream",
     "text": [
      "💾 Autosaved 20004 records...\n"
     ]
    },
    {
     "name": "stderr",
     "output_type": "stream",
     "text": [
      "Retry Scraping: 100%|█████████████████████████████████████████████████████████| 30165/30165 [13:16:24<00:00,  1.58s/it]\n"
     ]
    },
    {
     "name": "stdout",
     "output_type": "stream",
     "text": [
      "\n",
      "✅ Appended retry data and saved to weather_final_full.csv\n"
     ]
    }
   ],
   "source": [
    "\n",
    "\n",
    "# === CONFIG ===\n",
    "input_path = \"weather_retry.csv\"\n",
    "final_path = \"weather_final_full.csv\"\n",
    "autosave_path = \"weather_retry_autosave.csv\"\n",
    "autosave_every = 100\n",
    "\n",
    "# === LOAD RETRY DATA ===\n",
    "df = pd.read_csv(input_path)\n",
    "df.columns = df.columns.str.strip()\n",
    "\n",
    "# Clean and round coordinates\n",
    "df['date'] = pd.to_datetime(df['date'], errors='coerce').dt.date\n",
    "df['latitude'] = df['latitude'].round(2)\n",
    "df['longitude'] = df['longitude'].round(2)\n",
    "\n",
    "# Deduplicate for scraping\n",
    "keys = df[['date', 'latitude', 'longitude']].drop_duplicates()\n",
    "\n",
    "# Load existing weather data to avoid rescraping\n",
    "if os.path.exists(final_path):\n",
    "    existing = pd.read_csv(final_path)\n",
    "    existing['date'] = pd.to_datetime(existing['date'], errors='coerce').dt.date\n",
    "    existing['latitude'] = existing['latitude'].round(2)\n",
    "    existing['longitude'] = existing['longitude'].round(2)\n",
    "\n",
    "    keys = pd.merge(keys, existing[['date', 'latitude', 'longitude']],\n",
    "                    on=['date', 'latitude', 'longitude'], how='left', indicator=True)\n",
    "    keys = keys[keys['_merge'] == 'left_only'].drop(columns=['_merge'])\n",
    "\n",
    "# === SCRAPE ===\n",
    "weather_data = []\n",
    "\n",
    "for i, row in tqdm(keys.iterrows(), total=len(keys), desc=\"Retry Scraping\"):\n",
    "    date = row['date']\n",
    "    lat = row['latitude']\n",
    "    lon = row['longitude']\n",
    "    \n",
    "    url = (\n",
    "        f\"https://archive-api.open-meteo.com/v1/archive?\"\n",
    "        f\"latitude={lat}&longitude={lon}&start_date={date}&end_date={date}\"\n",
    "        f\"&hourly=temperature_2m,pressure_msl,visibility,cloudcover\"\n",
    "    )\n",
    "    \n",
    "    try:\n",
    "        response = requests.get(url, timeout=10)\n",
    "        data = response.json()\n",
    "        \n",
    "        if 'hourly' in data and 'temperature_2m' in data['hourly']:\n",
    "            hourly = pd.DataFrame(data['hourly'])\n",
    "            daily_avg = {\n",
    "                'date': date,\n",
    "                'latitude': lat,\n",
    "                'longitude': lon,\n",
    "                'temperature_2m': hourly['temperature_2m'].mean(),\n",
    "                'pressure_msl': hourly['pressure_msl'].mean(),\n",
    "                'visibility': hourly['visibility'].mean() if 'visibility' in hourly else None,\n",
    "                'cloudcover': hourly['cloudcover'].mean(),\n",
    "            }\n",
    "            weather_data.append(daily_avg)\n",
    "        \n",
    "        if i % autosave_every == 0 and i > 0:\n",
    "            pd.DataFrame(weather_data).to_csv(autosave_path, index=False)\n",
    "            print(f\"💾 Autosaved {len(weather_data)} records...\")\n",
    "\n",
    "    except Exception as e:\n",
    "        print(f\"[{i}] Error at ({date}, {lat}, {lon}):\", e)\n",
    "    \n",
    "    time.sleep(1)\n",
    "\n",
    "# === FINAL SAVE ===\n",
    "if weather_data:\n",
    "    retry_df = pd.DataFrame(weather_data)\n",
    "    \n",
    "    if os.path.exists(final_path):\n",
    "        full_df = pd.read_csv(final_path)\n",
    "        final_df = pd.concat([full_df, retry_df], ignore_index=True)\n",
    "    else:\n",
    "        final_df = retry_df\n",
    "\n",
    "    final_df.to_csv(final_path, index=False)\n",
    "    print(f\"\\n✅ Appended retry data and saved to {final_path}\")\n",
    "else:\n",
    "    print(\"⚠️ No new data scraped.\")\n"
   ]
  },
  {
   "cell_type": "code",
   "execution_count": 104,
   "id": "6a3eded1-8b8d-40fe-a36b-acd174835c90",
   "metadata": {},
   "outputs": [
    {
     "data": {
      "text/html": [
       "<div>\n",
       "<style scoped>\n",
       "    .dataframe tbody tr th:only-of-type {\n",
       "        vertical-align: middle;\n",
       "    }\n",
       "\n",
       "    .dataframe tbody tr th {\n",
       "        vertical-align: top;\n",
       "    }\n",
       "\n",
       "    .dataframe thead th {\n",
       "        text-align: right;\n",
       "    }\n",
       "</style>\n",
       "<table border=\"1\" class=\"dataframe\">\n",
       "  <thead>\n",
       "    <tr style=\"text-align: right;\">\n",
       "      <th></th>\n",
       "      <th>city</th>\n",
       "      <th>state</th>\n",
       "      <th>country</th>\n",
       "      <th>shape</th>\n",
       "      <th>duration (seconds)</th>\n",
       "      <th>duration (hours/min)</th>\n",
       "      <th>latitude</th>\n",
       "      <th>longitude</th>\n",
       "      <th>date</th>\n",
       "      <th>time</th>\n",
       "    </tr>\n",
       "  </thead>\n",
       "  <tbody>\n",
       "    <tr>\n",
       "      <th>0</th>\n",
       "      <td>san marcos</td>\n",
       "      <td>tx</td>\n",
       "      <td>us</td>\n",
       "      <td>cylinder</td>\n",
       "      <td>2700</td>\n",
       "      <td>45 minutes</td>\n",
       "      <td>29.883056</td>\n",
       "      <td>-97.941111</td>\n",
       "      <td>1949-10-10</td>\n",
       "      <td>20:30:00</td>\n",
       "    </tr>\n",
       "    <tr>\n",
       "      <th>3</th>\n",
       "      <td>edna</td>\n",
       "      <td>tx</td>\n",
       "      <td>us</td>\n",
       "      <td>circle</td>\n",
       "      <td>20</td>\n",
       "      <td>1/2 hour</td>\n",
       "      <td>28.978333</td>\n",
       "      <td>-96.645833</td>\n",
       "      <td>1956-10-10</td>\n",
       "      <td>21:00:00</td>\n",
       "    </tr>\n",
       "    <tr>\n",
       "      <th>4</th>\n",
       "      <td>kaneohe</td>\n",
       "      <td>hi</td>\n",
       "      <td>us</td>\n",
       "      <td>light</td>\n",
       "      <td>900</td>\n",
       "      <td>15 minutes</td>\n",
       "      <td>21.418056</td>\n",
       "      <td>-157.803611</td>\n",
       "      <td>1960-10-10</td>\n",
       "      <td>20:00:00</td>\n",
       "    </tr>\n",
       "    <tr>\n",
       "      <th>5</th>\n",
       "      <td>bristol</td>\n",
       "      <td>tn</td>\n",
       "      <td>us</td>\n",
       "      <td>sphere</td>\n",
       "      <td>300</td>\n",
       "      <td>5 minutes</td>\n",
       "      <td>36.595000</td>\n",
       "      <td>-82.188889</td>\n",
       "      <td>1961-10-10</td>\n",
       "      <td>19:00:00</td>\n",
       "    </tr>\n",
       "    <tr>\n",
       "      <th>7</th>\n",
       "      <td>norwalk</td>\n",
       "      <td>ct</td>\n",
       "      <td>us</td>\n",
       "      <td>disk</td>\n",
       "      <td>1200</td>\n",
       "      <td>20 minutes</td>\n",
       "      <td>41.117500</td>\n",
       "      <td>-73.408333</td>\n",
       "      <td>1965-10-10</td>\n",
       "      <td>23:45:00</td>\n",
       "    </tr>\n",
       "  </tbody>\n",
       "</table>\n",
       "</div>"
      ],
      "text/plain": [
       "         city state country     shape duration (seconds) duration (hours/min)  \\\n",
       "0  san marcos    tx      us  cylinder               2700           45 minutes   \n",
       "3        edna    tx      us    circle                 20             1/2 hour   \n",
       "4     kaneohe    hi      us     light                900           15 minutes   \n",
       "5     bristol    tn      us    sphere                300            5 minutes   \n",
       "7     norwalk    ct      us      disk               1200           20 minutes   \n",
       "\n",
       "    latitude  longitude         date      time  \n",
       "0  29.883056  -97.941111  1949-10-10  20:30:00  \n",
       "3  28.978333  -96.645833  1956-10-10  21:00:00  \n",
       "4  21.418056 -157.803611  1960-10-10  20:00:00  \n",
       "5  36.595000  -82.188889  1961-10-10  19:00:00  \n",
       "7  41.117500  -73.408333  1965-10-10  23:45:00  "
      ]
     },
     "execution_count": 104,
     "metadata": {},
     "output_type": "execute_result"
    }
   ],
   "source": [
    "data_cleaned.head()"
   ]
  },
  {
   "cell_type": "code",
   "execution_count": 105,
   "id": "12f8ddf5-e835-485d-b3dc-0e0235c45d6d",
   "metadata": {},
   "outputs": [],
   "source": [
    "### reloading previosuly saved data\n",
    "df = pd.read_csv(\"cleaned_ufo_data.csv\")                 # cleaned UFO data\n",
    "final_df = pd.read_csv(\"weather_final_full.csv\")       # final weather data\n",
    "merged = pd.read_csv(\"merged.csv\") "
   ]
  },
  {
   "cell_type": "code",
   "execution_count": 106,
   "id": "20dbbdb9-e34c-43ee-99f8-3ec891936977",
   "metadata": {},
   "outputs": [
    {
     "data": {
      "text/html": [
       "<div>\n",
       "<style scoped>\n",
       "    .dataframe tbody tr th:only-of-type {\n",
       "        vertical-align: middle;\n",
       "    }\n",
       "\n",
       "    .dataframe tbody tr th {\n",
       "        vertical-align: top;\n",
       "    }\n",
       "\n",
       "    .dataframe thead th {\n",
       "        text-align: right;\n",
       "    }\n",
       "</style>\n",
       "<table border=\"1\" class=\"dataframe\">\n",
       "  <thead>\n",
       "    <tr style=\"text-align: right;\">\n",
       "      <th></th>\n",
       "      <th>date</th>\n",
       "      <th>latitude</th>\n",
       "      <th>longitude</th>\n",
       "      <th>temperature_2m</th>\n",
       "      <th>pressure_msl</th>\n",
       "      <th>visibility</th>\n",
       "      <th>cloudcover</th>\n",
       "    </tr>\n",
       "  </thead>\n",
       "  <tbody>\n",
       "    <tr>\n",
       "      <th>0</th>\n",
       "      <td>1949-10-10</td>\n",
       "      <td>29.88</td>\n",
       "      <td>-97.94</td>\n",
       "      <td>25.633333</td>\n",
       "      <td>1010.937500</td>\n",
       "      <td>NaN</td>\n",
       "      <td>64.125000</td>\n",
       "    </tr>\n",
       "    <tr>\n",
       "      <th>1</th>\n",
       "      <td>1956-10-10</td>\n",
       "      <td>28.98</td>\n",
       "      <td>-96.65</td>\n",
       "      <td>24.116667</td>\n",
       "      <td>1020.758333</td>\n",
       "      <td>NaN</td>\n",
       "      <td>0.708333</td>\n",
       "    </tr>\n",
       "    <tr>\n",
       "      <th>2</th>\n",
       "      <td>1960-10-10</td>\n",
       "      <td>21.42</td>\n",
       "      <td>-157.80</td>\n",
       "      <td>25.325000</td>\n",
       "      <td>1014.175000</td>\n",
       "      <td>NaN</td>\n",
       "      <td>49.083333</td>\n",
       "    </tr>\n",
       "    <tr>\n",
       "      <th>3</th>\n",
       "      <td>1961-10-10</td>\n",
       "      <td>36.60</td>\n",
       "      <td>-82.19</td>\n",
       "      <td>16.120833</td>\n",
       "      <td>1023.329167</td>\n",
       "      <td>NaN</td>\n",
       "      <td>0.166667</td>\n",
       "    </tr>\n",
       "    <tr>\n",
       "      <th>4</th>\n",
       "      <td>1965-10-10</td>\n",
       "      <td>41.12</td>\n",
       "      <td>-73.41</td>\n",
       "      <td>13.833333</td>\n",
       "      <td>1006.854167</td>\n",
       "      <td>NaN</td>\n",
       "      <td>42.041667</td>\n",
       "    </tr>\n",
       "  </tbody>\n",
       "</table>\n",
       "</div>"
      ],
      "text/plain": [
       "         date  latitude  longitude  temperature_2m  pressure_msl  visibility  \\\n",
       "0  1949-10-10     29.88     -97.94       25.633333   1010.937500         NaN   \n",
       "1  1956-10-10     28.98     -96.65       24.116667   1020.758333         NaN   \n",
       "2  1960-10-10     21.42    -157.80       25.325000   1014.175000         NaN   \n",
       "3  1961-10-10     36.60     -82.19       16.120833   1023.329167         NaN   \n",
       "4  1965-10-10     41.12     -73.41       13.833333   1006.854167         NaN   \n",
       "\n",
       "   cloudcover  \n",
       "0   64.125000  \n",
       "1    0.708333  \n",
       "2   49.083333  \n",
       "3    0.166667  \n",
       "4   42.041667  "
      ]
     },
     "execution_count": 106,
     "metadata": {},
     "output_type": "execute_result"
    }
   ],
   "source": [
    "final_df.head()"
   ]
  },
  {
   "cell_type": "code",
   "execution_count": 107,
   "id": "c5d9f14b-19f8-4053-9389-aebb6baf6e3b",
   "metadata": {},
   "outputs": [
    {
     "data": {
      "text/html": [
       "<div>\n",
       "<style scoped>\n",
       "    .dataframe tbody tr th:only-of-type {\n",
       "        vertical-align: middle;\n",
       "    }\n",
       "\n",
       "    .dataframe tbody tr th {\n",
       "        vertical-align: top;\n",
       "    }\n",
       "\n",
       "    .dataframe thead th {\n",
       "        text-align: right;\n",
       "    }\n",
       "</style>\n",
       "<table border=\"1\" class=\"dataframe\">\n",
       "  <thead>\n",
       "    <tr style=\"text-align: right;\">\n",
       "      <th></th>\n",
       "      <th>city</th>\n",
       "      <th>state</th>\n",
       "      <th>country</th>\n",
       "      <th>shape</th>\n",
       "      <th>duration (seconds)</th>\n",
       "      <th>duration (hours/min)</th>\n",
       "      <th>latitude</th>\n",
       "      <th>longitude</th>\n",
       "      <th>date</th>\n",
       "      <th>time</th>\n",
       "      <th>temperature_2m</th>\n",
       "      <th>pressure_msl</th>\n",
       "      <th>visibility</th>\n",
       "      <th>cloudcover</th>\n",
       "      <th>_merge</th>\n",
       "    </tr>\n",
       "  </thead>\n",
       "  <tbody>\n",
       "    <tr>\n",
       "      <th>0</th>\n",
       "      <td>san marcos</td>\n",
       "      <td>tx</td>\n",
       "      <td>us</td>\n",
       "      <td>cylinder</td>\n",
       "      <td>2700</td>\n",
       "      <td>45 minutes</td>\n",
       "      <td>29.88</td>\n",
       "      <td>-97.94</td>\n",
       "      <td>1949-10-10</td>\n",
       "      <td>20:30:00</td>\n",
       "      <td>25.633333</td>\n",
       "      <td>1010.937500</td>\n",
       "      <td>NaN</td>\n",
       "      <td>64.125000</td>\n",
       "      <td>both</td>\n",
       "    </tr>\n",
       "    <tr>\n",
       "      <th>1</th>\n",
       "      <td>edna</td>\n",
       "      <td>tx</td>\n",
       "      <td>us</td>\n",
       "      <td>circle</td>\n",
       "      <td>20</td>\n",
       "      <td>1/2 hour</td>\n",
       "      <td>28.98</td>\n",
       "      <td>-96.65</td>\n",
       "      <td>1956-10-10</td>\n",
       "      <td>21:00:00</td>\n",
       "      <td>24.116667</td>\n",
       "      <td>1020.758333</td>\n",
       "      <td>NaN</td>\n",
       "      <td>0.708333</td>\n",
       "      <td>both</td>\n",
       "    </tr>\n",
       "    <tr>\n",
       "      <th>2</th>\n",
       "      <td>kaneohe</td>\n",
       "      <td>hi</td>\n",
       "      <td>us</td>\n",
       "      <td>light</td>\n",
       "      <td>900</td>\n",
       "      <td>15 minutes</td>\n",
       "      <td>21.42</td>\n",
       "      <td>-157.80</td>\n",
       "      <td>1960-10-10</td>\n",
       "      <td>20:00:00</td>\n",
       "      <td>25.325000</td>\n",
       "      <td>1014.175000</td>\n",
       "      <td>NaN</td>\n",
       "      <td>49.083333</td>\n",
       "      <td>both</td>\n",
       "    </tr>\n",
       "    <tr>\n",
       "      <th>3</th>\n",
       "      <td>bristol</td>\n",
       "      <td>tn</td>\n",
       "      <td>us</td>\n",
       "      <td>sphere</td>\n",
       "      <td>300</td>\n",
       "      <td>5 minutes</td>\n",
       "      <td>36.60</td>\n",
       "      <td>-82.19</td>\n",
       "      <td>1961-10-10</td>\n",
       "      <td>19:00:00</td>\n",
       "      <td>16.120833</td>\n",
       "      <td>1023.329167</td>\n",
       "      <td>NaN</td>\n",
       "      <td>0.166667</td>\n",
       "      <td>both</td>\n",
       "    </tr>\n",
       "    <tr>\n",
       "      <th>4</th>\n",
       "      <td>norwalk</td>\n",
       "      <td>ct</td>\n",
       "      <td>us</td>\n",
       "      <td>disk</td>\n",
       "      <td>1200</td>\n",
       "      <td>20 minutes</td>\n",
       "      <td>41.12</td>\n",
       "      <td>-73.41</td>\n",
       "      <td>1965-10-10</td>\n",
       "      <td>23:45:00</td>\n",
       "      <td>13.833333</td>\n",
       "      <td>1006.854167</td>\n",
       "      <td>NaN</td>\n",
       "      <td>42.041667</td>\n",
       "      <td>both</td>\n",
       "    </tr>\n",
       "  </tbody>\n",
       "</table>\n",
       "</div>"
      ],
      "text/plain": [
       "         city state country     shape duration (seconds) duration (hours/min)  \\\n",
       "0  san marcos    tx      us  cylinder               2700           45 minutes   \n",
       "1        edna    tx      us    circle                 20             1/2 hour   \n",
       "2     kaneohe    hi      us     light                900           15 minutes   \n",
       "3     bristol    tn      us    sphere                300            5 minutes   \n",
       "4     norwalk    ct      us      disk               1200           20 minutes   \n",
       "\n",
       "   latitude  longitude        date      time  temperature_2m  pressure_msl  \\\n",
       "0     29.88     -97.94  1949-10-10  20:30:00       25.633333   1010.937500   \n",
       "1     28.98     -96.65  1956-10-10  21:00:00       24.116667   1020.758333   \n",
       "2     21.42    -157.80  1960-10-10  20:00:00       25.325000   1014.175000   \n",
       "3     36.60     -82.19  1961-10-10  19:00:00       16.120833   1023.329167   \n",
       "4     41.12     -73.41  1965-10-10  23:45:00       13.833333   1006.854167   \n",
       "\n",
       "   visibility  cloudcover _merge  \n",
       "0         NaN   64.125000   both  \n",
       "1         NaN    0.708333   both  \n",
       "2         NaN   49.083333   both  \n",
       "3         NaN    0.166667   both  \n",
       "4         NaN   42.041667   both  "
      ]
     },
     "execution_count": 107,
     "metadata": {},
     "output_type": "execute_result"
    }
   ],
   "source": [
    "## merging my 2 datasets \n",
    "\n",
    "# clean column names and parse date\n",
    "data_cleaned.columns = data_cleaned.columns.str.strip()\n",
    "final_df.columns = final_df.columns.str.strip()\n",
    "\n",
    "data_cleaned['date'] = pd.to_datetime(data_cleaned['date'], errors='coerce').dt.date\n",
    "final_df['date'] = pd.to_datetime(final_df['date'], errors='coerce').dt.date\n",
    "\n",
    "# === Round coordinates for matching ===\n",
    "data_cleaned['latitude'] = data_cleaned['latitude'].round(2)\n",
    "data_cleaned['longitude'] = data_cleaned['longitude'].round(2)\n",
    "final_df['latitude'] = final_df['latitude'].round(2)\n",
    "final_df['longitude'] = final_df['longitude'].round(2)\n",
    "\n",
    "# === Merge on date + coords ===\n",
    "merged = pd.merge(\n",
    "  data_cleaned,\n",
    "  final_df,\n",
    "    on=['date', 'latitude', 'longitude'],\n",
    "    how='left',\n",
    "    indicator=True\n",
    ")\n",
    "merged.head()"
   ]
  },
  {
   "cell_type": "code",
   "execution_count": 108,
   "id": "7bd78e79-c151-4966-bd19-9adef2588cd4",
   "metadata": {},
   "outputs": [
    {
     "name": "stdout",
     "output_type": "stream",
     "text": [
      "Records with no weather data:11001\n"
     ]
    }
   ],
   "source": [
    "num_no_weather = (merged['_merge'] == 'left_only').sum()\n",
    "print(f\"Records with no weather data:{num_no_weather}\")"
   ]
  },
  {
   "cell_type": "code",
   "execution_count": 109,
   "id": "eb0688d5-301e-43d0-aa78-645d9501fb8d",
   "metadata": {},
   "outputs": [],
   "source": [
    "merged = merged[merged['_merge'] == 'both'].drop(columns=['_merge'])"
   ]
  },
  {
   "cell_type": "code",
   "execution_count": 110,
   "id": "3706b6b9-4702-4753-b305-b59f615489e1",
   "metadata": {},
   "outputs": [
    {
     "name": "stdout",
     "output_type": "stream",
     "text": [
      "<class 'pandas.core.frame.DataFrame'>\n",
      "Index: 50740 entries, 0 to 56209\n",
      "Data columns (total 14 columns):\n",
      " #   Column                Non-Null Count  Dtype  \n",
      "---  ------                --------------  -----  \n",
      " 0   city                  50740 non-null  object \n",
      " 1   state                 50740 non-null  object \n",
      " 2   country               50740 non-null  object \n",
      " 3   shape                 50740 non-null  object \n",
      " 4   duration (seconds)    50740 non-null  object \n",
      " 5   duration (hours/min)  50740 non-null  object \n",
      " 6   latitude              50740 non-null  float64\n",
      " 7   longitude             50740 non-null  float64\n",
      " 8   date                  50740 non-null  object \n",
      " 9   time                  50740 non-null  object \n",
      " 10  temperature_2m        50740 non-null  float64\n",
      " 11  pressure_msl          50740 non-null  float64\n",
      " 12  visibility            0 non-null      float64\n",
      " 13  cloudcover            50740 non-null  float64\n",
      "dtypes: float64(6), object(8)\n",
      "memory usage: 5.8+ MB\n"
     ]
    }
   ],
   "source": [
    "merged.info()"
   ]
  },
  {
   "cell_type": "code",
   "execution_count": 111,
   "id": "94f0c767-b0ff-4eec-ad29-103053ecc124",
   "metadata": {},
   "outputs": [
    {
     "data": {
      "text/html": [
       "<div>\n",
       "<style scoped>\n",
       "    .dataframe tbody tr th:only-of-type {\n",
       "        vertical-align: middle;\n",
       "    }\n",
       "\n",
       "    .dataframe tbody tr th {\n",
       "        vertical-align: top;\n",
       "    }\n",
       "\n",
       "    .dataframe thead th {\n",
       "        text-align: right;\n",
       "    }\n",
       "</style>\n",
       "<table border=\"1\" class=\"dataframe\">\n",
       "  <thead>\n",
       "    <tr style=\"text-align: right;\">\n",
       "      <th></th>\n",
       "      <th>city</th>\n",
       "      <th>state</th>\n",
       "      <th>country</th>\n",
       "      <th>shape</th>\n",
       "      <th>duration (seconds)</th>\n",
       "      <th>latitude</th>\n",
       "      <th>longitude</th>\n",
       "      <th>date</th>\n",
       "      <th>time</th>\n",
       "      <th>temperature_2m</th>\n",
       "      <th>pressure_msl</th>\n",
       "      <th>cloudcover</th>\n",
       "    </tr>\n",
       "  </thead>\n",
       "  <tbody>\n",
       "    <tr>\n",
       "      <th>0</th>\n",
       "      <td>san marcos</td>\n",
       "      <td>tx</td>\n",
       "      <td>us</td>\n",
       "      <td>cylinder</td>\n",
       "      <td>2700</td>\n",
       "      <td>29.88</td>\n",
       "      <td>-97.94</td>\n",
       "      <td>1949-10-10</td>\n",
       "      <td>20:30:00</td>\n",
       "      <td>25.633333</td>\n",
       "      <td>1010.937500</td>\n",
       "      <td>64.125000</td>\n",
       "    </tr>\n",
       "    <tr>\n",
       "      <th>1</th>\n",
       "      <td>edna</td>\n",
       "      <td>tx</td>\n",
       "      <td>us</td>\n",
       "      <td>circle</td>\n",
       "      <td>20</td>\n",
       "      <td>28.98</td>\n",
       "      <td>-96.65</td>\n",
       "      <td>1956-10-10</td>\n",
       "      <td>21:00:00</td>\n",
       "      <td>24.116667</td>\n",
       "      <td>1020.758333</td>\n",
       "      <td>0.708333</td>\n",
       "    </tr>\n",
       "    <tr>\n",
       "      <th>2</th>\n",
       "      <td>kaneohe</td>\n",
       "      <td>hi</td>\n",
       "      <td>us</td>\n",
       "      <td>light</td>\n",
       "      <td>900</td>\n",
       "      <td>21.42</td>\n",
       "      <td>-157.80</td>\n",
       "      <td>1960-10-10</td>\n",
       "      <td>20:00:00</td>\n",
       "      <td>25.325000</td>\n",
       "      <td>1014.175000</td>\n",
       "      <td>49.083333</td>\n",
       "    </tr>\n",
       "    <tr>\n",
       "      <th>3</th>\n",
       "      <td>bristol</td>\n",
       "      <td>tn</td>\n",
       "      <td>us</td>\n",
       "      <td>sphere</td>\n",
       "      <td>300</td>\n",
       "      <td>36.60</td>\n",
       "      <td>-82.19</td>\n",
       "      <td>1961-10-10</td>\n",
       "      <td>19:00:00</td>\n",
       "      <td>16.120833</td>\n",
       "      <td>1023.329167</td>\n",
       "      <td>0.166667</td>\n",
       "    </tr>\n",
       "    <tr>\n",
       "      <th>4</th>\n",
       "      <td>norwalk</td>\n",
       "      <td>ct</td>\n",
       "      <td>us</td>\n",
       "      <td>disk</td>\n",
       "      <td>1200</td>\n",
       "      <td>41.12</td>\n",
       "      <td>-73.41</td>\n",
       "      <td>1965-10-10</td>\n",
       "      <td>23:45:00</td>\n",
       "      <td>13.833333</td>\n",
       "      <td>1006.854167</td>\n",
       "      <td>42.041667</td>\n",
       "    </tr>\n",
       "  </tbody>\n",
       "</table>\n",
       "</div>"
      ],
      "text/plain": [
       "         city state country     shape duration (seconds)  latitude  longitude  \\\n",
       "0  san marcos    tx      us  cylinder               2700     29.88     -97.94   \n",
       "1        edna    tx      us    circle                 20     28.98     -96.65   \n",
       "2     kaneohe    hi      us     light                900     21.42    -157.80   \n",
       "3     bristol    tn      us    sphere                300     36.60     -82.19   \n",
       "4     norwalk    ct      us      disk               1200     41.12     -73.41   \n",
       "\n",
       "         date      time  temperature_2m  pressure_msl  cloudcover  \n",
       "0  1949-10-10  20:30:00       25.633333   1010.937500   64.125000  \n",
       "1  1956-10-10  21:00:00       24.116667   1020.758333    0.708333  \n",
       "2  1960-10-10  20:00:00       25.325000   1014.175000   49.083333  \n",
       "3  1961-10-10  19:00:00       16.120833   1023.329167    0.166667  \n",
       "4  1965-10-10  23:45:00       13.833333   1006.854167   42.041667  "
      ]
     },
     "execution_count": 111,
     "metadata": {},
     "output_type": "execute_result"
    }
   ],
   "source": [
    "## start dropping unnesccary columns \n",
    "merged = merged.drop(columns = ['visibility','duration (hours/min)'])\n",
    "merged.head()"
   ]
  },
  {
   "cell_type": "code",
   "execution_count": 112,
   "id": "100941be-43df-4724-a761-d15505943492",
   "metadata": {},
   "outputs": [
    {
     "data": {
      "text/html": [
       "<div>\n",
       "<style scoped>\n",
       "    .dataframe tbody tr th:only-of-type {\n",
       "        vertical-align: middle;\n",
       "    }\n",
       "\n",
       "    .dataframe tbody tr th {\n",
       "        vertical-align: top;\n",
       "    }\n",
       "\n",
       "    .dataframe thead th {\n",
       "        text-align: right;\n",
       "    }\n",
       "</style>\n",
       "<table border=\"1\" class=\"dataframe\">\n",
       "  <thead>\n",
       "    <tr style=\"text-align: right;\">\n",
       "      <th></th>\n",
       "      <th>shape</th>\n",
       "      <th>duration (seconds)</th>\n",
       "      <th>latitude</th>\n",
       "      <th>longitude</th>\n",
       "      <th>date</th>\n",
       "      <th>time</th>\n",
       "      <th>temperature_2m</th>\n",
       "      <th>pressure_msl</th>\n",
       "      <th>cloudcover</th>\n",
       "    </tr>\n",
       "  </thead>\n",
       "  <tbody>\n",
       "    <tr>\n",
       "      <th>0</th>\n",
       "      <td>cylinder</td>\n",
       "      <td>2700</td>\n",
       "      <td>29.88</td>\n",
       "      <td>-97.94</td>\n",
       "      <td>1949-10-10</td>\n",
       "      <td>20:30:00</td>\n",
       "      <td>25.633333</td>\n",
       "      <td>1010.937500</td>\n",
       "      <td>64.125000</td>\n",
       "    </tr>\n",
       "    <tr>\n",
       "      <th>1</th>\n",
       "      <td>circle</td>\n",
       "      <td>20</td>\n",
       "      <td>28.98</td>\n",
       "      <td>-96.65</td>\n",
       "      <td>1956-10-10</td>\n",
       "      <td>21:00:00</td>\n",
       "      <td>24.116667</td>\n",
       "      <td>1020.758333</td>\n",
       "      <td>0.708333</td>\n",
       "    </tr>\n",
       "    <tr>\n",
       "      <th>2</th>\n",
       "      <td>light</td>\n",
       "      <td>900</td>\n",
       "      <td>21.42</td>\n",
       "      <td>-157.80</td>\n",
       "      <td>1960-10-10</td>\n",
       "      <td>20:00:00</td>\n",
       "      <td>25.325000</td>\n",
       "      <td>1014.175000</td>\n",
       "      <td>49.083333</td>\n",
       "    </tr>\n",
       "    <tr>\n",
       "      <th>3</th>\n",
       "      <td>sphere</td>\n",
       "      <td>300</td>\n",
       "      <td>36.60</td>\n",
       "      <td>-82.19</td>\n",
       "      <td>1961-10-10</td>\n",
       "      <td>19:00:00</td>\n",
       "      <td>16.120833</td>\n",
       "      <td>1023.329167</td>\n",
       "      <td>0.166667</td>\n",
       "    </tr>\n",
       "    <tr>\n",
       "      <th>4</th>\n",
       "      <td>disk</td>\n",
       "      <td>1200</td>\n",
       "      <td>41.12</td>\n",
       "      <td>-73.41</td>\n",
       "      <td>1965-10-10</td>\n",
       "      <td>23:45:00</td>\n",
       "      <td>13.833333</td>\n",
       "      <td>1006.854167</td>\n",
       "      <td>42.041667</td>\n",
       "    </tr>\n",
       "  </tbody>\n",
       "</table>\n",
       "</div>"
      ],
      "text/plain": [
       "      shape duration (seconds)  latitude  longitude        date      time  \\\n",
       "0  cylinder               2700     29.88     -97.94  1949-10-10  20:30:00   \n",
       "1    circle                 20     28.98     -96.65  1956-10-10  21:00:00   \n",
       "2     light                900     21.42    -157.80  1960-10-10  20:00:00   \n",
       "3    sphere                300     36.60     -82.19  1961-10-10  19:00:00   \n",
       "4      disk               1200     41.12     -73.41  1965-10-10  23:45:00   \n",
       "\n",
       "   temperature_2m  pressure_msl  cloudcover  \n",
       "0       25.633333   1010.937500   64.125000  \n",
       "1       24.116667   1020.758333    0.708333  \n",
       "2       25.325000   1014.175000   49.083333  \n",
       "3       16.120833   1023.329167    0.166667  \n",
       "4       13.833333   1006.854167   42.041667  "
      ]
     },
     "execution_count": 112,
     "metadata": {},
     "output_type": "execute_result"
    }
   ],
   "source": [
    "merged = merged.drop(columns = ['city','state','country'])\n",
    "merged.head()"
   ]
  },
  {
   "cell_type": "code",
   "execution_count": 113,
   "id": "fcda0bc2-7acb-447a-81a3-a45d3e34a7f0",
   "metadata": {},
   "outputs": [],
   "source": [
    "merged.to_csv(\"merged.csv\", index=False)"
   ]
  },
  {
   "cell_type": "code",
   "execution_count": 114,
   "id": "4182ab05-44ec-4891-8fe2-4c42c50c82e6",
   "metadata": {},
   "outputs": [
    {
     "data": {
      "image/png": "[encoded data removed]",
      "text/plain": [
       "<Figure size 1000x500 with 1 Axes>"
      ]
     },
     "metadata": {},
     "output_type": "display_data"
    }
   ],
   "source": [
    "import matplotlib.pyplot as plt\n",
    "merged['shape'].value_counts().plot(kind='bar', figsize=(10, 5), title='Distribution of UFO Shapes')\n",
    "plt.xlabel('Shape')\n",
    "plt.ylabel('Count')\n",
    "plt.xticks(rotation=45)\n",
    "plt.tight_layout()\n",
    "plt.show()"
   ]
  },
  {
   "cell_type": "code",
   "execution_count": 115,
   "id": "c72c376c-f2b6-4ba3-9bd3-f120c26a0751",
   "metadata": {},
   "outputs": [
    {
     "name": "stdout",
     "output_type": "stream",
     "text": [
      "'light' appears 11526 times\n",
      "'triangle' appears 5661 times\n",
      "'circle' appears 5279 times\n",
      "'fireball' appears 4375 times\n",
      "'other' appears 3898 times\n",
      "'sphere' appears 3753 times\n",
      "'disk' appears 3554 times\n",
      "'oval' appears 2632 times\n",
      "'formation' appears 1736 times\n",
      "'cigar' appears 1385 times\n",
      "'changing' appears 1359 times\n",
      "'rectangle' appears 901 times\n",
      "'flash' appears 881 times\n",
      "'cylinder' appears 874 times\n",
      "'diamond' appears 817 times\n",
      "'chevron' appears 723 times\n",
      "'egg' appears 511 times\n",
      "'teardrop' appears 492 times\n",
      "'cone' appears 200 times\n",
      "'cross' appears 169 times\n",
      "'delta' appears 7 times\n",
      "'round' appears 2 times\n",
      "'pyramid' appears 1 times\n",
      "'flare' appears 1 times\n",
      "'hexagon' appears 1 times\n",
      "'crescent' appears 1 times\n",
      "'changed' appears 1 times\n"
     ]
    }
   ],
   "source": [
    "shape_counts_2 = merged['shape'].astype(str).str.lower().value_counts()\n",
    "\n",
    "for value, count in shape_counts_2.items():\n",
    "    print(f\"'{value}' appears {count} times\")"
   ]
  },
  {
   "cell_type": "code",
   "execution_count": 116,
   "id": "8198d269-ebd5-4363-8e5b-26c629370f2c",
   "metadata": {},
   "outputs": [
    {
     "name": "stdout",
     "output_type": "stream",
     "text": [
      "shape_binned\n",
      "luminous     16782\n",
      "round        12667\n",
      "angular       8271\n",
      "other         7452\n",
      "irregular     3095\n",
      "elongated     2459\n",
      "Name: count, dtype: int64\n"
     ]
    }
   ],
   "source": [
    "### binning target var \n",
    "\n",
    "# Step 1: Count shape frequencies\n",
    "shape_counts = merged['shape'].value_counts()\n",
    "\n",
    "# Step 2: Filter out shapes with 7 or fewer appearances\n",
    "valid_shapes = shape_counts[shape_counts > 7].index\n",
    "merged = merged[merged['shape'].isin(valid_shapes)]\n",
    "\n",
    "# Step 3: Define binning map\n",
    "shape_bins = {\n",
    "    'light': 'luminous',\n",
    "    'fireball': 'luminous',\n",
    "    'flash': 'luminous',\n",
    "    \n",
    "    'circle': 'round',\n",
    "    'sphere': 'round',\n",
    "    'oval': 'round',\n",
    "    'egg': 'round',\n",
    "    'teardrop': 'round',\n",
    "    \n",
    "    'cigar': 'elongated',\n",
    "    'cylinder': 'elongated',\n",
    "    'cone': 'elongated',\n",
    "    \n",
    "    'triangle': 'angular',\n",
    "    'rectangle': 'angular',\n",
    "    'diamond': 'angular',\n",
    "    'chevron': 'angular',\n",
    "    'cross': 'angular',\n",
    "    \n",
    "    'changing': 'irregular',\n",
    "    'formation': 'irregular',\n",
    "    \n",
    "    'disk': 'other',\n",
    "    'other': 'other'\n",
    "}\n",
    "\n",
    "# Apply binning\n",
    "merged['shape_binned'] = merged['shape'].map(shape_bins)\n",
    "\n",
    "print(merged['shape_binned'].value_counts())\n"
   ]
  },
  {
   "cell_type": "code",
   "execution_count": 117,
   "id": "6e394e5f-44f8-4a3e-b433-fc57be497dd3",
   "metadata": {},
   "outputs": [
    {
     "data": {
      "text/html": [
       "<div>\n",
       "<style scoped>\n",
       "    .dataframe tbody tr th:only-of-type {\n",
       "        vertical-align: middle;\n",
       "    }\n",
       "\n",
       "    .dataframe tbody tr th {\n",
       "        vertical-align: top;\n",
       "    }\n",
       "\n",
       "    .dataframe thead th {\n",
       "        text-align: right;\n",
       "    }\n",
       "</style>\n",
       "<table border=\"1\" class=\"dataframe\">\n",
       "  <thead>\n",
       "    <tr style=\"text-align: right;\">\n",
       "      <th></th>\n",
       "      <th>duration (seconds)</th>\n",
       "      <th>latitude</th>\n",
       "      <th>longitude</th>\n",
       "      <th>date</th>\n",
       "      <th>time</th>\n",
       "      <th>temperature_2m</th>\n",
       "      <th>pressure_msl</th>\n",
       "      <th>cloudcover</th>\n",
       "      <th>shape_binned</th>\n",
       "    </tr>\n",
       "  </thead>\n",
       "  <tbody>\n",
       "    <tr>\n",
       "      <th>0</th>\n",
       "      <td>2700</td>\n",
       "      <td>29.88</td>\n",
       "      <td>-97.94</td>\n",
       "      <td>1949-10-10</td>\n",
       "      <td>20:30:00</td>\n",
       "      <td>25.633333</td>\n",
       "      <td>1010.937500</td>\n",
       "      <td>64.125000</td>\n",
       "      <td>elongated</td>\n",
       "    </tr>\n",
       "    <tr>\n",
       "      <th>1</th>\n",
       "      <td>20</td>\n",
       "      <td>28.98</td>\n",
       "      <td>-96.65</td>\n",
       "      <td>1956-10-10</td>\n",
       "      <td>21:00:00</td>\n",
       "      <td>24.116667</td>\n",
       "      <td>1020.758333</td>\n",
       "      <td>0.708333</td>\n",
       "      <td>round</td>\n",
       "    </tr>\n",
       "    <tr>\n",
       "      <th>2</th>\n",
       "      <td>900</td>\n",
       "      <td>21.42</td>\n",
       "      <td>-157.80</td>\n",
       "      <td>1960-10-10</td>\n",
       "      <td>20:00:00</td>\n",
       "      <td>25.325000</td>\n",
       "      <td>1014.175000</td>\n",
       "      <td>49.083333</td>\n",
       "      <td>luminous</td>\n",
       "    </tr>\n",
       "    <tr>\n",
       "      <th>3</th>\n",
       "      <td>300</td>\n",
       "      <td>36.60</td>\n",
       "      <td>-82.19</td>\n",
       "      <td>1961-10-10</td>\n",
       "      <td>19:00:00</td>\n",
       "      <td>16.120833</td>\n",
       "      <td>1023.329167</td>\n",
       "      <td>0.166667</td>\n",
       "      <td>round</td>\n",
       "    </tr>\n",
       "    <tr>\n",
       "      <th>4</th>\n",
       "      <td>1200</td>\n",
       "      <td>41.12</td>\n",
       "      <td>-73.41</td>\n",
       "      <td>1965-10-10</td>\n",
       "      <td>23:45:00</td>\n",
       "      <td>13.833333</td>\n",
       "      <td>1006.854167</td>\n",
       "      <td>42.041667</td>\n",
       "      <td>other</td>\n",
       "    </tr>\n",
       "  </tbody>\n",
       "</table>\n",
       "</div>"
      ],
      "text/plain": [
       "  duration (seconds)  latitude  longitude        date      time  \\\n",
       "0               2700     29.88     -97.94  1949-10-10  20:30:00   \n",
       "1                 20     28.98     -96.65  1956-10-10  21:00:00   \n",
       "2                900     21.42    -157.80  1960-10-10  20:00:00   \n",
       "3                300     36.60     -82.19  1961-10-10  19:00:00   \n",
       "4               1200     41.12     -73.41  1965-10-10  23:45:00   \n",
       "\n",
       "   temperature_2m  pressure_msl  cloudcover shape_binned  \n",
       "0       25.633333   1010.937500   64.125000    elongated  \n",
       "1       24.116667   1020.758333    0.708333        round  \n",
       "2       25.325000   1014.175000   49.083333     luminous  \n",
       "3       16.120833   1023.329167    0.166667        round  \n",
       "4       13.833333   1006.854167   42.041667        other  "
      ]
     },
     "execution_count": 117,
     "metadata": {},
     "output_type": "execute_result"
    }
   ],
   "source": [
    "merged = merged.drop(columns=['shape'])\n",
    "merged.head()"
   ]
  },
  {
   "cell_type": "code",
   "execution_count": 118,
   "id": "40f04ec6-1ed5-4537-8b14-d2962624d83c",
   "metadata": {},
   "outputs": [
    {
     "data": {
      "image/png": "[encoded data removed]",
      "text/plain": [
       "<Figure size 1000x500 with 1 Axes>"
      ]
     },
     "metadata": {},
     "output_type": "display_data"
    }
   ],
   "source": [
    "plt.figure(figsize=(10, 5))\n",
    "plt.hist(df['duration (seconds)'], bins=100, log=True, color='skyblue')\n",
    "plt.title('Distribution of Event Duration (Log Scale)')\n",
    "plt.xlabel('Duration (seconds)')\n",
    "plt.ylabel('Log Count')\n",
    "plt.tight_layout()\n",
    "plt.show()"
   ]
  },
  {
   "cell_type": "code",
   "execution_count": 119,
   "id": "fde66261-a1d4-4754-8a1d-9ff99510cd77",
   "metadata": {},
   "outputs": [
    {
     "name": "stdout",
     "output_type": "stream",
     "text": [
      "'300' appears 5404 times\n",
      "'120' appears 4421 times\n",
      "'600' appears 3901 times\n",
      "'60' appears 3572 times\n",
      "'180' appears 3194 times\n",
      "'900' appears 2495 times\n",
      "'30' appears 2237 times\n",
      "'10' appears 2145 times\n",
      "'5' appears 1852 times\n",
      "'1200' appears 1807 times\n",
      "'1800' appears 1645 times\n",
      "'15' appears 1345 times\n",
      "'240' appears 1328 times\n",
      "'3600' appears 1287 times\n",
      "'2' appears 1280 times\n",
      "'20' appears 1171 times\n",
      "'3' appears 1022 times\n",
      "'7200' appears 674 times\n",
      "'45' appears 652 times\n",
      "'2700' appears 596 times\n",
      "'4' appears 571 times\n",
      "'420' appears 548 times\n",
      "'90' appears 430 times\n",
      "'360' appears 410 times\n",
      "'1' appears 400 times\n",
      "'480' appears 365 times\n",
      "'6' appears 308 times\n",
      "'10800' appears 299 times\n",
      "'1500' appears 277 times\n",
      "'7' appears 274 times\n",
      "'8' appears 270 times\n",
      "'40' appears 249 times\n",
      "'2400' appears 232 times\n",
      "'25' appears 181 times\n",
      "'5400' appears 167 times\n",
      "'720' appears 155 times\n",
      "'300.0' appears 151 times\n",
      "'120.0' appears 148 times\n",
      "'14400' appears 142 times\n",
      "'12' appears 131 times\n",
      "'600.0' appears 109 times\n",
      "'60.0' appears 105 times\n",
      "'180.0' appears 102 times\n",
      "'2100' appears 92 times\n",
      "'900.0' appears 76 times\n",
      "'35' appears 72 times\n",
      "'1200.0' appears 66 times\n",
      "'18000' appears 64 times\n",
      "'50' appears 60 times\n",
      "'10.0' appears 60 times\n",
      "'21600' appears 58 times\n",
      "'30.0' appears 56 times\n",
      "'1800.0' appears 53 times\n",
      "'1.5' appears 53 times\n",
      "'37800' appears 53 times\n",
      "'540' appears 49 times\n",
      "'3000' appears 48 times\n",
      "'5.0' appears 44 times\n",
      "'20.0' appears 39 times\n",
      "'150' appears 39 times\n",
      "'9000' appears 39 times\n",
      "'240.0' appears 39 times\n",
      "'15.0' appears 37 times\n",
      "'780' appears 37 times\n",
      "'9' appears 37 times\n",
      "'3.0' appears 34 times\n",
      "'0.5' appears 32 times\n",
      "'3600.0' appears 31 times\n",
      "'4500' appears 29 times\n",
      "'660' appears 27 times\n",
      "'1020' appears 27 times\n",
      "'1080' appears 26 times\n",
      "'2.0' appears 25 times\n",
      "'7200.0' appears 23 times\n",
      "'960' appears 22 times\n",
      "'45.0' appears 22 times\n",
      "'6300' appears 20 times\n",
      "'75' appears 20 times\n",
      "'86400' appears 20 times\n",
      "'420.0' appears 19 times\n",
      "'70' appears 18 times\n",
      "'105' appears 17 times\n",
      "'2.5' appears 17 times\n",
      "'480.0' appears 17 times\n",
      "'28800' appears 16 times\n",
      "'1380' appears 16 times\n",
      "'210' appears 16 times\n",
      "'259200' appears 16 times\n",
      "'1320' appears 16 times\n",
      "'90.0' appears 15 times\n",
      "'80' appears 15 times\n",
      "'3300' appears 14 times\n",
      "'172800' appears 14 times\n",
      "'13' appears 14 times\n",
      "'4200' appears 13 times\n",
      "'4.0' appears 13 times\n",
      "'14' appears 13 times\n",
      "'10800.0' appears 13 times\n",
      "'1140' appears 13 times\n",
      "'2700.0' appears 12 times\n",
      "'55' appears 12 times\n",
      "'1260' appears 12 times\n",
      "'109800' appears 11 times\n",
      "'73800' appears 11 times\n",
      "'7.0' appears 11 times\n",
      "'840' appears 11 times\n",
      "'11' appears 11 times\n",
      "'17' appears 10 times\n",
      "'60.3' appears 10 times\n",
      "'6.0' appears 10 times\n",
      "'4800' appears 9 times\n",
      "'1680' appears 9 times\n",
      "'18' appears 9 times\n",
      "'16' appears 9 times\n",
      "'40.0' appears 9 times\n",
      "'1.0' appears 9 times\n",
      "'8.0' appears 9 times\n",
      "'2040' appears 9 times\n",
      "'16200' appears 9 times\n",
      "'100' appears 8 times\n",
      "'25200' appears 8 times\n",
      "'360.0' appears 8 times\n",
      "'18000.0' appears 8 times\n",
      "'1350' appears 8 times\n",
      "'25.0' appears 8 times\n",
      "'23' appears 8 times\n",
      "'135' appears 7 times\n",
      "'12600' appears 7 times\n",
      "'32400' appears 7 times\n",
      "'1440' appears 7 times\n",
      "'2880' appears 6 times\n",
      "'36000' appears 6 times\n",
      "'1620' appears 6 times\n",
      "'2631600' appears 6 times\n",
      "'330' appears 6 times\n",
      "'1980' appears 6 times\n",
      "'2520' appears 5 times\n",
      "'1305' appears 5 times\n",
      "'1920' appears 5 times\n",
      "'3900' appears 5 times\n",
      "'3.5' appears 5 times\n",
      "'14400.0' appears 5 times\n",
      "'85' appears 5 times\n",
      "'1.2' appears 5 times\n",
      "'2100.0' appears 5 times\n",
      "'1560' appears 5 times\n",
      "'432000' appears 5 times\n",
      "'1209600' appears 4 times\n",
      "'2160' appears 4 times\n",
      "'3360' appears 4 times\n",
      "'1410' appears 4 times\n",
      "'345600' appears 4 times\n",
      "'22' appears 4 times\n",
      "'36' appears 4 times\n",
      "'2820' appears 4 times\n",
      "'6000' appears 4 times\n",
      "'1500.0' appears 4 times\n",
      "'270' appears 4 times\n",
      "'604800' appears 4 times\n",
      "'43200' appears 4 times\n",
      "'34' appears 4 times\n",
      "'65' appears 4 times\n",
      "'24' appears 4 times\n",
      "'0.01' appears 3 times\n",
      "'50.0' appears 3 times\n",
      "'78' appears 3 times\n",
      "'61' appears 3 times\n",
      "'630' appears 3 times\n",
      "'2400.0' appears 3 times\n",
      "'0.05' appears 3 times\n",
      "'0.1' appears 3 times\n",
      "'19' appears 3 times\n",
      "'27' appears 3 times\n",
      "'38' appears 3 times\n",
      "'1325' appears 3 times\n",
      "'8100' appears 3 times\n",
      "'7500' appears 3 times\n",
      "'110' appears 3 times\n",
      "'3060' appears 3 times\n",
      "'2220' appears 3 times\n",
      "'5.5' appears 3 times\n",
      "'1215' appears 3 times\n",
      "'450' appears 3 times\n",
      "'1335' appears 3 times\n",
      "'6312000' appears 3 times\n",
      "'1740' appears 3 times\n",
      "'7800' appears 2 times\n",
      "'258' appears 2 times\n",
      "'540.0' appears 2 times\n",
      "'43' appears 2 times\n",
      "'2640' appears 2 times\n",
      "'25200.0' appears 2 times\n",
      "'5400.0' appears 2 times\n",
      "'0.08' appears 2 times\n",
      "'1270' appears 2 times\n",
      "'350' appears 2 times\n",
      "'1000' appears 2 times\n",
      "'130' appears 2 times\n",
      "'0.4' appears 2 times\n",
      "'1860' appears 2 times\n",
      "'29' appears 2 times\n",
      "'165' appears 2 times\n",
      "'31' appears 2 times\n",
      "'720.0' appears 2 times\n",
      "'2940' appears 2 times\n",
      "'2580' appears 2 times\n",
      "'140' appears 2 times\n",
      "'13500' appears 2 times\n",
      "'9900' appears 2 times\n",
      "'625' appears 2 times\n",
      "'751' appears 2 times\n",
      "'2340' appears 2 times\n",
      "'138' appears 2 times\n",
      "'26' appears 2 times\n",
      "'11700' appears 2 times\n",
      "'50400' appears 2 times\n",
      "'87' appears 2 times\n",
      "'3120' appears 2 times\n",
      "'1170' appears 2 times\n",
      "'2760' appears 2 times\n",
      "'115' appears 2 times\n",
      "'95' appears 2 times\n",
      "'39' appears 2 times\n",
      "'1155' appears 2 times\n",
      "'4680' appears 2 times\n",
      "'21' appears 2 times\n",
      "'1425' appears 2 times\n",
      "'2102400' appears 2 times\n",
      "'1203' appears 2 times\n",
      "'315' appears 2 times\n",
      "'2280' appears 2 times\n",
      "'64' appears 2 times\n",
      "'1340' appears 2 times\n",
      "'259200.0' appears 2 times\n",
      "'780.0' appears 2 times\n",
      "'0.3' appears 2 times\n",
      "'33' appears 2 times\n",
      "'1814400' appears 2 times\n",
      "'145' appears 2 times\n",
      "'172800.0' appears 1 times\n",
      "'28800.0' appears 1 times\n",
      "'73800.0' appears 1 times\n",
      "'3000.0' appears 1 times\n",
      "'1020.0' appears 1 times\n",
      "'4140.0' appears 1 times\n",
      "'11.0' appears 1 times\n",
      "'95.0' appears 1 times\n",
      "'14.0' appears 1 times\n",
      "'3900.0' appears 1 times\n",
      "'777600.0' appears 1 times\n",
      "'800' appears 1 times\n",
      "'180.39' appears 1 times\n",
      "'810' appears 1 times\n",
      "'1248' appears 1 times\n",
      "'3240' appears 1 times\n",
      "'200' appears 1 times\n",
      "'1705' appears 1 times\n",
      "'1133' appears 1 times\n",
      "'1236' appears 1 times\n",
      "'698' appears 1 times\n",
      "'4560' appears 1 times\n",
      "'250' appears 1 times\n",
      "'1398' appears 1 times\n",
      "'71' appears 1 times\n",
      "'603' appears 1 times\n",
      "'3700' appears 1 times\n",
      "'4860' appears 1 times\n",
      "'56' appears 1 times\n",
      "'72' appears 1 times\n",
      "'345.5' appears 1 times\n",
      "'1180' appears 1 times\n",
      "'1184' appears 1 times\n",
      "'42000' appears 1 times\n",
      "'1049' appears 1 times\n",
      "'1185' appears 1 times\n",
      "'300.13' appears 1 times\n",
      "'299' appears 1 times\n",
      "'1265' appears 1 times\n",
      "'7894800' appears 1 times\n",
      "'60600' appears 1 times\n",
      "'555' appears 1 times\n",
      "'212' appears 1 times\n",
      "'994' appears 1 times\n",
      "'4260' appears 1 times\n",
      "'42' appears 1 times\n",
      "'120.3' appears 1 times\n",
      "'8280' appears 1 times\n",
      "'550' appears 1 times\n",
      "'0.33' appears 1 times\n",
      "'510' appears 1 times\n",
      "'1050' appears 1 times\n",
      "'60.14' appears 1 times\n",
      "'37' appears 1 times\n",
      "'60.4' appears 1 times\n",
      "'199' appears 1 times\n",
      "'1281' appears 1 times\n",
      "'1420' appears 1 times\n",
      "'610' appears 1 times\n",
      "'145800' appears 1 times\n",
      "'1010' appears 1 times\n",
      "'1015' appears 1 times\n",
      "'1233' appears 1 times\n",
      "'835' appears 1 times\n",
      "'978' appears 1 times\n",
      "'1125' appears 1 times\n",
      "'1360' appears 1 times\n",
      "'1845' appears 1 times\n",
      "'599' appears 1 times\n",
      "'1090' appears 1 times\n",
      "'1290' appears 1 times\n",
      "'5520' appears 1 times\n",
      "'82' appears 1 times\n",
      "'605' appears 1 times\n",
      "'771' appears 1 times\n",
      "'3480' appears 1 times\n",
      "'1395' appears 1 times\n",
      "'725' appears 1 times\n",
      "'3.4' appears 1 times\n",
      "'170' appears 1 times\n",
      "'6.5' appears 1 times\n",
      "'60.1' appears 1 times\n",
      "'669' appears 1 times\n",
      "'688' appears 1 times\n",
      "'695' appears 1 times\n",
      "'425' appears 1 times\n",
      "'1391' appears 1 times\n",
      "'162000' appears 1 times\n",
      "'8580' appears 1 times\n",
      "'74' appears 1 times\n",
      "'3180' appears 1 times\n",
      "'60.6' appears 1 times\n",
      "'492' appears 1 times\n",
      "'4.5' appears 1 times\n",
      "'265' appears 1 times\n",
      "'28' appears 1 times\n",
      "'6900' appears 1 times\n",
      "'108' appears 1 times\n",
      "'1408' appears 1 times\n",
      "'2496' appears 1 times\n",
      "'68' appears 1 times\n",
      "'0.45' appears 1 times\n",
      "'121' appears 1 times\n",
      "'1401' appears 1 times\n",
      "'1266' appears 1 times\n",
      "'1269' appears 1 times\n",
      "'3630' appears 1 times\n",
      "'6660' appears 1 times\n",
      "'2530' appears 1 times\n",
      "'3720' appears 1 times\n",
      "'195' appears 1 times\n",
      "'705' appears 1 times\n",
      "'1250' appears 1 times\n",
      "'60.5' appears 1 times\n",
      "'1309' appears 1 times\n",
      "'54000' appears 1 times\n",
      "'7440' appears 1 times\n",
      "'10500' appears 1 times\n",
      "'99' appears 1 times\n",
      "'639' appears 1 times\n",
      "'1365' appears 1 times\n",
      "'46800' appears 1 times\n",
      "'278' appears 1 times\n",
      "'479' appears 1 times\n",
      "'399' appears 1 times\n",
      "'1345' appears 1 times\n",
      "'125' appears 1 times\n",
      "'18300' appears 1 times\n",
      "'1310' appears 1 times\n",
      "'1275' appears 1 times\n",
      "'282' appears 1 times\n",
      "'39600' appears 1 times\n",
      "'96' appears 1 times\n",
      "'1217' appears 1 times\n",
      "'7230' appears 1 times\n",
      "'2419200' appears 1 times\n",
      "'496' appears 1 times\n",
      "'235' appears 1 times\n",
      "'640' appears 1 times\n",
      "'1330' appears 1 times\n",
      "'5280' appears 1 times\n",
      "'253800' appears 1 times\n",
      "'1110' appears 1 times\n",
      "'259' appears 1 times\n",
      "'310' appears 1 times\n",
      "'8700' appears 1 times\n",
      "'322' appears 1 times\n",
      "'727' appears 1 times\n",
      "'1045' appears 1 times\n",
      "'52623200' appears 1 times\n",
      "'1.75' appears 1 times\n",
      "'1293' appears 1 times\n",
      "'1219' appears 1 times\n",
      "'8400' appears 1 times\n",
      "'3540' appears 1 times\n",
      "'1.6' appears 1 times\n",
      "'0.2' appears 1 times\n",
      "'424' appears 1 times\n",
      "'335' appears 1 times\n",
      "'152' appears 1 times\n",
      "'56000' appears 1 times\n",
      "'2187' appears 1 times\n",
      "'155' appears 1 times\n",
      "'30300' appears 1 times\n",
      "'1085' appears 1 times\n",
      "'1810' appears 1 times\n",
      "'1300' appears 1 times\n",
      "'4140' appears 1 times\n",
      "'52' appears 1 times\n",
      "'53' appears 1 times\n",
      "'620' appears 1 times\n",
      "'219300' appears 1 times\n",
      "'345' appears 1 times\n",
      "'380' appears 1 times\n",
      "'965' appears 1 times\n",
      "'0.57' appears 1 times\n",
      "'12.0' appears 1 times\n",
      "'438' appears 1 times\n",
      "'275' appears 1 times\n",
      "'361800' appears 1 times\n",
      "'0.02' appears 1 times\n",
      "'188' appears 1 times\n",
      "'209' appears 1 times\n",
      "'15660' appears 1 times\n",
      "'1224' appears 1 times\n",
      "'60.15' appears 1 times\n",
      "'1935' appears 1 times\n",
      "'1046' appears 1 times\n",
      "'570' appears 1 times\n",
      "'1273' appears 1 times\n",
      "'59' appears 1 times\n",
      "'44' appears 1 times\n",
      "'50.5' appears 1 times\n",
      "'6000.0' appears 1 times\n",
      "'3.8' appears 1 times\n",
      "'5760' appears 1 times\n",
      "'7080' appears 1 times\n",
      "'1263' appears 1 times\n",
      "'3420' appears 1 times\n",
      "'114' appears 1 times\n",
      "'1194' appears 1 times\n",
      "'1396' appears 1 times\n",
      "'147' appears 1 times\n",
      "'120.1' appears 1 times\n",
      "'1351' appears 1 times\n",
      "'8100.0' appears 1 times\n",
      "'150.0' appears 1 times\n",
      "'1410.0' appears 1 times\n",
      "'72.0' appears 1 times\n",
      "'6300.0' appears 1 times\n",
      "'1395.0' appears 1 times\n",
      "'960.0' appears 1 times\n",
      "'2580.0' appears 1 times\n",
      "'21600.0' appears 1 times\n",
      "'750.0' appears 1 times\n",
      "'9.0' appears 1 times\n",
      "'1680.0' appears 1 times\n",
      "'17.0' appears 1 times\n",
      "'1080.0' appears 1 times\n",
      "'1920.0' appears 1 times\n",
      "'152.0' appears 1 times\n",
      "'1260.0' appears 1 times\n",
      "'165.0' appears 1 times\n",
      "'53.0' appears 1 times\n"
     ]
    }
   ],
   "source": [
    "shape_counts_3 = merged['duration (seconds)'].astype(str).str.lower().value_counts()\n",
    "\n",
    "for value, count in shape_counts_3.items():\n",
    "    print(f\"'{value}' appears {count} times\")"
   ]
  },
  {
   "cell_type": "code",
   "execution_count": 120,
   "id": "4b7c0e83-1b2c-4228-8f18-0015b3d1ecbc",
   "metadata": {},
   "outputs": [],
   "source": [
    "merged['duration (seconds)'] = pd.to_numeric(merged['duration (seconds)'], errors='coerce')"
   ]
  },
  {
   "cell_type": "code",
   "execution_count": 121,
   "id": "a8eaa97f-28b4-4fae-9c3c-2eaf0eef9e52",
   "metadata": {},
   "outputs": [
    {
     "name": "stdout",
     "output_type": "stream",
     "text": [
      "duration_binned\n",
      "short event (3–10m)    11705\n",
      "medium (10–30m)         9253\n",
      "minute-long (1–3m)      8889\n",
      "very short (<10s)       6311\n",
      "short (10–30s)          5216\n",
      "brief (30–60s)          3400\n",
      "long (30–60m)           2779\n",
      "very long (1–3h)        2340\n",
      "extended (>3h)           833\n",
      "Name: count, dtype: int64\n"
     ]
    }
   ],
   "source": [
    "#duration binning \n",
    "merged = merged.dropna(subset=['duration (seconds)'])\n",
    "\n",
    "# Create bins based on log scale\n",
    "bins = [0, 10, 30, 60, 180, 600, 1800, 3600, 10800, np.inf]\n",
    "labels = [\n",
    "    'very short (<10s)',       # quick flashes\n",
    "    'short (10–30s)',          \n",
    "    'brief (30–60s)',          \n",
    "    'minute-long (1–3m)',      \n",
    "    'short event (3–10m)',     \n",
    "    'medium (10–30m)',         \n",
    "    'long (30–60m)',           \n",
    "    'very long (1–3h)',        \n",
    "    'extended (>3h)'           # likely unreliable reports or misentries\n",
    "]\n",
    "\n",
    "merged['duration_binned'] = pd.cut(merged['duration (seconds)'], bins=bins, labels=labels, right=False)\n",
    "print(merged['duration_binned'].value_counts(dropna=False))"
   ]
  },
  {
   "cell_type": "code",
   "execution_count": 122,
   "id": "07d9917a-143d-49b0-ad35-b27ace2652da",
   "metadata": {},
   "outputs": [
    {
     "data": {
      "text/html": [
       "<div>\n",
       "<style scoped>\n",
       "    .dataframe tbody tr th:only-of-type {\n",
       "        vertical-align: middle;\n",
       "    }\n",
       "\n",
       "    .dataframe tbody tr th {\n",
       "        vertical-align: top;\n",
       "    }\n",
       "\n",
       "    .dataframe thead th {\n",
       "        text-align: right;\n",
       "    }\n",
       "</style>\n",
       "<table border=\"1\" class=\"dataframe\">\n",
       "  <thead>\n",
       "    <tr style=\"text-align: right;\">\n",
       "      <th></th>\n",
       "      <th>latitude</th>\n",
       "      <th>longitude</th>\n",
       "      <th>date</th>\n",
       "      <th>time</th>\n",
       "      <th>temperature_2m</th>\n",
       "      <th>pressure_msl</th>\n",
       "      <th>cloudcover</th>\n",
       "      <th>shape_binned</th>\n",
       "      <th>duration_binned</th>\n",
       "    </tr>\n",
       "  </thead>\n",
       "  <tbody>\n",
       "    <tr>\n",
       "      <th>0</th>\n",
       "      <td>29.88</td>\n",
       "      <td>-97.94</td>\n",
       "      <td>1949-10-10</td>\n",
       "      <td>20:30:00</td>\n",
       "      <td>25.633333</td>\n",
       "      <td>1010.937500</td>\n",
       "      <td>64.125000</td>\n",
       "      <td>elongated</td>\n",
       "      <td>long (30–60m)</td>\n",
       "    </tr>\n",
       "    <tr>\n",
       "      <th>1</th>\n",
       "      <td>28.98</td>\n",
       "      <td>-96.65</td>\n",
       "      <td>1956-10-10</td>\n",
       "      <td>21:00:00</td>\n",
       "      <td>24.116667</td>\n",
       "      <td>1020.758333</td>\n",
       "      <td>0.708333</td>\n",
       "      <td>round</td>\n",
       "      <td>short (10–30s)</td>\n",
       "    </tr>\n",
       "    <tr>\n",
       "      <th>2</th>\n",
       "      <td>21.42</td>\n",
       "      <td>-157.80</td>\n",
       "      <td>1960-10-10</td>\n",
       "      <td>20:00:00</td>\n",
       "      <td>25.325000</td>\n",
       "      <td>1014.175000</td>\n",
       "      <td>49.083333</td>\n",
       "      <td>luminous</td>\n",
       "      <td>medium (10–30m)</td>\n",
       "    </tr>\n",
       "    <tr>\n",
       "      <th>3</th>\n",
       "      <td>36.60</td>\n",
       "      <td>-82.19</td>\n",
       "      <td>1961-10-10</td>\n",
       "      <td>19:00:00</td>\n",
       "      <td>16.120833</td>\n",
       "      <td>1023.329167</td>\n",
       "      <td>0.166667</td>\n",
       "      <td>round</td>\n",
       "      <td>short event (3–10m)</td>\n",
       "    </tr>\n",
       "    <tr>\n",
       "      <th>4</th>\n",
       "      <td>41.12</td>\n",
       "      <td>-73.41</td>\n",
       "      <td>1965-10-10</td>\n",
       "      <td>23:45:00</td>\n",
       "      <td>13.833333</td>\n",
       "      <td>1006.854167</td>\n",
       "      <td>42.041667</td>\n",
       "      <td>other</td>\n",
       "      <td>medium (10–30m)</td>\n",
       "    </tr>\n",
       "  </tbody>\n",
       "</table>\n",
       "</div>"
      ],
      "text/plain": [
       "   latitude  longitude        date      time  temperature_2m  pressure_msl  \\\n",
       "0     29.88     -97.94  1949-10-10  20:30:00       25.633333   1010.937500   \n",
       "1     28.98     -96.65  1956-10-10  21:00:00       24.116667   1020.758333   \n",
       "2     21.42    -157.80  1960-10-10  20:00:00       25.325000   1014.175000   \n",
       "3     36.60     -82.19  1961-10-10  19:00:00       16.120833   1023.329167   \n",
       "4     41.12     -73.41  1965-10-10  23:45:00       13.833333   1006.854167   \n",
       "\n",
       "   cloudcover shape_binned      duration_binned  \n",
       "0   64.125000    elongated        long (30–60m)  \n",
       "1    0.708333        round       short (10–30s)  \n",
       "2   49.083333     luminous      medium (10–30m)  \n",
       "3    0.166667        round  short event (3–10m)  \n",
       "4   42.041667        other      medium (10–30m)  "
      ]
     },
     "execution_count": 122,
     "metadata": {},
     "output_type": "execute_result"
    }
   ],
   "source": [
    "merged.drop(columns=['duration (seconds)'], inplace=True)\n",
    "merged.head()"
   ]
  },
  {
   "cell_type": "code",
   "execution_count": 123,
   "id": "b2eb7157-1099-44a7-8cbe-6c720aa537c8",
   "metadata": {},
   "outputs": [
    {
     "data": {
      "image/png": "[encoded data removed]",
      "text/plain": [
       "<Figure size 800x500 with 1 Axes>"
      ]
     },
     "metadata": {},
     "output_type": "display_data"
    }
   ],
   "source": [
    "## temp and cloud cover scaterplot\n",
    "plt.figure(figsize=(8, 5))\n",
    "plt.scatter(merged['temperature_2m'], merged['cloudcover'], alpha=0.5)\n",
    "plt.title('Temperature vs Cloudcover')\n",
    "plt.xlabel('Temperature (°C)')\n",
    "plt.ylabel('Cloudcover (%)')\n",
    "plt.grid(True)\n",
    "plt.tight_layout()\n",
    "plt.show()"
   ]
  },
  {
   "cell_type": "code",
   "execution_count": 124,
   "id": "624c69ed-f75e-4f2c-9628-e28d770d14ce",
   "metadata": {},
   "outputs": [
    {
     "data": {
      "image/png": "[encoded data removed]",
      "text/plain": [
       "<Figure size 1200x500 with 1 Axes>"
      ]
     },
     "metadata": {},
     "output_type": "display_data"
    }
   ],
   "source": [
    "## sightings over time\n",
    "merged['year'] = pd.to_datetime(merged['date']).dt.year\n",
    "sightings_by_year = merged['year'].value_counts().sort_index()\n",
    "plt.figure(figsize=(12, 5))\n",
    "sightings_by_year.plot(kind='line', marker='o')\n",
    "plt.title('Number of UFO Sightings Per Year')\n",
    "plt.xlabel('Year')\n",
    "plt.ylabel('Number of Sightings')\n",
    "plt.grid(True)\n",
    "plt.tight_layout()\n",
    "plt.show()"
   ]
  },
  {
   "cell_type": "code",
   "execution_count": 125,
   "id": "30401701-6e61-4e14-944b-b41c002faa28",
   "metadata": {},
   "outputs": [
    {
     "data": {
      "image/png": "[encoded data removed]",
      "text/plain": [
       "<Figure size 1000x600 with 1 Axes>"
      ]
     },
     "metadata": {},
     "output_type": "display_data"
    }
   ],
   "source": [
    "## long vs lat \n",
    "plt.figure(figsize=(10, 6))\n",
    "plt.scatter(merged['longitude'], merged['latitude'], alpha=0.3, s=1)\n",
    "plt.title('UFO Sightings by Location')\n",
    "plt.xlabel('Longitude')\n",
    "plt.ylabel('Latitude')\n",
    "plt.grid(True)\n",
    "plt.tight_layout()\n",
    "plt.show()"
   ]
  },
  {
   "cell_type": "code",
   "execution_count": 126,
   "id": "b886f60e-bec9-4c28-be85-7fed727fc9dd",
   "metadata": {},
   "outputs": [
    {
     "name": "stdout",
     "output_type": "stream",
     "text": [
      "temperature_binned\n",
      "cool        17846\n",
      "mild        15214\n",
      "cold        12279\n",
      "freezing     4418\n",
      "hot           969\n",
      "Name: count, dtype: int64\n"
     ]
    }
   ],
   "source": [
    "## temp binning \n",
    "def bin_temp(temp):\n",
    "    try:\n",
    "        t = float(temp)\n",
    "    except:\n",
    "        return 'unknown'\n",
    "    if t < 0:\n",
    "        return 'freezing'\n",
    "    elif t < 10:\n",
    "        return 'cold'\n",
    "    elif t < 20:\n",
    "        return 'cool'\n",
    "    elif t < 30:\n",
    "        return 'mild'\n",
    "    else:\n",
    "        return 'hot'\n",
    "\n",
    "merged['temperature_binned'] = merged['temperature_2m'].apply(bin_temp)\n",
    "print(merged['temperature_binned'].value_counts(dropna=False))"
   ]
  },
  {
   "cell_type": "code",
   "execution_count": 127,
   "id": "c558008a-3d6b-4b81-b4d3-1216f1e54e4a",
   "metadata": {},
   "outputs": [
    {
     "name": "stdout",
     "output_type": "stream",
     "text": [
      "pressure_binned\n",
      "normal    35650\n",
      "high      14684\n",
      "low         392\n",
      "Name: count, dtype: int64\n"
     ]
    }
   ],
   "source": [
    "# pressure binning \n",
    "def bin_pressure(p):\n",
    "    try:\n",
    "        p = float(p)\n",
    "    except:\n",
    "        return 'unknown'\n",
    "    if p < 1000:\n",
    "        return 'low'\n",
    "    elif p < 1020:\n",
    "        return 'normal'\n",
    "    else:\n",
    "        return 'high'\n",
    "\n",
    "merged['pressure_binned'] = merged['pressure_msl'].apply(bin_pressure)\n",
    "print(merged['pressure_binned'].value_counts(dropna=False))"
   ]
  },
  {
   "cell_type": "code",
   "execution_count": 128,
   "id": "991f9273-cc81-49a4-bfcb-ce75b0184876",
   "metadata": {},
   "outputs": [
    {
     "name": "stdout",
     "output_type": "stream",
     "text": [
      "cloudcover_binned\n",
      "partly cloudy    23336\n",
      "clear            14281\n",
      "overcast         13109\n",
      "Name: count, dtype: int64\n"
     ]
    }
   ],
   "source": [
    "# cloudcover binning \n",
    "def bin_cloudcover(cc):\n",
    "    try:\n",
    "        cc = float(cc)\n",
    "    except:\n",
    "        return 'unknown'\n",
    "    if cc < 20:\n",
    "        return 'clear'\n",
    "    elif cc < 70:\n",
    "        return 'partly cloudy'\n",
    "    else:\n",
    "        return 'overcast'\n",
    "\n",
    "merged['cloudcover_binned'] = merged['cloudcover'].apply(bin_cloudcover)\n",
    "print(merged['cloudcover_binned'].value_counts(dropna=False))"
   ]
  },
  {
   "cell_type": "code",
   "execution_count": 129,
   "id": "04b02191-2bb9-4c32-9b43-177f880dc5e1",
   "metadata": {},
   "outputs": [
    {
     "name": "stdout",
     "output_type": "stream",
     "text": [
      "time_binned\n",
      "night        26936\n",
      "evening      14221\n",
      "morning       4991\n",
      "afternoon     4578\n",
      "Name: count, dtype: int64\n"
     ]
    }
   ],
   "source": [
    "# time binning \n",
    "def bin_time(t):\n",
    "    try:\n",
    "        hour = int(str(t).split(':')[0])\n",
    "    except:\n",
    "        return 'unknown'\n",
    "    if 5 <= hour < 12:\n",
    "        return 'morning'\n",
    "    elif 12 <= hour < 17:\n",
    "        return 'afternoon'\n",
    "    elif 17 <= hour < 21:\n",
    "        return 'evening'\n",
    "    else:\n",
    "        return 'night'\n",
    "\n",
    "merged['time_binned'] = merged['time'].apply(bin_time)\n",
    "print(merged['time_binned'].value_counts(dropna=False))"
   ]
  },
  {
   "cell_type": "code",
   "execution_count": 130,
   "id": "3919ccc1-c24b-4936-b0d3-c1b8c363f254",
   "metadata": {},
   "outputs": [
    {
     "name": "stdout",
     "output_type": "stream",
     "text": [
      "Year range: 1941-06-01 to 2014-05-08\n"
     ]
    }
   ],
   "source": [
    "## date exploration \n",
    "# Make sure date is in datetime format\n",
    "\n",
    "# Get year range\n",
    "min_year = merged['date'].min()\n",
    "max_year = merged['date'].max()\n",
    "print(f\"Year range: {min_year} to {max_year}\")\n"
   ]
  },
  {
   "cell_type": "code",
   "execution_count": 131,
   "id": "a013dd10-749b-499f-9344-50e82cce9548",
   "metadata": {},
   "outputs": [
    {
     "name": "stdout",
     "output_type": "stream",
     "text": [
      "date_decade\n",
      "1940s       65\n",
      "1950s      284\n",
      "1960s      862\n",
      "1970s     1507\n",
      "1980s     1325\n",
      "1990s     5309\n",
      "2000s    23866\n",
      "2010s    17508\n",
      "Name: count, dtype: int64\n"
     ]
    }
   ],
   "source": [
    "# date binning \n",
    "merged['date'] = pd.to_datetime(merged['date'], errors='coerce')\n",
    "merged = merged[merged['date'].notna()]  # Drop missing\n",
    "merged['date_decade'] = (merged['date'].dt.year // 10 * 10).astype(str) + 's'\n",
    "print(merged['date_decade'].value_counts().sort_index())"
   ]
  },
  {
   "cell_type": "code",
   "execution_count": 132,
   "id": "dad98e92-5e9a-4285-ae76-b0556f9e5da9",
   "metadata": {},
   "outputs": [
    {
     "name": "stdout",
     "output_type": "stream",
     "text": [
      "lat_zone\n",
      "Arctic                  218\n",
      "Northern Temperate    50275\n",
      "Southern Temperate        6\n",
      "Tropics North           225\n",
      "Tropics South             2\n",
      "Name: count, dtype: int64\n"
     ]
    }
   ],
   "source": [
    "## latitiude binning \n",
    "def bin_latitude(lat):\n",
    "    if lat < -60:\n",
    "        return 'Antarctic'\n",
    "    elif lat < -23.5:\n",
    "        return 'Southern Temperate'\n",
    "    elif lat < 0:\n",
    "        return 'Tropics South'\n",
    "    elif lat < 23.5:\n",
    "        return 'Tropics North'\n",
    "    elif lat < 60:\n",
    "        return 'Northern Temperate'\n",
    "    else:\n",
    "        return 'Arctic'\n",
    "\n",
    "merged['lat_zone'] = merged['latitude'].apply(bin_latitude)\n",
    "print(merged['lat_zone'].value_counts().sort_index())"
   ]
  },
  {
   "cell_type": "code",
   "execution_count": 133,
   "id": "749f449c-e5bc-4f7e-aec9-5858a5c92a05",
   "metadata": {},
   "outputs": [
    {
     "name": "stdout",
     "output_type": "stream",
     "text": [
      "lon_zone\n",
      "Africa–West Asia         1\n",
      "Americas East        43584\n",
      "Americas West         7099\n",
      "Atlantic–Europe         34\n",
      "Central–East Asia        2\n",
      "Pacific Rim              6\n",
      "Name: count, dtype: int64\n"
     ]
    }
   ],
   "source": [
    "## longitude binning \n",
    "def bin_longitude(lon):\n",
    "    if lon < -120:\n",
    "        return 'Americas West'\n",
    "    elif lon < -60:\n",
    "        return 'Americas East'\n",
    "    elif lon < 0:\n",
    "        return 'Atlantic–Europe'\n",
    "    elif lon < 60:\n",
    "        return 'Africa–West Asia'\n",
    "    elif lon < 120:\n",
    "        return 'Central–East Asia'\n",
    "    else:\n",
    "        return 'Pacific Rim'\n",
    "\n",
    "merged['lon_zone'] = merged['longitude'].apply(bin_longitude)\n",
    "print(merged['lon_zone'].value_counts().sort_index())"
   ]
  },
  {
   "cell_type": "code",
   "execution_count": 134,
   "id": "ac6dc13e-2b07-4fbb-bbb2-8957decef1ff",
   "metadata": {},
   "outputs": [
    {
     "data": {
      "text/html": [
       "<div>\n",
       "<style scoped>\n",
       "    .dataframe tbody tr th:only-of-type {\n",
       "        vertical-align: middle;\n",
       "    }\n",
       "\n",
       "    .dataframe tbody tr th {\n",
       "        vertical-align: top;\n",
       "    }\n",
       "\n",
       "    .dataframe thead th {\n",
       "        text-align: right;\n",
       "    }\n",
       "</style>\n",
       "<table border=\"1\" class=\"dataframe\">\n",
       "  <thead>\n",
       "    <tr style=\"text-align: right;\">\n",
       "      <th></th>\n",
       "      <th>latitude</th>\n",
       "      <th>longitude</th>\n",
       "      <th>date</th>\n",
       "      <th>time</th>\n",
       "      <th>temperature_2m</th>\n",
       "      <th>pressure_msl</th>\n",
       "      <th>cloudcover</th>\n",
       "      <th>shape_binned</th>\n",
       "      <th>duration_binned</th>\n",
       "      <th>year</th>\n",
       "      <th>temperature_binned</th>\n",
       "      <th>pressure_binned</th>\n",
       "      <th>cloudcover_binned</th>\n",
       "      <th>time_binned</th>\n",
       "      <th>date_decade</th>\n",
       "      <th>lat_zone</th>\n",
       "      <th>lon_zone</th>\n",
       "    </tr>\n",
       "  </thead>\n",
       "  <tbody>\n",
       "    <tr>\n",
       "      <th>0</th>\n",
       "      <td>29.88</td>\n",
       "      <td>-97.94</td>\n",
       "      <td>1949-10-10</td>\n",
       "      <td>20:30:00</td>\n",
       "      <td>25.633333</td>\n",
       "      <td>1010.937500</td>\n",
       "      <td>64.125000</td>\n",
       "      <td>elongated</td>\n",
       "      <td>long (30–60m)</td>\n",
       "      <td>1949</td>\n",
       "      <td>mild</td>\n",
       "      <td>normal</td>\n",
       "      <td>partly cloudy</td>\n",
       "      <td>evening</td>\n",
       "      <td>1940s</td>\n",
       "      <td>Northern Temperate</td>\n",
       "      <td>Americas East</td>\n",
       "    </tr>\n",
       "    <tr>\n",
       "      <th>1</th>\n",
       "      <td>28.98</td>\n",
       "      <td>-96.65</td>\n",
       "      <td>1956-10-10</td>\n",
       "      <td>21:00:00</td>\n",
       "      <td>24.116667</td>\n",
       "      <td>1020.758333</td>\n",
       "      <td>0.708333</td>\n",
       "      <td>round</td>\n",
       "      <td>short (10–30s)</td>\n",
       "      <td>1956</td>\n",
       "      <td>mild</td>\n",
       "      <td>high</td>\n",
       "      <td>clear</td>\n",
       "      <td>night</td>\n",
       "      <td>1950s</td>\n",
       "      <td>Northern Temperate</td>\n",
       "      <td>Americas East</td>\n",
       "    </tr>\n",
       "    <tr>\n",
       "      <th>2</th>\n",
       "      <td>21.42</td>\n",
       "      <td>-157.80</td>\n",
       "      <td>1960-10-10</td>\n",
       "      <td>20:00:00</td>\n",
       "      <td>25.325000</td>\n",
       "      <td>1014.175000</td>\n",
       "      <td>49.083333</td>\n",
       "      <td>luminous</td>\n",
       "      <td>medium (10–30m)</td>\n",
       "      <td>1960</td>\n",
       "      <td>mild</td>\n",
       "      <td>normal</td>\n",
       "      <td>partly cloudy</td>\n",
       "      <td>evening</td>\n",
       "      <td>1960s</td>\n",
       "      <td>Tropics North</td>\n",
       "      <td>Americas West</td>\n",
       "    </tr>\n",
       "    <tr>\n",
       "      <th>3</th>\n",
       "      <td>36.60</td>\n",
       "      <td>-82.19</td>\n",
       "      <td>1961-10-10</td>\n",
       "      <td>19:00:00</td>\n",
       "      <td>16.120833</td>\n",
       "      <td>1023.329167</td>\n",
       "      <td>0.166667</td>\n",
       "      <td>round</td>\n",
       "      <td>short event (3–10m)</td>\n",
       "      <td>1961</td>\n",
       "      <td>cool</td>\n",
       "      <td>high</td>\n",
       "      <td>clear</td>\n",
       "      <td>evening</td>\n",
       "      <td>1960s</td>\n",
       "      <td>Northern Temperate</td>\n",
       "      <td>Americas East</td>\n",
       "    </tr>\n",
       "    <tr>\n",
       "      <th>4</th>\n",
       "      <td>41.12</td>\n",
       "      <td>-73.41</td>\n",
       "      <td>1965-10-10</td>\n",
       "      <td>23:45:00</td>\n",
       "      <td>13.833333</td>\n",
       "      <td>1006.854167</td>\n",
       "      <td>42.041667</td>\n",
       "      <td>other</td>\n",
       "      <td>medium (10–30m)</td>\n",
       "      <td>1965</td>\n",
       "      <td>cool</td>\n",
       "      <td>normal</td>\n",
       "      <td>partly cloudy</td>\n",
       "      <td>night</td>\n",
       "      <td>1960s</td>\n",
       "      <td>Northern Temperate</td>\n",
       "      <td>Americas East</td>\n",
       "    </tr>\n",
       "  </tbody>\n",
       "</table>\n",
       "</div>"
      ],
      "text/plain": [
       "   latitude  longitude       date      time  temperature_2m  pressure_msl  \\\n",
       "0     29.88     -97.94 1949-10-10  20:30:00       25.633333   1010.937500   \n",
       "1     28.98     -96.65 1956-10-10  21:00:00       24.116667   1020.758333   \n",
       "2     21.42    -157.80 1960-10-10  20:00:00       25.325000   1014.175000   \n",
       "3     36.60     -82.19 1961-10-10  19:00:00       16.120833   1023.329167   \n",
       "4     41.12     -73.41 1965-10-10  23:45:00       13.833333   1006.854167   \n",
       "\n",
       "   cloudcover shape_binned      duration_binned  year temperature_binned  \\\n",
       "0   64.125000    elongated        long (30–60m)  1949               mild   \n",
       "1    0.708333        round       short (10–30s)  1956               mild   \n",
       "2   49.083333     luminous      medium (10–30m)  1960               mild   \n",
       "3    0.166667        round  short event (3–10m)  1961               cool   \n",
       "4   42.041667        other      medium (10–30m)  1965               cool   \n",
       "\n",
       "  pressure_binned cloudcover_binned time_binned date_decade  \\\n",
       "0          normal     partly cloudy     evening       1940s   \n",
       "1            high             clear       night       1950s   \n",
       "2          normal     partly cloudy     evening       1960s   \n",
       "3            high             clear     evening       1960s   \n",
       "4          normal     partly cloudy       night       1960s   \n",
       "\n",
       "             lat_zone       lon_zone  \n",
       "0  Northern Temperate  Americas East  \n",
       "1  Northern Temperate  Americas East  \n",
       "2       Tropics North  Americas West  \n",
       "3  Northern Temperate  Americas East  \n",
       "4  Northern Temperate  Americas East  "
      ]
     },
     "execution_count": 134,
     "metadata": {},
     "output_type": "execute_result"
    }
   ],
   "source": [
    "merged.head()"
   ]
  },
  {
   "cell_type": "code",
   "execution_count": 135,
   "id": "458db441-9af2-40d4-a71f-897d91cd315e",
   "metadata": {},
   "outputs": [],
   "source": [
    "merged.to_csv('merged_bins_and_og.csv', index = False)"
   ]
  },
  {
   "cell_type": "code",
   "execution_count": 136,
   "id": "4659ad86-2700-476f-b775-1c78dc5d86c2",
   "metadata": {},
   "outputs": [
    {
     "data": {
      "text/html": [
       "<div>\n",
       "<style scoped>\n",
       "    .dataframe tbody tr th:only-of-type {\n",
       "        vertical-align: middle;\n",
       "    }\n",
       "\n",
       "    .dataframe tbody tr th {\n",
       "        vertical-align: top;\n",
       "    }\n",
       "\n",
       "    .dataframe thead th {\n",
       "        text-align: right;\n",
       "    }\n",
       "</style>\n",
       "<table border=\"1\" class=\"dataframe\">\n",
       "  <thead>\n",
       "    <tr style=\"text-align: right;\">\n",
       "      <th></th>\n",
       "      <th>shape_binned</th>\n",
       "      <th>duration_binned</th>\n",
       "      <th>temperature_binned</th>\n",
       "      <th>pressure_binned</th>\n",
       "      <th>cloudcover_binned</th>\n",
       "      <th>time_binned</th>\n",
       "      <th>date_decade</th>\n",
       "      <th>lat_zone</th>\n",
       "      <th>lon_zone</th>\n",
       "    </tr>\n",
       "  </thead>\n",
       "  <tbody>\n",
       "    <tr>\n",
       "      <th>0</th>\n",
       "      <td>elongated</td>\n",
       "      <td>long (30–60m)</td>\n",
       "      <td>mild</td>\n",
       "      <td>normal</td>\n",
       "      <td>partly cloudy</td>\n",
       "      <td>evening</td>\n",
       "      <td>1940s</td>\n",
       "      <td>Northern Temperate</td>\n",
       "      <td>Americas East</td>\n",
       "    </tr>\n",
       "    <tr>\n",
       "      <th>1</th>\n",
       "      <td>round</td>\n",
       "      <td>short (10–30s)</td>\n",
       "      <td>mild</td>\n",
       "      <td>high</td>\n",
       "      <td>clear</td>\n",
       "      <td>night</td>\n",
       "      <td>1950s</td>\n",
       "      <td>Northern Temperate</td>\n",
       "      <td>Americas East</td>\n",
       "    </tr>\n",
       "    <tr>\n",
       "      <th>2</th>\n",
       "      <td>luminous</td>\n",
       "      <td>medium (10–30m)</td>\n",
       "      <td>mild</td>\n",
       "      <td>normal</td>\n",
       "      <td>partly cloudy</td>\n",
       "      <td>evening</td>\n",
       "      <td>1960s</td>\n",
       "      <td>Tropics North</td>\n",
       "      <td>Americas West</td>\n",
       "    </tr>\n",
       "    <tr>\n",
       "      <th>3</th>\n",
       "      <td>round</td>\n",
       "      <td>short event (3–10m)</td>\n",
       "      <td>cool</td>\n",
       "      <td>high</td>\n",
       "      <td>clear</td>\n",
       "      <td>evening</td>\n",
       "      <td>1960s</td>\n",
       "      <td>Northern Temperate</td>\n",
       "      <td>Americas East</td>\n",
       "    </tr>\n",
       "    <tr>\n",
       "      <th>4</th>\n",
       "      <td>other</td>\n",
       "      <td>medium (10–30m)</td>\n",
       "      <td>cool</td>\n",
       "      <td>normal</td>\n",
       "      <td>partly cloudy</td>\n",
       "      <td>night</td>\n",
       "      <td>1960s</td>\n",
       "      <td>Northern Temperate</td>\n",
       "      <td>Americas East</td>\n",
       "    </tr>\n",
       "  </tbody>\n",
       "</table>\n",
       "</div>"
      ],
      "text/plain": [
       "  shape_binned      duration_binned temperature_binned pressure_binned  \\\n",
       "0    elongated        long (30–60m)               mild          normal   \n",
       "1        round       short (10–30s)               mild            high   \n",
       "2     luminous      medium (10–30m)               mild          normal   \n",
       "3        round  short event (3–10m)               cool            high   \n",
       "4        other      medium (10–30m)               cool          normal   \n",
       "\n",
       "  cloudcover_binned time_binned date_decade            lat_zone       lon_zone  \n",
       "0     partly cloudy     evening       1940s  Northern Temperate  Americas East  \n",
       "1             clear       night       1950s  Northern Temperate  Americas East  \n",
       "2     partly cloudy     evening       1960s       Tropics North  Americas West  \n",
       "3             clear     evening       1960s  Northern Temperate  Americas East  \n",
       "4     partly cloudy       night       1960s  Northern Temperate  Americas East  "
      ]
     },
     "execution_count": 136,
     "metadata": {},
     "output_type": "execute_result"
    }
   ],
   "source": [
    "merged = merged.drop(columns=['latitude','longitude','date','time','temperature_2m','pressure_msl','cloudcover', 'year'])\n",
    "merged.head()"
   ]
  },
  {
   "cell_type": "code",
   "execution_count": 138,
   "id": "c1af8962-fda5-4585-a943-7a67a6f14c53",
   "metadata": {},
   "outputs": [],
   "source": [
    "merged.to_csv('merged_bins_only.csv', index = False)"
   ]
  },
  {
   "cell_type": "code",
   "execution_count": null,
   "id": "71cfec2e-2d74-42b2-af57-982c5603dccb",
   "metadata": {},
   "outputs": [],
   "source": [
    "##### time for modeling \n",
    "from sklearn.model_selection import train_test_split\n",
    "from sklearn.preprocessing import LabelEncoder\n",
    "from sklearn.metrics import classification_report, confusion_matrix, accuracy_score"
   ]
  },
  {
   "cell_type": "code",
   "execution_count": 196,
   "id": "ed8f8071-630c-4951-a886-fe2cc9d85e9c",
   "metadata": {},
   "outputs": [
    {
     "name": "stdout",
     "output_type": "stream",
     "text": [
      "Requirement already satisfied: xgboost in c:\\users\\denise campos\\appdata\\local\\programs\\python\\python313\\lib\\site-packages (3.0.2)\n",
      "Requirement already satisfied: numpy in c:\\users\\denise campos\\appdata\\local\\programs\\python\\python313\\lib\\site-packages (from xgboost) (2.3.1)\n",
      "Requirement already satisfied: scipy in c:\\users\\denise campos\\appdata\\local\\programs\\python\\python313\\lib\\site-packages (from xgboost) (1.16.0)\n"
     ]
    }
   ],
   "source": [
    "!pip install xgboost"
   ]
  },
  {
   "cell_type": "code",
   "execution_count": 197,
   "id": "63a80da4-771d-48a5-9182-ebe392d22ba5",
   "metadata": {},
   "outputs": [],
   "source": [
    "import xgboost as xgb"
   ]
  },
  {
   "cell_type": "code",
   "execution_count": 198,
   "id": "b06517bd-b5ad-418b-bcfb-716078d3952d",
   "metadata": {},
   "outputs": [
    {
     "name": "stderr",
     "output_type": "stream",
     "text": [
      "C:\\Users\\Denise Campos\\AppData\\Local\\Programs\\Python\\Python313\\Lib\\site-packages\\xgboost\\training.py:183: UserWarning: [16:45:56] WARNING: C:\\actions-runner\\_work\\xgboost\\xgboost\\src\\learner.cc:738: \n",
      "Parameters: { \"use_label_encoder\" } are not used.\n",
      "\n",
      "  bst.update(dtrain, iteration=i, fobj=obj)\n"
     ]
    },
    {
     "name": "stdout",
     "output_type": "stream",
     "text": [
      "Accuracy: 0.355016755371575\n",
      "\n",
      "Confusion Matrix:\n",
      " [[  94    1    1 1277   78  224]\n",
      " [  21    1    0  297   63  127]\n",
      " [  19    1    3  491   23   95]\n",
      " [  72    3    3 2858   76  330]\n",
      " [  59    9    3  900  163  376]\n",
      " [  75    8    1 1784  127  483]]\n",
      "\n",
      "Classification Report:\n",
      "               precision    recall  f1-score   support\n",
      "\n",
      "     angular       0.28      0.06      0.09      1675\n",
      "   elongated       0.04      0.00      0.00       509\n",
      "   irregular       0.27      0.00      0.01       632\n",
      "    luminous       0.38      0.86      0.52      3342\n",
      "       other       0.31      0.11      0.16      1510\n",
      "       round       0.30      0.19      0.23      2478\n",
      "\n",
      "    accuracy                           0.36     10146\n",
      "   macro avg       0.26      0.20      0.17     10146\n",
      "weighted avg       0.31      0.36      0.27     10146\n",
      "\n"
     ]
    }
   ],
   "source": [
    "X = merged.drop(columns=['shape_binned'])\n",
    "y = merged['shape_binned']\n",
    "\n",
    "label_encoder = LabelEncoder()\n",
    "y_encoded = label_encoder.fit_transform(y)\n",
    "\n",
    "X_train, X_test, y_train, y_test = train_test_split(X, y_encoded, test_size=0.2, random_state=42)\n",
    "\n",
    "X_train_enc = pd.get_dummies(X_train)\n",
    "X_test_enc = pd.get_dummies(X_test)\n",
    "\n",
    "X_train_enc, X_test_enc = X_train_enc.align(X_test_enc, join='left', axis=1, fill_value=0)\n",
    "\n",
    "X_train_enc.columns = X_train_enc.columns.str.replace(r'[\\[\\]<>]', '', regex=True)\n",
    "X_test_enc.columns = X_test_enc.columns.str.replace(r'[\\[\\]<>]', '', regex=True)\n",
    "\n",
    "xgb_model = xgb.XGBClassifier(use_label_encoder=False, eval_metric='mlogloss', random_state=42)\n",
    "xgb_model.fit(X_train_enc, y_train)\n",
    "\n",
    "y_pred = xgb_model.predict(X_test_enc)\n",
    "\n",
    "print(\"Accuracy:\", accuracy_score(y_test, y_pred))\n",
    "print(\"\\nConfusion Matrix:\\n\", confusion_matrix(y_test, y_pred))\n",
    "print(\"\\nClassification Report:\\n\", classification_report(y_test, y_pred, target_names=label_encoder.classes_))\n"
   ]
  },
  {
   "cell_type": "code",
   "execution_count": 199,
   "id": "a20bb08b-cd72-4dea-b596-f7d050e61a06",
   "metadata": {},
   "outputs": [
    {
     "name": "stdout",
     "output_type": "stream",
     "text": [
      "Requirement already satisfied: imbalanced-learn in c:\\users\\denise campos\\appdata\\local\\programs\\python\\python313\\lib\\site-packages (0.13.0)\n",
      "Requirement already satisfied: numpy<3,>=1.24.3 in c:\\users\\denise campos\\appdata\\local\\programs\\python\\python313\\lib\\site-packages (from imbalanced-learn) (2.3.1)\n",
      "Requirement already satisfied: scipy<2,>=1.10.1 in c:\\users\\denise campos\\appdata\\local\\programs\\python\\python313\\lib\\site-packages (from imbalanced-learn) (1.16.0)\n",
      "Requirement already satisfied: scikit-learn<2,>=1.3.2 in c:\\users\\denise campos\\appdata\\local\\programs\\python\\python313\\lib\\site-packages (from imbalanced-learn) (1.6.1)\n",
      "Requirement already satisfied: sklearn-compat<1,>=0.1 in c:\\users\\denise campos\\appdata\\local\\programs\\python\\python313\\lib\\site-packages (from imbalanced-learn) (0.1.3)\n",
      "Requirement already satisfied: joblib<2,>=1.1.1 in c:\\users\\denise campos\\appdata\\local\\programs\\python\\python313\\lib\\site-packages (from imbalanced-learn) (1.5.1)\n",
      "Requirement already satisfied: threadpoolctl<4,>=2.0.0 in c:\\users\\denise campos\\appdata\\local\\programs\\python\\python313\\lib\\site-packages (from imbalanced-learn) (3.6.0)\n",
      "Note: you may need to restart the kernel to use updated packages.\n"
     ]
    }
   ],
   "source": [
    "pip install imbalanced-learn"
   ]
  },
  {
   "cell_type": "code",
   "execution_count": 202,
   "id": "021d4757-f917-4ad1-94f0-128808e93170",
   "metadata": {},
   "outputs": [
    {
     "name": "stderr",
     "output_type": "stream",
     "text": [
      "C:\\Users\\Denise Campos\\AppData\\Local\\Programs\\Python\\Python313\\Lib\\site-packages\\xgboost\\training.py:183: UserWarning: [16:53:46] WARNING: C:\\actions-runner\\_work\\xgboost\\xgboost\\src\\learner.cc:738: \n",
      "Parameters: { \"use_label_encoder\" } are not used.\n",
      "\n",
      "  bst.update(dtrain, iteration=i, fobj=obj)\n"
     ]
    },
    {
     "name": "stdout",
     "output_type": "stream",
     "text": [
      "Accuracy: 0.2404888626059531\n",
      "\n",
      "Confusion Matrix:\n",
      " [[ 513  248  328  367  133   86]\n",
      " [  93  142   83   77   83   31]\n",
      " [ 141   91  170  135   55   40]\n",
      " [ 674  355  713 1172  207  221]\n",
      " [ 306  315  277  261  253   98]\n",
      " [ 417  478  494  648  251  190]]\n",
      "\n",
      "Classification Report:\n",
      "               precision    recall  f1-score   support\n",
      "\n",
      "     angular       0.24      0.31      0.27      1675\n",
      "   elongated       0.09      0.28      0.13       509\n",
      "   irregular       0.08      0.27      0.13       632\n",
      "    luminous       0.44      0.35      0.39      3342\n",
      "       other       0.26      0.17      0.20      1510\n",
      "       round       0.29      0.08      0.12      2478\n",
      "\n",
      "    accuracy                           0.24     10146\n",
      "   macro avg       0.23      0.24      0.21     10146\n",
      "weighted avg       0.30      0.24      0.25     10146\n",
      "\n"
     ]
    }
   ],
   "source": [
    "from sklearn.utils.class_weight import compute_sample_weight\n",
    "xgb_model = xgb.XGBClassifier(\n",
    "    eval_metric='mlogloss',\n",
    "    random_state=42,\n",
    "    scale_pos_weight=None,  # only for binary – skip this for multi-class\n",
    "    use_label_encoder=False\n",
    ")\n",
    "\n",
    "# Automatically balances classes in multi-class problems\n",
    "xgb_model.fit(X_train_enc, y_train, sample_weight=compute_sample_weight(class_weight='balanced', y=y_train))\n",
    "\n",
    "y_pred = xgb_model.predict(X_test_enc)\n",
    "\n",
    "print(\"Accuracy:\", accuracy_score(y_test, y_pred))\n",
    "print(\"\\nConfusion Matrix:\\n\", confusion_matrix(y_test, y_pred))\n",
    "print(\"\\nClassification Report:\\n\", classification_report(y_test, y_pred, target_names=label_encoder.classes_))"
   ]
  },
  {
   "cell_type": "code",
   "execution_count": null,
   "id": "4d796118-3f96-47d0-ab3d-2cc647915076",
   "metadata": {},
   "outputs": [],
   "source": []
  }
 ],
 "metadata": {
  "kernelspec": {
   "display_name": "Python 3 (ipykernel)",
   "language": "python",
   "name": "python3"
  },
  "language_info": {
   "codemirror_mode": {
    "name": "ipython",
    "version": 3
   },
   "file_extension": ".py",
   "mimetype": "text/x-python",
   "name": "python",
   "nbconvert_exporter": "python",
   "pygments_lexer": "ipython3",
   "version": "3.13.5"
  }
 },
 "nbformat": 4,
 "nbformat_minor": 5
}
